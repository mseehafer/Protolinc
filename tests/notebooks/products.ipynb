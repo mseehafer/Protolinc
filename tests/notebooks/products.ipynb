{
 "cells": [
  {
   "cell_type": "markdown",
   "id": "502e43b7",
   "metadata": {},
   "source": [
    "### Products"
   ]
  },
  {
   "cell_type": "code",
   "execution_count": 1,
   "id": "83c4a507",
   "metadata": {},
   "outputs": [],
   "source": [
    "import numpy as np\n",
    "from sys import getsizeof\n",
    "\n",
    "# start by getting some memory sizes"
   ]
  },
  {
   "cell_type": "code",
   "execution_count": 4,
   "id": "6083c33f",
   "metadata": {},
   "outputs": [
    {
     "data": {
      "text/plain": [
       "(array([2022, 2022]), array([1, 2]), True, True)"
      ]
     },
     "execution_count": 4,
     "metadata": {},
     "output_type": "execute_result"
    }
   ],
   "source": [
    "years = np.array([2022, 2022])\n",
    "months = np.array([1, 2])\n",
    "years, months, years.flags['C_CONTIGUOUS'], months.flags['C_CONTIGUOUS']"
   ]
  },
  {
   "cell_type": "code",
   "execution_count": 19,
   "id": "a0a259a7",
   "metadata": {},
   "outputs": [
    {
     "data": {
      "text/plain": [
       "(array([[24264, 24265]]), True)"
      ]
     },
     "execution_count": 19,
     "metadata": {},
     "output_type": "execute_result"
    }
   ],
   "source": [
    "ta_abs = years * 12 + months - 1\n",
    "ta_abs = ta_abs.reshape((1, ta_abs.shape[0]))\n",
    "ta_abs, ta_abs.flags['C_CONTIGUOUS']"
   ]
  },
  {
   "cell_type": "code",
   "execution_count": 20,
   "id": "c8d39725",
   "metadata": {},
   "outputs": [
    {
     "data": {
      "text/plain": [
       "(array([[23881],\n",
       "        [23894],\n",
       "        [24063]]),\n",
       " True)"
      ]
     },
     "execution_count": 20,
     "metadata": {},
     "output_type": "execute_result"
    }
   ],
   "source": [
    "inception_yr = np.array([1990, 1991, 2005])\n",
    "inception_months = np.array([2, 3, 4])\n",
    "start_month_abs = (inception_yr * 12 + inception_months - 1).reshape((len(inception_yr), 1))\n",
    "start_month_abs, start_month_abs.flags['C_CONTIGUOUS']"
   ]
  },
  {
   "cell_type": "code",
   "execution_count": 21,
   "id": "30084ac9",
   "metadata": {},
   "outputs": [
    {
     "data": {
      "text/plain": [
       "(array([[1, 1],\n",
       "        [1, 1],\n",
       "        [1, 1]], dtype=int16),\n",
       " True)"
      ]
     },
     "execution_count": 21,
     "metadata": {},
     "output_type": "execute_result"
    }
   ],
   "source": [
    "x = (ta_abs >= start_month_abs).astype(np.int16) #.transpose()\n",
    "x, x.flags['C_CONTIGUOUS']"
   ]
  },
  {
   "cell_type": "code",
   "execution_count": 18,
   "id": "b15640c2",
   "metadata": {},
   "outputs": [
    {
     "data": {
      "text/plain": [
       "(array([[1, 1],\n",
       "        [1, 1],\n",
       "        [1, 1]], dtype=int16),\n",
       " False)"
      ]
     },
     "execution_count": 18,
     "metadata": {},
     "output_type": "execute_result"
    }
   ],
   "source": [
    "y = (start_month_abs <= ta_abs).astype(np.int16).transpose()\n",
    "y, y.flags['C_CONTIGUOUS']"
   ]
  },
  {
   "cell_type": "code",
   "execution_count": null,
   "id": "0fbbb472",
   "metadata": {},
   "outputs": [],
   "source": []
  },
  {
   "cell_type": "code",
   "execution_count": 2,
   "id": "dbed1123",
   "metadata": {},
   "outputs": [],
   "source": [
    "dim_state = 11\n",
    "num_insureds = 256\n",
    "timesteps = 120 * 12\n",
    "\n",
    "a = np.ones((dim_state, num_insureds, timesteps), dtype=np.float64)\n",
    "b = np.ones((dim_state, dim_state, num_insureds, timesteps), dtype=np.float64)"
   ]
  },
  {
   "cell_type": "code",
   "execution_count": 3,
   "id": "7d51fe5c",
   "metadata": {},
   "outputs": [
    {
     "data": {
      "text/plain": [
       "(30.94, 340.31)"
      ]
     },
     "execution_count": 3,
     "metadata": {},
     "output_type": "execute_result"
    }
   ],
   "source": [
    "# size in MB\n",
    "round(getsizeof(a) / 1024 / 1024, 2), round(getsizeof(b) / 1024 / 1024, 2)"
   ]
  },
  {
   "cell_type": "code",
   "execution_count": 4,
   "id": "1831925b",
   "metadata": {},
   "outputs": [
    {
     "data": {
      "text/plain": [
       "120"
      ]
     },
     "execution_count": 4,
     "metadata": {},
     "output_type": "execute_result"
    }
   ],
   "source": [
    "c = np.ones(1)\n",
    "getsizeof(c)"
   ]
  },
  {
   "cell_type": "code",
   "execution_count": 5,
   "id": "34bc05b5",
   "metadata": {},
   "outputs": [
    {
     "data": {
      "text/plain": [
       "array([1, 2, 3])"
      ]
     },
     "execution_count": 5,
     "metadata": {},
     "output_type": "execute_result"
    }
   ],
   "source": [
    "x = np.array([1, 2, 3])\n",
    "x"
   ]
  },
  {
   "cell_type": "code",
   "execution_count": 6,
   "id": "76a6ce08",
   "metadata": {},
   "outputs": [
    {
     "data": {
      "text/plain": [
       "(3, 1)"
      ]
     },
     "execution_count": 6,
     "metadata": {},
     "output_type": "execute_result"
    }
   ],
   "source": [
    "x[:,None].shape"
   ]
  },
  {
   "cell_type": "markdown",
   "id": "62397221",
   "metadata": {},
   "source": [
    "### Test the annuity product"
   ]
  },
  {
   "cell_type": "code",
   "execution_count": 7,
   "id": "f97a491f",
   "metadata": {},
   "outputs": [],
   "source": [
    "# get a portfolio\n",
    "from pyprotolinc.models.model_annuity_runoff import AnnuityRunoffStates\n",
    "from pyprotolinc.portfolio import Portfolio\n",
    "\n",
    "portfolio_path = r\"D:\\programming\\py\\PyMultiState\\pyprotolinc\\data\\portfolio\\portfolio_annuity_small.xlsx\"\n",
    "portfolio = Portfolio(portfolio_path, AnnuityRunoffStates)"
   ]
  },
  {
   "cell_type": "code",
   "execution_count": 8,
   "id": "250478e7",
   "metadata": {},
   "outputs": [],
   "source": [
    "# this is just a simplification, in this example only the length counts\n",
    "time_axis = np.arange(1, 11)"
   ]
  },
  {
   "cell_type": "code",
   "execution_count": 9,
   "id": "2e8a19e6",
   "metadata": {},
   "outputs": [],
   "source": [
    "from pyprotolinc.runner import TimeAxis"
   ]
  },
  {
   "cell_type": "code",
   "execution_count": 10,
   "id": "7ad4bc2a",
   "metadata": {},
   "outputs": [
    {
     "data": {
      "text/plain": [
       "13"
      ]
     },
     "execution_count": 10,
     "metadata": {},
     "output_type": "execute_result"
    }
   ],
   "source": [
    "ta = TimeAxis(portfolio.portfolio_date, 12)\n",
    "len(ta)"
   ]
  },
  {
   "cell_type": "code",
   "execution_count": 15,
   "id": "608abbb1",
   "metadata": {},
   "outputs": [
    {
     "data": {
      "text/plain": [
       "<pyprotolinc.product.Product_AnnuityInPayment at 0x25dfecd9cd0>"
      ]
     },
     "execution_count": 15,
     "metadata": {},
     "output_type": "execute_result"
    }
   ],
   "source": [
    "# create a product\n",
    "from pyprotolinc.product import Product_AnnuityInPayment, Product_TwoStateDisability\n",
    "\n",
    "prod = Product_AnnuityInPayment(portfolio)\n",
    "prod"
   ]
  },
  {
   "cell_type": "code",
   "execution_count": 12,
   "id": "292f9603",
   "metadata": {},
   "outputs": [
    {
     "data": {
      "text/plain": [
       "{}"
      ]
     },
     "execution_count": 12,
     "metadata": {},
     "output_type": "execute_result"
    }
   ],
   "source": [
    "prod.get_state_transition_payments(ta)"
   ]
  },
  {
   "cell_type": "code",
   "execution_count": 13,
   "id": "1a218067",
   "metadata": {},
   "outputs": [
    {
     "data": {
      "text/plain": [
       "{<AnnuityRunoffStates.DIS1: 0>: [(<CfNames.ANNUITY_PAYMENT: 1>,\n",
       "   array([[ -83.33333333,  -83.33333333,  -83.33333333,  -83.33333333,\n",
       "            -83.33333333,  -83.33333333,  -83.33333333,  -83.33333333,\n",
       "            -83.33333333,  -83.33333333,  -83.33333333,  -83.33333333,\n",
       "            -83.33333333],\n",
       "          [  -8.33333333,   -8.33333333,   -8.33333333,   -8.33333333,\n",
       "             -8.33333333,   -8.33333333,   -8.33333333,   -8.33333333,\n",
       "             -8.33333333,   -8.33333333,   -8.33333333,   -8.33333333,\n",
       "             -8.33333333],\n",
       "          [-416.66666667, -416.66666667, -416.66666667, -416.66666667,\n",
       "           -416.66666667, -416.66666667, -416.66666667, -416.66666667,\n",
       "           -416.66666667, -416.66666667, -416.66666667, -416.66666667,\n",
       "           -416.66666667]]))]}"
      ]
     },
     "execution_count": 13,
     "metadata": {},
     "output_type": "execute_result"
    }
   ],
   "source": [
    "prod.get_bom_payments(ta)"
   ]
  },
  {
   "cell_type": "code",
   "execution_count": 16,
   "id": "1ca493d6",
   "metadata": {},
   "outputs": [
    {
     "data": {
      "text/plain": [
       "{<MultiStateDisabilityStates.ACTIVE: 0>: [(<CfNames.PREMIUM: 0>,\n",
       "   array([[ 8.33333333,  8.33333333,  8.33333333,  8.33333333,  8.33333333,\n",
       "            8.33333333,  8.33333333,  8.33333333,  8.33333333,  8.33333333,\n",
       "            8.33333333,  8.33333333,  8.33333333],\n",
       "          [ 0.83333333,  0.83333333,  0.83333333,  0.83333333,  0.83333333,\n",
       "            0.83333333,  0.83333333,  0.83333333,  0.83333333,  0.83333333,\n",
       "            0.83333333,  0.83333333,  0.83333333],\n",
       "          [41.66666667, 41.66666667, 41.66666667, 41.66666667, 41.66666667,\n",
       "           41.66666667, 41.66666667, 41.66666667, 41.66666667, 41.66666667,\n",
       "           41.66666667, 41.66666667, 41.66666667]]))],\n",
       " <MultiStateDisabilityStates.DIS1: 1>: [(<CfNames.ANNUITY_PAYMENT: 1>,\n",
       "   array([[ -83.33333333,  -83.33333333,  -83.33333333,  -83.33333333,\n",
       "            -83.33333333,  -83.33333333,  -83.33333333,  -83.33333333,\n",
       "            -83.33333333,  -83.33333333,  -83.33333333,  -83.33333333,\n",
       "            -83.33333333],\n",
       "          [  -8.33333333,   -8.33333333,   -8.33333333,   -8.33333333,\n",
       "             -8.33333333,   -8.33333333,   -8.33333333,   -8.33333333,\n",
       "             -8.33333333,   -8.33333333,   -8.33333333,   -8.33333333,\n",
       "             -8.33333333],\n",
       "          [-416.66666667, -416.66666667, -416.66666667, -416.66666667,\n",
       "           -416.66666667, -416.66666667, -416.66666667, -416.66666667,\n",
       "           -416.66666667, -416.66666667, -416.66666667, -416.66666667,\n",
       "           -416.66666667]]))],\n",
       " <MultiStateDisabilityStates.DIS2: 2>: [(<CfNames.ANNUITY_PAYMENT: 1>,\n",
       "   array([[-166.66666667, -166.66666667, -166.66666667, -166.66666667,\n",
       "           -166.66666667, -166.66666667, -166.66666667, -166.66666667,\n",
       "           -166.66666667, -166.66666667, -166.66666667, -166.66666667,\n",
       "           -166.66666667],\n",
       "          [ -16.66666667,  -16.66666667,  -16.66666667,  -16.66666667,\n",
       "            -16.66666667,  -16.66666667,  -16.66666667,  -16.66666667,\n",
       "            -16.66666667,  -16.66666667,  -16.66666667,  -16.66666667,\n",
       "            -16.66666667],\n",
       "          [-833.33333333, -833.33333333, -833.33333333, -833.33333333,\n",
       "           -833.33333333, -833.33333333, -833.33333333, -833.33333333,\n",
       "           -833.33333333, -833.33333333, -833.33333333, -833.33333333,\n",
       "           -833.33333333]]))]}"
      ]
     },
     "execution_count": 16,
     "metadata": {},
     "output_type": "execute_result"
    }
   ],
   "source": [
    "# the other Product\n",
    "Product_TwoStateDisability(portfolio).get_bom_payments(ta)"
   ]
  },
  {
   "cell_type": "code",
   "execution_count": 18,
   "id": "0a602970",
   "metadata": {},
   "outputs": [
    {
     "data": {
      "text/plain": [
       "{<MultiStateDisabilityStates.ACTIVE: 0>: [(<CfNames.PREMIUM: 0>,\n",
       "   array([[ 8.33333333],\n",
       "          [ 0.83333333],\n",
       "          [41.66666667]]))],\n",
       " <MultiStateDisabilityStates.DIS1: 1>: [(<CfNames.ANNUITY_PAYMENT: 1>,\n",
       "   array([[ -83.33333333],\n",
       "          [  -8.33333333],\n",
       "          [-416.66666667]]))],\n",
       " <MultiStateDisabilityStates.DIS2: 2>: [(<CfNames.ANNUITY_PAYMENT: 1>,\n",
       "   array([[-166.66666667],\n",
       "          [ -16.66666667],\n",
       "          [-833.33333333]]))]}"
      ]
     },
     "execution_count": 18,
     "metadata": {},
     "output_type": "execute_result"
    }
   ],
   "source": [
    "Product_TwoStateDisability(portfolio).get_bom_payments((None,))"
   ]
  },
  {
   "cell_type": "code",
   "execution_count": null,
   "id": "d7bb851e",
   "metadata": {},
   "outputs": [],
   "source": []
  }
 ],
 "metadata": {
  "kernelspec": {
   "display_name": "Python 3 (ipykernel)",
   "language": "python",
   "name": "python3"
  },
  "language_info": {
   "codemirror_mode": {
    "name": "ipython",
    "version": 3
   },
   "file_extension": ".py",
   "mimetype": "text/x-python",
   "name": "python",
   "nbconvert_exporter": "python",
   "pygments_lexer": "ipython3",
   "version": "3.10.9"
  }
 },
 "nbformat": 4,
 "nbformat_minor": 5
}

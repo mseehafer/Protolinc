{
 "cells": [
  {
   "cell_type": "markdown",
   "metadata": {},
   "source": [
    "### Calculation of contractual state transitions"
   ]
  },
  {
   "cell_type": "code",
   "execution_count": 2,
   "metadata": {},
   "outputs": [],
   "source": [
    "import numpy as np"
   ]
  },
  {
   "cell_type": "code",
   "execution_count": 39,
   "metadata": {},
   "outputs": [
    {
     "data": {
      "text/plain": [
       "array([[[0.9, 0.1],\n",
       "        [0. , 1. ]],\n",
       "\n",
       "       [[0.8, 0.2],\n",
       "        [0.1, 0.9]]])"
      ]
     },
     "execution_count": 39,
     "metadata": {},
     "output_type": "execute_result"
    }
   ],
   "source": [
    "# we start with a state transition matrix of the form\n",
    "# records x state x state (to)\n",
    "transition_ass_timestep_res_ts = np.array([\n",
    "\n",
    "    [[0.9, 0.1],\n",
    "     [0, 1.0]],\n",
    "\n",
    "    [[0.8, 0.2],\n",
    "     [0.1, 0.9]],\n",
    "    \n",
    "])\n",
    "transition_ass_timestep_res_ts"
   ]
  },
  {
   "cell_type": "code",
   "execution_count": 26,
   "metadata": {},
   "outputs": [
    {
     "data": {
      "text/plain": [
       "[(0, 1, array([0, 1]))]"
      ]
     },
     "execution_count": 26,
     "metadata": {},
     "output_type": "execute_result"
    }
   ],
   "source": [
    "# the state transitions look like this\n",
    "state_transitions_current_month = [(0, 1, np.array([0, 1]))]\n",
    "state_transitions_current_month"
   ]
  },
  {
   "cell_type": "markdown",
   "metadata": {},
   "source": [
    "### solution 1: change the values"
   ]
  },
  {
   "cell_type": "markdown",
   "metadata": {},
   "source": [
    "This means that for the first insured we will have a state transition 1->2 (or 0->1) to \n",
    "be applied."
   ]
  },
  {
   "cell_type": "code",
   "execution_count": 28,
   "metadata": {},
   "outputs": [
    {
     "data": {
      "text/plain": [
       "(0, 1, array([False,  True]))"
      ]
     },
     "execution_count": 28,
     "metadata": {},
     "output_type": "execute_result"
    }
   ],
   "source": [
    "from_state = state_transitions_current_month[0][0]\n",
    "to_state = state_transitions_current_month[0][1]\n",
    "insured_selector = state_transitions_current_month[0][2].astype(bool)\n",
    "\n",
    "from_state, to_state, insured_selector"
   ]
  },
  {
   "cell_type": "code",
   "execution_count": 29,
   "metadata": {},
   "outputs": [
    {
     "data": {
      "text/plain": [
       "array([[0.2, 0.9]])"
      ]
     },
     "execution_count": 29,
     "metadata": {},
     "output_type": "execute_result"
    }
   ],
   "source": [
    "# this must be changed\n",
    "transition_ass_timestep_res_ts[insured_selector, :, to_state]"
   ]
  },
  {
   "cell_type": "code",
   "execution_count": 30,
   "metadata": {},
   "outputs": [
    {
     "data": {
      "text/plain": [
       "array([[0.8, 0.1]])"
      ]
     },
     "execution_count": 30,
     "metadata": {},
     "output_type": "execute_result"
    }
   ],
   "source": [
    "# by adding this:\n",
    "transition_ass_timestep_res_ts[insured_selector, :, from_state]"
   ]
  },
  {
   "cell_type": "code",
   "execution_count": 31,
   "metadata": {},
   "outputs": [
    {
     "data": {
      "text/plain": [
       "array([[[0.9, 0.1],\n",
       "        [0. , 1. ]],\n",
       "\n",
       "       [[0. , 1. ],\n",
       "        [0. , 1. ]]])"
      ]
     },
     "execution_count": 31,
     "metadata": {},
     "output_type": "execute_result"
    }
   ],
   "source": [
    "# i.e.\n",
    "transition_ass_timestep_res_ts[insured_selector, :, to_state] += transition_ass_timestep_res_ts[insured_selector, :, from_state]\n",
    "transition_ass_timestep_res_ts[insured_selector, :, from_state] = 0\n",
    "\n",
    "# after the modification:\n",
    "transition_ass_timestep_res_ts"
   ]
  },
  {
   "cell_type": "markdown",
   "metadata": {},
   "source": [
    "### solution 2\n",
    "\n",
    "we expand the state transition into a tensor and \"multiply from the right\""
   ]
  },
  {
   "cell_type": "code",
   "execution_count": 62,
   "metadata": {},
   "outputs": [
    {
     "data": {
      "text/plain": [
       "array([[[0., 0.],\n",
       "        [0., 0.]],\n",
       "\n",
       "       [[0., 0.],\n",
       "        [0., 0.]]])"
      ]
     },
     "execution_count": 62,
     "metadata": {},
     "output_type": "execute_result"
    }
   ],
   "source": [
    "num_records, num_states = 2, 2\n",
    "\n",
    "T = np.zeros((num_records, num_states, num_states))\n",
    "T"
   ]
  },
  {
   "cell_type": "code",
   "execution_count": 63,
   "metadata": {},
   "outputs": [
    {
     "data": {
      "text/plain": [
       "array([[[1., 0.],\n",
       "        [0., 1.]],\n",
       "\n",
       "       [[1., 0.],\n",
       "        [0., 1.]]])"
      ]
     },
     "execution_count": 63,
     "metadata": {},
     "output_type": "execute_result"
    }
   ],
   "source": [
    "# make set diagonals\n",
    "for k in range(T.shape[1]):\n",
    "    T[:, k, k] = 1\n",
    "\n",
    "T"
   ]
  },
  {
   "cell_type": "code",
   "execution_count": 68,
   "metadata": {},
   "outputs": [
    {
     "data": {
      "text/plain": [
       "array([[[1., 0.],\n",
       "        [0., 1.]],\n",
       "\n",
       "       [[0., 1.],\n",
       "        [0., 1.]]])"
      ]
     },
     "execution_count": 68,
     "metadata": {},
     "output_type": "execute_result"
    }
   ],
   "source": [
    "# adjust\n",
    "for st in range(num_states):\n",
    "    T[insured_selector, from_state, st] = st == to_state\n",
    "T"
   ]
  },
  {
   "cell_type": "code",
   "execution_count": 69,
   "metadata": {},
   "outputs": [
    {
     "data": {
      "text/plain": [
       "array([[[0.9, 0.1],\n",
       "        [0. , 1. ]],\n",
       "\n",
       "       [[0. , 1. ],\n",
       "        [0. , 1. ]]])"
      ]
     },
     "execution_count": 69,
     "metadata": {},
     "output_type": "execute_result"
    }
   ],
   "source": [
    "# now multiply\n",
    "transition_ass_timestep_res_ts_mod = np.einsum('rij,rjk->rik', transition_ass_timestep_res_ts, T)\n",
    "transition_ass_timestep_res_ts_mod"
   ]
  },
  {
   "cell_type": "code",
   "execution_count": null,
   "metadata": {},
   "outputs": [],
   "source": []
  }
 ],
 "metadata": {
  "kernelspec": {
   "display_name": "Python 3 (ipykernel)",
   "language": "python",
   "name": "python3"
  },
  "language_info": {
   "codemirror_mode": {
    "name": "ipython",
    "version": 3
   },
   "file_extension": ".py",
   "mimetype": "text/x-python",
   "name": "python",
   "nbconvert_exporter": "python",
   "pygments_lexer": "ipython3",
   "version": "3.8.5"
  }
 },
 "nbformat": 4,
 "nbformat_minor": 2
}

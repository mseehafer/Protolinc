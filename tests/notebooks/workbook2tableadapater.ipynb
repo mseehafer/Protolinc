{
 "cells": [
  {
   "cell_type": "markdown",
   "id": "a7c11a5c",
   "metadata": {},
   "source": [
    "### This notebook demonstrates how the tables from the standard excel can be read\n",
    "\n",
    "Further test of the providers would be good, in particular one with calendaryear as risk factor"
   ]
  },
  {
   "cell_type": "code",
   "execution_count": 2,
   "id": "f50cf31a",
   "metadata": {},
   "outputs": [],
   "source": [
    "import numpy as np\n",
    "from protolinc.assumptions.iohelpers import WorkbookTableReader\n",
    "\n",
    "path = r\"D:\\programming\\py\\PyMultiState\\protolinc\\data\\assumptions\\base_assumption.xlsx\""
   ]
  },
  {
   "cell_type": "code",
   "execution_count": 4,
   "id": "44a5230c",
   "metadata": {},
   "outputs": [
    {
     "name": "stdout",
     "output_type": "stream",
     "text": [
      "['MORTALITY (0->3)', 'LAPSE (0->4)', 'DIS1 (0->1)', 'DIS_WORSEN (1->2)', 'DIS_DEATH1 (1->3)', 'REC1(1->0)', 'DIS2(0->2)', 'DIS_IMPR (2->1)', 'DIS_DEATH2 (2->3)', 'REC2(2->0)']\n"
     ]
    }
   ],
   "source": [
    "with WorkbookTableReader(path) as file:\n",
    "    print(file.sheet_names)\n",
    "    scalar_rec = file.read_sheet('REC1(1->0)')\n",
    "    table_1d_lapse = file.read_sheet('LAPSE (0->4)')\n",
    "    table_1d_dis = file.read_sheet('DIS1 (0->1)')\n",
    "    table_1d_disw = file.read_sheet('DIS_WORSEN (1->2)')\n",
    "    table_1d_disd = file.read_sheet('DIS_DEATH1 (1->3)')\n",
    "    table_2d = file.read_sheet('MORTALITY (0->3)')"
   ]
  },
  {
   "cell_type": "code",
   "execution_count": 3,
   "id": "e98992fd",
   "metadata": {},
   "outputs": [
    {
     "data": {
      "text/plain": [
       "(<protolinc.assumptions.tables.ScalarAssumptionsTable at 0x1b11953c940>,\n",
       " 0.2)"
      ]
     },
     "execution_count": 3,
     "metadata": {},
     "output_type": "execute_result"
    }
   ],
   "source": [
    "# check the scalar\n",
    "scalar_rec, scalar_rec.const_value"
   ]
  },
  {
   "cell_type": "code",
   "execution_count": 4,
   "id": "ba06b7a0",
   "metadata": {},
   "outputs": [
    {
     "data": {
      "text/plain": [
       "<protolinc.assumptions.tables.AssumptionsTable1D at 0x1b119b066a0>"
      ]
     },
     "execution_count": 4,
     "metadata": {},
     "output_type": "execute_result"
    }
   ],
   "source": [
    "# check lapse based on calendar year\n",
    "table_1d_lapse"
   ]
  },
  {
   "cell_type": "code",
   "execution_count": 5,
   "id": "714f1176",
   "metadata": {},
   "outputs": [
    {
     "data": {
      "text/plain": [
       "array([0.05 , 0.049, 0.048, 0.047, 0.046, 0.045, 0.044, 0.043, 0.042,\n",
       "       0.041, 0.04 , 0.039, 0.038, 0.037, 0.036, 0.035, 0.034, 0.033,\n",
       "       0.032, 0.031, 0.03 , 0.029, 0.028, 0.027, 0.026, 0.025, 0.024,\n",
       "       0.023, 0.022, 0.021, 0.02 , 0.019, 0.018, 0.017, 0.016, 0.015,\n",
       "       0.014, 0.013, 0.012, 0.011, 0.01 , 0.009, 0.008, 0.007, 0.006,\n",
       "       0.005, 0.004, 0.003, 0.002, 0.001, 0.   , 0.   , 0.   , 0.   ,\n",
       "       0.   , 0.   , 0.   , 0.   , 0.   , 0.   , 0.   , 0.   , 0.   ,\n",
       "       0.   , 0.   , 0.   , 0.   , 0.   , 0.   , 0.   , 0.   , 0.   ,\n",
       "       0.   , 0.   , 0.   , 0.   , 0.   , 0.   , 0.   , 0.   , 0.   ,\n",
       "       0.   , 0.   , 0.   , 0.   , 0.   , 0.   , 0.   , 0.   , 0.   ,\n",
       "       0.   , 0.   , 0.   , 0.   , 0.   , 0.   , 0.   , 0.   , 0.   ,\n",
       "       0.   , 0.   , 0.   , 0.   , 0.   , 0.   , 0.   , 0.   , 0.   ,\n",
       "       0.   , 0.   , 0.   , 0.   , 0.   , 0.   , 0.   , 0.   , 0.   ,\n",
       "       0.   , 0.   , 0.   , 0.   , 0.   , 0.   , 0.   , 0.   , 0.   ,\n",
       "       0.   , 0.   , 0.   , 0.   , 0.   , 0.   , 0.   , 0.   , 0.   ,\n",
       "       0.   , 0.   , 0.   , 0.   , 0.   , 0.   , 0.   , 0.   , 0.   ,\n",
       "       0.   , 0.   , 0.   , 0.   , 0.   , 0.   ])"
      ]
     },
     "execution_count": 5,
     "metadata": {},
     "output_type": "execute_result"
    }
   ],
   "source": [
    "table_1d_lapse.values"
   ]
  },
  {
   "cell_type": "code",
   "execution_count": 6,
   "id": "82858d2e",
   "metadata": {},
   "outputs": [
    {
     "data": {
      "text/plain": [
       "<StandardRatesProvider with factors (['calendaryear'])>"
      ]
     },
     "execution_count": 6,
     "metadata": {},
     "output_type": "execute_result"
    }
   ],
   "source": [
    "lapse_provider = table_1d_lapse.rates_provider()\n",
    "lapse_provider"
   ]
  },
  {
   "cell_type": "code",
   "execution_count": 8,
   "id": "4b82cb7c",
   "metadata": {},
   "outputs": [
    {
     "data": {
      "text/plain": [
       "array([0.05 , 0.049, 0.   , 0.05 ])"
      ]
     },
     "execution_count": 8,
     "metadata": {},
     "output_type": "execute_result"
    }
   ],
   "source": [
    "lapse_provider.get_rates(calendaryear=np.array([2022, 2023, 2171, 2022]))"
   ]
  },
  {
   "cell_type": "code",
   "execution_count": null,
   "id": "ff6610e2",
   "metadata": {},
   "outputs": [],
   "source": []
  },
  {
   "cell_type": "code",
   "execution_count": null,
   "id": "b0dc8e32",
   "metadata": {},
   "outputs": [],
   "source": [
    "table_1d_dis.values"
   ]
  },
  {
   "cell_type": "code",
   "execution_count": null,
   "id": "5f78ebf5",
   "metadata": {},
   "outputs": [],
   "source": [
    "table_1d_disw.values"
   ]
  },
  {
   "cell_type": "code",
   "execution_count": null,
   "id": "5ddcaf8a",
   "metadata": {},
   "outputs": [],
   "source": [
    "table_1d_disd.values"
   ]
  },
  {
   "cell_type": "code",
   "execution_count": null,
   "id": "b5339f6e",
   "metadata": {},
   "outputs": [],
   "source": [
    "table_2d.values"
   ]
  },
  {
   "cell_type": "code",
   "execution_count": null,
   "id": "8b18c5cc",
   "metadata": {},
   "outputs": [],
   "source": []
  }
 ],
 "metadata": {
  "kernelspec": {
   "display_name": "Python 3 (ipykernel)",
   "language": "python",
   "name": "python3"
  },
  "language_info": {
   "codemirror_mode": {
    "name": "ipython",
    "version": 3
   },
   "file_extension": ".py",
   "mimetype": "text/x-python",
   "name": "python",
   "nbconvert_exporter": "python",
   "pygments_lexer": "ipython3",
   "version": "3.9.12"
  }
 },
 "nbformat": 4,
 "nbformat_minor": 5
}

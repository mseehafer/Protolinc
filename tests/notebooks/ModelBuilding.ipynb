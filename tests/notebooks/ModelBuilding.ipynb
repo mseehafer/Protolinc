{
 "cells": [
  {
   "cell_type": "code",
   "execution_count": 4,
   "id": "d53361f2",
   "metadata": {},
   "outputs": [],
   "source": [
    "from pyprotolinc.models.model_annuity_runoff import AnnuityRunoffStates"
   ]
  },
  {
   "cell_type": "code",
   "execution_count": null,
   "id": "0240c4d1",
   "metadata": {},
   "outputs": [],
   "source": []
  },
  {
   "cell_type": "code",
   "execution_count": 5,
   "id": "a8cd5f94",
   "metadata": {},
   "outputs": [
    {
     "name": "stdout",
     "output_type": "stream",
     "text": [
      "AnnuityRunoffStates.DIS1\n",
      "AnnuityRunoffStates.DEATH\n"
     ]
    }
   ],
   "source": [
    "for k in AnnuityRunoffStates:\n",
    "    print(k)"
   ]
  },
  {
   "cell_type": "code",
   "execution_count": 7,
   "id": "d82cb6cd",
   "metadata": {},
   "outputs": [
    {
     "data": {
      "text/plain": [
       "'DEATH'"
      ]
     },
     "execution_count": 7,
     "metadata": {},
     "output_type": "execute_result"
    }
   ],
   "source": [
    "k.name"
   ]
  },
  {
   "cell_type": "code",
   "execution_count": 9,
   "id": "3ebfc542",
   "metadata": {},
   "outputs": [
    {
     "data": {
      "text/plain": [
       "{<ProbabilityVolumeResults.VOL_DIS1: 1>: <AnnuityRunoffStates.DIS1: 0>,\n",
       " <ProbabilityVolumeResults.VOL_DEATH: 3>: <AnnuityRunoffStates.DEATH: 1>,\n",
       " <ProbabilityVolumeResults.MV_DIS1_DEATH: 11>: (<AnnuityRunoffStates.DIS1: 0>,\n",
       "  <AnnuityRunoffStates.DEATH: 1>)}"
      ]
     },
     "execution_count": 9,
     "metadata": {},
     "output_type": "execute_result"
    }
   ],
   "source": [
    "k.value\n",
    "\n",
    "\n",
    "map_dict = AnnuityRunoffStates.to_std_outputs()\n",
    "map_dict"
   ]
  },
  {
   "cell_type": "code",
   "execution_count": 11,
   "id": "c4d95168",
   "metadata": {},
   "outputs": [
    {
     "data": {
      "text/plain": [
       "False"
      ]
     },
     "execution_count": 11,
     "metadata": {},
     "output_type": "execute_result"
    }
   ],
   "source": [
    "\"afgh\".startswith(\"ba\")"
   ]
  },
  {
   "cell_type": "code",
   "execution_count": 20,
   "id": "a5405a53",
   "metadata": {},
   "outputs": [
    {
     "data": {
      "text/plain": [
       "'MV_DIS1_DEATH'"
      ]
     },
     "execution_count": 20,
     "metadata": {},
     "output_type": "execute_result"
    }
   ],
   "source": [
    "for x in map_dict.items():\n",
    "    x\n",
    "    \n",
    "x[0].name"
   ]
  },
  {
   "cell_type": "markdown",
   "id": "d6996192",
   "metadata": {},
   "source": [
    "# Examples for Building a Model"
   ]
  },
  {
   "cell_type": "code",
   "execution_count": 1,
   "id": "0d41e306",
   "metadata": {},
   "outputs": [
    {
     "ename": "ImportError",
     "evalue": "cannot import name 'ModelBuilder' from 'pyprotolinc.models.model_config' (D:\\programming\\pyprotolinc\\src\\pyprotolinc\\models\\model_config.py)",
     "output_type": "error",
     "traceback": [
      "\u001b[1;31m---------------------------------------------------------------------------\u001b[0m",
      "\u001b[1;31mImportError\u001b[0m                               Traceback (most recent call last)",
      "Input \u001b[1;32mIn [1]\u001b[0m, in \u001b[0;36m<cell line: 1>\u001b[1;34m()\u001b[0m\n\u001b[1;32m----> 1\u001b[0m \u001b[38;5;28;01mfrom\u001b[39;00m \u001b[38;5;21;01mpyprotolinc\u001b[39;00m\u001b[38;5;21;01m.\u001b[39;00m\u001b[38;5;21;01mmodels\u001b[39;00m\u001b[38;5;21;01m.\u001b[39;00m\u001b[38;5;21;01mmodel_config\u001b[39;00m \u001b[38;5;28;01mimport\u001b[39;00m ModelBuilder\n\u001b[0;32m      2\u001b[0m \u001b[38;5;28;01mfrom\u001b[39;00m \u001b[38;5;21;01mpyprotolinc\u001b[39;00m\u001b[38;5;21;01m.\u001b[39;00m\u001b[38;5;21;01massumptions\u001b[39;00m\u001b[38;5;21;01m.\u001b[39;00m\u001b[38;5;21;01miohelpers\u001b[39;00m \u001b[38;5;28;01mimport\u001b[39;00m WorkbookTableReader\n\u001b[0;32m      3\u001b[0m \u001b[38;5;28;01mfrom\u001b[39;00m \u001b[38;5;21;01mpyprotolinc\u001b[39;00m\u001b[38;5;21;01m.\u001b[39;00m\u001b[38;5;21;01mmodels\u001b[39;00m \u001b[38;5;28;01mimport\u001b[39;00m MultiStateDisabilityStates, AnnuityRunoffStates\n",
      "\u001b[1;31mImportError\u001b[0m: cannot import name 'ModelBuilder' from 'pyprotolinc.models.model_config' (D:\\programming\\pyprotolinc\\src\\pyprotolinc\\models\\model_config.py)"
     ]
    }
   ],
   "source": [
    "from pyprotolinc.models.model_config import ModelBuilder\n",
    "from pyprotolinc.assumptions.iohelpers import WorkbookTableReader\n",
    "from pyprotolinc.models import MultiStateDisabilityStates, AnnuityRunoffStates"
   ]
  },
  {
   "cell_type": "markdown",
   "id": "90620e66",
   "metadata": {},
   "source": [
    "### 1. Disability 2-State Model"
   ]
  },
  {
   "cell_type": "code",
   "execution_count": 2,
   "id": "0ed1e982",
   "metadata": {},
   "outputs": [
    {
     "ename": "NameError",
     "evalue": "name 'WorkbookTableReader' is not defined",
     "output_type": "error",
     "traceback": [
      "\u001b[1;31m---------------------------------------------------------------------------\u001b[0m",
      "\u001b[1;31mNameError\u001b[0m                                 Traceback (most recent call last)",
      "Input \u001b[1;32mIn [2]\u001b[0m, in \u001b[0;36m<cell line: 3>\u001b[1;34m()\u001b[0m\n\u001b[0;32m      1\u001b[0m path \u001b[38;5;241m=\u001b[39m \u001b[38;5;124mr\u001b[39m\u001b[38;5;124m\"\u001b[39m\u001b[38;5;124mD:\u001b[39m\u001b[38;5;124m\\\u001b[39m\u001b[38;5;124mprogramming\u001b[39m\u001b[38;5;124m\\\u001b[39m\u001b[38;5;124mpy\u001b[39m\u001b[38;5;124m\\\u001b[39m\u001b[38;5;124mPyMultiState\u001b[39m\u001b[38;5;124m\\\u001b[39m\u001b[38;5;124mpyprotolinc\u001b[39m\u001b[38;5;124m\\\u001b[39m\u001b[38;5;124mdata\u001b[39m\u001b[38;5;124m\\\u001b[39m\u001b[38;5;124massumptions\u001b[39m\u001b[38;5;124m\\\u001b[39m\u001b[38;5;124mbase_assumption.xlsx\u001b[39m\u001b[38;5;124m\"\u001b[39m\n\u001b[1;32m----> 3\u001b[0m \u001b[38;5;28;01mwith\u001b[39;00m \u001b[43mWorkbookTableReader\u001b[49m(path) \u001b[38;5;28;01mas\u001b[39;00m file:\n\u001b[0;32m      4\u001b[0m     \u001b[38;5;28mprint\u001b[39m(file\u001b[38;5;241m.\u001b[39msheet_names)\n",
      "\u001b[1;31mNameError\u001b[0m: name 'WorkbookTableReader' is not defined"
     ]
    }
   ],
   "source": [
    "path = r\"D:\\programming\\py\\PyMultiState\\pyprotolinc\\data\\assumptions\\base_assumption.xlsx\"\n",
    "\n",
    "with WorkbookTableReader(path) as file:\n",
    "    print(file.sheet_names)"
   ]
  },
  {
   "cell_type": "code",
   "execution_count": 3,
   "id": "f0b5ecb1",
   "metadata": {},
   "outputs": [],
   "source": [
    "assumptions_spec = [\n",
    "    (0, 3, 'MORTALITY (0->3)'),\n",
    "    (0, 4, 'LAPSE (0->4)'),\n",
    "    (0, 1, 'DIS1 (0->1)'),\n",
    "    (1, 2, 'DIS_WORSEN (1->2)'),\n",
    "    (1, 3, 'DIS_DEATH1 (1->3)'),\n",
    "    (1, 0, 'REC1(1->0)'), \n",
    "    (0, 2, 'DIS2(0->2)'),\n",
    "    (2, 1, 'DIS_IMPR (2->1)'),\n",
    "    (2, 3, 'DIS_DEATH2 (2->3)'),\n",
    "    (2, 0, 'REC2(2->0)')\n",
    "]"
   ]
  },
  {
   "cell_type": "code",
   "execution_count": 4,
   "id": "29972ad5",
   "metadata": {},
   "outputs": [
    {
     "name": "stdout",
     "output_type": "stream",
     "text": [
      "<pyprotolinc.assumptions.tables.AssumptionsTable2D object at 0x000001C8E3B899A0>\n",
      "<pyprotolinc.assumptions.tables.AssumptionsTable1D object at 0x000001C8E34D8490>\n",
      "<pyprotolinc.assumptions.tables.AssumptionsTable1D object at 0x000001C8E3B8CBB0>\n",
      "<pyprotolinc.assumptions.tables.AssumptionsTable1D object at 0x000001C8E3CC4E80>\n",
      "<pyprotolinc.assumptions.tables.AssumptionsTable1D object at 0x000001C8E3CC4790>\n",
      "<pyprotolinc.assumptions.tables.ScalarAssumptionsTable object at 0x000001C8E3CC4A30>\n",
      "<pyprotolinc.assumptions.tables.AssumptionsTable1D object at 0x000001C8E3545F10>\n",
      "<pyprotolinc.assumptions.tables.ScalarAssumptionsTable object at 0x000001C8E34D8940>\n",
      "<pyprotolinc.assumptions.tables.ScalarAssumptionsTable object at 0x000001C8E3CC49A0>\n",
      "<pyprotolinc.assumptions.tables.ScalarAssumptionsTable object at 0x000001C8E3CC4280>\n"
     ]
    }
   ],
   "source": [
    "\n",
    "model_builder = ModelBuilder(MultiStateDisabilityStates)\n",
    "\n",
    "with WorkbookTableReader(path) as file:\n",
    "    for assspec in assumptions_spec:\n",
    "        table = file.read_sheet(assspec[2])\n",
    "        model_builder.add_transition(assspec[0], assspec[1], table.rates_provider())\n",
    "model = model_builder.build()"
   ]
  },
  {
   "cell_type": "code",
   "execution_count": 5,
   "id": "61369499",
   "metadata": {},
   "outputs": [
    {
     "data": {
      "text/plain": [
       "(<enum 'MultiStateDisabilityStates'>, 5)"
      ]
     },
     "execution_count": 5,
     "metadata": {},
     "output_type": "execute_result"
    }
   ],
   "source": [
    "model.states_model, model.states_dim "
   ]
  },
  {
   "cell_type": "code",
   "execution_count": 6,
   "id": "d3325da8",
   "metadata": {},
   "outputs": [
    {
     "data": {
      "text/plain": [
       "[[None,\n",
       "  <StandardRateProvider with factors (['age'])>,\n",
       "  <StandardRateProvider with factors (['age'])>,\n",
       "  <StandardRateProvider with factors (['age', 'gender'])>,\n",
       "  <StandardRateProvider with factors (['calendaryear'])>],\n",
       " [<ConstantRateProvider with constant 0.2>,\n",
       "  None,\n",
       "  <StandardRateProvider with factors (['gender'])>,\n",
       "  <StandardRateProvider with factors (['gender'])>,\n",
       "  None],\n",
       " [<ConstantRateProvider with constant 0.01>,\n",
       "  <ConstantRateProvider with constant 0.1>,\n",
       "  None,\n",
       "  <ConstantRateProvider with constant 0.2>,\n",
       "  None],\n",
       " [None, None, None, None, None],\n",
       " [None, None, None, None, None]]"
      ]
     },
     "execution_count": 6,
     "metadata": {},
     "output_type": "execute_result"
    }
   ],
   "source": [
    "model.rates_provider_matrix"
   ]
  },
  {
   "cell_type": "markdown",
   "id": "5ef99d67",
   "metadata": {},
   "source": [
    "### 2. Annuity Model"
   ]
  },
  {
   "cell_type": "code",
   "execution_count": 7,
   "id": "ba6e1976",
   "metadata": {},
   "outputs": [],
   "source": [
    "model_builder = ModelBuilder(AnnuityRunoffStates)"
   ]
  },
  {
   "cell_type": "code",
   "execution_count": 8,
   "id": "0be047cd",
   "metadata": {},
   "outputs": [],
   "source": [
    "from pyprotolinc.assumptions.dav2004r import DAV2004R"
   ]
  },
  {
   "cell_type": "code",
   "execution_count": 9,
   "id": "ddd1048c",
   "metadata": {},
   "outputs": [],
   "source": [
    "annuity_model = model_builder.add_transition(0, 1, DAV2004R().rates_provider())\\\n",
    "                             .build()"
   ]
  },
  {
   "cell_type": "code",
   "execution_count": 10,
   "id": "dd0ab8aa",
   "metadata": {},
   "outputs": [
    {
     "data": {
      "text/plain": [
       "(2, <enum 'AnnuityRunoffStates'>)"
      ]
     },
     "execution_count": 10,
     "metadata": {},
     "output_type": "execute_result"
    }
   ],
   "source": [
    "annuity_model.states_dim, annuity_model.states_model"
   ]
  },
  {
   "cell_type": "code",
   "execution_count": 11,
   "id": "935c8b3d",
   "metadata": {},
   "outputs": [
    {
     "data": {
      "text/plain": [
       "[[None,\n",
       "  <StandardRateProvider with factors (['calendaryear', 'gender', 'age'])>],\n",
       " [None, None]]"
      ]
     },
     "execution_count": 11,
     "metadata": {},
     "output_type": "execute_result"
    }
   ],
   "source": [
    "annuity_model.rates_provider_matrix"
   ]
  },
  {
   "cell_type": "code",
   "execution_count": null,
   "id": "ed753c45",
   "metadata": {},
   "outputs": [],
   "source": []
  }
 ],
 "metadata": {
  "kernelspec": {
   "display_name": "Python 3 (ipykernel)",
   "language": "python",
   "name": "python3"
  },
  "language_info": {
   "codemirror_mode": {
    "name": "ipython",
    "version": 3
   },
   "file_extension": ".py",
   "mimetype": "text/x-python",
   "name": "python",
   "nbconvert_exporter": "python",
   "pygments_lexer": "ipython3",
   "version": "3.9.12"
  }
 },
 "nbformat": 4,
 "nbformat_minor": 5
}

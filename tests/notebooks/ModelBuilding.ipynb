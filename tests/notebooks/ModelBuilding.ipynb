{
 "cells": [
  {
   "cell_type": "markdown",
   "id": "d6996192",
   "metadata": {},
   "source": [
    "# Examples for Building a Model"
   ]
  },
  {
   "cell_type": "code",
   "execution_count": 1,
   "id": "0d41e306",
   "metadata": {},
   "outputs": [],
   "source": [
    "from protolinc.models.model_config import ModelBuilder\n",
    "from protolinc.assumptions.iohelpers import WorkbookTableReader\n",
    "from protolinc.models import MultiStateDisabilityStates, AnnuityRunoffStates"
   ]
  },
  {
   "cell_type": "markdown",
   "id": "90620e66",
   "metadata": {},
   "source": [
    "### 1. Disability 2-State Model"
   ]
  },
  {
   "cell_type": "code",
   "execution_count": 2,
   "id": "0ed1e982",
   "metadata": {},
   "outputs": [
    {
     "name": "stdout",
     "output_type": "stream",
     "text": [
      "['MORTALITY (0->3)', 'LAPSE (0->4)', 'DIS1 (0->1)', 'DIS_WORSEN (1->2)', 'DIS_DEATH1 (1->3)', 'REC1(1->0)', 'DIS2(0->2)', 'DIS_IMPR (2->1)', 'DIS_DEATH2 (2->3)', 'REC2(2->0)']\n"
     ]
    }
   ],
   "source": [
    "path = r\"D:\\programming\\py\\PyMultiState\\protolinc\\data\\assumptions\\base_assumption.xlsx\"\n",
    "\n",
    "with WorkbookTableReader(path) as file:\n",
    "    print(file.sheet_names)"
   ]
  },
  {
   "cell_type": "code",
   "execution_count": 3,
   "id": "f0b5ecb1",
   "metadata": {},
   "outputs": [],
   "source": [
    "assumptions_spec = [\n",
    "    (0, 3, 'MORTALITY (0->3)'),\n",
    "    (0, 4, 'LAPSE (0->4)'),\n",
    "    (0, 1, 'DIS1 (0->1)'),\n",
    "    (1, 2, 'DIS_WORSEN (1->2)'),\n",
    "    (1, 3, 'DIS_DEATH1 (1->3)'),\n",
    "    (1, 0, 'REC1(1->0)'), \n",
    "    (0, 2, 'DIS2(0->2)'),\n",
    "    (2, 1, 'DIS_IMPR (2->1)'),\n",
    "    (2, 3, 'DIS_DEATH2 (2->3)'),\n",
    "    (2, 0, 'REC2(2->0)')\n",
    "]"
   ]
  },
  {
   "cell_type": "code",
   "execution_count": 4,
   "id": "29972ad5",
   "metadata": {},
   "outputs": [
    {
     "name": "stdout",
     "output_type": "stream",
     "text": [
      "<protolinc.assumptions.tables.AssumptionsTable2D object at 0x000001C8E3B899A0>\n",
      "<protolinc.assumptions.tables.AssumptionsTable1D object at 0x000001C8E34D8490>\n",
      "<protolinc.assumptions.tables.AssumptionsTable1D object at 0x000001C8E3B8CBB0>\n",
      "<protolinc.assumptions.tables.AssumptionsTable1D object at 0x000001C8E3CC4E80>\n",
      "<protolinc.assumptions.tables.AssumptionsTable1D object at 0x000001C8E3CC4790>\n",
      "<protolinc.assumptions.tables.ScalarAssumptionsTable object at 0x000001C8E3CC4A30>\n",
      "<protolinc.assumptions.tables.AssumptionsTable1D object at 0x000001C8E3545F10>\n",
      "<protolinc.assumptions.tables.ScalarAssumptionsTable object at 0x000001C8E34D8940>\n",
      "<protolinc.assumptions.tables.ScalarAssumptionsTable object at 0x000001C8E3CC49A0>\n",
      "<protolinc.assumptions.tables.ScalarAssumptionsTable object at 0x000001C8E3CC4280>\n"
     ]
    }
   ],
   "source": [
    "\n",
    "model_builder = ModelBuilder(MultiStateDisabilityStates)\n",
    "\n",
    "with WorkbookTableReader(path) as file:\n",
    "    for assspec in assumptions_spec:\n",
    "        table = file.read_sheet(assspec[2])\n",
    "        model_builder.add_transition(assspec[0], assspec[1], table.rates_provider())\n",
    "model = model_builder.build()"
   ]
  },
  {
   "cell_type": "code",
   "execution_count": 5,
   "id": "61369499",
   "metadata": {},
   "outputs": [
    {
     "data": {
      "text/plain": [
       "(<enum 'MultiStateDisabilityStates'>, 5)"
      ]
     },
     "execution_count": 5,
     "metadata": {},
     "output_type": "execute_result"
    }
   ],
   "source": [
    "model.states_model, model.states_dim "
   ]
  },
  {
   "cell_type": "code",
   "execution_count": 6,
   "id": "d3325da8",
   "metadata": {},
   "outputs": [
    {
     "data": {
      "text/plain": [
       "[[None,\n",
       "  <StandardRatesProvider with factors (['age'])>,\n",
       "  <StandardRatesProvider with factors (['age'])>,\n",
       "  <StandardRatesProvider with factors (['age', 'gender'])>,\n",
       "  <StandardRatesProvider with factors (['calendaryear'])>],\n",
       " [<ConstantRateProvider with constant 0.2>,\n",
       "  None,\n",
       "  <StandardRatesProvider with factors (['gender'])>,\n",
       "  <StandardRatesProvider with factors (['gender'])>,\n",
       "  None],\n",
       " [<ConstantRateProvider with constant 0.01>,\n",
       "  <ConstantRateProvider with constant 0.1>,\n",
       "  None,\n",
       "  <ConstantRateProvider with constant 0.2>,\n",
       "  None],\n",
       " [None, None, None, None, None],\n",
       " [None, None, None, None, None]]"
      ]
     },
     "execution_count": 6,
     "metadata": {},
     "output_type": "execute_result"
    }
   ],
   "source": [
    "model.rates_provider_matrix"
   ]
  },
  {
   "cell_type": "markdown",
   "id": "5ef99d67",
   "metadata": {},
   "source": [
    "### 2. Annuity Model"
   ]
  },
  {
   "cell_type": "code",
   "execution_count": 7,
   "id": "ba6e1976",
   "metadata": {},
   "outputs": [],
   "source": [
    "model_builder = ModelBuilder(AnnuityRunoffStates)"
   ]
  },
  {
   "cell_type": "code",
   "execution_count": 8,
   "id": "0be047cd",
   "metadata": {},
   "outputs": [],
   "source": [
    "from protolinc.assumptions.dav2004r import DAV2004R"
   ]
  },
  {
   "cell_type": "code",
   "execution_count": 9,
   "id": "ddd1048c",
   "metadata": {},
   "outputs": [],
   "source": [
    "annuity_model = model_builder.add_transition(0, 1, DAV2004R().rates_provider())\\\n",
    "                             .build()"
   ]
  },
  {
   "cell_type": "code",
   "execution_count": 10,
   "id": "dd0ab8aa",
   "metadata": {},
   "outputs": [
    {
     "data": {
      "text/plain": [
       "(2, <enum 'AnnuityRunoffStates'>)"
      ]
     },
     "execution_count": 10,
     "metadata": {},
     "output_type": "execute_result"
    }
   ],
   "source": [
    "annuity_model.states_dim, annuity_model.states_model"
   ]
  },
  {
   "cell_type": "code",
   "execution_count": 11,
   "id": "935c8b3d",
   "metadata": {},
   "outputs": [
    {
     "data": {
      "text/plain": [
       "[[None,\n",
       "  <StandardRatesProvider with factors (['calendaryear', 'gender', 'age'])>],\n",
       " [None, None]]"
      ]
     },
     "execution_count": 11,
     "metadata": {},
     "output_type": "execute_result"
    }
   ],
   "source": [
    "annuity_model.rates_provider_matrix"
   ]
  },
  {
   "cell_type": "code",
   "execution_count": null,
   "id": "ed753c45",
   "metadata": {},
   "outputs": [],
   "source": []
  }
 ],
 "metadata": {
  "kernelspec": {
   "display_name": "Python 3 (ipykernel)",
   "language": "python",
   "name": "python3"
  },
  "language_info": {
   "codemirror_mode": {
    "name": "ipython",
    "version": 3
   },
   "file_extension": ".py",
   "mimetype": "text/x-python",
   "name": "python",
   "nbconvert_exporter": "python",
   "pygments_lexer": "ipython3",
   "version": "3.9.12"
  }
 },
 "nbformat": 4,
 "nbformat_minor": 5
}

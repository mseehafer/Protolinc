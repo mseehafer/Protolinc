{
 "cells": [
  {
   "cell_type": "markdown",
   "id": "232904f0",
   "metadata": {},
   "source": [
    "# PYPROTOLINC Demo\n",
    "\n",
    "This notebook demonstrates how the different concepts within `pyprotolinc` can be used explaining various\n",
    "customization options."
   ]
  },
  {
   "cell_type": "code",
   "execution_count": 1,
   "id": "e38ce40f",
   "metadata": {},
   "outputs": [],
   "source": [
    "# we will need a bunch of imports for the below\n",
    "from enum import unique\n",
    "\n",
    "import numpy as np\n",
    "import pandas as pd\n",
    "\n",
    "from pyprotolinc.models.state_models import show_state_models, AbstractStateModel, state_model_by_name\n",
    "import pyprotolinc._actuarial as actuarial\n",
    "from pyprotolinc.riskfactors.risk_factors import get_risk_factor_names, Gender, SmokerStatus\n",
    "from pyprotolinc.assumptions.iohelpers import AssumptionsLoaderFromConfig\n",
    "from pyprotolinc.assumptions.providers import AssumptionType\n",
    "# from pyprotolinc.assumptions.providers import AssumptionSetWrapper"
   ]
  },
  {
   "cell_type": "markdown",
   "id": "546b4dfa",
   "metadata": {},
   "source": [
    "## 1. State Models\n",
    "As a first step a states model needs to be selected. We can choose between the built in states models or create a new one."
   ]
  },
  {
   "cell_type": "code",
   "execution_count": 2,
   "id": "156f02cf",
   "metadata": {},
   "outputs": [
    {
     "data": {
      "text/plain": [
       "{'AnnuityRunoffStates': <enum 'AnnuityRunoffStates'>,\n",
       " 'MortalityStates': <enum 'MortalityStates'>,\n",
       " 'MultiStateDisabilityStates': <enum 'MultiStateDisabilityStates'>}"
      ]
     },
     "execution_count": 2,
     "metadata": {},
     "output_type": "execute_result"
    }
   ],
   "source": [
    "state_models = show_state_models()\n",
    "state_models"
   ]
  },
  {
   "cell_type": "markdown",
   "id": "5190a9a4",
   "metadata": {},
   "source": [
    "We can look at the description of each of the built in models:"
   ]
  },
  {
   "cell_type": "code",
   "execution_count": 3,
   "id": "46bb188c",
   "metadata": {},
   "outputs": [
    {
     "name": "stdout",
     "output_type": "stream",
     "text": [
      "AnnuityRunoffStates:  A state model consisting of two states:\n",
      "        - DIS1 (=0) representing the annuity phase\n",
      "        - DEATH (=1)\n",
      "    \n",
      "\n",
      "MortalityStates:  A state model with four states that can be used to model simple mortality term/perm products.\n",
      "        - ACTIVE = 0\n",
      "        - DEATH = 1\n",
      "        - LAPSED = 2\n",
      "        - MATURED = 3\n",
      "    \n",
      "\n",
      "MultiStateDisabilityStates:  A state model for a disabiility product with two disabled states. \n",
      "        - ACTIVE = 0\n",
      "        - DIS1 = 1\n",
      "        - DIS2 = 2\n",
      "        - DEATH = 3\n",
      "        - LAPSED = 4\n",
      "    \n",
      "\n"
     ]
    }
   ],
   "source": [
    "for state_model_name, state_model_class in state_models.items():\n",
    "    print(state_model_class.describe())\n",
    "    print()"
   ]
  },
  {
   "cell_type": "markdown",
   "id": "b8bb6a9a",
   "metadata": {},
   "source": [
    "We can now decide for one of the built-in models or create a custom model."
   ]
  },
  {
   "cell_type": "code",
   "execution_count": 4,
   "id": "f5af88fe",
   "metadata": {},
   "outputs": [
    {
     "data": {
      "text/plain": [
       "{'AnnuityRunoffStates': <enum 'AnnuityRunoffStates'>,\n",
       " 'MortalityStates': <enum 'MortalityStates'>,\n",
       " 'MultiStateDisabilityStates': <enum 'MultiStateDisabilityStates'>,\n",
       " 'DeferredAnnuityStates': <enum 'DeferredAnnuityStates'>}"
      ]
     },
     "execution_count": 4,
     "metadata": {},
     "output_type": "execute_result"
    }
   ],
   "source": [
    "# decide for an existing one\n",
    "# selected_state_model = state_model_by_name('MortalityStates')\n",
    "\n",
    "# or create a new one by inheriting from AbstractStateModel\n",
    "@unique\n",
    "class DeferredAnnuityStates(AbstractStateModel):\n",
    "    \"\"\" A state model for a deferred annuities. \n",
    "        - ACTIVE = 0\n",
    "        - ANNUITANT = 1\n",
    "        - LAPSED = 2\n",
    "        - DEAD = 3\n",
    "    \"\"\"\n",
    "    ACTIVE = 0\n",
    "    ANNUITANT = 1  # 6\n",
    "    LAPSED = 2\n",
    "    DEAD = 3\n",
    "\n",
    "# the new state model is now registered in pyprotolinc\n",
    "show_state_models()"
   ]
  },
  {
   "cell_type": "code",
   "execution_count": 5,
   "id": "0241ebf1",
   "metadata": {},
   "outputs": [
    {
     "name": "stdout",
     "output_type": "stream",
     "text": [
      "DeferredAnnuityStates.ACTIVE\n",
      "DeferredAnnuityStates.ANNUITANT\n",
      "DeferredAnnuityStates.LAPSED\n",
      "DeferredAnnuityStates.DEAD\n"
     ]
    }
   ],
   "source": [
    "selected_state_model = state_model_by_name('DeferredAnnuityStates')\n",
    "\n",
    "# print out the states\n",
    "for state in selected_state_model:\n",
    "    print(state)"
   ]
  },
  {
   "cell_type": "markdown",
   "id": "b6b8d883",
   "metadata": {},
   "source": [
    "### Mapping the States to the Standard Output Model\n",
    "The next thing we need to specify is how the state should be mapped to the standatd output model\n",
    "(if there is need for that at all)"
   ]
  },
  {
   "cell_type": "code",
   "execution_count": 6,
   "id": "7e346dac",
   "metadata": {},
   "outputs": [],
   "source": [
    "# todo"
   ]
  },
  {
   "cell_type": "markdown",
   "id": "90f634d3",
   "metadata": {},
   "source": [
    "## 2. Supplying Valuation Assumptions\n",
    "\n",
    "We need to provide assumptions for the various state transitions in the model. In `pyprotolinc` this\n",
    "is done by creating an object of type `AssumptionSet`. AssupmtionSets ar composed of `AssumptionProvides` and the the selection depends on `RiskFactors`."
   ]
  },
  {
   "cell_type": "markdown",
   "id": "c1ddeef3",
   "metadata": {},
   "source": [
    "### Risk Factors\n",
    "\n",
    "Currently `pyprotolinc`supports five risk factors."
   ]
  },
  {
   "cell_type": "code",
   "execution_count": 7,
   "id": "9dd23a72",
   "metadata": {},
   "outputs": [
    {
     "data": {
      "text/plain": [
       "{'Age': <CRiskFactors.Age: 0>,\n",
       " 'Gender': <CRiskFactors.Gender: 1>,\n",
       " 'CalendarYear': <CRiskFactors.CalendarYear: 2>,\n",
       " 'SmokerStatus': <CRiskFactors.SmokerStatus: 3>,\n",
       " 'YearsDisabledIfDisabledAtStart': <CRiskFactors.YearsDisabledIfDisabledAtStart: 4>}"
      ]
     },
     "execution_count": 7,
     "metadata": {},
     "output_type": "execute_result"
    }
   ],
   "source": [
    "from pyprotolinc.riskfactors.risk_factors import _C_RISK_FACTORS\n",
    "_C_RISK_FACTORS"
   ]
  },
  {
   "cell_type": "code",
   "execution_count": 8,
   "id": "ba8a4d83",
   "metadata": {},
   "outputs": [
    {
     "data": {
      "text/plain": [
       "[('M', 0), ('F', 1)]"
      ]
     },
     "execution_count": 8,
     "metadata": {},
     "output_type": "execute_result"
    }
   ],
   "source": [
    "# to better understand how the risk factors are encoded we can look at the values, e.g\n",
    "[(g.name, g.value) for g in Gender]"
   ]
  },
  {
   "cell_type": "code",
   "execution_count": 9,
   "id": "a06bef36",
   "metadata": {},
   "outputs": [
    {
     "data": {
      "text/plain": [
       "[('S', 0), ('N', 1), ('A', 2), ('U', 3)]"
      ]
     },
     "execution_count": 9,
     "metadata": {},
     "output_type": "execute_result"
    }
   ],
   "source": [
    "[(g.name, g.value) for g in SmokerStatus]"
   ]
  },
  {
   "cell_type": "markdown",
   "id": "81917594",
   "metadata": {},
   "source": [
    "### Building an Assumption Set"
   ]
  },
  {
   "cell_type": "code",
   "execution_count": 10,
   "id": "caa0c338",
   "metadata": {},
   "outputs": [],
   "source": [
    "# the assumption set must have the dimension of the state models\n",
    "states_dimension = len(selected_state_model)\n",
    "acs = actuarial.AssumptionSet(states_dimension);"
   ]
  },
  {
   "cell_type": "code",
   "execution_count": 11,
   "id": "aaa6c798",
   "metadata": {},
   "outputs": [
    {
     "data": {
      "text/plain": [
       "array([  32,    1, 2023,    1,   -1])"
      ]
     },
     "execution_count": 11,
     "metadata": {},
     "output_type": "execute_result"
    }
   ],
   "source": [
    "# to query the assumption set we need to provide values for each risk factor\n",
    "\n",
    "# create a dummy realization of the risk factors\n",
    "risk_factors = np.zeros(5, dtype=np.int32)\n",
    "risk_factors[0] = 32              # age\n",
    "risk_factors[1] = Gender.F        # gender\n",
    "risk_factors[2] = 2023            # CalendarYear\n",
    "risk_factors[3] = SmokerStatus.N  # SmokerStatus\n",
    "risk_factors[4] = -1              # YearsDisabledIfDisabledAtStart\n",
    "\n",
    "risk_factors"
   ]
  },
  {
   "cell_type": "code",
   "execution_count": 12,
   "id": "ca2ba415",
   "metadata": {},
   "outputs": [
    {
     "data": {
      "text/plain": [
       "array([[0., 0., 0., 0.],\n",
       "       [0., 0., 0., 0.],\n",
       "       [0., 0., 0., 0.],\n",
       "       [0., 0., 0., 0.]])"
      ]
     },
     "execution_count": 12,
     "metadata": {},
     "output_type": "execute_result"
    }
   ],
   "source": [
    "# at this stage we can already query\n",
    "acs.get_single_rateset(risk_factors).reshape((states_dimension, states_dimension))"
   ]
  },
  {
   "cell_type": "markdown",
   "id": "88536c53",
   "metadata": {},
   "source": [
    "All possible state transitions have a (independent) transition probabilities of zero."
   ]
  },
  {
   "cell_type": "markdown",
   "id": "b4e56df8",
   "metadata": {},
   "source": [
    "### Providers\n",
    "\n",
    "Assumption Providers are multidimensional lookup tables that specify the transition probabilities for a single state transition depending on the risk factors."
   ]
  },
  {
   "cell_type": "code",
   "execution_count": 13,
   "id": "886addf2",
   "metadata": {},
   "outputs": [],
   "source": [
    "# to illustrate that we specify a provider programmatically that depends on Gender and Age\n",
    "\n",
    "vals2D = np.array([\n",
    "       [0.1, 0.2, 0.3, 0.4],  # specifies Gender M and ages 0, 1, 2, 3\n",
    "       [1.1, 1.2, 1.3, 1.4]   # specifies Gender M and ages 0, 1, 2, 3\n",
    "], dtype=np.float64)\n",
    "\n",
    "offsets = np.zeros(2, dtype=np.int32)\n",
    "provider_test = actuarial.StandardRateProvider([actuarial.CRiskFactors.Gender, actuarial.CRiskFactors.Age], vals2D, offsets)"
   ]
  },
  {
   "cell_type": "code",
   "execution_count": 14,
   "id": "182c1eca",
   "metadata": {},
   "outputs": [
    {
     "data": {
      "text/plain": [
       "1.3"
      ]
     },
     "execution_count": 14,
     "metadata": {},
     "output_type": "execute_result"
    }
   ],
   "source": [
    "# we can query the provider for gender F and age 2\n",
    "provider_test.get_rate((Gender.F, 2))"
   ]
  },
  {
   "cell_type": "code",
   "execution_count": 15,
   "id": "fbc5c572",
   "metadata": {},
   "outputs": [
    {
     "data": {
      "text/plain": [
       "array([[0.   , 0.001, 0.002, 0.003, 0.004, 0.005, 0.006, 0.007, 0.008,\n",
       "        0.009, 0.01 , 0.011, 0.012, 0.013, 0.014, 0.015, 0.016, 0.017,\n",
       "        0.018, 0.019, 0.02 , 0.021, 0.022, 0.023, 0.024, 0.025, 0.026,\n",
       "        0.027, 0.028, 0.029, 0.03 , 0.031, 0.032, 0.033, 0.034, 0.035,\n",
       "        0.036, 0.037, 0.038, 0.039, 0.04 , 0.041, 0.042, 0.043, 0.044,\n",
       "        0.045, 0.046, 0.047, 0.048, 0.049, 0.05 , 0.051, 0.052, 0.053,\n",
       "        0.054, 0.055, 0.056, 0.057, 0.058, 0.059, 0.06 , 0.061, 0.062,\n",
       "        0.063, 0.064, 0.065, 0.066, 0.067, 0.068, 0.069, 0.07 , 0.071,\n",
       "        0.072, 0.073, 0.074, 0.075, 0.076, 0.077, 0.078, 0.079, 0.08 ,\n",
       "        0.081, 0.082, 0.083, 0.084, 0.085, 0.086, 0.087, 0.088, 0.089,\n",
       "        0.09 , 0.091, 0.092, 0.093, 0.094, 0.095, 0.096, 0.097, 0.098,\n",
       "        0.099, 0.1  , 0.101, 0.102, 0.103, 0.104, 0.105, 0.106, 0.107,\n",
       "        0.108, 0.109, 0.11 , 0.111, 0.112, 0.113, 0.114, 0.115, 0.116,\n",
       "        0.117, 0.118, 0.119],\n",
       "       [0.12 , 0.121, 0.122, 0.123, 0.124, 0.125, 0.126, 0.127, 0.128,\n",
       "        0.129, 0.13 , 0.131, 0.132, 0.133, 0.134, 0.135, 0.136, 0.137,\n",
       "        0.138, 0.139, 0.14 , 0.141, 0.142, 0.143, 0.144, 0.145, 0.146,\n",
       "        0.147, 0.148, 0.149, 0.15 , 0.151, 0.152, 0.153, 0.154, 0.155,\n",
       "        0.156, 0.157, 0.158, 0.159, 0.16 , 0.161, 0.162, 0.163, 0.164,\n",
       "        0.165, 0.166, 0.167, 0.168, 0.169, 0.17 , 0.171, 0.172, 0.173,\n",
       "        0.174, 0.175, 0.176, 0.177, 0.178, 0.179, 0.18 , 0.181, 0.182,\n",
       "        0.183, 0.184, 0.185, 0.186, 0.187, 0.188, 0.189, 0.19 , 0.191,\n",
       "        0.192, 0.193, 0.194, 0.195, 0.196, 0.197, 0.198, 0.199, 0.2  ,\n",
       "        0.201, 0.202, 0.203, 0.204, 0.205, 0.206, 0.207, 0.208, 0.209,\n",
       "        0.21 , 0.211, 0.212, 0.213, 0.214, 0.215, 0.216, 0.217, 0.218,\n",
       "        0.219, 0.22 , 0.221, 0.222, 0.223, 0.224, 0.225, 0.226, 0.227,\n",
       "        0.228, 0.229, 0.23 , 0.231, 0.232, 0.233, 0.234, 0.235, 0.236,\n",
       "        0.237, 0.238, 0.239]])"
      ]
     },
     "execution_count": 15,
     "metadata": {},
     "output_type": "execute_result"
    }
   ],
   "source": [
    "# we create a dummy provider programmatically for all ages\n",
    "vals2d_long = (np.arange(120 * 2)).reshape((2, 120)) / 1000.0\n",
    "vals2d_long"
   ]
  },
  {
   "cell_type": "code",
   "execution_count": 16,
   "id": "3738d6bd",
   "metadata": {},
   "outputs": [
    {
     "data": {
      "text/plain": [
       "0.129"
      ]
     },
     "execution_count": 16,
     "metadata": {},
     "output_type": "execute_result"
    }
   ],
   "source": [
    "provider = actuarial.StandardRateProvider([actuarial.CRiskFactors.Gender, actuarial.CRiskFactors.Age], vals2d_long, offsets)\n",
    "provider.get_rate([Gender.F, 9])"
   ]
  },
  {
   "cell_type": "code",
   "execution_count": 17,
   "id": "04ab76af",
   "metadata": {},
   "outputs": [],
   "source": [
    "# now we can add this provider to the assumption set for the state-transition 1 -> 0\n",
    "acs.add_provider_std(1, 0, provider)"
   ]
  },
  {
   "cell_type": "markdown",
   "id": "5515c1c1",
   "metadata": {},
   "source": [
    "Now that we have added a provider we can query the assumption set again:"
   ]
  },
  {
   "cell_type": "code",
   "execution_count": 18,
   "id": "a859a2c4",
   "metadata": {},
   "outputs": [
    {
     "data": {
      "text/plain": [
       "array([[0.   , 0.   , 0.   , 0.   ],\n",
       "       [0.152, 0.   , 0.   , 0.   ],\n",
       "       [0.   , 0.   , 0.   , 0.   ],\n",
       "       [0.   , 0.   , 0.   , 0.   ]])"
      ]
     },
     "execution_count": 18,
     "metadata": {},
     "output_type": "execute_result"
    }
   ],
   "source": [
    "# query for the rates associated with the risk factors specified above\n",
    "acs.get_single_rateset(risk_factors).reshape((states_dimension, states_dimension))"
   ]
  },
  {
   "cell_type": "markdown",
   "id": "70d3ceb2",
   "metadata": {},
   "source": [
    "The number (!=0) we see is in the second row (corresponding with STATE#1) and gives us the\n",
    "probability to transition to STATE#0 (first column)."
   ]
  },
  {
   "cell_type": "markdown",
   "id": "0f99749a",
   "metadata": {},
   "source": [
    "### Building AssumptionSets from Files\n",
    "\n",
    "Instead manually bootstrapping the required object there is a more convenient way for simpler cases to **create \n",
    "assumptions sets from configruration files and spreadsheets**."
   ]
  },
  {
   "cell_type": "code",
   "execution_count": 19,
   "id": "66ad6422",
   "metadata": {},
   "outputs": [
    {
     "data": {
      "text/plain": [
       "{'be': [[0,\n",
       "   3,\n",
       "   ['FileTable', 'base_assumptions_annuity.xlsx', 'MORTALITY (0->3)']],\n",
       "  [0, 2, ['FileTable', 'base_assumptions_annuity.xlsx', 'LAPSE (0->2)']],\n",
       "  [1, 3, ['FileTable', 'base_assumptions_annuity.xlsx', 'DIS_DEATH (1->3)']]],\n",
       " 'res': [[0,\n",
       "   3,\n",
       "   ['FileTable', 'base_assumptions_annuity.xlsx', 'MORTALITY (0->3)']],\n",
       "  [0, 2, ['FileTable', 'base_assumptions_annuity.xlsx', 'LAPSE (0->2)']],\n",
       "  [1, 3, ['FileTable', 'base_assumptions_annuity.xlsx', 'DIS_DEATH (1->3)']]]}"
      ]
     },
     "execution_count": 19,
     "metadata": {},
     "output_type": "execute_result"
    }
   ],
   "source": [
    "assumption_config_loader = AssumptionsLoaderFromConfig(r\"..\\di_assumptions.yml\", states_dimension)\n",
    "assumption_config_loader.assumptions_spec"
   ]
  },
  {
   "cell_type": "code",
   "execution_count": 20,
   "id": "3e524066",
   "metadata": {},
   "outputs": [],
   "source": [
    "assumption_set_wrapper = assumption_config_loader.load()"
   ]
  },
  {
   "cell_type": "code",
   "execution_count": 21,
   "id": "23feb3ef",
   "metadata": {},
   "outputs": [],
   "source": [
    "# some possible checks\n",
    "# assumption_set_wrapper.be_transitions\n",
    "# assumption_set_wrapper.be_transitions[0][2].get_values()\n",
    "# assumption_set_wrapper.build_rates_provides_matrix(AssumptionType.BE)"
   ]
  },
  {
   "cell_type": "code",
   "execution_count": 22,
   "id": "bea9d3d8",
   "metadata": {},
   "outputs": [
    {
     "data": {
      "text/plain": [
       "array([[0.      , 0.      , 0.049   , 0.000725],\n",
       "       [0.      , 0.      , 0.      , 0.06    ],\n",
       "       [0.      , 0.      , 0.      , 0.      ],\n",
       "       [0.      , 0.      , 0.      , 0.      ]])"
      ]
     },
     "execution_count": 22,
     "metadata": {},
     "output_type": "execute_result"
    }
   ],
   "source": [
    "# now we construct an assumption set from the wrapper and query again:\n",
    "acs2 = assumption_set_wrapper.build_assumption_set(AssumptionType.BE)\n",
    "acs2.get_single_rateset(risk_factors).reshape((states_dimension, states_dimension))"
   ]
  },
  {
   "cell_type": "code",
   "execution_count": 23,
   "id": "0f9deeab",
   "metadata": {},
   "outputs": [],
   "source": [
    "# risk_factors"
   ]
  },
  {
   "cell_type": "markdown",
   "id": "f5ea0b54",
   "metadata": {},
   "source": [
    "## 3. Record Data\n",
    "\n",
    "The next input we need is the portfolio data, i.e. file containing seriatim records. The most convenient way is to import a portfolio from an Excel file using a ``pyprotolinc.portfolio.PortfolioLoader`` object."
   ]
  },
  {
   "cell_type": "code",
   "execution_count": 24,
   "id": "86def0ad",
   "metadata": {},
   "outputs": [],
   "source": [
    "import pyprotolinc.portfolio as ptf\n",
    "\n",
    "portfolio_path = \"../portfolio_small3.xlsx\"\n",
    "ptf_loader = ptf.PortfolioLoader(portfolio_path)"
   ]
  },
  {
   "cell_type": "markdown",
   "id": "9ae32b5a",
   "metadata": {},
   "source": [
    "Portfolio files have to look like this (where the order of the columns does not matter):"
   ]
  },
  {
   "cell_type": "code",
   "execution_count": 25,
   "id": "ef6c5d49",
   "metadata": {
    "scrolled": true
   },
   "outputs": [
    {
     "data": {
      "text/html": [
       "<div>\n",
       "<style scoped>\n",
       "    .dataframe tbody tr th:only-of-type {\n",
       "        vertical-align: middle;\n",
       "    }\n",
       "\n",
       "    .dataframe tbody tr th {\n",
       "        vertical-align: top;\n",
       "    }\n",
       "\n",
       "    .dataframe thead th {\n",
       "        text-align: right;\n",
       "    }\n",
       "</style>\n",
       "<table border=\"1\" class=\"dataframe\">\n",
       "  <thead>\n",
       "    <tr style=\"text-align: right;\">\n",
       "      <th></th>\n",
       "      <th>DATE_PORTFOLIO</th>\n",
       "      <th>ID</th>\n",
       "      <th>DATE_OF_BIRTH</th>\n",
       "      <th>DATE_START_OF_COVER</th>\n",
       "      <th>SUM_INSURED</th>\n",
       "      <th>CURRENT_STATUS</th>\n",
       "      <th>SEX</th>\n",
       "      <th>PRODUCT</th>\n",
       "      <th>PRODUCT_PARAMETERS</th>\n",
       "      <th>SMOKERSTATUS</th>\n",
       "      <th>RESERVING_RATE</th>\n",
       "      <th>DATE_OF_DISABLEMENT</th>\n",
       "    </tr>\n",
       "  </thead>\n",
       "  <tbody>\n",
       "    <tr>\n",
       "      <th>0</th>\n",
       "      <td>2021-12-31</td>\n",
       "      <td>1</td>\n",
       "      <td>1976-04-23</td>\n",
       "      <td>2022-01-01</td>\n",
       "      <td>1000</td>\n",
       "      <td>ACTIVE</td>\n",
       "      <td>m</td>\n",
       "      <td>DeferredAnnuity</td>\n",
       "      <td>NaN</td>\n",
       "      <td>U</td>\n",
       "      <td>0</td>\n",
       "      <td>NaN</td>\n",
       "    </tr>\n",
       "    <tr>\n",
       "      <th>1</th>\n",
       "      <td>2021-12-31</td>\n",
       "      <td>2</td>\n",
       "      <td>1969-03-03</td>\n",
       "      <td>2022-01-01</td>\n",
       "      <td>100</td>\n",
       "      <td>ACTIVE</td>\n",
       "      <td>f</td>\n",
       "      <td>DeferredAnnuity</td>\n",
       "      <td>NaN</td>\n",
       "      <td>U</td>\n",
       "      <td>0</td>\n",
       "      <td>NaN</td>\n",
       "    </tr>\n",
       "    <tr>\n",
       "      <th>2</th>\n",
       "      <td>2021-12-31</td>\n",
       "      <td>3</td>\n",
       "      <td>1970-09-13</td>\n",
       "      <td>2022-01-01</td>\n",
       "      <td>5000</td>\n",
       "      <td>ANNUITANT</td>\n",
       "      <td>f</td>\n",
       "      <td>DeferredAnnuity</td>\n",
       "      <td>NaN</td>\n",
       "      <td>U</td>\n",
       "      <td>0</td>\n",
       "      <td>NaN</td>\n",
       "    </tr>\n",
       "  </tbody>\n",
       "</table>\n",
       "</div>"
      ],
      "text/plain": [
       "  DATE_PORTFOLIO  ID DATE_OF_BIRTH DATE_START_OF_COVER  SUM_INSURED  \\\n",
       "0     2021-12-31   1    1976-04-23          2022-01-01         1000   \n",
       "1     2021-12-31   2    1969-03-03          2022-01-01          100   \n",
       "2     2021-12-31   3    1970-09-13          2022-01-01         5000   \n",
       "\n",
       "  CURRENT_STATUS SEX          PRODUCT  PRODUCT_PARAMETERS SMOKERSTATUS  \\\n",
       "0         ACTIVE   m  DeferredAnnuity                 NaN            U   \n",
       "1         ACTIVE   f  DeferredAnnuity                 NaN            U   \n",
       "2      ANNUITANT   f  DeferredAnnuity                 NaN            U   \n",
       "\n",
       "   RESERVING_RATE  DATE_OF_DISABLEMENT  \n",
       "0               0                  NaN  \n",
       "1               0                  NaN  \n",
       "2               0                  NaN  "
      ]
     },
     "execution_count": 25,
     "metadata": {},
     "output_type": "execute_result"
    }
   ],
   "source": [
    "df_portfolio = pd.read_excel(portfolio_path)\n",
    "df_portfolio"
   ]
  },
  {
   "cell_type": "markdown",
   "id": "1d4c2d8c",
   "metadata": {},
   "source": [
    "The columns have the obvious meanings:\n",
    "\n",
    "* DATE_PORTFOLIO the date at which the snapshot is valid, must be equal for all records.\n",
    "* ID a unique indentifier\n",
    "* DATE_OF_BIRTH\n",
    "* DATE_START_OF_COVER\n",
    "* SUM_INSURED sum insured (or yearly annuity amount)\n",
    "* CURRENT_STATUS corresponds with the state in the state model the record is in at DATE_PORTFOLIO\n",
    "* SEX gender (m/f)\n",
    "* PRODUCT is a string that references a product\n",
    "* PRODUCT_PARAMETERS additional product parameters\n",
    "* SMOKERSTATUS\n",
    "* RESERVING_RATE the interest rate that should be used for the reserve calculations\n",
    "* DATE_OF_DISABLEMENT\n",
    "    \n",
    "When importing using the `loader` certain validations will be performed on the fly and to be able to validate the the status a corresponding state model class must be passed in to load the portfolio:"
   ]
  },
  {
   "cell_type": "code",
   "execution_count": 26,
   "id": "72b8b7c2",
   "metadata": {},
   "outputs": [
    {
     "data": {
      "text/plain": [
       "<Portfolio with 3 records and state model <enum 'DeferredAnnuityStates'>"
      ]
     },
     "execution_count": 26,
     "metadata": {},
     "output_type": "execute_result"
    }
   ],
   "source": [
    "# load the portfolio object\n",
    "portfolio = ptf_loader.load(selected_state_model)\n",
    "portfolio"
   ]
  },
  {
   "cell_type": "markdown",
   "id": "a1a28073",
   "metadata": {},
   "source": [
    "Moreover, to save some time a cacheing of the portfolios is implemented when instatiating with a second path::\n",
    " \n",
    "    ptf.PortfolioLoader(portfolio_path, cache_path)\n",
    "\n",
    "Then pickled versions of the portfolios read will be stored under the path and searching for portfolios to load will be done there first."
   ]
  },
  {
   "cell_type": "markdown",
   "id": "299746ca",
   "metadata": {},
   "source": [
    "### 4. Products\n",
    "\n",
    "The final ingredient needed in the definition of the life insurance product. As already seen the product is specified\n",
    "on the policy level in the portfolio file as a string."
   ]
  },
  {
   "cell_type": "code",
   "execution_count": 27,
   "id": "a7e6e262",
   "metadata": {},
   "outputs": [],
   "source": [
    "##################\n",
    "# TODO\n"
   ]
  },
  {
   "cell_type": "markdown",
   "id": "669f1d6a",
   "metadata": {},
   "source": [
    "### 5. Main Configuration Object\n",
    "\n",
    "To start a run we have to combine all the relevant information in a single configuration object."
   ]
  },
  {
   "cell_type": "code",
   "execution_count": 28,
   "id": "1f93822e",
   "metadata": {},
   "outputs": [
    {
     "data": {
      "text/plain": [
       "<module 'pyprotolinc' from 'D:\\\\programming\\\\pyprotolinc\\\\src\\\\pyprotolinc\\\\__init__.py'>"
      ]
     },
     "execution_count": 28,
     "metadata": {},
     "output_type": "execute_result"
    }
   ],
   "source": [
    "from importlib import reload\n",
    "\n",
    "import pyprotolinc\n",
    "reload(pyprotolinc)"
   ]
  },
  {
   "cell_type": "markdown",
   "id": "d50896eb",
   "metadata": {},
   "source": [
    "Most of the values have sensible defaults but one must be provided: the name of the state model."
   ]
  },
  {
   "cell_type": "code",
   "execution_count": 29,
   "id": "cbc21071",
   "metadata": {},
   "outputs": [],
   "source": [
    "run_cfg = pyprotolinc.RunConfig(working_directory = \".\", state_model_name=selected_state_model.__name__)"
   ]
  },
  {
   "cell_type": "markdown",
   "id": "3bb12313",
   "metadata": {},
   "source": [
    "The object's ``__init__`` method has the following signature:\n",
    "    \n",
    "    def __init__(self,\n",
    "                 state_model_name: str,\n",
    "                 working_directory: Path = \".\",\n",
    "                 model_name: str = \"GenericMultiState\",\n",
    "                 years_to_simulate: int = 120,\n",
    "                 steps_per_month: int = 1,\n",
    "                 portfolio_path: Optional[str] = None,\n",
    "                 assumptions_path: Optional[str] = None,\n",
    "                 outfile: str = \"ncf_out_generic.csv\",\n",
    "                 portfolio_cache: Optional[str] = None,\n",
    "                 profile_out_dir: Optional[str] = None,\n",
    "                 portfolio_chunk_size: int = 20000,\n",
    "                 use_multicore: bool = False,\n",
    "                 kernel_engine: str = \"PY\",\n",
    "                 max_age: int = 120\n",
    "                 ) -> None:"
   ]
  },
  {
   "cell_type": "markdown",
   "id": "f85a7a86",
   "metadata": {},
   "source": [
    "It is also possible and often more convenient to load a configuration object from a file."
   ]
  },
  {
   "cell_type": "code",
   "execution_count": 30,
   "id": "3f86dd23",
   "metadata": {},
   "outputs": [],
   "source": [
    "run_cfg2 = pyprotolinc.get_config_from_file(\"../config.yml\")"
   ]
  },
  {
   "cell_type": "markdown",
   "id": "772f14f2",
   "metadata": {},
   "source": [
    "### 6. Starting a Run\n",
    "\n",
    "Runs can be triggered by two methods in the module ``pyprotolinc.main``: either ``project_cashflows`` or ``project_cashflows_cli``.\n",
    "\n",
    "If using the latter all data must be delivered via the config file path or object. The former allows\n",
    "to inject programmatic objects."
   ]
  },
  {
   "cell_type": "code",
   "execution_count": 31,
   "id": "b8263aa6",
   "metadata": {},
   "outputs": [],
   "source": [
    "from pyprotolinc.main import project_cashflows"
   ]
  },
  {
   "cell_type": "code",
   "execution_count": 33,
   "id": "3017c9ee",
   "metadata": {},
   "outputs": [
    {
     "name": "stderr",
     "output_type": "stream",
     "text": [
      "INFO - 2023-03-24 17:35:50,796 - pyprotolinc.main - Multistate run with config: {'working_directory': '.', 'model_name': 'GenericMultiState', 'years_to_simulate': 119, 'portfolio_path': None, 'assumptions_path': None, 'steps_per_month': 1, 'state_model_name': 'DeferredAnnuityStates', 'timestep_duration': 0.08333333333333333, 'outfile': 'ncf_out_generic.csv', 'portfolio_cache': None, 'profile_out_dir': None, 'portfolio_chunk_size': 20000, 'use_multicore': False, 'kernel_engine': 'PY', 'max_age': 119}\n",
      "DEBUG - 2023-03-24 17:35:50,798 - pyprotolinc.portfolio - Initializing portfolio from dataframe\n",
      "DEBUG - 2023-03-24 17:35:50,810 - pyprotolinc.portfolio - Splitting portfolio for product DEFERREDANNUITY.\n",
      "DEBUG - 2023-03-24 17:35:50,813 - pyprotolinc.portfolio - Initializing portfolio from dataframe\n",
      "DEBUG - 2023-03-24 17:35:50,826 - pyprotolinc.portfolio - Initializing portfolio from dataframe\n",
      "DEBUG - 2023-03-24 17:35:50,836 - pyprotolinc.portfolio - Initializing portfolio from dataframe\n",
      "INFO - 2023-03-24 17:35:50,845 - pyprotolinc.main - Executions in single process for 3 units\n"
     ]
    },
    {
     "ename": "KeyError",
     "evalue": "'DEFERREDANNUITY'",
     "output_type": "error",
     "traceback": [
      "\u001b[1;31m---------------------------------------------------------------------------\u001b[0m",
      "\u001b[1;31mKeyError\u001b[0m                                  Traceback (most recent call last)",
      "Input \u001b[1;32mIn [33]\u001b[0m, in \u001b[0;36m<cell line: 1>\u001b[1;34m()\u001b[0m\n\u001b[1;32m----> 1\u001b[0m \u001b[43mproject_cashflows\u001b[49m\u001b[43m(\u001b[49m\u001b[43mrun_cfg\u001b[49m\u001b[43m,\u001b[49m\u001b[43m \u001b[49m\u001b[43mdf_portfolio\u001b[49m\u001b[43m,\u001b[49m\u001b[43m \u001b[49m\u001b[43massumption_set_wrapper\u001b[49m\u001b[43m,\u001b[49m\u001b[43m \u001b[49m\u001b[43mexport_to_file\u001b[49m\u001b[38;5;241;43m=\u001b[39;49m\u001b[38;5;28;43;01mFalse\u001b[39;49;00m\u001b[43m)\u001b[49m\n",
      "File \u001b[1;32mD:\\programming\\pyprotolinc\\src\\pyprotolinc\\main.py:134\u001b[0m, in \u001b[0;36mproject_cashflows\u001b[1;34m(run_config, df_portfolio_overwrite, assumption_wrapper, export_to_file)\u001b[0m\n\u001b[0;32m    131\u001b[0m logger\u001b[38;5;241m.\u001b[39minfo(\u001b[38;5;124m\"\u001b[39m\u001b[38;5;124mExecutions in single process for \u001b[39m\u001b[38;5;132;01m%s\u001b[39;00m\u001b[38;5;124m units\u001b[39m\u001b[38;5;124m\"\u001b[39m, \u001b[38;5;28mlen\u001b[39m(subportfolios))\n\u001b[0;32m    132\u001b[0m \u001b[38;5;28;01mfor\u001b[39;00m sp_ind, sub_ptf \u001b[38;5;129;01min\u001b[39;00m \u001b[38;5;28menumerate\u001b[39m(subportfolios):\n\u001b[1;32m--> 134\u001b[0m     projector_results \u001b[38;5;241m=\u001b[39m \u001b[43m_project_subportfolio\u001b[49m\u001b[43m(\u001b[49m\u001b[43mrun_config\u001b[49m\u001b[43m,\u001b[49m\u001b[43m \u001b[49m\u001b[43mmodel\u001b[49m\u001b[43m,\u001b[49m\u001b[43m \u001b[49m\u001b[43mnum_timesteps\u001b[49m\u001b[43m,\u001b[49m\u001b[43m \u001b[49m\u001b[43msub_ptf\u001b[49m\u001b[43m,\u001b[49m\u001b[43m \u001b[49m\u001b[43mrows_for_state_recorder\u001b[49m\u001b[43m,\u001b[49m\u001b[43m \u001b[49m\u001b[43msp_ind\u001b[49m\u001b[43m \u001b[49m\u001b[38;5;241;43m+\u001b[39;49m\u001b[43m \u001b[49m\u001b[38;5;241;43m1\u001b[39;49m\u001b[43m,\u001b[49m\u001b[43m \u001b[49m\u001b[38;5;28;43mlen\u001b[39;49m\u001b[43m(\u001b[49m\u001b[43msubportfolios\u001b[49m\u001b[43m)\u001b[49m\u001b[43m)\u001b[49m\n\u001b[0;32m    135\u001b[0m     results_arrays\u001b[38;5;241m.\u001b[39mappend(projector_results)\n\u001b[0;32m    137\u001b[0m     gc\u001b[38;5;241m.\u001b[39mcollect()\n",
      "File \u001b[1;32mD:\\programming\\pyprotolinc\\src\\pyprotolinc\\main.py:163\u001b[0m, in \u001b[0;36m_project_subportfolio\u001b[1;34m(run_config, model, num_timesteps, portfolio, rows_for_state_recorder, chunk_index, num_chunks)\u001b[0m\n\u001b[0;32m    161\u001b[0m \u001b[38;5;28;01massert\u001b[39;00m portfolio\u001b[38;5;241m.\u001b[39mhomogenous_wrt_product, \u001b[38;5;124m\"\u001b[39m\u001b[38;5;124mSubportfolio should have identical product in all rows\u001b[39m\u001b[38;5;124m\"\u001b[39m\n\u001b[0;32m    162\u001b[0m product_name \u001b[38;5;241m=\u001b[39m portfolio\u001b[38;5;241m.\u001b[39mproducts\u001b[38;5;241m.\u001b[39miloc[\u001b[38;5;241m0\u001b[39m]\n\u001b[1;32m--> 163\u001b[0m product_class \u001b[38;5;241m=\u001b[39m \u001b[43mproduct_class_lookup\u001b[49m\u001b[43m(\u001b[49m\u001b[43mproduct_name\u001b[49m\u001b[43m)\u001b[49m\n\u001b[0;32m    164\u001b[0m \u001b[38;5;28;01massert\u001b[39;00m model\u001b[38;5;241m.\u001b[39mstates_model \u001b[38;5;241m==\u001b[39m product_class\u001b[38;5;241m.\u001b[39mSTATES_MODEL, \u001b[38;5;124m\"\u001b[39m\u001b[38;5;124mState-Models must be consistent for the product and the run\u001b[39m\u001b[38;5;124m\"\u001b[39m\n\u001b[0;32m    165\u001b[0m product \u001b[38;5;241m=\u001b[39m product_class(portfolio)\n",
      "File \u001b[1;32mD:\\programming\\pyprotolinc\\src\\pyprotolinc\\product.py:287\u001b[0m, in \u001b[0;36mproduct_class_lookup\u001b[1;34m(product_name)\u001b[0m\n\u001b[0;32m    286\u001b[0m \u001b[38;5;28;01mdef\u001b[39;00m \u001b[38;5;21mproduct_class_lookup\u001b[39m(product_name: \u001b[38;5;28mstr\u001b[39m):\n\u001b[1;32m--> 287\u001b[0m     \u001b[38;5;28;01mreturn\u001b[39;00m \u001b[43m_PRODUCT_NAME2CLASS\u001b[49m\u001b[43m[\u001b[49m\u001b[43mproduct_name\u001b[49m\u001b[38;5;241;43m.\u001b[39;49m\u001b[43mupper\u001b[49m\u001b[43m(\u001b[49m\u001b[43m)\u001b[49m\u001b[43m]\u001b[49m\n",
      "\u001b[1;31mKeyError\u001b[0m: 'DEFERREDANNUITY'"
     ]
    }
   ],
   "source": [
    "project_cashflows(run_cfg, df_portfolio, assumption_set_wrapper, export_to_file=False)"
   ]
  },
  {
   "cell_type": "code",
   "execution_count": null,
   "id": "b471134d",
   "metadata": {},
   "outputs": [],
   "source": []
  }
 ],
 "metadata": {
  "kernelspec": {
   "display_name": "Python 3 (ipykernel)",
   "language": "python",
   "name": "python3"
  },
  "language_info": {
   "codemirror_mode": {
    "name": "ipython",
    "version": 3
   },
   "file_extension": ".py",
   "mimetype": "text/x-python",
   "name": "python",
   "nbconvert_exporter": "python",
   "pygments_lexer": "ipython3",
   "version": "3.9.12"
  }
 },
 "nbformat": 4,
 "nbformat_minor": 5
}

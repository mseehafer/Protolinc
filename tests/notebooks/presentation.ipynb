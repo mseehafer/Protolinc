{
 "cells": [
  {
   "cell_type": "markdown",
   "id": "232904f0",
   "metadata": {},
   "source": [
    "# PYPROTOLINC Demo\n",
    "\n",
    "This notebook demonstrates how the different concepts within `pyprotolinc` can be used explaining various\n",
    "customization options."
   ]
  },
  {
   "cell_type": "code",
   "execution_count": 1,
   "id": "e38ce40f",
   "metadata": {},
   "outputs": [],
   "source": [
    "# we will need a bunch of imports for the below\n",
    "from enum import unique\n",
    "from typing import Iterable, Union\n",
    "\n",
    "import numpy as np\n",
    "import numpy.typing as npt\n",
    "import pandas as pd\n",
    "\n",
    "from pyprotolinc.utils import TimeAxis\n",
    "from pyprotolinc.models.state_models import show_state_models, AbstractStateModel, state_model_by_name, states_model\n",
    "import pyprotolinc._actuarial as actuarial\n",
    "from pyprotolinc.riskfactors.risk_factors import get_risk_factor_names, Gender, SmokerStatus\n",
    "from pyprotolinc.assumptions.iohelpers import AssumptionsLoaderFromConfig\n",
    "from pyprotolinc.assumptions.providers import AssumptionType\n",
    "from pyprotolinc.product import show_products, register, AbstractProduct\n",
    "from pyprotolinc.portfolio import Portfolio\n",
    "from pyprotolinc.results import CfNames\n",
    "from pyprotolinc.results import ProbabilityVolumeResults\n",
    "\n",
    "# from pyprotolinc.assumptions.providers import AssumptionSetWrapper"
   ]
  },
  {
   "cell_type": "markdown",
   "id": "546b4dfa",
   "metadata": {},
   "source": [
    "## 1. State Models\n",
    "As a first step a states model needs to be selected. We can choose between the built in states models or create a new one."
   ]
  },
  {
   "cell_type": "code",
   "execution_count": 2,
   "id": "156f02cf",
   "metadata": {},
   "outputs": [
    {
     "data": {
      "text/plain": [
       "{'AnnuityRunoffStates': <enum 'AnnuityRunoffStates'>,\n",
       " 'MortalityStates': <enum 'MortalityStates'>,\n",
       " 'MultiStateDisabilityStates': <enum 'MultiStateDisabilityStates'>}"
      ]
     },
     "execution_count": 2,
     "metadata": {},
     "output_type": "execute_result"
    }
   ],
   "source": [
    "state_models = show_state_models()\n",
    "state_models"
   ]
  },
  {
   "cell_type": "markdown",
   "id": "5190a9a4",
   "metadata": {},
   "source": [
    "We can look at the description of each of the built in models:"
   ]
  },
  {
   "cell_type": "code",
   "execution_count": 3,
   "id": "46bb188c",
   "metadata": {},
   "outputs": [
    {
     "name": "stdout",
     "output_type": "stream",
     "text": [
      "AnnuityRunoffStates:  A state model consisting of two states:\n",
      "        - DIS1 (=0) representing the annuity phase\n",
      "        - DEATH (=1)\n",
      "    \n",
      "\n",
      "MortalityStates:  A state model with four states that can be used to model simple mortality term/perm products.\n",
      "        - ACTIVE = 0\n",
      "        - DEATH = 1\n",
      "        - LAPSED = 2\n",
      "        - MATURED = 3\n",
      "    \n",
      "\n",
      "MultiStateDisabilityStates:  A state model for a disabiility product with two disabled states. \n",
      "        - ACTIVE = 0\n",
      "        - DIS1 = 1\n",
      "        - DIS2 = 2\n",
      "        - DEATH = 3\n",
      "        - LAPSED = 4\n",
      "    \n",
      "\n"
     ]
    }
   ],
   "source": [
    "for state_model_name, state_model_class in state_models.items():\n",
    "    print(state_model_class.describe())\n",
    "    print()"
   ]
  },
  {
   "cell_type": "markdown",
   "id": "b8bb6a9a",
   "metadata": {},
   "source": [
    "We can now decide for one of the built-in models or create a custom model."
   ]
  },
  {
   "cell_type": "code",
   "execution_count": 4,
   "id": "f5af88fe",
   "metadata": {},
   "outputs": [
    {
     "data": {
      "text/plain": [
       "{'AnnuityRunoffStates': <enum 'AnnuityRunoffStates'>,\n",
       " 'MortalityStates': <enum 'MortalityStates'>,\n",
       " 'MultiStateDisabilityStates': <enum 'MultiStateDisabilityStates'>,\n",
       " 'DeferredAnnuityStates': <enum 'DeferredAnnuityStates'>}"
      ]
     },
     "execution_count": 4,
     "metadata": {},
     "output_type": "execute_result"
    }
   ],
   "source": [
    "# decide for an existing one\n",
    "# selected_state_model = state_model_by_name('MortalityStates')\n",
    "\n",
    "# or create a new one by inheriting from AbstractStateModel\n",
    "@states_model\n",
    "@unique\n",
    "class DeferredAnnuityStates(AbstractStateModel):\n",
    "    \"\"\" A state model for a deferred annuities. \n",
    "        - ACTIVE = 0\n",
    "        - ANNUITANT = 1\n",
    "        - LAPSED = 2\n",
    "        - DEAD = 3\n",
    "    \"\"\"\n",
    "    ACTIVE = 0\n",
    "    ANNUITANT = 1  # 6\n",
    "    LAPSED = 2\n",
    "    DEAD = 3\n",
    "\n",
    "    @classmethod\n",
    "    def to_std_outputs(cls: type[\"DeferredAnnuityStates\"]) -> dict[ProbabilityVolumeResults,\n",
    "                                                                   Union[\"AbstractStateModel\",\n",
    "                                                                         tuple[\"AbstractStateModel\",\n",
    "                                                                               \"AbstractStateModel\"]]]:\n",
    "        return {\n",
    "            ProbabilityVolumeResults.VOL_ACTIVE: cls.ACTIVE,\n",
    "            ProbabilityVolumeResults.VOL_DIS1: cls.ANNUITANT,\n",
    "            ProbabilityVolumeResults.VOL_DEATH: cls.DEAD,\n",
    "            ProbabilityVolumeResults.VOL_LAPSED: cls.LAPSED,\n",
    "\n",
    "            ProbabilityVolumeResults.MV_ACTIVE_DEATH: (cls.ACTIVE, cls.DEAD),\n",
    "            ProbabilityVolumeResults.MV_ACTIVE_DIS1: (cls.ACTIVE, cls.ANNUITANT),\n",
    "            ProbabilityVolumeResults.MV_ACT_LAPSED: (cls.ACTIVE, cls.LAPSED),\n",
    "\n",
    "            ProbabilityVolumeResults.MV_DIS1_DEATH: (cls.ANNUITANT, cls.DEAD),\n",
    "        }\n",
    "\n",
    "\n",
    "# the new state model is now registered in pyprotolinc\n",
    "show_state_models()"
   ]
  },
  {
   "cell_type": "code",
   "execution_count": 5,
   "id": "0241ebf1",
   "metadata": {},
   "outputs": [
    {
     "name": "stdout",
     "output_type": "stream",
     "text": [
      "DeferredAnnuityStates.ACTIVE\n",
      "DeferredAnnuityStates.ANNUITANT\n",
      "DeferredAnnuityStates.LAPSED\n",
      "DeferredAnnuityStates.DEAD\n"
     ]
    }
   ],
   "source": [
    "selected_state_model = state_model_by_name('DeferredAnnuityStates')\n",
    "\n",
    "# print out the states\n",
    "for state in selected_state_model:\n",
    "    print(state)"
   ]
  },
  {
   "cell_type": "markdown",
   "id": "b6b8d883",
   "metadata": {},
   "source": [
    "### Mapping the States to the Standard Output Model\n",
    "The next thing we need to specify is how the state should be mapped to the standatd output model\n",
    "(if there is need for that at all)"
   ]
  },
  {
   "cell_type": "code",
   "execution_count": 6,
   "id": "7e346dac",
   "metadata": {},
   "outputs": [],
   "source": [
    "# todo"
   ]
  },
  {
   "cell_type": "markdown",
   "id": "90f634d3",
   "metadata": {},
   "source": [
    "## 2. Supplying Valuation Assumptions\n",
    "\n",
    "We need to provide assumptions for the various state transitions in the model. In `pyprotolinc` this\n",
    "is done by creating an object of type `AssumptionSet`. AssupmtionSets ar composed of `AssumptionProvides` and the the selection depends on `RiskFactors`."
   ]
  },
  {
   "cell_type": "markdown",
   "id": "c1ddeef3",
   "metadata": {},
   "source": [
    "### Risk Factors\n",
    "\n",
    "Currently `pyprotolinc`supports five risk factors."
   ]
  },
  {
   "cell_type": "code",
   "execution_count": 7,
   "id": "9dd23a72",
   "metadata": {},
   "outputs": [
    {
     "data": {
      "text/plain": [
       "{'Age': <CRiskFactors.Age: 0>,\n",
       " 'Gender': <CRiskFactors.Gender: 1>,\n",
       " 'CalendarYear': <CRiskFactors.CalendarYear: 2>,\n",
       " 'SmokerStatus': <CRiskFactors.SmokerStatus: 3>,\n",
       " 'YearsDisabledIfDisabledAtStart': <CRiskFactors.YearsDisabledIfDisabledAtStart: 4>}"
      ]
     },
     "execution_count": 7,
     "metadata": {},
     "output_type": "execute_result"
    }
   ],
   "source": [
    "from pyprotolinc.riskfactors.risk_factors import _C_RISK_FACTORS\n",
    "_C_RISK_FACTORS"
   ]
  },
  {
   "cell_type": "code",
   "execution_count": 8,
   "id": "ba8a4d83",
   "metadata": {},
   "outputs": [
    {
     "data": {
      "text/plain": [
       "[('M', 0), ('F', 1)]"
      ]
     },
     "execution_count": 8,
     "metadata": {},
     "output_type": "execute_result"
    }
   ],
   "source": [
    "# to better understand how the risk factors are encoded we can look at the values, e.g\n",
    "[(g.name, g.value) for g in Gender]"
   ]
  },
  {
   "cell_type": "code",
   "execution_count": 9,
   "id": "a06bef36",
   "metadata": {},
   "outputs": [
    {
     "data": {
      "text/plain": [
       "[('S', 0), ('N', 1), ('A', 2), ('U', 3)]"
      ]
     },
     "execution_count": 9,
     "metadata": {},
     "output_type": "execute_result"
    }
   ],
   "source": [
    "[(g.name, g.value) for g in SmokerStatus]"
   ]
  },
  {
   "cell_type": "markdown",
   "id": "81917594",
   "metadata": {},
   "source": [
    "### Building an Assumption Set"
   ]
  },
  {
   "cell_type": "code",
   "execution_count": 10,
   "id": "caa0c338",
   "metadata": {},
   "outputs": [],
   "source": [
    "# the assumption set must have the dimension of the state models\n",
    "states_dimension = len(selected_state_model)\n",
    "acs = actuarial.AssumptionSet(states_dimension);"
   ]
  },
  {
   "cell_type": "code",
   "execution_count": 11,
   "id": "aaa6c798",
   "metadata": {},
   "outputs": [
    {
     "data": {
      "text/plain": [
       "array([  32,    1, 2023,    1,   -1])"
      ]
     },
     "execution_count": 11,
     "metadata": {},
     "output_type": "execute_result"
    }
   ],
   "source": [
    "# to query the assumption set we need to provide values for each risk factor\n",
    "\n",
    "# create a dummy realization of the risk factors\n",
    "risk_factors = np.zeros(5, dtype=np.int32)\n",
    "risk_factors[0] = 32              # age\n",
    "risk_factors[1] = Gender.F        # gender\n",
    "risk_factors[2] = 2023            # CalendarYear\n",
    "risk_factors[3] = SmokerStatus.N  # SmokerStatus\n",
    "risk_factors[4] = -1              # YearsDisabledIfDisabledAtStart\n",
    "\n",
    "risk_factors"
   ]
  },
  {
   "cell_type": "code",
   "execution_count": 12,
   "id": "ca2ba415",
   "metadata": {},
   "outputs": [
    {
     "data": {
      "text/plain": [
       "array([[0., 0., 0., 0.],\n",
       "       [0., 0., 0., 0.],\n",
       "       [0., 0., 0., 0.],\n",
       "       [0., 0., 0., 0.]])"
      ]
     },
     "execution_count": 12,
     "metadata": {},
     "output_type": "execute_result"
    }
   ],
   "source": [
    "# at this stage we can already query\n",
    "acs.get_single_rateset(risk_factors).reshape((states_dimension, states_dimension))"
   ]
  },
  {
   "cell_type": "markdown",
   "id": "88536c53",
   "metadata": {},
   "source": [
    "All possible state transitions have a (independent) transition probabilities of zero."
   ]
  },
  {
   "cell_type": "markdown",
   "id": "b4e56df8",
   "metadata": {},
   "source": [
    "### Providers\n",
    "\n",
    "Assumption Providers are multidimensional lookup tables that specify the transition probabilities for a single state transition depending on the risk factors."
   ]
  },
  {
   "cell_type": "code",
   "execution_count": 13,
   "id": "886addf2",
   "metadata": {},
   "outputs": [],
   "source": [
    "# to illustrate that we specify a provider programmatically that depends on Gender and Age\n",
    "\n",
    "vals2D = np.array([\n",
    "       [0.1, 0.2, 0.3, 0.4],  # specifies Gender M and ages 0, 1, 2, 3\n",
    "       [1.1, 1.2, 1.3, 1.4]   # specifies Gender M and ages 0, 1, 2, 3\n",
    "], dtype=np.float64)\n",
    "\n",
    "offsets = np.zeros(2, dtype=np.int32)\n",
    "provider_test = actuarial.StandardRateProvider([actuarial.CRiskFactors.Gender, actuarial.CRiskFactors.Age], vals2D, offsets)"
   ]
  },
  {
   "cell_type": "code",
   "execution_count": 14,
   "id": "182c1eca",
   "metadata": {},
   "outputs": [
    {
     "data": {
      "text/plain": [
       "1.3"
      ]
     },
     "execution_count": 14,
     "metadata": {},
     "output_type": "execute_result"
    }
   ],
   "source": [
    "# we can query the provider for gender F and age 2\n",
    "provider_test.get_rate((Gender.F, 2))"
   ]
  },
  {
   "cell_type": "code",
   "execution_count": 15,
   "id": "fbc5c572",
   "metadata": {},
   "outputs": [
    {
     "data": {
      "text/plain": [
       "array([[0.   , 0.001, 0.002, 0.003, 0.004, 0.005, 0.006, 0.007, 0.008,\n",
       "        0.009, 0.01 , 0.011, 0.012, 0.013, 0.014, 0.015, 0.016, 0.017,\n",
       "        0.018, 0.019, 0.02 , 0.021, 0.022, 0.023, 0.024, 0.025, 0.026,\n",
       "        0.027, 0.028, 0.029, 0.03 , 0.031, 0.032, 0.033, 0.034, 0.035,\n",
       "        0.036, 0.037, 0.038, 0.039, 0.04 , 0.041, 0.042, 0.043, 0.044,\n",
       "        0.045, 0.046, 0.047, 0.048, 0.049, 0.05 , 0.051, 0.052, 0.053,\n",
       "        0.054, 0.055, 0.056, 0.057, 0.058, 0.059, 0.06 , 0.061, 0.062,\n",
       "        0.063, 0.064, 0.065, 0.066, 0.067, 0.068, 0.069, 0.07 , 0.071,\n",
       "        0.072, 0.073, 0.074, 0.075, 0.076, 0.077, 0.078, 0.079, 0.08 ,\n",
       "        0.081, 0.082, 0.083, 0.084, 0.085, 0.086, 0.087, 0.088, 0.089,\n",
       "        0.09 , 0.091, 0.092, 0.093, 0.094, 0.095, 0.096, 0.097, 0.098,\n",
       "        0.099, 0.1  , 0.101, 0.102, 0.103, 0.104, 0.105, 0.106, 0.107,\n",
       "        0.108, 0.109, 0.11 , 0.111, 0.112, 0.113, 0.114, 0.115, 0.116,\n",
       "        0.117, 0.118, 0.119],\n",
       "       [0.12 , 0.121, 0.122, 0.123, 0.124, 0.125, 0.126, 0.127, 0.128,\n",
       "        0.129, 0.13 , 0.131, 0.132, 0.133, 0.134, 0.135, 0.136, 0.137,\n",
       "        0.138, 0.139, 0.14 , 0.141, 0.142, 0.143, 0.144, 0.145, 0.146,\n",
       "        0.147, 0.148, 0.149, 0.15 , 0.151, 0.152, 0.153, 0.154, 0.155,\n",
       "        0.156, 0.157, 0.158, 0.159, 0.16 , 0.161, 0.162, 0.163, 0.164,\n",
       "        0.165, 0.166, 0.167, 0.168, 0.169, 0.17 , 0.171, 0.172, 0.173,\n",
       "        0.174, 0.175, 0.176, 0.177, 0.178, 0.179, 0.18 , 0.181, 0.182,\n",
       "        0.183, 0.184, 0.185, 0.186, 0.187, 0.188, 0.189, 0.19 , 0.191,\n",
       "        0.192, 0.193, 0.194, 0.195, 0.196, 0.197, 0.198, 0.199, 0.2  ,\n",
       "        0.201, 0.202, 0.203, 0.204, 0.205, 0.206, 0.207, 0.208, 0.209,\n",
       "        0.21 , 0.211, 0.212, 0.213, 0.214, 0.215, 0.216, 0.217, 0.218,\n",
       "        0.219, 0.22 , 0.221, 0.222, 0.223, 0.224, 0.225, 0.226, 0.227,\n",
       "        0.228, 0.229, 0.23 , 0.231, 0.232, 0.233, 0.234, 0.235, 0.236,\n",
       "        0.237, 0.238, 0.239]])"
      ]
     },
     "execution_count": 15,
     "metadata": {},
     "output_type": "execute_result"
    }
   ],
   "source": [
    "# we create a dummy provider programmatically for all ages\n",
    "vals2d_long = (np.arange(120 * 2)).reshape((2, 120)) / 1000.0\n",
    "vals2d_long"
   ]
  },
  {
   "cell_type": "code",
   "execution_count": 16,
   "id": "3738d6bd",
   "metadata": {},
   "outputs": [
    {
     "data": {
      "text/plain": [
       "0.129"
      ]
     },
     "execution_count": 16,
     "metadata": {},
     "output_type": "execute_result"
    }
   ],
   "source": [
    "provider = actuarial.StandardRateProvider([actuarial.CRiskFactors.Gender, actuarial.CRiskFactors.Age], vals2d_long, offsets)\n",
    "provider.get_rate([Gender.F, 9])"
   ]
  },
  {
   "cell_type": "code",
   "execution_count": 17,
   "id": "04ab76af",
   "metadata": {},
   "outputs": [],
   "source": [
    "# now we can add this provider to the assumption set for the state-transition 1 -> 0\n",
    "acs.add_provider_std(1, 0, provider)"
   ]
  },
  {
   "cell_type": "markdown",
   "id": "5515c1c1",
   "metadata": {},
   "source": [
    "Now that we have added a provider we can query the assumption set again:"
   ]
  },
  {
   "cell_type": "code",
   "execution_count": 18,
   "id": "a859a2c4",
   "metadata": {},
   "outputs": [
    {
     "data": {
      "text/plain": [
       "array([[0.   , 0.   , 0.   , 0.   ],\n",
       "       [0.152, 0.   , 0.   , 0.   ],\n",
       "       [0.   , 0.   , 0.   , 0.   ],\n",
       "       [0.   , 0.   , 0.   , 0.   ]])"
      ]
     },
     "execution_count": 18,
     "metadata": {},
     "output_type": "execute_result"
    }
   ],
   "source": [
    "# query for the rates associated with the risk factors specified above\n",
    "acs.get_single_rateset(risk_factors).reshape((states_dimension, states_dimension))"
   ]
  },
  {
   "cell_type": "markdown",
   "id": "70d3ceb2",
   "metadata": {},
   "source": [
    "The number (!=0) we see is in the second row (corresponding with STATE#1) and gives us the\n",
    "probability to transition to STATE#0 (first column)."
   ]
  },
  {
   "cell_type": "markdown",
   "id": "0f99749a",
   "metadata": {},
   "source": [
    "### Building AssumptionSets from Files\n",
    "\n",
    "Instead manually bootstrapping the required object there is a more convenient way for simpler cases to **create \n",
    "assumptions sets from configruration files and spreadsheets**."
   ]
  },
  {
   "cell_type": "code",
   "execution_count": 19,
   "id": "66ad6422",
   "metadata": {},
   "outputs": [
    {
     "data": {
      "text/plain": [
       "{'be': [[0,\n",
       "   3,\n",
       "   ['FileTable', 'base_assumptions_annuity.xlsx', 'MORTALITY (0->3)']],\n",
       "  [0, 2, ['FileTable', 'base_assumptions_annuity.xlsx', 'LAPSE (0->2)']],\n",
       "  [1, 3, ['FileTable', 'base_assumptions_annuity.xlsx', 'DIS_DEATH (1->3)']]],\n",
       " 'res': [[0,\n",
       "   3,\n",
       "   ['FileTable', 'base_assumptions_annuity.xlsx', 'MORTALITY (0->3)']],\n",
       "  [0, 2, ['FileTable', 'base_assumptions_annuity.xlsx', 'LAPSE (0->2)']],\n",
       "  [1, 3, ['FileTable', 'base_assumptions_annuity.xlsx', 'DIS_DEATH (1->3)']]]}"
      ]
     },
     "execution_count": 19,
     "metadata": {},
     "output_type": "execute_result"
    }
   ],
   "source": [
    "assumption_config_loader = AssumptionsLoaderFromConfig(r\"..\\di_assumptions.yml\", states_dimension)\n",
    "assumption_config_loader.assumptions_spec"
   ]
  },
  {
   "cell_type": "code",
   "execution_count": 20,
   "id": "3e524066",
   "metadata": {},
   "outputs": [],
   "source": [
    "assumption_set_wrapper = assumption_config_loader.load()"
   ]
  },
  {
   "cell_type": "code",
   "execution_count": 21,
   "id": "23feb3ef",
   "metadata": {},
   "outputs": [],
   "source": [
    "# some possible checks\n",
    "# assumption_set_wrapper.be_transitions\n",
    "# assumption_set_wrapper.be_transitions[0][2].get_values()\n",
    "# assumption_set_wrapper.build_rates_provides_matrix(AssumptionType.BE)"
   ]
  },
  {
   "cell_type": "code",
   "execution_count": 22,
   "id": "bea9d3d8",
   "metadata": {},
   "outputs": [
    {
     "data": {
      "text/plain": [
       "array([[0.      , 0.      , 0.049   , 0.000725],\n",
       "       [0.      , 0.      , 0.      , 0.06    ],\n",
       "       [0.      , 0.      , 0.      , 0.      ],\n",
       "       [0.      , 0.      , 0.      , 0.      ]])"
      ]
     },
     "execution_count": 22,
     "metadata": {},
     "output_type": "execute_result"
    }
   ],
   "source": [
    "# now we construct an assumption set from the wrapper and query again:\n",
    "acs2 = assumption_set_wrapper.build_assumption_set(AssumptionType.BE)\n",
    "acs2.get_single_rateset(risk_factors).reshape((states_dimension, states_dimension))"
   ]
  },
  {
   "cell_type": "code",
   "execution_count": 23,
   "id": "0f9deeab",
   "metadata": {},
   "outputs": [],
   "source": [
    "# risk_factors"
   ]
  },
  {
   "cell_type": "markdown",
   "id": "f5ea0b54",
   "metadata": {},
   "source": [
    "## 3. Record Data\n",
    "\n",
    "The next input we need is the portfolio data, i.e. file containing seriatim records. The most convenient way is to import a portfolio from an Excel file using a ``pyprotolinc.portfolio.PortfolioLoader`` object."
   ]
  },
  {
   "cell_type": "code",
   "execution_count": 24,
   "id": "86def0ad",
   "metadata": {},
   "outputs": [],
   "source": [
    "import pyprotolinc.portfolio as ptf\n",
    "\n",
    "portfolio_path = \"../portfolio_small3.xlsx\"\n",
    "ptf_loader = ptf.PortfolioLoader(portfolio_path)"
   ]
  },
  {
   "cell_type": "markdown",
   "id": "9ae32b5a",
   "metadata": {},
   "source": [
    "Portfolio files have to look like this (where the order of the columns does not matter):"
   ]
  },
  {
   "cell_type": "code",
   "execution_count": 25,
   "id": "ef6c5d49",
   "metadata": {
    "scrolled": true
   },
   "outputs": [
    {
     "data": {
      "text/html": [
       "<div>\n",
       "<style scoped>\n",
       "    .dataframe tbody tr th:only-of-type {\n",
       "        vertical-align: middle;\n",
       "    }\n",
       "\n",
       "    .dataframe tbody tr th {\n",
       "        vertical-align: top;\n",
       "    }\n",
       "\n",
       "    .dataframe thead th {\n",
       "        text-align: right;\n",
       "    }\n",
       "</style>\n",
       "<table border=\"1\" class=\"dataframe\">\n",
       "  <thead>\n",
       "    <tr style=\"text-align: right;\">\n",
       "      <th></th>\n",
       "      <th>DATE_PORTFOLIO</th>\n",
       "      <th>ID</th>\n",
       "      <th>DATE_OF_BIRTH</th>\n",
       "      <th>DATE_START_OF_COVER</th>\n",
       "      <th>SUM_INSURED</th>\n",
       "      <th>CURRENT_STATUS</th>\n",
       "      <th>SEX</th>\n",
       "      <th>PRODUCT</th>\n",
       "      <th>PRODUCT_PARAMETERS</th>\n",
       "      <th>SMOKERSTATUS</th>\n",
       "      <th>RESERVING_RATE</th>\n",
       "      <th>DATE_OF_DISABLEMENT</th>\n",
       "    </tr>\n",
       "  </thead>\n",
       "  <tbody>\n",
       "    <tr>\n",
       "      <th>0</th>\n",
       "      <td>2021-12-31</td>\n",
       "      <td>1</td>\n",
       "      <td>1976-04-23</td>\n",
       "      <td>2022-01-01</td>\n",
       "      <td>1000</td>\n",
       "      <td>ACTIVE</td>\n",
       "      <td>m</td>\n",
       "      <td>DeferredAnnuity</td>\n",
       "      <td>NaN</td>\n",
       "      <td>U</td>\n",
       "      <td>0</td>\n",
       "      <td>2022-01-31</td>\n",
       "    </tr>\n",
       "    <tr>\n",
       "      <th>1</th>\n",
       "      <td>2021-12-31</td>\n",
       "      <td>2</td>\n",
       "      <td>1969-03-03</td>\n",
       "      <td>2022-01-01</td>\n",
       "      <td>100</td>\n",
       "      <td>ACTIVE</td>\n",
       "      <td>f</td>\n",
       "      <td>DeferredAnnuity</td>\n",
       "      <td>NaN</td>\n",
       "      <td>U</td>\n",
       "      <td>0</td>\n",
       "      <td>2023-05-31</td>\n",
       "    </tr>\n",
       "    <tr>\n",
       "      <th>2</th>\n",
       "      <td>2021-12-31</td>\n",
       "      <td>3</td>\n",
       "      <td>1970-09-13</td>\n",
       "      <td>2022-01-01</td>\n",
       "      <td>5000</td>\n",
       "      <td>ANNUITANT</td>\n",
       "      <td>f</td>\n",
       "      <td>DeferredAnnuity</td>\n",
       "      <td>NaN</td>\n",
       "      <td>U</td>\n",
       "      <td>0</td>\n",
       "      <td>2005-10-06</td>\n",
       "    </tr>\n",
       "  </tbody>\n",
       "</table>\n",
       "</div>"
      ],
      "text/plain": [
       "  DATE_PORTFOLIO  ID DATE_OF_BIRTH DATE_START_OF_COVER  SUM_INSURED  \\\n",
       "0     2021-12-31   1    1976-04-23          2022-01-01         1000   \n",
       "1     2021-12-31   2    1969-03-03          2022-01-01          100   \n",
       "2     2021-12-31   3    1970-09-13          2022-01-01         5000   \n",
       "\n",
       "  CURRENT_STATUS SEX          PRODUCT  PRODUCT_PARAMETERS SMOKERSTATUS  \\\n",
       "0         ACTIVE   m  DeferredAnnuity                 NaN            U   \n",
       "1         ACTIVE   f  DeferredAnnuity                 NaN            U   \n",
       "2      ANNUITANT   f  DeferredAnnuity                 NaN            U   \n",
       "\n",
       "   RESERVING_RATE DATE_OF_DISABLEMENT  \n",
       "0               0          2022-01-31  \n",
       "1               0          2023-05-31  \n",
       "2               0          2005-10-06  "
      ]
     },
     "execution_count": 25,
     "metadata": {},
     "output_type": "execute_result"
    }
   ],
   "source": [
    "df_portfolio = pd.read_excel(portfolio_path)\n",
    "df_portfolio"
   ]
  },
  {
   "cell_type": "markdown",
   "id": "1d4c2d8c",
   "metadata": {},
   "source": [
    "The columns have the obvious meanings:\n",
    "\n",
    "* DATE_PORTFOLIO the date at which the snapshot is valid, must be equal for all records.\n",
    "* ID a unique indentifier\n",
    "* DATE_OF_BIRTH\n",
    "* DATE_START_OF_COVER\n",
    "* SUM_INSURED sum insured (or yearly annuity amount)\n",
    "* CURRENT_STATUS corresponds with the state in the state model the record is in at DATE_PORTFOLIO\n",
    "* SEX gender (m/f)\n",
    "* PRODUCT is a string that references a product\n",
    "* PRODUCT_PARAMETERS additional product parameters\n",
    "* SMOKERSTATUS\n",
    "* RESERVING_RATE the interest rate that should be used for the reserve calculations\n",
    "* DATE_OF_DISABLEMENT\n",
    "    \n",
    "When importing using the `loader` certain validations will be performed on the fly and to be able to validate the the status a corresponding state model class must be passed in to load the portfolio:"
   ]
  },
  {
   "cell_type": "code",
   "execution_count": 26,
   "id": "72b8b7c2",
   "metadata": {},
   "outputs": [
    {
     "data": {
      "text/plain": [
       "<Portfolio with 3 records and state model <enum 'DeferredAnnuityStates'>"
      ]
     },
     "execution_count": 26,
     "metadata": {},
     "output_type": "execute_result"
    }
   ],
   "source": [
    "# load the portfolio object\n",
    "portfolio = ptf_loader.load(selected_state_model)\n",
    "portfolio"
   ]
  },
  {
   "cell_type": "markdown",
   "id": "a1a28073",
   "metadata": {},
   "source": [
    "Moreover, to save some time a cacheing of the portfolios is implemented when instatiating with a second path::\n",
    " \n",
    "    ptf.PortfolioLoader(portfolio_path, cache_path)\n",
    "\n",
    "Then pickled versions of the portfolios read will be stored under the path and searching for portfolios to load will be done there first."
   ]
  },
  {
   "cell_type": "markdown",
   "id": "299746ca",
   "metadata": {},
   "source": [
    "### 4. Products\n",
    "\n",
    "The final ingredient needed is the definition of the life insurance product. As already seen the product is specified\n",
    "on the policy level in the portfolio file as a string.\n",
    "\n",
    "First let's have a look at what is there."
   ]
  },
  {
   "cell_type": "code",
   "execution_count": 27,
   "id": "a7e6e262",
   "metadata": {},
   "outputs": [
    {
     "data": {
      "text/plain": [
       "[('ANNUITYINPAYMENT',\n",
       "  pyprotolinc.product.Product_AnnuityInPayment,\n",
       "  ' Simple product that pays out the sum_insured / 12 each month. '),\n",
       " ('ANNUITYINPAYMENTYEARLYATBIRTHMONTH',\n",
       "  pyprotolinc.product.Product_AnnuityInPaymentYearlyAtBirthMonth,\n",
       "  ' Simple product that pays out the sum_insured each year at the\\n        month of birth. '),\n",
       " ('TWOSTATEDISABILITY',\n",
       "  pyprotolinc.product.Product_TwoStateDisability,\n",
       "  ' Income protection product with two disabled states. '),\n",
       " ('TERM',\n",
       "  pyprotolinc.product.Product_MortalityTerm,\n",
       "  ' Simple product that pays out on death.'),\n",
       " ('MORTALITYTERM',\n",
       "  pyprotolinc.product.Product_MortalityTerm,\n",
       "  ' Simple product that pays out on death.')]"
      ]
     },
     "execution_count": 27,
     "metadata": {},
     "output_type": "execute_result"
    }
   ],
   "source": [
    "# list the registered products\n",
    "show_products()"
   ]
  },
  {
   "cell_type": "markdown",
   "id": "bc25e92c",
   "metadata": {},
   "source": [
    "The starting point for an own product is a class like this."
   ]
  },
  {
   "cell_type": "code",
   "execution_count": 28,
   "id": "f8f945b4",
   "metadata": {},
   "outputs": [],
   "source": [
    "# @register - we will register later with a direct call\n",
    "class Product_DeferredAnnuity(AbstractProduct):\n",
    "    \"\"\" Simple product that pays out on death.\"\"\"\n",
    "\n",
    "    STATES_MODEL = DeferredAnnuityStates\n",
    "    PRODUCT_NAMES = (\"DeferredAnnuity\")\n",
    "\n",
    "    def __init__(self, portfolio: Portfolio) -> None:\n",
    "        super().__init__(portfolio)\n",
    "\n",
    "    def get_bom_payments(self, time_axis: TimeAxis) -> dict[AbstractStateModel,\n",
    "                                                            list[tuple[CfNames, npt.NDArray[np.float64]]]]:\n",
    "        \"\"\" Return the 'conditional payments', i.e. those payments that are due if an\n",
    "            insured is in the corresponding state at the given time. \"\"\"\n",
    "        return {}\n",
    "    \n",
    "    def get_state_transition_payments(self, time_axis: TimeAxis) -> dict[tuple[AbstractStateModel,\n",
    "                                                                               AbstractStateModel],\n",
    "                                                                         list[tuple[CfNames,\n",
    "                                                                                    npt.NDArray[np.float64]]]]:\n",
    "        return {}\n",
    "\n",
    "    def contractual_state_transitions(self, time_axis: TimeAxis) -> Iterable[tuple[AbstractStateModel,\n",
    "                                                                                   AbstractStateModel,\n",
    "                                                                                   npt.NDArray[np.int32]]]:\n",
    "        # for the mortality term product there is only the transition\n",
    "        # ACTIVE -> ANNUITANT\n",
    "        return []"
   ]
  },
  {
   "cell_type": "markdown",
   "id": "d16a716b",
   "metadata": {},
   "source": [
    "We construct the *Contractual State Transition* first."
   ]
  },
  {
   "cell_type": "code",
   "execution_count": 29,
   "id": "2237473d",
   "metadata": {},
   "outputs": [
    {
     "data": {
      "text/plain": [
       "(array([2021, 2022, 2022, 2022, 2022, 2022, 2022, 2022, 2022, 2022, 2022,\n",
       "        2022, 2022, 2023, 2023, 2023, 2023, 2023, 2023, 2023, 2023, 2023,\n",
       "        2023, 2023, 2023, 2024, 2024, 2024, 2024, 2024, 2024, 2024, 2024,\n",
       "        2024, 2024, 2024, 2024, 2025, 2025, 2025, 2025, 2025, 2025, 2025,\n",
       "        2025, 2025, 2025, 2025, 2025, 2026, 2026, 2026, 2026, 2026, 2026,\n",
       "        2026, 2026, 2026, 2026, 2026, 2026], dtype=int32),\n",
       " array([12,  1,  2,  3,  4,  5,  6,  7,  8,  9, 10, 11, 12,  1,  2,  3,  4,\n",
       "         5,  6,  7,  8,  9, 10, 11, 12,  1,  2,  3,  4,  5,  6,  7,  8,  9,\n",
       "        10, 11, 12,  1,  2,  3,  4,  5,  6,  7,  8,  9, 10, 11, 12,  1,  2,\n",
       "         3,  4,  5,  6,  7,  8,  9, 10, 11, 12], dtype=int32))"
      ]
     },
     "execution_count": 29,
     "metadata": {},
     "output_type": "execute_result"
    }
   ],
   "source": [
    "# to test the implementation we need a TimeAxis:\n",
    "time_axis = TimeAxis(portfolio.portfolio_date, 12 * 5)\n",
    "time_axis.years, time_axis.months"
   ]
  },
  {
   "cell_type": "code",
   "execution_count": 30,
   "id": "c9793462",
   "metadata": {},
   "outputs": [
    {
     "data": {
      "text/plain": [
       "array([   1,   17, -195], dtype=int64)"
      ]
     },
     "execution_count": 30,
     "metadata": {},
     "output_type": "execute_result"
    }
   ],
   "source": [
    "# we need to determine when the transition to the ANNUITANT state will be,\n",
    "# we can start here:\n",
    "portfolio.months_till_disablement"
   ]
  },
  {
   "cell_type": "code",
   "execution_count": 31,
   "id": "1b0a00e9",
   "metadata": {},
   "outputs": [
    {
     "data": {
      "text/plain": [
       "array([[0, 1, 0, 0, 0, 0, 0, 0, 0, 0, 0, 0, 0, 0, 0, 0, 0, 0, 0, 0, 0, 0,\n",
       "        0, 0, 0, 0, 0, 0, 0, 0, 0, 0, 0, 0, 0, 0, 0, 0, 0, 0, 0, 0, 0, 0,\n",
       "        0, 0, 0, 0, 0, 0, 0, 0, 0, 0, 0, 0, 0, 0, 0, 0, 0],\n",
       "       [0, 0, 0, 0, 0, 0, 0, 0, 0, 0, 0, 0, 0, 0, 0, 0, 0, 1, 0, 0, 0, 0,\n",
       "        0, 0, 0, 0, 0, 0, 0, 0, 0, 0, 0, 0, 0, 0, 0, 0, 0, 0, 0, 0, 0, 0,\n",
       "        0, 0, 0, 0, 0, 0, 0, 0, 0, 0, 0, 0, 0, 0, 0, 0, 0],\n",
       "       [0, 0, 0, 0, 0, 0, 0, 0, 0, 0, 0, 0, 0, 0, 0, 0, 0, 0, 0, 0, 0, 0,\n",
       "        0, 0, 0, 0, 0, 0, 0, 0, 0, 0, 0, 0, 0, 0, 0, 0, 0, 0, 0, 0, 0, 0,\n",
       "        0, 0, 0, 0, 0, 0, 0, 0, 0, 0, 0, 0, 0, 0, 0, 0, 0]])"
      ]
     },
     "execution_count": 31,
     "metadata": {},
     "output_type": "execute_result"
    }
   ],
   "source": [
    "# now we need to build an indicator matrix\n",
    "relative_months = np.arange(len(time_axis)).reshape((len(time_axis), 1))\n",
    "annuity_start_indicator = (relative_months == portfolio.months_till_disablement).astype(np.int32).transpose()\n",
    "annuity_start_indicator"
   ]
  },
  {
   "cell_type": "markdown",
   "id": "6ee4a94b",
   "metadata": {},
   "source": [
    "We can build the transitions from this.\n",
    "\n",
    "For the payments we need a premium in active state and an annuity payment while in ANNUITANT state."
   ]
  },
  {
   "cell_type": "code",
   "execution_count": 32,
   "id": "591fdef5",
   "metadata": {},
   "outputs": [
    {
     "data": {
      "text/plain": [
       "__main__.Product_DeferredAnnuity"
      ]
     },
     "execution_count": 32,
     "metadata": {},
     "output_type": "execute_result"
    }
   ],
   "source": [
    "class Product_DeferredAnnuity(AbstractProduct):\n",
    "    \"\"\" Simple product that pays out on death.\"\"\"\n",
    "\n",
    "    STATES_MODEL = DeferredAnnuityStates\n",
    "    PRODUCT_NAMES = (\"DeferredAnnuity\", )\n",
    "\n",
    "    def __init__(self, portfolio: Portfolio) -> None:\n",
    "        super().__init__(portfolio)\n",
    "        \n",
    "        self.portfolio = portfolio\n",
    " \n",
    "    def get_bom_payments(self, time_axis: TimeAxis) -> dict[AbstractStateModel,\n",
    "                                                            list[tuple[CfNames, npt.NDArray[np.float64]]]]:\n",
    "        \"\"\" Return the 'conditional payments', i.e. those payments that are due if an\n",
    "            insured is in the corresponding state at the given time. \"\"\"\n",
    "        premium = 0.2 * self.sum_insured_per_month\n",
    "        return {\n",
    "            self.STATES_MODEL.ACTIVE: [\n",
    "                (CfNames.PREMIUM, np.dot(premium, np.ones((1, len(time_axis)))))\n",
    "            ],\n",
    "            self.STATES_MODEL.ANNUITANT: [\n",
    "                (CfNames.ANNUITY_PAYMENT1, -np.dot(self.sum_insured_per_month,\n",
    "                                                   np.ones((1, len(time_axis)))))\n",
    "            ]\n",
    "        }\n",
    "    \n",
    "    def get_state_transition_payments(self, time_axis: TimeAxis) -> dict[tuple[AbstractStateModel,\n",
    "                                                                               AbstractStateModel],\n",
    "                                                                         list[tuple[CfNames,\n",
    "                                                                                    npt.NDArray[np.float64]]]]:\n",
    "        # no transitions needed\n",
    "        return {}\n",
    "\n",
    "    def contractual_state_transitions(self, time_axis: TimeAxis) -> Iterable[tuple[AbstractStateModel,\n",
    "                                                                                   AbstractStateModel,\n",
    "                                                                                   npt.NDArray[np.int32]]]:\n",
    "        # for the mortality term product there is only the transition\n",
    "        # ACTIVE -> ANNUITANT\n",
    "       \n",
    "        relative_months = np.arange(len(time_axis)).reshape((len(time_axis), 1))\n",
    "        annuity_start_indicator = (relative_months == self.portfolio.months_till_disablement).astype(np.int32).transpose()\n",
    "\n",
    "        return [\n",
    "            (self.STATES_MODEL.ACTIVE, self.STATES_MODEL.ANNUITANT, annuity_start_indicator)\n",
    "        ]\n",
    "\n",
    "# here we register the product\n",
    "register(Product_DeferredAnnuity)"
   ]
  },
  {
   "cell_type": "code",
   "execution_count": 33,
   "id": "a505dda2",
   "metadata": {},
   "outputs": [],
   "source": [
    "# assert 1 == 0"
   ]
  },
  {
   "cell_type": "markdown",
   "id": "669f1d6a",
   "metadata": {},
   "source": [
    "### 5. Main Configuration Object\n",
    "\n",
    "To start a run we have to combine all the relevant information in a single configuration object."
   ]
  },
  {
   "cell_type": "code",
   "execution_count": 34,
   "id": "1f93822e",
   "metadata": {},
   "outputs": [
    {
     "data": {
      "text/plain": [
       "<module 'pyprotolinc' from 'C:\\\\Programming\\\\python\\\\PyProtolinc\\\\src\\\\pyprotolinc\\\\__init__.py'>"
      ]
     },
     "execution_count": 34,
     "metadata": {},
     "output_type": "execute_result"
    }
   ],
   "source": [
    "from importlib import reload\n",
    "\n",
    "import pyprotolinc\n",
    "reload(pyprotolinc)"
   ]
  },
  {
   "cell_type": "markdown",
   "id": "d50896eb",
   "metadata": {},
   "source": [
    "Most of the values have sensible defaults but one must be provided: the name of the state model."
   ]
  },
  {
   "cell_type": "code",
   "execution_count": 35,
   "id": "cbc21071",
   "metadata": {},
   "outputs": [],
   "source": [
    "run_cfg = pyprotolinc.RunConfig(working_directory = \".\", state_model_name=selected_state_model.__name__)"
   ]
  },
  {
   "cell_type": "markdown",
   "id": "3bb12313",
   "metadata": {},
   "source": [
    "The object's ``__init__`` method has the following signature:\n",
    "    \n",
    "    def __init__(self,\n",
    "                 state_model_name: str,\n",
    "                 working_directory: Path = \".\",\n",
    "                 model_name: str = \"GenericMultiState\",\n",
    "                 years_to_simulate: int = 120,\n",
    "                 steps_per_month: int = 1,\n",
    "                 portfolio_path: Optional[str] = None,\n",
    "                 assumptions_path: Optional[str] = None,\n",
    "                 outfile: str = \"ncf_out_generic.csv\",\n",
    "                 portfolio_cache: Optional[str] = None,\n",
    "                 profile_out_dir: Optional[str] = None,\n",
    "                 portfolio_chunk_size: int = 20000,\n",
    "                 use_multicore: bool = False,\n",
    "                 kernel_engine: str = \"PY\",\n",
    "                 max_age: int = 120\n",
    "                 ) -> None:"
   ]
  },
  {
   "cell_type": "markdown",
   "id": "f85a7a86",
   "metadata": {},
   "source": [
    "It is also possible and often more convenient to load a configuration object from a file."
   ]
  },
  {
   "cell_type": "code",
   "execution_count": 36,
   "id": "3f86dd23",
   "metadata": {},
   "outputs": [],
   "source": [
    "run_cfg2 = pyprotolinc.get_config_from_file(\"../config.yml\")"
   ]
  },
  {
   "cell_type": "markdown",
   "id": "772f14f2",
   "metadata": {},
   "source": [
    "### 6. Starting a Run\n",
    "\n",
    "Runs can be triggered by two methods in the module ``pyprotolinc.main``: either ``project_cashflows`` or ``project_cashflows_cli``.\n",
    "\n",
    "If using the latter all data must be delivered via the config file path or object. The former allows\n",
    "to inject programmatic objects."
   ]
  },
  {
   "cell_type": "code",
   "execution_count": 37,
   "id": "b8263aa6",
   "metadata": {},
   "outputs": [],
   "source": [
    "from pyprotolinc.main import project_cashflows"
   ]
  },
  {
   "cell_type": "code",
   "execution_count": 38,
   "id": "3017c9ee",
   "metadata": {},
   "outputs": [
    {
     "name": "stderr",
     "output_type": "stream",
     "text": [
      "INFO - 2023-03-26 20:55:51,476 - pyprotolinc.main - Multistate run with config: {'working_directory': '.', 'model_name': 'GenericMultiState', 'years_to_simulate': 119, 'portfolio_path': None, 'assumptions_path': None, 'steps_per_month': 1, 'state_model_name': 'DeferredAnnuityStates', 'timestep_duration': 0.08333333333333333, 'outfile': 'ncf_out_generic.csv', 'portfolio_cache': None, 'profile_out_dir': None, 'portfolio_chunk_size': 20000, 'use_multicore': False, 'kernel_engine': 'PY', 'max_age': 119}\n",
      "DEBUG - 2023-03-26 20:55:51,476 - pyprotolinc.portfolio - Initializing portfolio from dataframe\n",
      "DEBUG - 2023-03-26 20:55:51,491 - pyprotolinc.portfolio - Splitting portfolio for product DEFERREDANNUITY.\n",
      "DEBUG - 2023-03-26 20:55:51,491 - pyprotolinc.portfolio - Initializing portfolio from dataframe\n",
      "DEBUG - 2023-03-26 20:55:51,499 - pyprotolinc.portfolio - Initializing portfolio from dataframe\n",
      "DEBUG - 2023-03-26 20:55:51,509 - pyprotolinc.portfolio - Initializing portfolio from dataframe\n",
      "INFO - 2023-03-26 20:55:51,524 - pyprotolinc.main - Executions in single process for 3 units\n",
      "INFO - 2023-03-26 20:55:51,524 - pyprotolinc.main - Projecting subportfolio 1 / 3 with Python engine\n",
      "DEBUG - 2023-03-26 20:55:51,524 - pyprotolinc.runner - Creating a <Projector> object for chunk 1 of 3\n",
      "DEBUG - 2023-03-26 20:55:51,524 - pyprotolinc.runner - Starting the simulation for chunk 1 of 3\n",
      "DEBUG - 2023-03-26 20:55:51,728 - pyprotolinc.runner - Starting backwards loop to calculate the reserves for chunk 1 of 3\n",
      "INFO - 2023-03-26 20:55:51,775 - pyprotolinc.main - Projecting subportfolio 2 / 3 with Python engine\n",
      "DEBUG - 2023-03-26 20:55:51,775 - pyprotolinc.runner - Creating a <Projector> object for chunk 2 of 3\n",
      "DEBUG - 2023-03-26 20:55:51,790 - pyprotolinc.runner - Starting the simulation for chunk 2 of 3\n",
      "DEBUG - 2023-03-26 20:55:51,979 - pyprotolinc.runner - Starting backwards loop to calculate the reserves for chunk 2 of 3\n",
      "INFO - 2023-03-26 20:55:52,026 - pyprotolinc.main - Projecting subportfolio 3 / 3 with Python engine\n",
      "DEBUG - 2023-03-26 20:55:52,041 - pyprotolinc.runner - Creating a <Projector> object for chunk 3 of 3\n",
      "DEBUG - 2023-03-26 20:55:52,041 - pyprotolinc.runner - Starting the simulation for chunk 3 of 3\n",
      "DEBUG - 2023-03-26 20:55:52,230 - pyprotolinc.runner - Starting backwards loop to calculate the reserves for chunk 3 of 3\n",
      "DEBUG - 2023-03-26 20:55:52,292 - pyprotolinc.main - Combining results from subportfolios\n",
      "INFO - 2023-03-26 20:55:52,292 - pyprotolinc.main - Elapsed time 0.8 seconds.\n"
     ]
    }
   ],
   "source": [
    "run_result = project_cashflows(run_cfg, df_portfolio, assumption_set_wrapper, export_to_file=False)"
   ]
  },
  {
   "cell_type": "code",
   "execution_count": 40,
   "id": "b471134d",
   "metadata": {},
   "outputs": [
    {
     "data": {
      "text/html": [
       "<div>\n",
       "<style scoped>\n",
       "    .dataframe tbody tr th:only-of-type {\n",
       "        vertical-align: middle;\n",
       "    }\n",
       "\n",
       "    .dataframe tbody tr th {\n",
       "        vertical-align: top;\n",
       "    }\n",
       "\n",
       "    .dataframe thead th {\n",
       "        text-align: right;\n",
       "    }\n",
       "</style>\n",
       "<table border=\"1\" class=\"dataframe\">\n",
       "  <thead>\n",
       "    <tr style=\"text-align: right;\">\n",
       "      <th></th>\n",
       "      <th>YEAR</th>\n",
       "      <th>QUARTER</th>\n",
       "      <th>MONTH</th>\n",
       "      <th>PREMIUM</th>\n",
       "      <th>ANNUITY_PAYMENT1</th>\n",
       "      <th>ANNUITY_PAYMENT2</th>\n",
       "      <th>DEATH_PAYMENT</th>\n",
       "      <th>DI_LUMPSUM_PAYMENT</th>\n",
       "      <th>RESERVE_BOM(ACTIVE)</th>\n",
       "      <th>RESERVE_BOM(ANNUITANT)</th>\n",
       "      <th>...</th>\n",
       "      <th>MV_ACTIVE_DIS1</th>\n",
       "      <th>MV_ACT_DIS2</th>\n",
       "      <th>MV_ACT_LAPSED</th>\n",
       "      <th>MV_ACT_MATURED</th>\n",
       "      <th>MV_DIS1_DEATH</th>\n",
       "      <th>MV_DIS1_DIS2</th>\n",
       "      <th>MV_DIS1_ACT</th>\n",
       "      <th>MV_DIS2_DEATH</th>\n",
       "      <th>MV_DIS2_DIS1</th>\n",
       "      <th>MV_DIS2_ACT</th>\n",
       "    </tr>\n",
       "  </thead>\n",
       "  <tbody>\n",
       "    <tr>\n",
       "      <th>0</th>\n",
       "      <td>2021</td>\n",
       "      <td>4</td>\n",
       "      <td>12</td>\n",
       "      <td>0.000000</td>\n",
       "      <td>0.000000</td>\n",
       "      <td>0.0</td>\n",
       "      <td>0.0</td>\n",
       "      <td>0.0</td>\n",
       "      <td>0.000000</td>\n",
       "      <td>0.000000</td>\n",
       "      <td>...</td>\n",
       "      <td>0.000000</td>\n",
       "      <td>0.0</td>\n",
       "      <td>0.000000</td>\n",
       "      <td>0.0</td>\n",
       "      <td>0.000000</td>\n",
       "      <td>0.0</td>\n",
       "      <td>0.0</td>\n",
       "      <td>0.0</td>\n",
       "      <td>0.0</td>\n",
       "      <td>0.0</td>\n",
       "    </tr>\n",
       "    <tr>\n",
       "      <th>1</th>\n",
       "      <td>2022</td>\n",
       "      <td>1</td>\n",
       "      <td>1</td>\n",
       "      <td>18.333333</td>\n",
       "      <td>-416.666667</td>\n",
       "      <td>0.0</td>\n",
       "      <td>0.0</td>\n",
       "      <td>0.0</td>\n",
       "      <td>21357.502667</td>\n",
       "      <td>83268.443291</td>\n",
       "      <td>...</td>\n",
       "      <td>0.995514</td>\n",
       "      <td>0.0</td>\n",
       "      <td>0.008333</td>\n",
       "      <td>0.0</td>\n",
       "      <td>0.005000</td>\n",
       "      <td>0.0</td>\n",
       "      <td>0.0</td>\n",
       "      <td>0.0</td>\n",
       "      <td>0.0</td>\n",
       "      <td>0.0</td>\n",
       "    </tr>\n",
       "    <tr>\n",
       "      <th>2</th>\n",
       "      <td>2022</td>\n",
       "      <td>1</td>\n",
       "      <td>2</td>\n",
       "      <td>1.659194</td>\n",
       "      <td>-497.542833</td>\n",
       "      <td>0.0</td>\n",
       "      <td>0.0</td>\n",
       "      <td>0.0</td>\n",
       "      <td>1517.012483</td>\n",
       "      <td>102710.600141</td>\n",
       "      <td>...</td>\n",
       "      <td>0.000000</td>\n",
       "      <td>0.0</td>\n",
       "      <td>0.004148</td>\n",
       "      <td>0.0</td>\n",
       "      <td>0.009123</td>\n",
       "      <td>0.0</td>\n",
       "      <td>0.0</td>\n",
       "      <td>0.0</td>\n",
       "      <td>0.0</td>\n",
       "      <td>0.0</td>\n",
       "    </tr>\n",
       "    <tr>\n",
       "      <th>3</th>\n",
       "      <td>2022</td>\n",
       "      <td>1</td>\n",
       "      <td>3</td>\n",
       "      <td>1.651756</td>\n",
       "      <td>-495.124252</td>\n",
       "      <td>0.0</td>\n",
       "      <td>0.0</td>\n",
       "      <td>0.0</td>\n",
       "      <td>1518.671678</td>\n",
       "      <td>102213.057308</td>\n",
       "      <td>...</td>\n",
       "      <td>0.000000</td>\n",
       "      <td>0.0</td>\n",
       "      <td>0.004129</td>\n",
       "      <td>0.0</td>\n",
       "      <td>0.009081</td>\n",
       "      <td>0.0</td>\n",
       "      <td>0.0</td>\n",
       "      <td>0.0</td>\n",
       "      <td>0.0</td>\n",
       "      <td>0.0</td>\n",
       "    </tr>\n",
       "    <tr>\n",
       "      <th>4</th>\n",
       "      <td>2022</td>\n",
       "      <td>2</td>\n",
       "      <td>4</td>\n",
       "      <td>1.644350</td>\n",
       "      <td>-492.717476</td>\n",
       "      <td>0.0</td>\n",
       "      <td>0.0</td>\n",
       "      <td>0.0</td>\n",
       "      <td>1520.323433</td>\n",
       "      <td>101717.933056</td>\n",
       "      <td>...</td>\n",
       "      <td>0.000000</td>\n",
       "      <td>0.0</td>\n",
       "      <td>0.004111</td>\n",
       "      <td>0.0</td>\n",
       "      <td>0.009039</td>\n",
       "      <td>0.0</td>\n",
       "      <td>0.0</td>\n",
       "      <td>0.0</td>\n",
       "      <td>0.0</td>\n",
       "      <td>0.0</td>\n",
       "    </tr>\n",
       "    <tr>\n",
       "      <th>...</th>\n",
       "      <td>...</td>\n",
       "      <td>...</td>\n",
       "      <td>...</td>\n",
       "      <td>...</td>\n",
       "      <td>...</td>\n",
       "      <td>...</td>\n",
       "      <td>...</td>\n",
       "      <td>...</td>\n",
       "      <td>...</td>\n",
       "      <td>...</td>\n",
       "      <td>...</td>\n",
       "      <td>...</td>\n",
       "      <td>...</td>\n",
       "      <td>...</td>\n",
       "      <td>...</td>\n",
       "      <td>...</td>\n",
       "      <td>...</td>\n",
       "      <td>...</td>\n",
       "      <td>...</td>\n",
       "      <td>...</td>\n",
       "      <td>...</td>\n",
       "    </tr>\n",
       "    <tr>\n",
       "      <th>1424</th>\n",
       "      <td>2140</td>\n",
       "      <td>3</td>\n",
       "      <td>8</td>\n",
       "      <td>0.000000</td>\n",
       "      <td>-0.558322</td>\n",
       "      <td>0.0</td>\n",
       "      <td>0.0</td>\n",
       "      <td>0.0</td>\n",
       "      <td>0.000000</td>\n",
       "      <td>2.765640</td>\n",
       "      <td>...</td>\n",
       "      <td>0.000000</td>\n",
       "      <td>0.0</td>\n",
       "      <td>0.000000</td>\n",
       "      <td>0.0</td>\n",
       "      <td>0.000019</td>\n",
       "      <td>0.0</td>\n",
       "      <td>0.0</td>\n",
       "      <td>0.0</td>\n",
       "      <td>0.0</td>\n",
       "      <td>0.0</td>\n",
       "    </tr>\n",
       "    <tr>\n",
       "      <th>1425</th>\n",
       "      <td>2140</td>\n",
       "      <td>3</td>\n",
       "      <td>9</td>\n",
       "      <td>0.000000</td>\n",
       "      <td>-0.555713</td>\n",
       "      <td>0.0</td>\n",
       "      <td>0.0</td>\n",
       "      <td>0.0</td>\n",
       "      <td>0.000000</td>\n",
       "      <td>2.207318</td>\n",
       "      <td>...</td>\n",
       "      <td>0.000000</td>\n",
       "      <td>0.0</td>\n",
       "      <td>0.000000</td>\n",
       "      <td>0.0</td>\n",
       "      <td>0.000019</td>\n",
       "      <td>0.0</td>\n",
       "      <td>0.0</td>\n",
       "      <td>0.0</td>\n",
       "      <td>0.0</td>\n",
       "      <td>0.0</td>\n",
       "    </tr>\n",
       "    <tr>\n",
       "      <th>1426</th>\n",
       "      <td>2140</td>\n",
       "      <td>4</td>\n",
       "      <td>10</td>\n",
       "      <td>0.000000</td>\n",
       "      <td>-0.553116</td>\n",
       "      <td>0.0</td>\n",
       "      <td>0.0</td>\n",
       "      <td>0.0</td>\n",
       "      <td>0.000000</td>\n",
       "      <td>1.651606</td>\n",
       "      <td>...</td>\n",
       "      <td>0.000000</td>\n",
       "      <td>0.0</td>\n",
       "      <td>0.000000</td>\n",
       "      <td>0.0</td>\n",
       "      <td>0.000019</td>\n",
       "      <td>0.0</td>\n",
       "      <td>0.0</td>\n",
       "      <td>0.0</td>\n",
       "      <td>0.0</td>\n",
       "      <td>0.0</td>\n",
       "    </tr>\n",
       "    <tr>\n",
       "      <th>1427</th>\n",
       "      <td>2140</td>\n",
       "      <td>4</td>\n",
       "      <td>11</td>\n",
       "      <td>0.000000</td>\n",
       "      <td>-0.550531</td>\n",
       "      <td>0.0</td>\n",
       "      <td>0.0</td>\n",
       "      <td>0.0</td>\n",
       "      <td>0.000000</td>\n",
       "      <td>1.098490</td>\n",
       "      <td>...</td>\n",
       "      <td>0.000000</td>\n",
       "      <td>0.0</td>\n",
       "      <td>0.000000</td>\n",
       "      <td>0.0</td>\n",
       "      <td>0.000019</td>\n",
       "      <td>0.0</td>\n",
       "      <td>0.0</td>\n",
       "      <td>0.0</td>\n",
       "      <td>0.0</td>\n",
       "      <td>0.0</td>\n",
       "    </tr>\n",
       "    <tr>\n",
       "      <th>1428</th>\n",
       "      <td>2140</td>\n",
       "      <td>4</td>\n",
       "      <td>12</td>\n",
       "      <td>0.000000</td>\n",
       "      <td>-0.547959</td>\n",
       "      <td>0.0</td>\n",
       "      <td>0.0</td>\n",
       "      <td>0.0</td>\n",
       "      <td>0.000000</td>\n",
       "      <td>0.547959</td>\n",
       "      <td>...</td>\n",
       "      <td>0.000000</td>\n",
       "      <td>0.0</td>\n",
       "      <td>0.000000</td>\n",
       "      <td>0.0</td>\n",
       "      <td>0.000019</td>\n",
       "      <td>0.0</td>\n",
       "      <td>0.0</td>\n",
       "      <td>0.0</td>\n",
       "      <td>0.0</td>\n",
       "      <td>0.0</td>\n",
       "    </tr>\n",
       "  </tbody>\n",
       "</table>\n",
       "<p>1429 rows × 29 columns</p>\n",
       "</div>"
      ],
      "text/plain": [
       "      YEAR  QUARTER  MONTH    PREMIUM  ANNUITY_PAYMENT1  ANNUITY_PAYMENT2  \\\n",
       "0     2021        4     12   0.000000          0.000000               0.0   \n",
       "1     2022        1      1  18.333333       -416.666667               0.0   \n",
       "2     2022        1      2   1.659194       -497.542833               0.0   \n",
       "3     2022        1      3   1.651756       -495.124252               0.0   \n",
       "4     2022        2      4   1.644350       -492.717476               0.0   \n",
       "...    ...      ...    ...        ...               ...               ...   \n",
       "1424  2140        3      8   0.000000         -0.558322               0.0   \n",
       "1425  2140        3      9   0.000000         -0.555713               0.0   \n",
       "1426  2140        4     10   0.000000         -0.553116               0.0   \n",
       "1427  2140        4     11   0.000000         -0.550531               0.0   \n",
       "1428  2140        4     12   0.000000         -0.547959               0.0   \n",
       "\n",
       "      DEATH_PAYMENT  DI_LUMPSUM_PAYMENT  RESERVE_BOM(ACTIVE)  \\\n",
       "0               0.0                 0.0             0.000000   \n",
       "1               0.0                 0.0         21357.502667   \n",
       "2               0.0                 0.0          1517.012483   \n",
       "3               0.0                 0.0          1518.671678   \n",
       "4               0.0                 0.0          1520.323433   \n",
       "...             ...                 ...                  ...   \n",
       "1424            0.0                 0.0             0.000000   \n",
       "1425            0.0                 0.0             0.000000   \n",
       "1426            0.0                 0.0             0.000000   \n",
       "1427            0.0                 0.0             0.000000   \n",
       "1428            0.0                 0.0             0.000000   \n",
       "\n",
       "      RESERVE_BOM(ANNUITANT)  ...  MV_ACTIVE_DIS1  MV_ACT_DIS2  MV_ACT_LAPSED  \\\n",
       "0                   0.000000  ...        0.000000          0.0       0.000000   \n",
       "1               83268.443291  ...        0.995514          0.0       0.008333   \n",
       "2              102710.600141  ...        0.000000          0.0       0.004148   \n",
       "3              102213.057308  ...        0.000000          0.0       0.004129   \n",
       "4              101717.933056  ...        0.000000          0.0       0.004111   \n",
       "...                      ...  ...             ...          ...            ...   \n",
       "1424                2.765640  ...        0.000000          0.0       0.000000   \n",
       "1425                2.207318  ...        0.000000          0.0       0.000000   \n",
       "1426                1.651606  ...        0.000000          0.0       0.000000   \n",
       "1427                1.098490  ...        0.000000          0.0       0.000000   \n",
       "1428                0.547959  ...        0.000000          0.0       0.000000   \n",
       "\n",
       "      MV_ACT_MATURED  MV_DIS1_DEATH  MV_DIS1_DIS2  MV_DIS1_ACT  MV_DIS2_DEATH  \\\n",
       "0                0.0       0.000000           0.0          0.0            0.0   \n",
       "1                0.0       0.005000           0.0          0.0            0.0   \n",
       "2                0.0       0.009123           0.0          0.0            0.0   \n",
       "3                0.0       0.009081           0.0          0.0            0.0   \n",
       "4                0.0       0.009039           0.0          0.0            0.0   \n",
       "...              ...            ...           ...          ...            ...   \n",
       "1424             0.0       0.000019           0.0          0.0            0.0   \n",
       "1425             0.0       0.000019           0.0          0.0            0.0   \n",
       "1426             0.0       0.000019           0.0          0.0            0.0   \n",
       "1427             0.0       0.000019           0.0          0.0            0.0   \n",
       "1428             0.0       0.000019           0.0          0.0            0.0   \n",
       "\n",
       "      MV_DIS2_DIS1  MV_DIS2_ACT  \n",
       "0              0.0          0.0  \n",
       "1              0.0          0.0  \n",
       "2              0.0          0.0  \n",
       "3              0.0          0.0  \n",
       "4              0.0          0.0  \n",
       "...            ...          ...  \n",
       "1424           0.0          0.0  \n",
       "1425           0.0          0.0  \n",
       "1426           0.0          0.0  \n",
       "1427           0.0          0.0  \n",
       "1428           0.0          0.0  \n",
       "\n",
       "[1429 rows x 29 columns]"
      ]
     },
     "execution_count": 40,
     "metadata": {},
     "output_type": "execute_result"
    }
   ],
   "source": [
    "df_result = pd.DataFrame(run_result)\n",
    "# df_result.to_excel(\"result_deferred_annuity_out.xlsx\")\n",
    "df_result"
   ]
  },
  {
   "cell_type": "markdown",
   "id": "881b76e5",
   "metadata": {},
   "source": [
    "### 7. Result Presentation"
   ]
  },
  {
   "cell_type": "code",
   "execution_count": 46,
   "id": "d6b54251",
   "metadata": {},
   "outputs": [
    {
     "name": "stderr",
     "output_type": "stream",
     "text": [
      "DEBUG - 2023-03-26 21:04:12,892 - matplotlib.pyplot - Loaded backend module://matplotlib_inline.backend_inline version unknown.\n"
     ]
    },
    {
     "data": {
      "text/plain": [
       "<AxesSubplot:>"
      ]
     },
     "execution_count": 46,
     "metadata": {},
     "output_type": "execute_result"
    },
    {
     "data": {
      "image/png": "[encoded data removed]",
      "text/plain": [
       "<Figure size 640x480 with 1 Axes>"
      ]
     },
     "metadata": {},
     "output_type": "display_data"
    }
   ],
   "source": [
    "%matplotlib inline\n",
    "#df_result[[\"RESERVE_BOM(ACTIVE)\", \"RESERVE_BOM(ANNUITANT)\"]].plot()\n",
    "(df_result[\"RESERVE_BOM(ACTIVE)\"] + df_result[\"RESERVE_BOM(ANNUITANT)\"])[1:].plot();"
   ]
  },
  {
   "cell_type": "code",
   "execution_count": null,
   "id": "5b5617c1",
   "metadata": {},
   "outputs": [],
   "source": []
  }
 ],
 "metadata": {
  "kernelspec": {
   "display_name": "Python 3 (ipykernel)",
   "language": "python",
   "name": "python3"
  },
  "language_info": {
   "codemirror_mode": {
    "name": "ipython",
    "version": 3
   },
   "file_extension": ".py",
   "mimetype": "text/x-python",
   "name": "python",
   "nbconvert_exporter": "python",
   "pygments_lexer": "ipython3",
   "version": "3.10.9"
  }
 },
 "nbformat": 4,
 "nbformat_minor": 5
}

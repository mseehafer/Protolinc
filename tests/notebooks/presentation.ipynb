{
 "cells": [
  {
   "cell_type": "markdown",
   "id": "232904f0",
   "metadata": {},
   "source": [
    "# PYPROTOLINC Demo\n",
    "\n",
    "This notebook demonstrates how the different concepts within `pyprotolinc` can be used explaining various\n",
    "customization options."
   ]
  },
  {
   "cell_type": "code",
   "execution_count": 1,
   "id": "e38ce40f",
   "metadata": {},
   "outputs": [],
   "source": [
    "# we will need a bunch of import for the below\n",
    "import pyprotolinc.models\n",
    "import pyprotolinc.models.model_config  # this will register the built-in state models -> should be moved somewhere else so that its loaded automatically"
   ]
  },
  {
   "cell_type": "markdown",
   "id": "546b4dfa",
   "metadata": {},
   "source": [
    "As a first step a states model needs to be selected. We can choose between the built in states models or create a new one."
   ]
  },
  {
   "cell_type": "code",
   "execution_count": 2,
   "id": "1f672312",
   "metadata": {},
   "outputs": [
    {
     "data": {
      "text/plain": [
       "{'MultiStateDisabilityStates': <enum 'MultiStateDisabilityStates'>,\n",
       " 'AnnuityRunoffStates': <enum 'AnnuityRunoffStates'>,\n",
       " 'MortalityStates': <enum 'MortalityStates'>}"
      ]
     },
     "execution_count": 2,
     "metadata": {},
     "output_type": "execute_result"
    }
   ],
   "source": [
    "state_models = pyprotolinc.models.list_state_models()\n",
    "state_models"
   ]
  },
  {
   "cell_type": "markdown",
   "id": "5190a9a4",
   "metadata": {},
   "source": [
    "We can look at the description of each of the built in models:"
   ]
  },
  {
   "cell_type": "code",
   "execution_count": 10,
   "id": "46bb188c",
   "metadata": {},
   "outputs": [
    {
     "name": "stdout",
     "output_type": "stream",
     "text": [
      "MultiStateDisabilityStates\n",
      " A state model for a disabiility product with two disabled states. \n",
      "        - ACTIVE = 0\n",
      "        - DIS1 = 1\n",
      "        - DIS2 = 2\n",
      "        - DEATH = 3\n",
      "        - LAPSED = 4\n",
      "    \n",
      "AnnuityRunoffStates\n",
      " A state model consisting of two states:\n",
      "        - DIS1 (=0) representing the annuity phase\n",
      "        - DEATH (=1)\n",
      "    \n",
      "MortalityStates\n",
      " A state model with four states that can be used to model simple mortality term/perm products.\n",
      "\n",
      "        - ACTIVE = 0\n",
      "        - DEATH = 1\n",
      "        - LAPSED = 2\n",
      "        - MATURED = 3\n",
      "    \n"
     ]
    }
   ],
   "source": [
    "for state_model_name, state_model_class in state_models.items():\n",
    "    print(state_model_name)\n",
    "    print(state_model_class.describe())"
   ]
  },
  {
   "cell_type": "code",
   "execution_count": 4,
   "id": "f5af88fe",
   "metadata": {},
   "outputs": [],
   "source": [
    "state_model = state_models['MortalityStates']"
   ]
  },
  {
   "cell_type": "code",
   "execution_count": 5,
   "id": "0241ebf1",
   "metadata": {},
   "outputs": [
    {
     "name": "stdout",
     "output_type": "stream",
     "text": [
      "MortalityStates.ACTIVE\n",
      "MortalityStates.DEATH\n",
      "MortalityStates.LAPSED\n",
      "MortalityStates.MATURED\n"
     ]
    }
   ],
   "source": [
    "for state in state_model:\n",
    "    print(state)"
   ]
  },
  {
   "cell_type": "markdown",
   "id": "b6b8d883",
   "metadata": {},
   "source": [
    "### Mapping the States to the Standard Output Model\n",
    "The next thing we need to specify is how the state should be mapped to the standatd output model\n",
    "(if there is need for that at all)"
   ]
  },
  {
   "cell_type": "code",
   "execution_count": null,
   "id": "7e346dac",
   "metadata": {},
   "outputs": [],
   "source": []
  }
 ],
 "metadata": {
  "kernelspec": {
   "display_name": "Python 3 (ipykernel)",
   "language": "python",
   "name": "python3"
  },
  "language_info": {
   "codemirror_mode": {
    "name": "ipython",
    "version": 3
   },
   "file_extension": ".py",
   "mimetype": "text/x-python",
   "name": "python",
   "nbconvert_exporter": "python",
   "pygments_lexer": "ipython3",
   "version": "3.9.12"
  }
 },
 "nbformat": 4,
 "nbformat_minor": 5
}

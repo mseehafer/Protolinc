{
 "cells": [
  {
   "cell_type": "markdown",
   "id": "232904f0",
   "metadata": {},
   "source": [
    "# PYPROTOLINC Demo\n",
    "\n",
    "This notebook demonstrates how the different concepts within `pyprotolinc` can be used explaining various\n",
    "customization options."
   ]
  },
  {
   "cell_type": "code",
   "execution_count": 81,
   "id": "e38ce40f",
   "metadata": {},
   "outputs": [],
   "source": [
    "# we will need a bunch of imports for the below\n",
    "from enum import unique\n",
    "\n",
    "import numpy as np\n",
    "\n",
    "from pyprotolinc.models.state_models import show_state_models, AbstractStateModel, state_model_by_name\n",
    "import pyprotolinc._actuarial as actuarial\n",
    "from pyprotolinc.riskfactors.risk_factors import get_risk_factor_names, Gender, SmokerStatus\n",
    "from pyprotolinc.assumptions.iohelpers import AssumptionsLoaderFromConfig"
   ]
  },
  {
   "cell_type": "markdown",
   "id": "546b4dfa",
   "metadata": {},
   "source": [
    "## 1. State Models\n",
    "As a first step a states model needs to be selected. We can choose between the built in states models or create a new one."
   ]
  },
  {
   "cell_type": "code",
   "execution_count": 2,
   "id": "156f02cf",
   "metadata": {},
   "outputs": [
    {
     "data": {
      "text/plain": [
       "{'AnnuityRunoffStates': <enum 'AnnuityRunoffStates'>,\n",
       " 'MortalityStates': <enum 'MortalityStates'>,\n",
       " 'MultiStateDisabilityStates': <enum 'MultiStateDisabilityStates'>}"
      ]
     },
     "execution_count": 2,
     "metadata": {},
     "output_type": "execute_result"
    }
   ],
   "source": [
    "state_models = show_state_models()\n",
    "state_models"
   ]
  },
  {
   "cell_type": "markdown",
   "id": "5190a9a4",
   "metadata": {},
   "source": [
    "We can look at the description of each of the built in models:"
   ]
  },
  {
   "cell_type": "code",
   "execution_count": 3,
   "id": "46bb188c",
   "metadata": {},
   "outputs": [
    {
     "name": "stdout",
     "output_type": "stream",
     "text": [
      "AnnuityRunoffStates:  A state model consisting of two states:\n",
      "        - DIS1 (=0) representing the annuity phase\n",
      "        - DEATH (=1)\n",
      "    \n",
      "\n",
      "MortalityStates:  A state model with four states that can be used to model simple mortality term/perm products.\n",
      "        - ACTIVE = 0\n",
      "        - DEATH = 1\n",
      "        - LAPSED = 2\n",
      "        - MATURED = 3\n",
      "    \n",
      "\n",
      "MultiStateDisabilityStates:  A state model for a disabiility product with two disabled states. \n",
      "        - ACTIVE = 0\n",
      "        - DIS1 = 1\n",
      "        - DIS2 = 2\n",
      "        - DEATH = 3\n",
      "        - LAPSED = 4\n",
      "    \n",
      "\n"
     ]
    }
   ],
   "source": [
    "for state_model_name, state_model_class in state_models.items():\n",
    "    #print(state_model_name)\n",
    "    print(state_model_class.describe())\n",
    "    print()"
   ]
  },
  {
   "cell_type": "markdown",
   "id": "b8bb6a9a",
   "metadata": {},
   "source": [
    "We can now decide for one of the built-in models or create a custom model."
   ]
  },
  {
   "cell_type": "code",
   "execution_count": 7,
   "id": "f5af88fe",
   "metadata": {},
   "outputs": [
    {
     "data": {
      "text/plain": [
       "{'AnnuityRunoffStates': <enum 'AnnuityRunoffStates'>,\n",
       " 'MortalityStates': <enum 'MortalityStates'>,\n",
       " 'MultiStateDisabilityStates': <enum 'MultiStateDisabilityStates'>,\n",
       " 'DeferredAnnuityStates': <enum 'DeferredAnnuityStates'>}"
      ]
     },
     "execution_count": 7,
     "metadata": {},
     "output_type": "execute_result"
    }
   ],
   "source": [
    "# decide for an existing one\n",
    "# selected_state_model = state_model_by_name('MortalityStates')\n",
    "\n",
    "# or create a new one\n",
    "@unique\n",
    "class DeferredAnnuityStates(AbstractStateModel):\n",
    "    \"\"\" A state model for a deferred annuities. \n",
    "        - ACTIVE = 0\n",
    "        - DEAD = 1\n",
    "        - LAPSED = 2\n",
    "        - ANNUITANT = 3\n",
    "    \"\"\"\n",
    "    ACTIVE = 0\n",
    "    DEAD = 1\n",
    "    LAPSED = 2\n",
    "    ANNUITANT = 3  # 6\n",
    "\n",
    "# the new state model is now registered in pyprotolinc\n",
    "show_state_models()"
   ]
  },
  {
   "cell_type": "code",
   "execution_count": 9,
   "id": "0241ebf1",
   "metadata": {},
   "outputs": [
    {
     "name": "stdout",
     "output_type": "stream",
     "text": [
      "DeferredAnnuityStates.ACTIVE\n",
      "DeferredAnnuityStates.DEAD\n",
      "DeferredAnnuityStates.LAPSED\n",
      "DeferredAnnuityStates.ANNUITANT\n"
     ]
    }
   ],
   "source": [
    "selected_state_model = state_model_by_name('DeferredAnnuityStates')\n",
    "\n",
    "# print out the states\n",
    "for state in selected_state_model:\n",
    "    print(state)"
   ]
  },
  {
   "cell_type": "markdown",
   "id": "b6b8d883",
   "metadata": {},
   "source": [
    "### Mapping the States to the Standard Output Model\n",
    "The next thing we need to specify is how the state should be mapped to the standatd output model\n",
    "(if there is need for that at all)"
   ]
  },
  {
   "cell_type": "code",
   "execution_count": null,
   "id": "7e346dac",
   "metadata": {},
   "outputs": [],
   "source": [
    "# todo"
   ]
  },
  {
   "cell_type": "markdown",
   "id": "90f634d3",
   "metadata": {},
   "source": [
    "## 2. Supplying Valuation Assumptions\n",
    "\n",
    "We need to provide assumptions for the various state transitions in the model. In `pyprotolinc` this\n",
    "is done by creating an object of type `AssumptionSet`. AssupmtionSets ar composed of `AssumptionProvides` and the the selection depends on `RiskFactors`."
   ]
  },
  {
   "cell_type": "markdown",
   "id": "c1ddeef3",
   "metadata": {},
   "source": [
    "### Risk Factors\n",
    "\n",
    "Currently `pyprotolinc`supports five risk factors."
   ]
  },
  {
   "cell_type": "code",
   "execution_count": 61,
   "id": "9dd23a72",
   "metadata": {},
   "outputs": [
    {
     "data": {
      "text/plain": [
       "{'Age': <CRiskFactors.Age: 0>,\n",
       " 'Gender': <CRiskFactors.Gender: 1>,\n",
       " 'CalendarYear': <CRiskFactors.CalendarYear: 2>,\n",
       " 'SmokerStatus': <CRiskFactors.SmokerStatus: 3>,\n",
       " 'YearsDisabledIfDisabledAtStart': <CRiskFactors.YearsDisabledIfDisabledAtStart: 4>}"
      ]
     },
     "execution_count": 61,
     "metadata": {},
     "output_type": "execute_result"
    }
   ],
   "source": [
    "from pyprotolinc.riskfactors.risk_factors import _C_RISK_FACTORS\n",
    "_C_RISK_FACTORS"
   ]
  },
  {
   "cell_type": "code",
   "execution_count": 28,
   "id": "ba8a4d83",
   "metadata": {},
   "outputs": [
    {
     "data": {
      "text/plain": [
       "[('M', 0), ('F', 1)]"
      ]
     },
     "execution_count": 28,
     "metadata": {},
     "output_type": "execute_result"
    }
   ],
   "source": [
    "# to better understand how the risk factors are encoded we can look at the values, e.g\n",
    "[(g.name, g.value) for g in Gender]"
   ]
  },
  {
   "cell_type": "code",
   "execution_count": 29,
   "id": "a06bef36",
   "metadata": {},
   "outputs": [
    {
     "data": {
      "text/plain": [
       "[('S', 0), ('N', 1), ('A', 2), ('U', 3)]"
      ]
     },
     "execution_count": 29,
     "metadata": {},
     "output_type": "execute_result"
    }
   ],
   "source": [
    "[(g.name, g.value) for g in SmokerStatus]"
   ]
  },
  {
   "cell_type": "markdown",
   "id": "81917594",
   "metadata": {},
   "source": [
    "### Building an Assumption Set"
   ]
  },
  {
   "cell_type": "code",
   "execution_count": 64,
   "id": "caa0c338",
   "metadata": {},
   "outputs": [],
   "source": [
    "# the assumption set must have the dimension of the state models\n",
    "states_dimension = len(selected_state_model)\n",
    "acs = actuarial.AssumptionSet(states_dimension);"
   ]
  },
  {
   "cell_type": "code",
   "execution_count": 65,
   "id": "aaa6c798",
   "metadata": {},
   "outputs": [
    {
     "data": {
      "text/plain": [
       "array([  32,    1, 2023,    1, 2023])"
      ]
     },
     "execution_count": 65,
     "metadata": {},
     "output_type": "execute_result"
    }
   ],
   "source": [
    "# to query the assumption set we need to provide values for each risk factor\n",
    "\n",
    "# create a dummy realization of the risk factors\n",
    "risk_factors = np.zeros(5, dtype=np.int32)\n",
    "risk_factors[0] = 32              # age\n",
    "risk_factors[1] = Gender.F        # gender\n",
    "risk_factors[2] = 2023            # CalendarYear\n",
    "risk_factors[3] = SmokerStatus.N  # SmokerStatus\n",
    "risk_factors[4] = 2023            # YearsDisabledIfDisabledAtStart\n",
    "\n",
    "risk_factors"
   ]
  },
  {
   "cell_type": "code",
   "execution_count": 66,
   "id": "ca2ba415",
   "metadata": {},
   "outputs": [
    {
     "data": {
      "text/plain": [
       "array([[0., 0., 0., 0.],\n",
       "       [0., 0., 0., 0.],\n",
       "       [0., 0., 0., 0.],\n",
       "       [0., 0., 0., 0.]])"
      ]
     },
     "execution_count": 66,
     "metadata": {},
     "output_type": "execute_result"
    }
   ],
   "source": [
    "# at this stage we can query\n",
    "acs.get_single_rateset(risk_factors).reshape((states_dimension, states_dimension))"
   ]
  },
  {
   "cell_type": "markdown",
   "id": "88536c53",
   "metadata": {},
   "source": [
    "All possible state transitions have a probability of zero."
   ]
  },
  {
   "cell_type": "markdown",
   "id": "b4e56df8",
   "metadata": {},
   "source": [
    "### Providers\n",
    "\n",
    "Assumption Providers are multidimensional lookup tables that specify the transition probabilities for a single state transition depending on the risk factors."
   ]
  },
  {
   "cell_type": "code",
   "execution_count": 49,
   "id": "886addf2",
   "metadata": {},
   "outputs": [],
   "source": [
    "# we programmaticall specify a provider that depends on Gender and Age\n",
    "\n",
    "vals2D = np.array([\n",
    "       [0.1, 0.2, 0.3, 0.4],  # specifies Gender M and ages 0, 1, 2, 3\n",
    "       [1.1, 1.2, 1.3, 1.4]   # specifies Gender M and ages 0, 1, 2, 3\n",
    "], dtype=np.float64)\n",
    "\n",
    "\n",
    "offsets = np.zeros(2, dtype=np.int32)\n",
    "provider_test = actuarial.StandardRateProvider([actuarial.CRiskFactors.Gender, actuarial.CRiskFactors.Age], vals2D, offsets)"
   ]
  },
  {
   "cell_type": "code",
   "execution_count": 50,
   "id": "182c1eca",
   "metadata": {},
   "outputs": [
    {
     "data": {
      "text/plain": [
       "1.3"
      ]
     },
     "execution_count": 50,
     "metadata": {},
     "output_type": "execute_result"
    }
   ],
   "source": [
    "# we can query the provider for gender F and age 2\n",
    "provider_test.get_rate([Gender.F, 2])"
   ]
  },
  {
   "cell_type": "code",
   "execution_count": 74,
   "id": "fbc5c572",
   "metadata": {},
   "outputs": [
    {
     "data": {
      "text/plain": [
       "array([[0.   , 0.001, 0.002, 0.003, 0.004, 0.005, 0.006, 0.007, 0.008,\n",
       "        0.009, 0.01 , 0.011, 0.012, 0.013, 0.014, 0.015, 0.016, 0.017,\n",
       "        0.018, 0.019, 0.02 , 0.021, 0.022, 0.023, 0.024, 0.025, 0.026,\n",
       "        0.027, 0.028, 0.029, 0.03 , 0.031, 0.032, 0.033, 0.034, 0.035,\n",
       "        0.036, 0.037, 0.038, 0.039, 0.04 , 0.041, 0.042, 0.043, 0.044,\n",
       "        0.045, 0.046, 0.047, 0.048, 0.049, 0.05 , 0.051, 0.052, 0.053,\n",
       "        0.054, 0.055, 0.056, 0.057, 0.058, 0.059, 0.06 , 0.061, 0.062,\n",
       "        0.063, 0.064, 0.065, 0.066, 0.067, 0.068, 0.069, 0.07 , 0.071,\n",
       "        0.072, 0.073, 0.074, 0.075, 0.076, 0.077, 0.078, 0.079, 0.08 ,\n",
       "        0.081, 0.082, 0.083, 0.084, 0.085, 0.086, 0.087, 0.088, 0.089,\n",
       "        0.09 , 0.091, 0.092, 0.093, 0.094, 0.095, 0.096, 0.097, 0.098,\n",
       "        0.099, 0.1  , 0.101, 0.102, 0.103, 0.104, 0.105, 0.106, 0.107,\n",
       "        0.108, 0.109, 0.11 , 0.111, 0.112, 0.113, 0.114, 0.115, 0.116,\n",
       "        0.117, 0.118, 0.119],\n",
       "       [0.12 , 0.121, 0.122, 0.123, 0.124, 0.125, 0.126, 0.127, 0.128,\n",
       "        0.129, 0.13 , 0.131, 0.132, 0.133, 0.134, 0.135, 0.136, 0.137,\n",
       "        0.138, 0.139, 0.14 , 0.141, 0.142, 0.143, 0.144, 0.145, 0.146,\n",
       "        0.147, 0.148, 0.149, 0.15 , 0.151, 0.152, 0.153, 0.154, 0.155,\n",
       "        0.156, 0.157, 0.158, 0.159, 0.16 , 0.161, 0.162, 0.163, 0.164,\n",
       "        0.165, 0.166, 0.167, 0.168, 0.169, 0.17 , 0.171, 0.172, 0.173,\n",
       "        0.174, 0.175, 0.176, 0.177, 0.178, 0.179, 0.18 , 0.181, 0.182,\n",
       "        0.183, 0.184, 0.185, 0.186, 0.187, 0.188, 0.189, 0.19 , 0.191,\n",
       "        0.192, 0.193, 0.194, 0.195, 0.196, 0.197, 0.198, 0.199, 0.2  ,\n",
       "        0.201, 0.202, 0.203, 0.204, 0.205, 0.206, 0.207, 0.208, 0.209,\n",
       "        0.21 , 0.211, 0.212, 0.213, 0.214, 0.215, 0.216, 0.217, 0.218,\n",
       "        0.219, 0.22 , 0.221, 0.222, 0.223, 0.224, 0.225, 0.226, 0.227,\n",
       "        0.228, 0.229, 0.23 , 0.231, 0.232, 0.233, 0.234, 0.235, 0.236,\n",
       "        0.237, 0.238, 0.239]])"
      ]
     },
     "execution_count": 74,
     "metadata": {},
     "output_type": "execute_result"
    }
   ],
   "source": [
    "# we create a dummy provider programmatically for all ages\n",
    "vals2d_long = (np.arange(120 * 2)).reshape((2, 120)) / 1000.0\n",
    "vals2d_long"
   ]
  },
  {
   "cell_type": "code",
   "execution_count": 75,
   "id": "3738d6bd",
   "metadata": {},
   "outputs": [
    {
     "data": {
      "text/plain": [
       "0.129"
      ]
     },
     "execution_count": 75,
     "metadata": {},
     "output_type": "execute_result"
    }
   ],
   "source": [
    "provider = actuarial.StandardRateProvider([actuarial.CRiskFactors.Gender, actuarial.CRiskFactors.Age], vals2d_long, offsets)\n",
    "provider.get_rate([Gender.F, 9])"
   ]
  },
  {
   "cell_type": "code",
   "execution_count": 76,
   "id": "04ab76af",
   "metadata": {},
   "outputs": [],
   "source": [
    "# now we can add the provider to the assumption set for the state-transition 1 -> 0\n",
    "acs.add_provider_std(1, 0, provider)"
   ]
  },
  {
   "cell_type": "markdown",
   "id": "5515c1c1",
   "metadata": {},
   "source": [
    "Now that we have added a provider we can query the assumption set again:"
   ]
  },
  {
   "cell_type": "code",
   "execution_count": 77,
   "id": "a859a2c4",
   "metadata": {},
   "outputs": [
    {
     "data": {
      "text/plain": [
       "array([[0.   , 0.   , 0.   , 0.   ],\n",
       "       [0.152, 0.   , 0.   , 0.   ],\n",
       "       [0.   , 0.   , 0.   , 0.   ],\n",
       "       [0.   , 0.   , 0.   , 0.   ]])"
      ]
     },
     "execution_count": 77,
     "metadata": {},
     "output_type": "execute_result"
    }
   ],
   "source": [
    "acs.get_single_rateset(risk_factors).reshape((states_dimension, states_dimension))"
   ]
  },
  {
   "cell_type": "markdown",
   "id": "70d3ceb2",
   "metadata": {},
   "source": [
    "The number we see is in the second row (corresponding with STATE#1) and gives us the\n",
    "probability to transition to STATE#0 (first column)."
   ]
  },
  {
   "cell_type": "markdown",
   "id": "0f99749a",
   "metadata": {},
   "source": [
    "### Building AssumptionSets from Files\n",
    "\n",
    "Instead manually bootstrapping the required object there is a more convenient way for simpler cases to create \n",
    "assumptions sets from configruration files and spreadsheets."
   ]
  },
  {
   "cell_type": "code",
   "execution_count": 83,
   "id": "66ad6422",
   "metadata": {},
   "outputs": [],
   "source": [
    "assumption_config_loader = AssumptionsLoaderFromConfig(r\"..\\di_assumptions.yml\")\n",
    "# ass_config_loader.load(mb)"
   ]
  },
  {
   "cell_type": "code",
   "execution_count": 84,
   "id": "3e524066",
   "metadata": {},
   "outputs": [
    {
     "data": {
      "text/plain": [
       "{'be': [[0,\n",
       "   3,\n",
       "   ['FileTable', 'tests/base_assumption.xlsx', 'MORTALITY (0->3)']],\n",
       "  [0, 4, ['FileTable', 'tests/base_assumption.xlsx', 'LAPSE (0->4)']],\n",
       "  [0, 1, ['FileTable', 'tests/base_assumption.xlsx', 'DIS1 (0->1)']],\n",
       "  [1, 2, ['FileTable', 'tests/base_assumption.xlsx', 'DIS_WORSEN (1->2)']],\n",
       "  [1, 3, ['FileTable', 'tests/base_assumption.xlsx', 'DIS_DEATH1 (1->3)']],\n",
       "  [1, 0, ['FileTable', 'tests/base_assumption.xlsx', 'REC1(1->0)']],\n",
       "  [0, 2, ['FileTable', 'tests/base_assumption.xlsx', 'DIS2(0->2)']],\n",
       "  [2, 1, ['FileTable', 'tests/base_assumption.xlsx', 'DIS_IMPR (2->1)']],\n",
       "  [2, 3, ['FileTable', 'tests/base_assumption.xlsx', 'DIS_DEATH2 (2->3)']],\n",
       "  [2, 0, ['FileTable', 'tests/base_assumption.xlsx', 'REC2(2->0)']]],\n",
       " 'res': [[0,\n",
       "   3,\n",
       "   ['FileTable', 'tests/base_assumption.xlsx', 'MORTALITY (0->3)']],\n",
       "  [0, 4, ['FileTable', 'tests/base_assumption.xlsx', 'LAPSE (0->4)']],\n",
       "  [0, 1, ['FileTable', 'tests/base_assumption.xlsx', 'DIS1 (0->1)']],\n",
       "  [1, 2, ['FileTable', 'tests/base_assumption.xlsx', 'DIS_WORSEN (1->2)']],\n",
       "  [1, 3, ['FileTable', 'tests/base_assumption.xlsx', 'DIS_DEATH1 (1->3)']],\n",
       "  [1, 0, ['FileTable', 'tests/base_assumption.xlsx', 'REC1(1->0)']],\n",
       "  [0, 2, ['FileTable', 'tests/base_assumption.xlsx', 'DIS2(0->2)']],\n",
       "  [2, 1, ['FileTable', 'tests/base_assumption.xlsx', 'DIS_IMPR (2->1)']],\n",
       "  [2, 3, ['FileTable', 'tests/base_assumption.xlsx', 'DIS_DEATH2 (2->3)']],\n",
       "  [2, 0, ['FileTable', 'tests/base_assumption.xlsx', 'REC2(2->0)']]]}"
      ]
     },
     "execution_count": 84,
     "metadata": {},
     "output_type": "execute_result"
    }
   ],
   "source": [
    "assumption_config_loader.assumptions_spec"
   ]
  },
  {
   "cell_type": "code",
   "execution_count": null,
   "id": "23feb3ef",
   "metadata": {},
   "outputs": [],
   "source": []
  }
 ],
 "metadata": {
  "kernelspec": {
   "display_name": "Python 3 (ipykernel)",
   "language": "python",
   "name": "python3"
  },
  "language_info": {
   "codemirror_mode": {
    "name": "ipython",
    "version": 3
   },
   "file_extension": ".py",
   "mimetype": "text/x-python",
   "name": "python",
   "nbconvert_exporter": "python",
   "pygments_lexer": "ipython3",
   "version": "3.9.12"
  }
 },
 "nbformat": 4,
 "nbformat_minor": 5
}

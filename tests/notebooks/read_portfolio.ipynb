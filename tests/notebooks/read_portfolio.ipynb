{
 "cells": [
  {
   "cell_type": "code",
   "execution_count": 117,
   "id": "623a77b7",
   "metadata": {},
   "outputs": [],
   "source": [
    "path = \"data/portfolio/portfolio1.xlsx\""
   ]
  },
  {
   "cell_type": "code",
   "execution_count": 118,
   "id": "4d2dc6f4",
   "metadata": {},
   "outputs": [
    {
     "data": {
      "text/html": [
       "<div>\n",
       "<style scoped>\n",
       "    .dataframe tbody tr th:only-of-type {\n",
       "        vertical-align: middle;\n",
       "    }\n",
       "\n",
       "    .dataframe tbody tr th {\n",
       "        vertical-align: top;\n",
       "    }\n",
       "\n",
       "    .dataframe thead th {\n",
       "        text-align: right;\n",
       "    }\n",
       "</style>\n",
       "<table border=\"1\" class=\"dataframe\">\n",
       "  <thead>\n",
       "    <tr style=\"text-align: right;\">\n",
       "      <th></th>\n",
       "      <th>DATE_PORTFOLIO</th>\n",
       "      <th>ID</th>\n",
       "      <th>DATE_OF_BIRTH</th>\n",
       "      <th>DATE_START_OF_COVER</th>\n",
       "      <th>SUM_INSURED</th>\n",
       "      <th>CURRENT_STATUS</th>\n",
       "      <th>SEX</th>\n",
       "    </tr>\n",
       "  </thead>\n",
       "  <tbody>\n",
       "    <tr>\n",
       "      <th>0</th>\n",
       "      <td>2021-12-31</td>\n",
       "      <td>1</td>\n",
       "      <td>1976-04-23</td>\n",
       "      <td>2022-01-01</td>\n",
       "      <td>1000</td>\n",
       "      <td>ACTIVE</td>\n",
       "      <td>m</td>\n",
       "    </tr>\n",
       "    <tr>\n",
       "      <th>1</th>\n",
       "      <td>2021-12-31</td>\n",
       "      <td>2</td>\n",
       "      <td>1969-03-03</td>\n",
       "      <td>2022-01-01</td>\n",
       "      <td>100</td>\n",
       "      <td>ACTIVE</td>\n",
       "      <td>f</td>\n",
       "    </tr>\n",
       "    <tr>\n",
       "      <th>2</th>\n",
       "      <td>2021-12-31</td>\n",
       "      <td>3</td>\n",
       "      <td>1970-09-13</td>\n",
       "      <td>2022-01-01</td>\n",
       "      <td>5000</td>\n",
       "      <td>DIS1</td>\n",
       "      <td>f</td>\n",
       "    </tr>\n",
       "  </tbody>\n",
       "</table>\n",
       "</div>"
      ],
      "text/plain": [
       "  DATE_PORTFOLIO  ID DATE_OF_BIRTH DATE_START_OF_COVER  SUM_INSURED  \\\n",
       "0     2021-12-31   1    1976-04-23          2022-01-01         1000   \n",
       "1     2021-12-31   2    1969-03-03          2022-01-01          100   \n",
       "2     2021-12-31   3    1970-09-13          2022-01-01         5000   \n",
       "\n",
       "  CURRENT_STATUS SEX  \n",
       "0         ACTIVE   m  \n",
       "1         ACTIVE   f  \n",
       "2           DIS1   f  "
      ]
     },
     "execution_count": 118,
     "metadata": {},
     "output_type": "execute_result"
    }
   ],
   "source": [
    "import datetime\n",
    "import numpy as np\n",
    "import pandas as pd\n",
    "\n",
    "df_portfolio = pd.read_excel(path)\n",
    "df_portfolio.columns = [c.upper() for c in df_portfolio.columns]\n",
    "df_portfolio"
   ]
  },
  {
   "cell_type": "code",
   "execution_count": 119,
   "id": "12478270",
   "metadata": {},
   "outputs": [
    {
     "data": {
      "text/plain": [
       "datetime.datetime(2021, 12, 31, 0, 0)"
      ]
     },
     "execution_count": 119,
     "metadata": {},
     "output_type": "execute_result"
    }
   ],
   "source": [
    "# extract the relevant information\n",
    "_portfolio_date_array = df_portfolio[\"DATE_PORTFOLIO\"].unique()\n",
    "assert len(_portfolio_date_array) == 1, \"More than one portfolio date\"\n",
    "#portfolio_date = _portfolio_date_array[0].astype(datetime.datetime)\n",
    "portfolio_date = pd.Timestamp(_portfolio_date_array[0]).to_pydatetime()\n",
    "portfolio_date"
   ]
  },
  {
   "cell_type": "code",
   "execution_count": 120,
   "id": "f168b15a",
   "metadata": {},
   "outputs": [
    {
     "data": {
      "text/plain": [
       "True"
      ]
     },
     "execution_count": 120,
     "metadata": {},
     "output_type": "execute_result"
    }
   ],
   "source": [
    "type(portfolio_date) is datetime.datetime\n"
   ]
  },
  {
   "cell_type": "code",
   "execution_count": 121,
   "id": "a4566839",
   "metadata": {},
   "outputs": [
    {
     "data": {
      "text/plain": [
       "array([548, 633, 615], dtype=int64)"
      ]
     },
     "execution_count": 121,
     "metadata": {},
     "output_type": "execute_result"
    }
   ],
   "source": [
    "def completed_months_to_date(date_col, the_date):\n",
    "    \"\"\" Calculate completed months between the date col and `the_date`.\n",
    "        The latter one can be a np.datetime series or a datetime.datetime. \"\"\"\n",
    "    class _dt:\n",
    "        def __init__(self, year, month, day):\n",
    "            self.year = year\n",
    "            self.month = month\n",
    "            self.day = day\n",
    "                \n",
    "    class _date_emul:\n",
    "        def __init__(self, the_date):\n",
    "            self.dt = _dt(the_date.year, the_date.month, the_date.day)\n",
    "    \n",
    "    if isinstance(the_date, datetime.datetime):\n",
    "        the_date = _date_emul(the_date)\n",
    "    \n",
    "    # calculate the age in months at the portfolio_date\n",
    "    age_in_months0 = \\\n",
    "        the_date.dt.year * 12 + the_date.dt.month \\\n",
    "        - date_col.dt.year * 12 - date_col.dt.month \\\n",
    "        - 1 \\\n",
    "        + (the_date.dt.day >= date_col.dt.day).astype(int)\n",
    "    return age_in_months0.values\n",
    "\n",
    "completed_months_to_date(df_portfolio[\"DATE_OF_BIRTH\"], portfolio_date)"
   ]
  },
  {
   "cell_type": "code",
   "execution_count": 122,
   "id": "0e1f67a0",
   "metadata": {},
   "outputs": [
    {
     "data": {
      "text/plain": [
       "array([548, 633, 615], dtype=int64)"
      ]
     },
     "execution_count": 122,
     "metadata": {},
     "output_type": "execute_result"
    }
   ],
   "source": [
    "completed_months_to_date(df_portfolio[\"DATE_OF_BIRTH\"], df_portfolio[\"DATE_START_OF_COVER\"])"
   ]
  },
  {
   "cell_type": "code",
   "execution_count": 123,
   "id": "9e462fbd",
   "metadata": {},
   "outputs": [
    {
     "data": {
      "text/plain": [
       "array(['m', 'f', 'f'], dtype=object)"
      ]
     },
     "execution_count": 123,
     "metadata": {},
     "output_type": "execute_result"
    }
   ],
   "source": [
    "gender = df_portfolio[\"SEX\"]\n",
    "assert set(gender.unique()).issubset(set((\"m\", \"f\")))\n",
    "gender = gender.values\n",
    "gender"
   ]
  },
  {
   "cell_type": "code",
   "execution_count": 127,
   "id": "adeaadda",
   "metadata": {},
   "outputs": [],
   "source": [
    "from state import States\n",
    "_unknown_status = set(df_portfolio[\"CURRENT_STATUS\"]) - {s.name for s in States}\n",
    "assert len(_unknown_status) == 0, \"Unknow status \" +  str(_unknown_status)"
   ]
  },
  {
   "cell_type": "code",
   "execution_count": null,
   "id": "afec0aa1",
   "metadata": {},
   "outputs": [],
   "source": []
  },
  {
   "cell_type": "code",
   "execution_count": 125,
   "id": "1155048e",
   "metadata": {},
   "outputs": [
    {
     "data": {
      "text/plain": [
       "0    0\n",
       "1    0\n",
       "2    1\n",
       "Name: CURRENT_STATUS, dtype: int64"
      ]
     },
     "execution_count": 125,
     "metadata": {},
     "output_type": "execute_result"
    }
   ],
   "source": [
    "df_portfolio[\"CURRENT_STATUS\"].map({st.name: st for st in States})"
   ]
  },
  {
   "cell_type": "code",
   "execution_count": 126,
   "id": "330a5763",
   "metadata": {},
   "outputs": [
    {
     "data": {
      "text/plain": [
       "array([1000.,  100., 5000.])"
      ]
     },
     "execution_count": 126,
     "metadata": {},
     "output_type": "execute_result"
    }
   ],
   "source": [
    "df_portfolio[\"SUM_INSURED\"].values.astype(np.float64)"
   ]
  },
  {
   "cell_type": "code",
   "execution_count": null,
   "id": "180e4782",
   "metadata": {},
   "outputs": [],
   "source": []
  }
 ],
 "metadata": {
  "kernelspec": {
   "display_name": "Python 3 (ipykernel)",
   "language": "python",
   "name": "python3"
  },
  "language_info": {
   "codemirror_mode": {
    "name": "ipython",
    "version": 3
   },
   "file_extension": ".py",
   "mimetype": "text/x-python",
   "name": "python",
   "nbconvert_exporter": "python",
   "pygments_lexer": "ipython3",
   "version": "3.8.5"
  }
 },
 "nbformat": 4,
 "nbformat_minor": 5
}

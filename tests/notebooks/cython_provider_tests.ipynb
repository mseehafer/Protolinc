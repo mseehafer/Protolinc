{
 "cells": [
  {
   "cell_type": "code",
   "execution_count": null,
   "id": "085e487b",
   "metadata": {},
   "outputs": [],
   "source": [
    "# test cpp extension\n",
    "\n",
    "import pyprotolinc._actuarial as actuarial"
   ]
  },
  {
   "cell_type": "code",
   "execution_count": null,
   "id": "99f1d590",
   "metadata": {},
   "outputs": [],
   "source": [
    "actuarial.provider_wrapper(3, 0.1)"
   ]
  },
  {
   "cell_type": "code",
   "execution_count": null,
   "id": "15d21f4b",
   "metadata": {},
   "outputs": [],
   "source": []
  }
 ],
 "metadata": {
  "kernelspec": {
   "display_name": "Python 3 (ipykernel)",
   "language": "python",
   "name": "python3"
  },
  "language_info": {
   "codemirror_mode": {
    "name": "ipython",
    "version": 3
   },
   "file_extension": ".py",
   "mimetype": "text/x-python",
   "name": "python",
   "nbconvert_exporter": "python",
   "pygments_lexer": "ipython3",
   "version": "3.9.12"
  }
 },
 "nbformat": 4,
 "nbformat_minor": 5
}

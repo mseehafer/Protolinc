{
 "cells": [
  {
   "cell_type": "code",
   "execution_count": null,
   "id": "085e487b",
   "metadata": {},
   "outputs": [],
   "source": [
    "# test cpp extension\n",
    "\n",
    "import pyprotolinc._actuarial as actuarial"
   ]
  },
  {
   "cell_type": "code",
   "execution_count": null,
   "id": "d117a8b0",
   "metadata": {},
   "outputs": [],
   "source": [
    "actuarial.CRiskFactors.Age, actuarial.CRiskFactors.Gender"
   ]
  },
  {
   "cell_type": "code",
   "execution_count": null,
   "id": "020c5af4",
   "metadata": {},
   "outputs": [],
   "source": [
    "actuarial.CRiskFactors.Age.name.lower()"
   ]
  },
  {
   "cell_type": "code",
   "execution_count": null,
   "id": "d1c5e873",
   "metadata": {},
   "outputs": [],
   "source": [
    "'Age'.lower().encode(encoding='ASCII')"
   ]
  },
  {
   "cell_type": "code",
   "execution_count": null,
   "id": "03abd91b",
   "metadata": {},
   "outputs": [],
   "source": [
    "actuarial.State.Good"
   ]
  },
  {
   "cell_type": "code",
   "execution_count": null,
   "id": "99f1d590",
   "metadata": {},
   "outputs": [],
   "source": [
    "actuarial.py_foo(actuarial.State.Good)"
   ]
  },
  {
   "cell_type": "code",
   "execution_count": null,
   "id": "15d21f4b",
   "metadata": {},
   "outputs": [],
   "source": [
    "provider0 = actuarial.AssumptionsProvider(provider_type=\"ZERO\")\n",
    "providerC = actuarial.AssumptionsProvider(\"CONST\", 0.1)"
   ]
  },
  {
   "cell_type": "code",
   "execution_count": null,
   "id": "08936463",
   "metadata": {},
   "outputs": [],
   "source": [
    "provider0.to_string(), str(providerC)"
   ]
  },
  {
   "cell_type": "code",
   "execution_count": null,
   "id": "b37fd632",
   "metadata": {},
   "outputs": [],
   "source": [
    "provider0.get_rates(4)"
   ]
  },
  {
   "cell_type": "code",
   "execution_count": null,
   "id": "aeb60551",
   "metadata": {},
   "outputs": [],
   "source": [
    "provider0.get_risk_factors(), providerC.get_risk_factors()"
   ]
  },
  {
   "cell_type": "code",
   "execution_count": null,
   "id": "dabb4bbb",
   "metadata": {},
   "outputs": [],
   "source": [
    "providerC.get_rates(4)"
   ]
  },
  {
   "cell_type": "code",
   "execution_count": null,
   "id": "ecd29b8a",
   "metadata": {},
   "outputs": [],
   "source": [
    "providerC.get_rates(10)"
   ]
  },
  {
   "cell_type": "code",
   "execution_count": null,
   "id": "6cb78566",
   "metadata": {},
   "outputs": [],
   "source": [
    "providerS = actuarial.AssumptionsProvider(\"STANDARD\")"
   ]
  },
  {
   "cell_type": "code",
   "execution_count": null,
   "id": "1a9df346",
   "metadata": {},
   "outputs": [],
   "source": [
    "providerS.to_string(),  providerS.get_risk_factors()"
   ]
  },
  {
   "cell_type": "code",
   "execution_count": null,
   "id": "2cfc6b00",
   "metadata": {},
   "outputs": [],
   "source": [
    "providerS.add_risk_factor(actuarial.CRiskFactors.Age)"
   ]
  },
  {
   "cell_type": "code",
   "execution_count": null,
   "id": "cadac8a3",
   "metadata": {},
   "outputs": [],
   "source": [
    "providerS.get_risk_factors()"
   ]
  },
  {
   "cell_type": "code",
   "execution_count": null,
   "id": "990d3fd9",
   "metadata": {},
   "outputs": [],
   "source": [
    "providerS.add_risk_factor(actuarial.CRiskFactors.Gender)\n",
    "providerS.get_risk_factors()"
   ]
  },
  {
   "cell_type": "code",
   "execution_count": null,
   "id": "7680a01a",
   "metadata": {},
   "outputs": [],
   "source": [
    "# no effect as Age is already in the list\n",
    "providerS.add_risk_factor(actuarial.CRiskFactors.Age)\n",
    "providerS.get_risk_factors()"
   ]
  },
  {
   "cell_type": "code",
   "execution_count": null,
   "id": "bae28f68",
   "metadata": {},
   "outputs": [],
   "source": [
    "\"STANDARD\".encode()"
   ]
  },
  {
   "cell_type": "code",
   "execution_count": null,
   "id": "43ff741b",
   "metadata": {},
   "outputs": [],
   "source": [
    "#providerS.set_values(None)\n",
    "#provider0.set_values(None)"
   ]
  },
  {
   "cell_type": "code",
   "execution_count": null,
   "id": "5d932b1b",
   "metadata": {},
   "outputs": [],
   "source": []
  },
  {
   "cell_type": "code",
   "execution_count": null,
   "id": "8d8bcea0",
   "metadata": {},
   "outputs": [],
   "source": [
    "import numpy as np\n",
    "vals2D = np.array([[1, 2, 3], [4, 5, 6]], dtype=np.float64)\n",
    "vals1D = np.array([1, 2, 3], dtype=np.float64)\n",
    "providerS._set_values1D(vals1D)\n",
    "#providerS._set_values2D(vals2D)"
   ]
  },
  {
   "cell_type": "code",
   "execution_count": null,
   "id": "1dfa353c",
   "metadata": {},
   "outputs": [],
   "source": [
    "providerS._set_values2D(vals2D)"
   ]
  },
  {
   "cell_type": "code",
   "execution_count": null,
   "id": "9c19756a",
   "metadata": {},
   "outputs": [],
   "source": []
  }
 ],
 "metadata": {
  "kernelspec": {
   "display_name": "Python 3 (ipykernel)",
   "language": "python",
   "name": "python3"
  },
  "language_info": {
   "codemirror_mode": {
    "name": "ipython",
    "version": 3
   },
   "file_extension": ".py",
   "mimetype": "text/x-python",
   "name": "python",
   "nbconvert_exporter": "python",
   "pygments_lexer": "ipython3",
   "version": "3.9.12"
  }
 },
 "nbformat": 4,
 "nbformat_minor": 5
}

{
 "cells": [
  {
   "cell_type": "code",
   "execution_count": null,
   "id": "c99930b5",
   "metadata": {},
   "outputs": [],
   "source": [
    "import numpy as np\n",
    "import pyprotolinc._actuarial as act\n",
    "from pyprotolinc.models.risk_factors import Gender, SmokerStatus\n",
    "\n",
    "std_prvdr_2d = act.StandardRateProvider(rfs=[act.CRiskFactors.Gender, act.CRiskFactors.Age],\n",
    "                                        values=np.array([[0.1, 0.2, 0.3],\n",
    "                                                         [1.1, 1.2, 1.3]]),\n",
    "                                        offsets=np.zeros(2, dtype=int))\n",
    "x = std_prvdr_2d.slice(gender=int(1))\n"
   ]
  },
  {
   "cell_type": "code",
   "execution_count": null,
   "id": "e9abd0ad",
   "metadata": {},
   "outputs": [],
   "source": []
  },
  {
   "cell_type": "code",
   "execution_count": null,
   "id": "61745645",
   "metadata": {},
   "outputs": [],
   "source": []
  }
 ],
 "metadata": {
  "kernelspec": {
   "display_name": "Python 3 (ipykernel)",
   "language": "python",
   "name": "python3"
  },
  "language_info": {
   "codemirror_mode": {
    "name": "ipython",
    "version": 3
   },
   "file_extension": ".py",
   "mimetype": "text/x-python",
   "name": "python",
   "nbconvert_exporter": "python",
   "pygments_lexer": "ipython3",
   "version": "3.9.12"
  }
 },
 "nbformat": 4,
 "nbformat_minor": 5
}

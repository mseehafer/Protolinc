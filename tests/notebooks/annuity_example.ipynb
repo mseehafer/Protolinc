{
 "cells": [
  {
   "cell_type": "markdown",
   "id": "6b6c78f4",
   "metadata": {},
   "source": [
    "# Annuities\n",
    "\n"
   ]
  },
  {
   "cell_type": "markdown",
   "id": "2d98270c",
   "metadata": {},
   "source": [
    "## Version with Age Shifts"
   ]
  },
  {
   "cell_type": "code",
   "execution_count": 111,
   "id": "e6a33a81",
   "metadata": {},
   "outputs": [
    {
     "data": {
      "text/html": [
       "<div>\n",
       "<style scoped>\n",
       "    .dataframe tbody tr th:only-of-type {\n",
       "        vertical-align: middle;\n",
       "    }\n",
       "\n",
       "    .dataframe tbody tr th {\n",
       "        vertical-align: top;\n",
       "    }\n",
       "\n",
       "    .dataframe thead tr th {\n",
       "        text-align: left;\n",
       "    }\n",
       "</style>\n",
       "<table border=\"1\" class=\"dataframe\">\n",
       "  <thead>\n",
       "    <tr>\n",
       "      <th></th>\n",
       "      <th colspan=\"2\" halign=\"left\">Bestand</th>\n",
       "      <th colspan=\"2\" halign=\"left\">B20</th>\n",
       "      <th colspan=\"2\" halign=\"left\">1. Ordnung</th>\n",
       "    </tr>\n",
       "    <tr>\n",
       "      <th>Alter</th>\n",
       "      <th>Männer</th>\n",
       "      <th>Frauen</th>\n",
       "      <th>Männer</th>\n",
       "      <th>Frauen</th>\n",
       "      <th>Männer</th>\n",
       "      <th>Frauen</th>\n",
       "    </tr>\n",
       "  </thead>\n",
       "  <tbody>\n",
       "    <tr>\n",
       "      <th>0</th>\n",
       "      <td>0.000092</td>\n",
       "      <td>0.000073</td>\n",
       "      <td>0.000092</td>\n",
       "      <td>0.000073</td>\n",
       "      <td>0.000083</td>\n",
       "      <td>0.000066</td>\n",
       "    </tr>\n",
       "    <tr>\n",
       "      <th>1</th>\n",
       "      <td>0.000092</td>\n",
       "      <td>0.000073</td>\n",
       "      <td>0.000092</td>\n",
       "      <td>0.000073</td>\n",
       "      <td>0.000083</td>\n",
       "      <td>0.000066</td>\n",
       "    </tr>\n",
       "    <tr>\n",
       "      <th>2</th>\n",
       "      <td>0.000092</td>\n",
       "      <td>0.000073</td>\n",
       "      <td>0.000092</td>\n",
       "      <td>0.000073</td>\n",
       "      <td>0.000083</td>\n",
       "      <td>0.000066</td>\n",
       "    </tr>\n",
       "    <tr>\n",
       "      <th>3</th>\n",
       "      <td>0.000092</td>\n",
       "      <td>0.000073</td>\n",
       "      <td>0.000092</td>\n",
       "      <td>0.000073</td>\n",
       "      <td>0.000083</td>\n",
       "      <td>0.000066</td>\n",
       "    </tr>\n",
       "    <tr>\n",
       "      <th>4</th>\n",
       "      <td>0.000092</td>\n",
       "      <td>0.000073</td>\n",
       "      <td>0.000092</td>\n",
       "      <td>0.000073</td>\n",
       "      <td>0.000083</td>\n",
       "      <td>0.000066</td>\n",
       "    </tr>\n",
       "  </tbody>\n",
       "</table>\n",
       "</div>"
      ],
      "text/plain": [
       "        Bestand                 B20           1. Ordnung          \n",
       "Alter    Männer    Frauen    Männer    Frauen     Männer    Frauen\n",
       "0      0.000092  0.000073  0.000092  0.000073   0.000083  0.000066\n",
       "1      0.000092  0.000073  0.000092  0.000073   0.000083  0.000066\n",
       "2      0.000092  0.000073  0.000092  0.000073   0.000083  0.000066\n",
       "3      0.000092  0.000073  0.000092  0.000073   0.000083  0.000066\n",
       "4      0.000092  0.000073  0.000092  0.000073   0.000083  0.000066"
      ]
     },
     "execution_count": 111,
     "metadata": {},
     "output_type": "execute_result"
    }
   ],
   "source": [
    "import pandas as pd\n",
    "import numpy as np\n",
    "\n",
    "import pyprotolinc.models.risk_factors as risk_factors\n",
    "\n",
    "av_types = (\"Bestand\", \"B20\", \"1. Ordnung\")\n",
    "\n",
    "av_type = av_types[1]\n",
    "b20base_rates_path = \"../../examples/02_annuities_in_payment/tables/Germany_Annuities_DAV2004R/Germany_Annuities_DAV2004R_AVBase.csv\"\n",
    "av_shifts_path = \"../../examples/02_annuities_in_payment/tables/Germany_Annuities_DAV2004R/Germany_Annuities_DAV2004R_AV.csv\"\n",
    "selects_path = \"../../examples/02_annuities_in_payment/tables/Germany_Annuities_DAV2004R/Germany_Annuities_DAV2004R_Select.csv\"\n",
    "\n",
    "df_base_rates = pd.read_csv(b20base_rates_path, header=[0, 1], index_col=0, skiprows=1)\n",
    "df_base_rates.head()"
   ]
  },
  {
   "cell_type": "code",
   "execution_count": 112,
   "id": "5b3b87a2",
   "metadata": {},
   "outputs": [
    {
     "data": {
      "text/plain": [
       "array([[9.20000e-05, 7.30000e-05],\n",
       "       [9.20000e-05, 7.30000e-05],\n",
       "       [9.20000e-05, 7.30000e-05],\n",
       "       [9.20000e-05, 7.30000e-05],\n",
       "       [9.20000e-05, 7.30000e-05],\n",
       "       [9.20000e-05, 7.30000e-05],\n",
       "       [9.20000e-05, 7.30000e-05],\n",
       "       [9.20000e-05, 7.30000e-05],\n",
       "       [9.20000e-05, 7.30000e-05],\n",
       "       [9.20000e-05, 7.30000e-05],\n",
       "       [9.20000e-05, 7.30000e-05],\n",
       "       [1.09000e-04, 7.90000e-05],\n",
       "       [1.15000e-04, 8.30000e-05],\n",
       "       [1.27000e-04, 8.80000e-05],\n",
       "       [1.55000e-04, 1.02000e-04],\n",
       "       [2.14000e-04, 1.34000e-04],\n",
       "       [3.07000e-04, 1.61000e-04],\n",
       "       [4.05000e-04, 1.85000e-04],\n",
       "       [6.63000e-04, 2.23000e-04],\n",
       "       [6.65000e-04, 2.23000e-04],\n",
       "       [6.65000e-04, 2.23000e-04],\n",
       "       [6.65000e-04, 2.23000e-04],\n",
       "       [6.65000e-04, 2.23000e-04],\n",
       "       [6.65000e-04, 2.23000e-04],\n",
       "       [6.65000e-04, 2.46000e-04],\n",
       "       [6.65000e-04, 2.50000e-04],\n",
       "       [6.65000e-04, 2.50000e-04],\n",
       "       [6.65000e-04, 2.61000e-04],\n",
       "       [6.65000e-04, 2.87000e-04],\n",
       "       [6.65000e-04, 3.11000e-04],\n",
       "       [6.65000e-04, 3.23000e-04],\n",
       "       [6.72000e-04, 3.35000e-04],\n",
       "       [6.95000e-04, 3.53000e-04],\n",
       "       [7.36000e-04, 3.83000e-04],\n",
       "       [7.92000e-04, 4.27000e-04],\n",
       "       [8.61000e-04, 4.82000e-04],\n",
       "       [9.45000e-04, 5.43000e-04],\n",
       "       [1.04900e-03, 6.08000e-04],\n",
       "       [1.16400e-03, 6.72000e-04],\n",
       "       [1.28100e-03, 7.40000e-04],\n",
       "       [1.40100e-03, 8.17000e-04],\n",
       "       [1.52400e-03, 8.99000e-04],\n",
       "       [1.64800e-03, 9.83000e-04],\n",
       "       [1.78100e-03, 1.06600e-03],\n",
       "       [1.92400e-03, 1.14800e-03],\n",
       "       [2.02900e-03, 1.21200e-03],\n",
       "       [2.14400e-03, 1.28400e-03],\n",
       "       [2.26800e-03, 1.36100e-03],\n",
       "       [2.39700e-03, 1.43900e-03],\n",
       "       [2.52900e-03, 1.51400e-03],\n",
       "       [2.66400e-03, 1.58200e-03],\n",
       "       [2.81000e-03, 1.64500e-03],\n",
       "       [2.96000e-03, 1.70200e-03],\n",
       "       [3.10800e-03, 1.76100e-03],\n",
       "       [3.24600e-03, 1.82700e-03],\n",
       "       [3.37100e-03, 1.90200e-03],\n",
       "       [3.48700e-03, 1.99000e-03],\n",
       "       [3.60800e-03, 2.09400e-03],\n",
       "       [3.74200e-03, 2.20400e-03],\n",
       "       [3.90600e-03, 2.32600e-03],\n",
       "       [4.10800e-03, 2.45900e-03],\n",
       "       [4.37900e-03, 2.60600e-03],\n",
       "       [4.72000e-03, 2.76600e-03],\n",
       "       [5.12300e-03, 2.94000e-03],\n",
       "       [5.56500e-03, 3.11900e-03],\n",
       "       [6.01400e-03, 3.33500e-03],\n",
       "       [6.50000e-03, 3.53200e-03],\n",
       "       [7.10200e-03, 3.82200e-03],\n",
       "       [7.71700e-03, 4.17200e-03],\n",
       "       [8.34400e-03, 4.55200e-03],\n",
       "       [8.99100e-03, 4.95600e-03],\n",
       "       [9.67400e-03, 5.42500e-03],\n",
       "       [1.04240e-02, 5.93000e-03],\n",
       "       [1.12610e-02, 6.45000e-03],\n",
       "       [1.22100e-02, 7.04200e-03],\n",
       "       [1.33540e-02, 7.72700e-03],\n",
       "       [1.46940e-02, 8.48100e-03],\n",
       "       [1.63000e-02, 9.27400e-03],\n",
       "       [1.82230e-02, 1.02310e-02],\n",
       "       [2.05350e-02, 1.14390e-02],\n",
       "       [2.33290e-02, 1.30020e-02],\n",
       "       [2.66420e-02, 1.50240e-02],\n",
       "       [3.05470e-02, 1.75990e-02],\n",
       "       [3.50690e-02, 2.07540e-02],\n",
       "       [4.02560e-02, 2.44560e-02],\n",
       "       [4.61640e-02, 2.87660e-02],\n",
       "       [5.28010e-02, 3.37970e-02],\n",
       "       [6.02300e-02, 3.96280e-02],\n",
       "       [6.84720e-02, 4.62690e-02],\n",
       "       [7.75290e-02, 5.37010e-02],\n",
       "       [8.71450e-02, 6.16760e-02],\n",
       "       [9.70580e-02, 6.98690e-02],\n",
       "       [1.07098e-01, 7.82100e-02],\n",
       "       [1.17125e-01, 8.66150e-02],\n",
       "       [1.26959e-01, 9.49850e-02],\n",
       "       [1.36406e-01, 1.03179e-01],\n",
       "       [1.45265e-01, 1.11033e-01],\n",
       "       [1.53355e-01, 1.18374e-01],\n",
       "       [1.61069e-01, 1.25055e-01],\n",
       "       [1.68666e-01, 1.30927e-01],\n",
       "       [1.73981e-01, 1.43358e-01],\n",
       "       [1.81392e-01, 1.50295e-01],\n",
       "       [1.88792e-01, 1.57293e-01],\n",
       "       [1.96181e-01, 1.64354e-01],\n",
       "       [2.03556e-01, 1.71479e-01],\n",
       "       [2.10915e-01, 1.78671e-01],\n",
       "       [2.18255e-01, 1.85929e-01],\n",
       "       [2.25570e-01, 1.93253e-01],\n",
       "       [2.32858e-01, 2.00644e-01],\n",
       "       [2.40111e-01, 2.08101e-01],\n",
       "       [2.47326e-01, 2.15622e-01],\n",
       "       [2.54493e-01, 2.23204e-01],\n",
       "       [2.61605e-01, 2.30844e-01],\n",
       "       [2.68653e-01, 2.38536e-01],\n",
       "       [2.75625e-01, 2.46274e-01],\n",
       "       [2.82509e-01, 2.54049e-01],\n",
       "       [2.89291e-01, 2.61850e-01],\n",
       "       [2.95955e-01, 2.69662e-01],\n",
       "       [3.02482e-01, 2.77468e-01],\n",
       "       [3.08852e-01, 2.85248e-01],\n",
       "       [3.15042e-01, 2.92973e-01],\n",
       "       [1.00000e+00, 1.00000e+00]])"
      ]
     },
     "execution_count": 112,
     "metadata": {},
     "output_type": "execute_result"
    }
   ],
   "source": [
    "base_rates = np.zeros((len(male_base_rates), 2))\n",
    "base_rates[:,  risk_factors.Gender.M] = df_base_rates[(av_type, \"Männer\")].values\n",
    "base_rates[:,  risk_factors.Gender.F] = df_base_rates[(av_type,  \"Frauen\")].values\n",
    "base_rates"
   ]
  },
  {
   "cell_type": "code",
   "execution_count": 113,
   "id": "727db428",
   "metadata": {},
   "outputs": [
    {
     "data": {
      "text/html": [
       "<div>\n",
       "<style scoped>\n",
       "    .dataframe tbody tr th:only-of-type {\n",
       "        vertical-align: middle;\n",
       "    }\n",
       "\n",
       "    .dataframe tbody tr th {\n",
       "        vertical-align: top;\n",
       "    }\n",
       "\n",
       "    .dataframe thead th {\n",
       "        text-align: right;\n",
       "    }\n",
       "</style>\n",
       "<table border=\"1\" class=\"dataframe\">\n",
       "  <thead>\n",
       "    <tr style=\"text-align: right;\">\n",
       "      <th></th>\n",
       "      <th>Geburtsjahrgang t</th>\n",
       "      <th>Männer Bestand</th>\n",
       "      <th>Frauen Bestand</th>\n",
       "      <th>Männer B20</th>\n",
       "      <th>Frauen B20</th>\n",
       "      <th>Männer 1. Ordnung</th>\n",
       "      <th>Frauen 1. Ordnung</th>\n",
       "    </tr>\n",
       "  </thead>\n",
       "  <tbody>\n",
       "    <tr>\n",
       "      <th>0</th>\n",
       "      <td>1900</td>\n",
       "      <td>12</td>\n",
       "      <td>10</td>\n",
       "      <td>9</td>\n",
       "      <td>8</td>\n",
       "      <td>NaN</td>\n",
       "      <td>NaN</td>\n",
       "    </tr>\n",
       "    <tr>\n",
       "      <th>1</th>\n",
       "      <td>1901</td>\n",
       "      <td>12</td>\n",
       "      <td>10</td>\n",
       "      <td>9</td>\n",
       "      <td>8</td>\n",
       "      <td>NaN</td>\n",
       "      <td>NaN</td>\n",
       "    </tr>\n",
       "    <tr>\n",
       "      <th>2</th>\n",
       "      <td>1902</td>\n",
       "      <td>12</td>\n",
       "      <td>10</td>\n",
       "      <td>9</td>\n",
       "      <td>8</td>\n",
       "      <td>NaN</td>\n",
       "      <td>NaN</td>\n",
       "    </tr>\n",
       "    <tr>\n",
       "      <th>3</th>\n",
       "      <td>1903</td>\n",
       "      <td>11</td>\n",
       "      <td>10</td>\n",
       "      <td>9</td>\n",
       "      <td>8</td>\n",
       "      <td>NaN</td>\n",
       "      <td>NaN</td>\n",
       "    </tr>\n",
       "    <tr>\n",
       "      <th>4</th>\n",
       "      <td>1904</td>\n",
       "      <td>11</td>\n",
       "      <td>9</td>\n",
       "      <td>9</td>\n",
       "      <td>8</td>\n",
       "      <td>NaN</td>\n",
       "      <td>NaN</td>\n",
       "    </tr>\n",
       "  </tbody>\n",
       "</table>\n",
       "</div>"
      ],
      "text/plain": [
       "   Geburtsjahrgang t  Männer Bestand  Frauen Bestand  Männer B20  Frauen B20  \\\n",
       "0               1900              12              10           9           8   \n",
       "1               1901              12              10           9           8   \n",
       "2               1902              12              10           9           8   \n",
       "3               1903              11              10           9           8   \n",
       "4               1904              11               9           9           8   \n",
       "\n",
       "   Männer 1. Ordnung  Frauen 1. Ordnung  \n",
       "0                NaN                NaN  \n",
       "1                NaN                NaN  \n",
       "2                NaN                NaN  \n",
       "3                NaN                NaN  \n",
       "4                NaN                NaN  "
      ]
     },
     "execution_count": 113,
     "metadata": {},
     "output_type": "execute_result"
    }
   ],
   "source": [
    "# read shift vectors\n",
    "df_shifts = pd.read_csv(av_shifts_path)\n",
    "df_shifts.head()"
   ]
  },
  {
   "cell_type": "code",
   "execution_count": 118,
   "id": "434efeca",
   "metadata": {},
   "outputs": [
    {
     "data": {
      "text/plain": [
       "array([[0.670538, 0.712823],\n",
       "       [0.876209, 0.79823 ],\n",
       "       [0.876209, 0.79823 ],\n",
       "       [0.876209, 0.79823 ],\n",
       "       [0.876209, 0.79823 ]])"
      ]
     },
     "execution_count": 118,
     "metadata": {},
     "output_type": "execute_result"
    }
   ],
   "source": [
    "df_select_factors = pd.read_csv(selects_path, index_col=0, skiprows=1)\n",
    "df_select_factors\n",
    "\n",
    "select_matrix = np.zeros((len(df_select_factors), 2))\n",
    "select_matrix[:, risk_factors.Gender.M] = df_select_factors[\"Männer\"]\n",
    "select_matrix[:, risk_factors.Gender.F] = df_select_factors[\"Frauen\"]\n",
    "select_matrix"
   ]
  },
  {
   "cell_type": "code",
   "execution_count": 54,
   "id": "50d00a03",
   "metadata": {},
   "outputs": [
    {
     "data": {
      "text/plain": [
       "array([[  9.,   8.],\n",
       "       [  9.,   8.],\n",
       "       [  9.,   8.],\n",
       "       [  9.,   8.],\n",
       "       [  9.,   8.],\n",
       "       [  9.,   8.],\n",
       "       [  9.,   8.],\n",
       "       [  9.,   8.],\n",
       "       [  9.,   8.],\n",
       "       [  9.,   8.],\n",
       "       [  9.,   8.],\n",
       "       [  9.,   8.],\n",
       "       [  9.,   8.],\n",
       "       [  9.,   8.],\n",
       "       [  8.,   7.],\n",
       "       [  7.,   7.],\n",
       "       [  7.,   6.],\n",
       "       [  6.,   6.],\n",
       "       [  5.,   5.],\n",
       "       [  5.,   5.],\n",
       "       [  5.,   5.],\n",
       "       [  4.,   4.],\n",
       "       [  4.,   4.],\n",
       "       [  4.,   4.],\n",
       "       [  4.,   4.],\n",
       "       [  4.,   4.],\n",
       "       [  4.,   4.],\n",
       "       [  4.,   4.],\n",
       "       [  4.,   4.],\n",
       "       [  4.,   4.],\n",
       "       [  4.,   4.],\n",
       "       [  3.,   3.],\n",
       "       [  3.,   3.],\n",
       "       [  3.,   3.],\n",
       "       [  3.,   3.],\n",
       "       [  3.,   3.],\n",
       "       [  3.,   3.],\n",
       "       [  3.,   3.],\n",
       "       [  3.,   2.],\n",
       "       [  3.,   2.],\n",
       "       [  2.,   2.],\n",
       "       [  2.,   2.],\n",
       "       [  2.,   2.],\n",
       "       [  2.,   2.],\n",
       "       [  2.,   1.],\n",
       "       [  2.,   1.],\n",
       "       [  1.,   1.],\n",
       "       [  1.,   1.],\n",
       "       [  1.,   1.],\n",
       "       [  1.,   1.],\n",
       "       [  1.,   0.],\n",
       "       [  0.,   0.],\n",
       "       [  0.,   0.],\n",
       "       [  0.,   0.],\n",
       "       [  0.,   0.],\n",
       "       [  0.,   0.],\n",
       "       [ -1.,  -1.],\n",
       "       [ -1.,  -1.],\n",
       "       [ -1.,  -1.],\n",
       "       [ -1.,  -1.],\n",
       "       [ -2.,  -1.],\n",
       "       [ -2.,  -2.],\n",
       "       [ -2.,  -2.],\n",
       "       [ -2.,  -2.],\n",
       "       [ -2.,  -2.],\n",
       "       [ -3.,  -2.],\n",
       "       [ -3.,  -3.],\n",
       "       [ -3.,  -3.],\n",
       "       [ -3.,  -3.],\n",
       "       [ -4.,  -3.],\n",
       "       [ -4.,  -3.],\n",
       "       [ -4.,  -4.],\n",
       "       [ -4.,  -4.],\n",
       "       [ -5.,  -4.],\n",
       "       [ -5.,  -4.],\n",
       "       [ -5.,  -4.],\n",
       "       [ -5.,  -5.],\n",
       "       [ -6.,  -5.],\n",
       "       [ -6.,  -5.],\n",
       "       [ -6.,  -5.],\n",
       "       [ -6.,  -5.],\n",
       "       [ -6.,  -6.],\n",
       "       [ -7.,  -6.],\n",
       "       [ -7.,  -6.],\n",
       "       [ -7.,  -6.],\n",
       "       [ -7.,  -6.],\n",
       "       [ -7.,  -6.],\n",
       "       [ -7.,  -7.],\n",
       "       [ -8.,  -7.],\n",
       "       [ -8.,  -7.],\n",
       "       [ -8.,  -7.],\n",
       "       [ -8.,  -7.],\n",
       "       [ -8.,  -8.],\n",
       "       [ -9.,  -8.],\n",
       "       [ -9.,  -8.],\n",
       "       [ -9.,  -8.],\n",
       "       [ -9.,  -8.],\n",
       "       [-10.,  -9.],\n",
       "       [-10.,  -9.],\n",
       "       [-10.,  -9.],\n",
       "       [-10.,  -9.],\n",
       "       [-11.,  -9.],\n",
       "       [-11.,  -9.],\n",
       "       [-11., -10.],\n",
       "       [-11., -10.],\n",
       "       [-11., -10.],\n",
       "       [-11., -10.],\n",
       "       [-11., -10.],\n",
       "       [-11., -10.],\n",
       "       [-11., -10.],\n",
       "       [-12., -10.],\n",
       "       [-12., -10.],\n",
       "       [-12., -10.],\n",
       "       [-12., -11.],\n",
       "       [-13., -11.],\n",
       "       [-13., -11.],\n",
       "       [-13., -11.],\n",
       "       [-13., -11.],\n",
       "       [-13., -11.],\n",
       "       [-13., -12.],\n",
       "       [-13., -12.]])"
      ]
     },
     "execution_count": 54,
     "metadata": {},
     "output_type": "execute_result"
    }
   ],
   "source": [
    "male_shifts = df_shifts[\"Männer \" + av_type]\n",
    "female_shifts = df_shifts[\"Frauen \" + av_type]\n",
    "male_shifts, female_shifts\n",
    "\n",
    "shifts = np.zeros((len(male_shifts), 2))\n",
    "shifts[:, risk_factors.Gender.M] = male_shifts\n",
    "shifts[:, risk_factors.Gender.F] = female_shifts\n",
    "shifts"
   ]
  },
  {
   "cell_type": "code",
   "execution_count": 44,
   "id": "1215b5e3",
   "metadata": {},
   "outputs": [
    {
     "data": {
      "text/plain": [
       "(array([1940, 1949], dtype=int16), array([0, 1], dtype=int16))"
      ]
     },
     "execution_count": 44,
     "metadata": {},
     "output_type": "execute_result"
    }
   ],
   "source": [
    "birthyear = np.array([1940, 1949], dtype=np.int16)\n",
    "gender = np.array([risk_factors.Gender.M, risk_factors.Gender.F], dtype=np.int16)\n",
    "birthyear, gender"
   ]
  },
  {
   "cell_type": "code",
   "execution_count": 45,
   "id": "9605633e",
   "metadata": {},
   "outputs": [
    {
     "data": {
      "text/plain": [
       "array([2., 1.])"
      ]
     },
     "execution_count": 45,
     "metadata": {},
     "output_type": "execute_result"
    }
   ],
   "source": [
    "applicable_shifts = shifts[birthyear - start_year_shifts, gender]\n",
    "applicable_shifts"
   ]
  },
  {
   "cell_type": "code",
   "execution_count": 35,
   "id": "dfda32da",
   "metadata": {},
   "outputs": [
    {
     "data": {
      "text/plain": [
       "array([1976, 1962], dtype=int16)"
      ]
     },
     "execution_count": 35,
     "metadata": {},
     "output_type": "execute_result"
    }
   ],
   "source": [
    "# load from portfolio\n",
    "portfolio_file = \"../../examples/03_mortality/portfolio/portfolio_small.xlsx\"\n",
    "\n",
    "df_portfolio = pd.read_excel(portfolio_file)\n",
    "\n",
    "df_portfolio[\"DATE_OF_BIRTH\"].dt.year.values.astype(np.int16)"
   ]
  },
  {
   "cell_type": "markdown",
   "id": "80dea97d",
   "metadata": {},
   "source": [
    "## Annuities in Payment"
   ]
  },
  {
   "cell_type": "code",
   "execution_count": 28,
   "id": "5ca85108",
   "metadata": {},
   "outputs": [],
   "source": [
    "import os\n",
    "import numpy as np\n",
    "import pandas as pd\n",
    "\n",
    "import pyprotolinc\n",
    "import pyprotolinc.models.risk_factors as risk_factors"
   ]
  },
  {
   "cell_type": "code",
   "execution_count": null,
   "id": "c6eff03a",
   "metadata": {},
   "outputs": [],
   "source": [
    "table_path = os.path.abspath(os.path.join(pyprotolinc.__path__[0], \"..\", \"data\", \"tables\"))\n",
    "table_path"
   ]
  },
  {
   "cell_type": "code",
   "execution_count": 36,
   "id": "3c450090",
   "metadata": {},
   "outputs": [],
   "source": [
    "from pyprotolinc.assumptions.providers import StandardRatesProvider"
   ]
  },
  {
   "cell_type": "code",
   "execution_count": 87,
   "id": "0bbe9c49",
   "metadata": {},
   "outputs": [],
   "source": [
    "\n",
    "class B20RatesProvider(StandardRatesProvider):\n",
    "    \n",
    "    def __init__(self, values, risk_factors, offsets=None, shifts_table=None):\n",
    "        assert shifts_table is not None, \"No shifts table provided for the B20RatesProvider.\"\n",
    "        super().__init__(values, risk_factors, offsets)\n",
    "        self.shifts_table = shifts_table\n",
    "        self.is_initialized = False\n",
    "    \n",
    "    def initialize(self, **kwargs):\n",
    "        self.years_of_birth = kwargs[\"years_of_birth\"]\n",
    "        self.gender = kwargs[\"gender\"]\n",
    "        \n",
    "        self.applicable_shifts = self.shifts_table[self.years_of_birth - 1900, self.gender].astype(np.int16)\n",
    "        \n",
    "        self.is_initialized = True\n",
    "    \n",
    "    def get_rates(self, length=None, **kwargs):\n",
    "        \n",
    "        assert self.is_initialized, \"B20RatesProvider must be initialized before getting rates.\"\n",
    "        # adjust the ages, make sure they don't become negative\n",
    "        kwargs[\"age\"] = np.maximum(kwargs[\"age\"] + self.applicable_shifts, 0)\n",
    "        \n",
    "        # adjust the ages\n",
    "        return super().get_rates(length, **kwargs)\n",
    "        \n",
    "\n",
    "class DAV2004R_B20:\n",
    "    \"\"\" Represents the DAV2004R_B20 table family for annuities. The table is a\n",
    "        base table with age shifts determined by the year of birth.\n",
    "        Providers can be obtained for:\n",
    "\n",
    "          - best estimate (\"BE\", \"B20\")\n",
    "          - with safety loadings (\"LOADED\", \"1. Ordnung\")\n",
    "          - inforce (\"IF\", \"Bestand\")\n",
    "\n",
    "    \"\"\"\n",
    "    def __init__(self, base_directory):\n",
    "        \n",
    "        b20base_rates_path = os.path.join(base_directory, \"Germany_Annuities_DAV2004R_AVBase.csv\")\n",
    "        av_shifts_path = os.path.join(base_directory, \"Germany_Annuities_DAV2004R_AV.csv\")\n",
    "\n",
    "        self.df_base_rates = pd.read_csv(b20base_rates_path, header=[0, 1], index_col=0, skiprows=1)\n",
    "        self.df_shifts = pd.read_csv(av_shifts_path)\n",
    "\n",
    "    def rates_provider(self, estimate_type=\"BE\"):\n",
    "\n",
    "        if estimate_type == \"BE\" or estimate_type == \"B20\":\n",
    "            av_type =  \"B20\"\n",
    "        elif estimate_type == \"IF\" or estimate_type == \"Bestand\":\n",
    "            av_type = \"Bestand\"\n",
    "        elif estimate_type == \"LOADED\" or estimate_type == \"1. Ordnung\":\n",
    "            av_type = \"1. Ordnung\"\n",
    "        else:\n",
    "            raise Exception(\"Unknown estimate type for DAV2004R_B20: {}\".format(estimate_type))\n",
    "\n",
    "        base_rates = np.zeros((len(self.df_base_rates), 2))\n",
    "        base_rates[:,  risk_factors.Gender.M] = self.df_base_rates[(av_type, \"Männer\")].values\n",
    "        base_rates[:,  risk_factors.Gender.F] = self.df_base_rates[(av_type,  \"Frauen\")].values\n",
    "        \n",
    "        # male_shifts = df_shifts[\"Männer \" + av_type]\n",
    "        # female_shifts = df_shifts[\"Frauen \" + av_type]\n",
    "        shifts = np.zeros((len(self.df_shifts), 2), dtype=np.int16)\n",
    "        shifts[:, risk_factors.Gender.M] = self.df_shifts[\"Männer \" + av_type].values\n",
    "        shifts[:, risk_factors.Gender.F] = self.df_shifts[\"Frauen \" + av_type].values\n",
    "        \n",
    "        provider = B20RatesProvider(base_rates,\n",
    "                                    (risk_factors.Age, risk_factors.Gender),\n",
    "                                    shifts_table=shifts)\n",
    "        return provider"
   ]
  },
  {
   "cell_type": "code",
   "execution_count": 88,
   "id": "96f14291",
   "metadata": {},
   "outputs": [],
   "source": [
    "b20 = DAV2004R_B20(\"../../examples/02_annuities_in_payment/tables/Germany_Annuities_DAV2004R\")\n",
    "provider = b20.rates_provider()\n",
    "\n",
    "provider.initialize(years_of_birth=birthyear, gender=gender)"
   ]
  },
  {
   "cell_type": "code",
   "execution_count": 89,
   "id": "b7d8b919",
   "metadata": {},
   "outputs": [
    {
     "name": "stdout",
     "output_type": "stream",
     "text": [
      "{'age': array([40, 50], dtype=int16), 'gender': array([0, 1], dtype=int16)}\n",
      "{'age': array([42, 51], dtype=int16), 'gender': array([0, 1], dtype=int16)}\n"
     ]
    },
    {
     "data": {
      "text/plain": [
       "array([0.001648, 0.001645])"
      ]
     },
     "execution_count": 89,
     "metadata": {},
     "output_type": "execute_result"
    }
   ],
   "source": [
    "ages = np.array([40, 50], dtype=np.int16)\n",
    "provider.get_rates(length=len(ages), age=ages, gender=gender)"
   ]
  },
  {
   "cell_type": "code",
   "execution_count": 76,
   "id": "a0ec4138",
   "metadata": {},
   "outputs": [
    {
     "data": {
      "text/plain": [
       "(array([40, 50], dtype=int16), array([0, 1], dtype=int16))"
      ]
     },
     "execution_count": 76,
     "metadata": {},
     "output_type": "execute_result"
    }
   ],
   "source": [
    "ages, gender"
   ]
  },
  {
   "cell_type": "markdown",
   "id": "36013d51",
   "metadata": {},
   "source": [
    "### Prepare the Select Factors"
   ]
  },
  {
   "cell_type": "code",
   "execution_count": 100,
   "id": "4f37300c",
   "metadata": {},
   "outputs": [
    {
     "data": {
      "text/html": [
       "<div>\n",
       "<style scoped>\n",
       "    .dataframe tbody tr th:only-of-type {\n",
       "        vertical-align: middle;\n",
       "    }\n",
       "\n",
       "    .dataframe tbody tr th {\n",
       "        vertical-align: top;\n",
       "    }\n",
       "\n",
       "    .dataframe thead th {\n",
       "        text-align: right;\n",
       "    }\n",
       "</style>\n",
       "<table border=\"1\" class=\"dataframe\">\n",
       "  <thead>\n",
       "    <tr style=\"text-align: right;\">\n",
       "      <th></th>\n",
       "      <th>DATE_PORTFOLIO</th>\n",
       "      <th>ID</th>\n",
       "      <th>DATE_OF_BIRTH</th>\n",
       "      <th>DATE_START_OF_COVER</th>\n",
       "      <th>SUM_INSURED</th>\n",
       "      <th>CURRENT_STATUS</th>\n",
       "      <th>SEX</th>\n",
       "      <th>PRODUCT</th>\n",
       "      <th>PRODUCT_PARAMETERS</th>\n",
       "      <th>SMOKERSTATUS</th>\n",
       "      <th>RESERVING_RATE</th>\n",
       "      <th>DATE_OF_DISABLEMENT</th>\n",
       "    </tr>\n",
       "  </thead>\n",
       "  <tbody>\n",
       "    <tr>\n",
       "      <th>0</th>\n",
       "      <td>2021-12-31</td>\n",
       "      <td>1</td>\n",
       "      <td>1976-04-23</td>\n",
       "      <td>2022-01-01</td>\n",
       "      <td>1000</td>\n",
       "      <td>ACTIVE</td>\n",
       "      <td>m</td>\n",
       "      <td>TwoStateDisability</td>\n",
       "      <td>NaN</td>\n",
       "      <td>U</td>\n",
       "      <td>0</td>\n",
       "      <td>2021-02-18</td>\n",
       "    </tr>\n",
       "    <tr>\n",
       "      <th>1</th>\n",
       "      <td>2021-12-31</td>\n",
       "      <td>2</td>\n",
       "      <td>1969-03-03</td>\n",
       "      <td>2022-01-01</td>\n",
       "      <td>100</td>\n",
       "      <td>ACTIVE</td>\n",
       "      <td>f</td>\n",
       "      <td>TwoStateDisability</td>\n",
       "      <td>NaN</td>\n",
       "      <td>U</td>\n",
       "      <td>0</td>\n",
       "      <td>NaT</td>\n",
       "    </tr>\n",
       "    <tr>\n",
       "      <th>2</th>\n",
       "      <td>2021-12-31</td>\n",
       "      <td>3</td>\n",
       "      <td>1970-09-13</td>\n",
       "      <td>2022-01-01</td>\n",
       "      <td>5000</td>\n",
       "      <td>DIS1</td>\n",
       "      <td>f</td>\n",
       "      <td>TwoStateDisability</td>\n",
       "      <td>NaN</td>\n",
       "      <td>U</td>\n",
       "      <td>0</td>\n",
       "      <td>2022-01-01</td>\n",
       "    </tr>\n",
       "    <tr>\n",
       "      <th>3</th>\n",
       "      <td>2021-12-31</td>\n",
       "      <td>1</td>\n",
       "      <td>1976-04-23</td>\n",
       "      <td>2022-01-01</td>\n",
       "      <td>1000</td>\n",
       "      <td>ACTIVE</td>\n",
       "      <td>m</td>\n",
       "      <td>TwoStateDisability</td>\n",
       "      <td>NaN</td>\n",
       "      <td>U</td>\n",
       "      <td>0</td>\n",
       "      <td>NaT</td>\n",
       "    </tr>\n",
       "    <tr>\n",
       "      <th>4</th>\n",
       "      <td>2021-12-31</td>\n",
       "      <td>2</td>\n",
       "      <td>1969-03-03</td>\n",
       "      <td>2022-01-01</td>\n",
       "      <td>100</td>\n",
       "      <td>ACTIVE</td>\n",
       "      <td>f</td>\n",
       "      <td>TwoStateDisability</td>\n",
       "      <td>NaN</td>\n",
       "      <td>U</td>\n",
       "      <td>0</td>\n",
       "      <td>NaT</td>\n",
       "    </tr>\n",
       "  </tbody>\n",
       "</table>\n",
       "</div>"
      ],
      "text/plain": [
       "  DATE_PORTFOLIO  ID DATE_OF_BIRTH DATE_START_OF_COVER  SUM_INSURED  \\\n",
       "0     2021-12-31   1    1976-04-23          2022-01-01         1000   \n",
       "1     2021-12-31   2    1969-03-03          2022-01-01          100   \n",
       "2     2021-12-31   3    1970-09-13          2022-01-01         5000   \n",
       "3     2021-12-31   1    1976-04-23          2022-01-01         1000   \n",
       "4     2021-12-31   2    1969-03-03          2022-01-01          100   \n",
       "\n",
       "  CURRENT_STATUS SEX             PRODUCT  PRODUCT_PARAMETERS SMOKERSTATUS  \\\n",
       "0         ACTIVE   m  TwoStateDisability                 NaN            U   \n",
       "1         ACTIVE   f  TwoStateDisability                 NaN            U   \n",
       "2           DIS1   f  TwoStateDisability                 NaN            U   \n",
       "3         ACTIVE   m  TwoStateDisability                 NaN            U   \n",
       "4         ACTIVE   f  TwoStateDisability                 NaN            U   \n",
       "\n",
       "   RESERVING_RATE DATE_OF_DISABLEMENT  \n",
       "0               0          2021-02-18  \n",
       "1               0                 NaT  \n",
       "2               0          2022-01-01  \n",
       "3               0                 NaT  \n",
       "4               0                 NaT  "
      ]
     },
     "execution_count": 100,
     "metadata": {},
     "output_type": "execute_result"
    }
   ],
   "source": [
    "df_portfolio = pd.read_excel(r\"C:\\Oracle\\PyProtolinc\\examples\\04_two_state_disability\\portfolio\\portfolio_med.xlsx\")\n",
    "df_portfolio.head()"
   ]
  },
  {
   "cell_type": "code",
   "execution_count": 105,
   "id": "2bc86cc0",
   "metadata": {},
   "outputs": [
    {
     "data": {
      "text/plain": [
       "0       2.0\n",
       "1       NaN\n",
       "2       1.0\n",
       "3       NaN\n",
       "4       NaN\n",
       "       ... \n",
       "9995    1.0\n",
       "9996    NaN\n",
       "9997    NaN\n",
       "9998    1.0\n",
       "9999    NaN\n",
       "Name: DATE_OF_DISABLEMENT, Length: 10000, dtype: float64"
      ]
     },
     "execution_count": 105,
     "metadata": {},
     "output_type": "execute_result"
    }
   ],
   "source": [
    "disablement_year = df_portfolio[\"DATE_OF_DISABLEMENT\"].dt.year\n",
    "disablement_month_proj_start = df_portfolio[\"DATE_OF_DISABLEMENT\"].dt.month\n",
    "disablement_month_proj_start"
   ]
  },
  {
   "cell_type": "code",
   "execution_count": 157,
   "id": "80e70c83",
   "metadata": {},
   "outputs": [
    {
     "ename": "AssertionError",
     "evalue": "WHEN in state DISABLED the DATE_OF_DISABLEMENT must be less or equal to the DATE_PORTFOLIO",
     "output_type": "error",
     "traceback": [
      "\u001b[1;31m---------------------------------------------------------------------------\u001b[0m",
      "\u001b[1;31mAssertionError\u001b[0m                            Traceback (most recent call last)",
      "Input \u001b[1;32mIn [157]\u001b[0m, in \u001b[0;36m<cell line: 3>\u001b[1;34m()\u001b[0m\n\u001b[0;32m      1\u001b[0m disabled_according_to_date \u001b[38;5;241m=\u001b[39m df_portfolio\u001b[38;5;241m.\u001b[39mCURRENT_STATUS\u001b[38;5;241m.\u001b[39mstr[:\u001b[38;5;241m3\u001b[39m] \u001b[38;5;241m==\u001b[39m \u001b[38;5;124m\"\u001b[39m\u001b[38;5;124mDIS\u001b[39m\u001b[38;5;124m\"\u001b[39m\n\u001b[0;32m      2\u001b[0m sel1 \u001b[38;5;241m=\u001b[39m df_portfolio\u001b[38;5;241m.\u001b[39mDATE_OF_DISABLEMENT[disabled_according_to_date] \u001b[38;5;241m>\u001b[39m df_portfolio[\u001b[38;5;124m\"\u001b[39m\u001b[38;5;124mDATE_PORTFOLIO\u001b[39m\u001b[38;5;124m\"\u001b[39m][disabled_according_to_date]\n\u001b[1;32m----> 3\u001b[0m \u001b[38;5;28;01massert\u001b[39;00m \u001b[38;5;28mlen\u001b[39m(df_portfolio[disabled_according_to_date][sel1]) \u001b[38;5;241m==\u001b[39m \u001b[38;5;241m0\u001b[39m, \u001b[38;5;124m\"\u001b[39m\u001b[38;5;124mWHEN in state DISABLED the DATE_OF_DISABLEMENT must be less or equal to the DATE_PORTFOLIO\u001b[39m\u001b[38;5;124m\"\u001b[39m\n",
      "\u001b[1;31mAssertionError\u001b[0m: WHEN in state DISABLED the DATE_OF_DISABLEMENT must be less or equal to the DATE_PORTFOLIO"
     ]
    }
   ],
   "source": [
    "disabled_according_to_date = df_portfolio.CURRENT_STATUS.str[:3] == \"DIS\"\n",
    "sel1 = df_portfolio.DATE_OF_DISABLEMENT[disabled_according_to_date] > df_portfolio[\"DATE_PORTFOLIO\"][disabled_according_to_date]\n",
    "assert len(df_portfolio[disabled_according_to_date][sel1]) == 0, \"WHEN in state DISABLED the DATE_OF_DISABLEMENT must be less or equal to the DATE_PORTFOLIO\"\n"
   ]
  },
  {
   "cell_type": "code",
   "execution_count": 156,
   "id": "a361e486",
   "metadata": {},
   "outputs": [
    {
     "data": {
      "text/plain": [
       "2       False\n",
       "5       False\n",
       "8       False\n",
       "11      False\n",
       "14      False\n",
       "        ...  \n",
       "9986    False\n",
       "9989    False\n",
       "9992    False\n",
       "9995    False\n",
       "9998    False\n",
       "Length: 3333, dtype: bool"
      ]
     },
     "execution_count": 156,
     "metadata": {},
     "output_type": "execute_result"
    }
   ],
   "source": [
    "df_portfolio[disabled_according_to_date]\n",
    "sel1"
   ]
  },
  {
   "cell_type": "code",
   "execution_count": 119,
   "id": "1cbafc83",
   "metadata": {},
   "outputs": [
    {
     "data": {
      "text/plain": [
       "array([ 0., nan, -1., ..., nan, -1., nan])"
      ]
     },
     "execution_count": 119,
     "metadata": {},
     "output_type": "execute_result"
    }
   ],
   "source": [
    "from pyprotolinc.portfolio import completed_months_to_date\n",
    "months_disabled_at_start = completed_months_to_date(df_portfolio[\"DATE_OF_DISABLEMENT\"], df_portfolio[\"DATE_PORTFOLIO\"])\n",
    "yearsdisabledifdisabledatstart = months_disabled_at_start // 12\n",
    "yearsdisabledifdisabledatstart"
   ]
  },
  {
   "cell_type": "code",
   "execution_count": 139,
   "id": "25ecdaa2",
   "metadata": {},
   "outputs": [
    {
     "data": {
      "text/plain": [
       "array([0., 0., 0., ..., 0., 0., 0.])"
      ]
     },
     "execution_count": 139,
     "metadata": {},
     "output_type": "execute_result"
    }
   ],
   "source": [
    "select_factor = np.ones(len(yearsdisabledifdisabledatstart))\n",
    "\n",
    "select_factor\n",
    "\n",
    "\n",
    "tmp = np.logical_or(np.isnan(yearsdisabledifdisabledatstart),\n",
    "                    np.nan_to_num(yearsdisabledifdisabledatstart, 0) > 5)\n",
    "\n",
    "tmp = np.logical_or(tmp,\n",
    "                    np.nan_to_num(yearsdisabledifdisabledatstart, 0) < 0)\n",
    "\n",
    "relevant_indexes = np.logical_not(tmp)\n",
    "\n",
    "yearsdisabledifdisabledatstart[relevant_indexes]\n",
    "\n",
    "\n",
    "select_factor[]"
   ]
  },
  {
   "cell_type": "markdown",
   "id": "31b0cb40",
   "metadata": {},
   "source": [
    "### DAV2004R\n",
    "We look at this example from Germany. Annuities in payment are modelled using select factors, gender and age. Reasoning for the select effect is the option to select a lump sum payment at the begin of the annuity payment period."
   ]
  },
  {
   "cell_type": "code",
   "execution_count": null,
   "id": "a735e62e",
   "metadata": {},
   "outputs": [],
   "source": [
    "# read DAV2004R base table\n",
    "dav_2004r_path = os.path.join(table_path, \"Germany_Annuities_DAV2004R\", \"Germany_Annuities_DAV2004R.csv\")\n",
    "\n",
    "tab_DAV2004R_base = pd.read_csv(dav_2004r_path, header=[0, 2, 3], index_col=0)\n",
    "tab_DAV2004R_base"
   ]
  },
  {
   "cell_type": "code",
   "execution_count": null,
   "id": "2d92bf16",
   "metadata": {},
   "outputs": [],
   "source": [
    "ages = np.sort(tab_DAV2004R_base.index.values.astype(np.int32))\n",
    "ages"
   ]
  },
  {
   "cell_type": "code",
   "execution_count": null,
   "id": "8afb78b1",
   "metadata": {},
   "outputs": [],
   "source": [
    "# transform to tabular form\n",
    "df_tmp = tab_DAV2004R_base.unstack()\n",
    "df_tmp.index.names=[\"TABLE_TYPE\", \"ESTIMATE_TYPE\", \"GENDER\", \"AGE\"]\n",
    "df_tmp = df_tmp.reset_index().rename({0: \"QX\"}, axis=1)\n",
    "df_tmp.GENDER = df_tmp.GENDER.map({\"Männer\": risk_factors.Gender.M, \"Frauen\": risk_factors.Gender.F})\n",
    "df_tmp.ESTIMATE_TYPE = df_tmp.ESTIMATE_TYPE.map({'2. Ordnung': \"BE\", 'Bestand': \"?\", '1. Ordnung': \"LOADED\"})\n",
    "df_tmp.TABLE_TYPE = df_tmp.TABLE_TYPE.map({'Selektionstafel': \"SELECT\", 'Aggregattafel': \"AGGREGATE\"})\n",
    "df_tmp"
   ]
  },
  {
   "cell_type": "code",
   "execution_count": null,
   "id": "d798d82e",
   "metadata": {},
   "outputs": [],
   "source": [
    "df_tmp.TABLE_TYPE.unique(), df_tmp.ESTIMATE_TYPE.unique()"
   ]
  },
  {
   "cell_type": "code",
   "execution_count": null,
   "id": "e810e727",
   "metadata": {},
   "outputs": [],
   "source": [
    "ages = np.sort(df_tmp.AGE.drop_duplicates())"
   ]
  },
  {
   "cell_type": "code",
   "execution_count": null,
   "id": "ae3ebb6e",
   "metadata": {},
   "outputs": [],
   "source": [
    "def base_table(table_type='AGGREGATE', estimate_type=\"BE\"):\n",
    "    df = df_tmp[(df_tmp.TABLE_TYPE == table_type) & (df_tmp.ESTIMATE_TYPE == estimate_type)]\n",
    "    return df.set_index(['GENDER', 'AGE'])[[\"QX\"]].unstack(\"GENDER\").droplevel(0, axis=1)\n",
    "\n",
    "tab = base_table(table_type='SELECT', estimate_type=\"BE\")\n",
    "tab"
   ]
  },
  {
   "cell_type": "markdown",
   "id": "29e3a0b6",
   "metadata": {},
   "source": [
    "From the documentation we learn that a lookup for this table family requires the following parameters:\n",
    "\n",
    "  * as *meta parameters*:\n",
    "  \n",
    "    * table type: *aggregate* or *select*\n",
    "    * estimate type: *be* or *loaded*\n",
    "    * the trend beginning and ending year offsets $T_1$ and $T_2$\n",
    "  * *gender*\n",
    "  * *age*\n",
    "  * calendar year (to calculate the trend)\n",
    "  * in case the selection table should be used the year of payment (1, 2-5, >5)"
   ]
  },
  {
   "cell_type": "markdown",
   "id": "daf8a6f3",
   "metadata": {},
   "source": [
    "### DAV2004R Trends"
   ]
  },
  {
   "cell_type": "code",
   "execution_count": null,
   "id": "49d4e96b",
   "metadata": {},
   "outputs": [],
   "source": [
    "# read DAV2004R base table\n",
    "dav_2004r_trend_path = os.path.join(table_path, \"Germany_Annuities_DAV2004R\", \"Germany_Annuities_DAV2004R_Trends.csv\")\n",
    "\n",
    "tab_DAV2004R_trends = pd.read_csv(dav_2004r_trend_path, header=[0, 2, 3], index_col=0)\n",
    "\n",
    "# transform to tabular form\n",
    "df_tmp = tab_DAV2004R_trends.unstack()\n",
    "df_tmp.index.names=[\"LONG/SHORT\", \"ESTIMATE_TYPE\", \"GENDER\", \"AGE\"]\n",
    "df_tmp = df_tmp.reset_index().rename({0: \"F\"}, axis=1)\n",
    "df_tmp.GENDER = df_tmp.GENDER.map({\"Männer\": risk_factors.Gender.M, \"Frauen\": risk_factors.Gender.F})\n",
    "df_tmp.ESTIMATE_TYPE = df_tmp.ESTIMATE_TYPE.str.strip().map({'2. Ordnung': \"BE\", 'Bestand': \"?\", '1. Ordnung': \"LOADED\"})\n",
    "df_tmp[\"LONG/SHORT\"] = df_tmp[\"LONG/SHORT\"].map({\n",
    "    'F_1(x)': \"F1\",\n",
    "    'F_1(y)': \"F1\",\n",
    "    'F_2(x)': \"F2\",\n",
    "    'F_2(y)': \"F2\",\n",
    "    'F(x)': \"F\",\n",
    "    'F(y)': \"F\"\n",
    "})\n",
    "df_tmp"
   ]
  },
  {
   "cell_type": "code",
   "execution_count": null,
   "id": "343a9990",
   "metadata": {},
   "outputs": [],
   "source": [
    "# for processing select an estimate type:\n",
    "df_tmp1 = df_tmp[df_tmp.ESTIMATE_TYPE == \"BE\"]\\\n",
    "    .set_index([\"LONG/SHORT\", \"ESTIMATE_TYPE\", \"GENDER\", \"AGE\"])\\\n",
    "    .unstack(\"GENDER\")\\\n",
    "    .droplevel(0, axis=1)\\\n",
    "    .unstack(\"LONG/SHORT\")\\\n",
    "    .droplevel(0, axis=0)\n",
    "\n",
    "df_tmp1"
   ]
  },
  {
   "cell_type": "code",
   "execution_count": null,
   "id": "6c0b92c1",
   "metadata": {},
   "outputs": [],
   "source": [
    "# for processing select an estimate type:\n",
    "df_tmp2 = df_tmp[df_tmp.ESTIMATE_TYPE == \"LOADED\"]\\\n",
    "    .set_index([\"LONG/SHORT\", \"ESTIMATE_TYPE\", \"GENDER\", \"AGE\"])\\\n",
    "    .unstack(\"GENDER\")\\\n",
    "    .droplevel(0, axis=1)\\\n",
    "    .unstack(\"LONG/SHORT\")\\\n",
    "    .droplevel(0, axis=0)\n",
    "\n",
    "df_tmp2"
   ]
  },
  {
   "cell_type": "code",
   "execution_count": null,
   "id": "73210db5",
   "metadata": {},
   "outputs": [],
   "source": []
  },
  {
   "cell_type": "code",
   "execution_count": null,
   "id": "04294d2a",
   "metadata": {},
   "outputs": [],
   "source": []
  },
  {
   "cell_type": "code",
   "execution_count": null,
   "id": "39bdc81e",
   "metadata": {},
   "outputs": [],
   "source": [
    "class MortalityRatesProvider:\n",
    "    \"\"\" Rates provides class is used to return the rates\n",
    "        given selector array for each risk factor. \"\"\"\n",
    "    \n",
    "    def __init__(self, values, risk_factors, offsets=None):\n",
    "        \"\"\" Data to be provided is an n-dimensional numpy array and an iterable of RiskFactors.\"\"\"\n",
    "        self.num_dimensions = len(values.shape)\n",
    "        self.offsets = offsets\n",
    "        if offsets is not None:\n",
    "            assert len(self.offsets) == self.num_dimensions\n",
    "        else:\n",
    "            self.offsets = [0] * self.num_dimensions\n",
    "        assert self.num_dimensions == len(risk_factors), \"Number of risk factors and dimension of values must agree!\"\n",
    "        assert self.num_dimensions >= 0 and self.num_dimensions < 4, \"Number of dimensions must be between 0 and 3\"\n",
    "        self.values = np.copy(values)\n",
    "        self.risk_factors = [rf.__name__.lower() for rf in risk_factors]\n",
    "    \n",
    "    def get_rates(self, **kwargs):\n",
    "        \"\"\" Rates are returned, the arguments must agree with the risk factors and\n",
    "            contain numpy arrays that are used to index the values tensor. \"\"\"\n",
    "        \n",
    "        attr = {k.lower(): v for (k,v) in kwargs.items()}\n",
    "        \n",
    "        # check for unknown risk factors provided\n",
    "        unknown_rfs = kwargs.keys() - set(self.risk_factors)\n",
    "        if unknown_rfs:\n",
    "            raise Exceptions(\"Risk factors unknows for this provider: \" + str(unknown_rfs))\n",
    "        \n",
    "        # order the selectors\n",
    "        selectors = []\n",
    "        for rf_name in self.risk_factors:\n",
    "            selectors.append(attr[rf_name])\n",
    "            \n",
    "        if self.num_dimensions == 0:\n",
    "            return self.values[0]\n",
    "        elif self.num_dimensions == 1:\n",
    "            return self.values[selectors[0] - self.offsets[0]]\n",
    "        elif self.num_dimensions == 2:\n",
    "            return self.values[selectors[0] - self.offsets[0],\n",
    "                               selectors[1] - self.offsets[1]]\n",
    "        elif self.num_dimensions == 3:\n",
    "            return self.values[selectors[0] - self.offsets[0],\n",
    "                               selectors[1] - self.offsets[1],\n",
    "                               selectors[2] - self.offsets[2]]\n",
    "        \n",
    "        raise Exception(\"Method must be implemented in subclass.\")\n",
    "    \n",
    "    def __repr__(self):\n",
    "        return \"<MortalityRatesProvider with factors ({})>\".format(str(self.risk_factors))\n",
    "\n",
    "    \n",
    "class DAV2004R:\n",
    "    \"\"\" Represents the DAV2004R table family for annuities. The table is a generation type family\n",
    "        with risk factors age, gender and (optionally) the select year.\n",
    "    \n",
    "        Providers can be obtained for:\n",
    "        \n",
    "          - best estimate (\"BE\", \"2. Ordnung\")\n",
    "          - with safety loadings (\"LOADED\", \"1. Ordnung\")\n",
    "    \n",
    "    \"\"\"\n",
    "    def __init__(self, base_directory, trend_t1=10, trend_t2=25):\n",
    "        self.base_rates_path = os.path.abspath(os.path.join(base_directory, \"Germany_Annuities_DAV2004R.csv\"))\n",
    "        self.select_rates_path = os.path.abspath(os.path.join(base_directory, \"Germany_Annuities_DAV2004R_Select.csv\"))\n",
    "        self.trend_rates_path = os.path.abspath(os.path.join(base_directory, \"Germany_Annuities_DAV2004R_Trends.csv\"))\n",
    "\n",
    "        self.base_year_trend = 1999\n",
    "        # trend_t1 and trend_t2 are used for the trend flattening\n",
    "        self.trend_t1 = trend_t1\n",
    "        self.trend_t2 = trend_t2\n",
    "        \n",
    "        # load and transform base rates\n",
    "        tab_DAV2004R_base = pd.read_csv(self.base_rates_path, header=[0, 2, 3], index_col=0)\n",
    "        df_tmp = tab_DAV2004R_base.unstack()\n",
    "        df_tmp.index.names=[\"TABLE_TYPE\", \"ESTIMATE_TYPE\", \"GENDER\", \"AGE\"]\n",
    "        df_tmp = df_tmp.reset_index().rename({0: \"QX\"}, axis=1)\n",
    "        df_tmp.GENDER = df_tmp.GENDER.map({\"Männer\": risk_factors.Gender.M, \"Frauen\": risk_factors.Gender.F})\n",
    "        df_tmp.ESTIMATE_TYPE = df_tmp.ESTIMATE_TYPE.map({'2. Ordnung': \"BE\", 'Bestand': \"?\", '1. Ordnung': \"LOADED\"})\n",
    "        df_tmp.TABLE_TYPE = df_tmp.TABLE_TYPE.map({'Selektionstafel': \"SELECT\", 'Aggregattafel': \"AGGREGATE\"})\n",
    "        self.df_base_rates = df_tmp   # .copy()\n",
    "        \n",
    "        # extract the ages\n",
    "        self.ages = np.sort(tab_DAV2004R_base.index.values)\n",
    "        \n",
    "        # load and transform the trends\n",
    "        tab_DAV2004R_trends = pd.read_csv(self.trend_rates_path, header=[0, 2, 3], index_col=0)\n",
    "        df_tmp = tab_DAV2004R_trends.unstack()\n",
    "        df_tmp.index.names=[\"LONG/SHORT\", \"ESTIMATE_TYPE\", \"GENDER\", \"AGE\"]\n",
    "        df_tmp = df_tmp.reset_index().rename({0: \"F\"}, axis=1)\n",
    "        df_tmp.GENDER = df_tmp.GENDER.map({\"Männer\": risk_factors.Gender.M, \"Frauen\": risk_factors.Gender.F})\n",
    "        df_tmp.ESTIMATE_TYPE = df_tmp.ESTIMATE_TYPE.str.strip().map({'2. Ordnung': \"BE\", 'Bestand': \"?\", '1. Ordnung': \"LOADED\"})\n",
    "        df_tmp[\"LONG/SHORT\"] = df_tmp[\"LONG/SHORT\"].map({\n",
    "            'F_1(x)': \"F1\",\n",
    "            'F_1(y)': \"F1\",\n",
    "            'F_2(x)': \"F2\",\n",
    "            'F_2(y)': \"F2\",\n",
    "            'F(x)': \"F\",\n",
    "            'F(y)': \"F\"\n",
    "        })\n",
    "        self.df_trend_rates = df_tmp   # .copy()\n",
    "        \n",
    "        \n",
    "    def rates_provider(self, table_type='AGGREGATE', estimate_type=\"BE\", t_begin=1999, t_end=2150):\n",
    "        \n",
    "        table_type = table_type.upper()\n",
    "        estimate_type = estimate_type.upper()\n",
    "        \n",
    "        df_base = self.df_base_rates[(self.df_base_rates.TABLE_TYPE == table_type) & \n",
    "                                     (self.df_base_rates.ESTIMATE_TYPE == estimate_type)]\n",
    "        df_base = df_base.set_index(['GENDER', 'AGE'])[[\"QX\"]].unstack(\"GENDER\").droplevel(0, axis=1)\n",
    "\n",
    "        df_trend = self.df_trend_rates[self.df_trend_rates.ESTIMATE_TYPE == estimate_type]\\\n",
    "                       .set_index([\"LONG/SHORT\", \"ESTIMATE_TYPE\", \"GENDER\", \"AGE\"])\\\n",
    "                       .unstack(\"GENDER\")\\\n",
    "                       .droplevel(0, axis=1)\\\n",
    "                       .unstack(\"LONG/SHORT\")\\\n",
    "                       .droplevel(0, axis=0)\n",
    "        \n",
    "        table = None\n",
    "        \n",
    "        if estimate_type == \"BE\":\n",
    "            table = _calculate_be_tables_with_trend(t_begin, t_end, self.trend_t1, self.trend_t2, df_base, df_trend)\n",
    "        elif estimate_type == \"LOADED\":\n",
    "            table = _calculate_loaded_tables_with_trend(t_begin, t_end, self.trend_t1, self.trend_t2, df_base, df_trend)\n",
    "        else:\n",
    "            raise Exception(\"Unknow estimate type: {}\".format(estimate_type))\n",
    "        \n",
    "        if table_type == 'AGGREGATE':\n",
    "            # base rates and trend for 'AGGREGATE'\n",
    "            provider = MortalityRatesProvider(table,\n",
    "                                              (risk_factors.CalendarYear, risk_factors.Gender, risk_factors.Age),\n",
    "                                              offsets=(t_begin, 0, 0))\n",
    "        elif table_type == 'SELECT':\n",
    "            raise Exception(\"Not yet implemented.\")\n",
    "        \n",
    "        return provider\n",
    "\n",
    "\n",
    "def _G(t, T1, T2):\n",
    "    \"\"\" Trend interpolation formula, cf.\n",
    "        2018-01-24_DAV-Richtlinie_Herleitung_DAV2004R.pdf (online), p. 43\n",
    "    \"\"\"\n",
    "    if t < 1999:\n",
    "        raise Exception(\"Table not available for years before 1999\")\n",
    "    elif t <= 1999 + T1:\n",
    "        return 1\n",
    "    elif t <= 1999 + T2:\n",
    "        return 1.0 - ((t - 1999 - T1) * (t - 1999 - T1 - 1)) / (2 * (T2 - T1) * (t - 1999))\n",
    "    else:\n",
    "        return (T1 + T2 + 1) / (2 * (t - 1999))\n",
    "\n",
    "    \n",
    "def _calculate_be_tables_with_trend(t_begin, t_end, T1, T2, df_base, df_trend):\n",
    "    \"\"\" Only applicable for BE (not LOADED). Return a three dimensional array containing the mortality\n",
    "        rates indexed by:\n",
    "        \n",
    "          - age\n",
    "          - sex (index 0=M, 1=F)\n",
    "          - calendar year (index 0 corresponds with t_begin)    \n",
    "    \"\"\"\n",
    "    \n",
    "    # create container for the result\n",
    "    res_table = np.zeros((1 + t_end - t_begin, 2, df_base.shape[0]), dtype=np.float64)\n",
    "    \n",
    "    # base data males\n",
    "    qx_male = df_base.values[:, risk_factors.Gender.M]\n",
    "    F1x_male = df_trend[(risk_factors.Gender.M, \"F1\")].values\n",
    "    F2x_male = df_trend[(risk_factors.Gender.M, \"F2\")].values\n",
    "    \n",
    "    # base data females\n",
    "    qx_female = df_base.values[:, risk_factors.Gender.F]\n",
    "    F1x_female = df_trend[(risk_factors.Gender.F, \"F1\")].values\n",
    "    F2x_female = df_trend[(risk_factors.Gender.F, \"F2\")].values\n",
    "    \n",
    "    # trend factors\n",
    "    for t in range(t_begin, 1 + t_end):\n",
    "        g = _G(t, T1, T2)\n",
    "        exponential_arg_male = (F2x_male + g * (F1x_male - F2x_male)) * (t - 1999)\n",
    "        exponential_arg_female = (F2x_female + g * (F1x_female - F2x_female)) * (t - 1999)\n",
    "        res_table[t - t_begin, 0, :] = qx_male * np.exp(-exponential_arg_male)\n",
    "        res_table[t - t_begin, 1, :] = qx_female * np.exp(-exponential_arg_female)\n",
    "    \n",
    "    return res_table\n",
    "\n",
    "\n",
    "def _calculate_loaded_tables_with_trend(t_begin, t_end, T1, T2, df_base, df_trend):\n",
    "    \"\"\" Only applicable for LOADED (not BE)). Return a three dimensional array containing the mortality\n",
    "        rates indexed by:\n",
    "        \n",
    "          - age\n",
    "          - sex (index 0=M, 1=F)\n",
    "          - calendar year (index 0 corresponds with t_begin)    \n",
    "    \"\"\"\n",
    "    \n",
    "    # create container for the result\n",
    "    res_table = np.zeros((1 + t_end - t_begin, 2, df_base.shape[0]), dtype=np.float64)\n",
    "    \n",
    "    # base data males\n",
    "    qx_male = df_base.values[:, risk_factors.Gender.M]\n",
    "    Fx_male = df_trend[(risk_factors.Gender.M, \"F\")].values\n",
    "\n",
    "    # base data females\n",
    "    qx_female = df_base.values[:, risk_factors.Gender.F]\n",
    "    Fx_female = df_trend[(risk_factors.Gender.F, \"F\")].values\n",
    "    \n",
    "    # trend factors\n",
    "    for t in range(t_begin, 1 + t_end):\n",
    "        exponential_arg_male = Fx_male * (t - 1999)\n",
    "        exponential_arg_female = Fx_female * (t - 1999)\n",
    "        res_table[t - t_begin, 0, :] = qx_male * np.exp(-exponential_arg_male)\n",
    "        res_table[t - t_begin, 1, :] = qx_female * np.exp(-exponential_arg_female)\n",
    "    \n",
    "    return res_table\n"
   ]
  },
  {
   "cell_type": "markdown",
   "id": "f5ab30e4",
   "metadata": {},
   "source": [
    "### Use Lib\n"
   ]
  },
  {
   "cell_type": "code",
   "execution_count": 11,
   "id": "bf4ba816",
   "metadata": {},
   "outputs": [],
   "source": [
    "import numpy as np\n",
    "from pyprotolinc.tables import DAV2004R\n",
    "import pyprotolinc.risk_factors as risk_factors\n",
    "\n",
    "dav2004R = DAV2004R()"
   ]
  },
  {
   "cell_type": "code",
   "execution_count": 12,
   "id": "b55d0ff1",
   "metadata": {},
   "outputs": [],
   "source": [
    "\n",
    "\n",
    "# a 20 year old male and a 30 year old female\n",
    "ages = np.array([20, 30], dtype=np.int32)\n",
    "genders = np.array([0, 1], dtype=np.int32)\n",
    "calendaryear = np.array([1999, 1999], dtype=np.int32)\n",
    "\n",
    "# two providers\n",
    "dav2004R_provider_agg_be = dav2004R.rates_provider()\n",
    "dav2004R_provider_agg_loaded = dav2004R.rates_provider(estimate_type=\"LOADED\")"
   ]
  },
  {
   "cell_type": "code",
   "execution_count": 13,
   "id": "23b07986",
   "metadata": {},
   "outputs": [
    {
     "data": {
      "text/plain": [
       "array([0.000743, 0.000348])"
      ]
     },
     "execution_count": 13,
     "metadata": {},
     "output_type": "execute_result"
    }
   ],
   "source": [
    "# aggregate BE\n",
    "dav2004R_provider_agg_be.get_rates(age=ages, gender=genders, calendaryear=calendaryear)"
   ]
  },
  {
   "cell_type": "code",
   "execution_count": 14,
   "id": "4d7e3d20",
   "metadata": {},
   "outputs": [
    {
     "data": {
      "text/plain": [
       "array([0.000627, 0.000291])"
      ]
     },
     "execution_count": 14,
     "metadata": {},
     "output_type": "execute_result"
    }
   ],
   "source": [
    "# loaded BE\n",
    "dav2004R_provider_agg_loaded.get_rates(age=ages, gender=genders, calendaryear=calendaryear)"
   ]
  },
  {
   "cell_type": "code",
   "execution_count": 15,
   "id": "3e05f448",
   "metadata": {},
   "outputs": [
    {
     "data": {
      "text/plain": [
       "array([0.00060662, 0.00028197])"
      ]
     },
     "execution_count": 15,
     "metadata": {},
     "output_type": "execute_result"
    }
   ],
   "source": [
    "dav2004R_provider_agg_loaded.get_rates(age=ages, gender=genders, calendaryear=calendaryear + 1)"
   ]
  },
  {
   "cell_type": "code",
   "execution_count": 16,
   "id": "abd662ed",
   "metadata": {},
   "outputs": [
    {
     "data": {
      "text/plain": [
       "array([4.07600e-03, 3.75000e-04, 2.53000e-04, 1.87000e-04, 1.45000e-04,\n",
       "       1.28000e-04, 1.21000e-04, 1.04000e-04, 1.17000e-04, 1.00000e-04,\n",
       "       9.80000e-05, 1.17000e-04, 1.23000e-04, 1.35000e-04, 1.65000e-04,\n",
       "       2.28000e-04, 3.28000e-04, 4.32000e-04, 7.07000e-04, 7.47000e-04,\n",
       "       7.43000e-04, 7.54000e-04, 7.41000e-04, 7.61000e-04, 7.37000e-04,\n",
       "       7.31000e-04, 7.30000e-04, 7.43000e-04, 7.26000e-04, 7.15000e-04,\n",
       "       7.09000e-04, 7.17000e-04, 7.42000e-04, 7.86000e-04, 8.45000e-04,\n",
       "       9.18000e-04, 1.00800e-03, 1.11900e-03, 1.24200e-03, 1.36700e-03,\n",
       "       1.49500e-03, 1.62600e-03, 1.75800e-03, 1.90000e-03, 2.05300e-03,\n",
       "       2.21700e-03, 2.40000e-03, 2.60100e-03, 2.81300e-03, 3.03800e-03,\n",
       "       3.27400e-03, 3.53400e-03, 3.80700e-03, 4.08800e-03, 4.36700e-03,\n",
       "       4.63600e-03, 4.90100e-03, 5.17900e-03, 5.48500e-03, 5.84600e-03,\n",
       "       6.28100e-03, 6.84800e-03, 7.56600e-03, 8.43800e-03, 9.43900e-03,\n",
       "       1.05330e-02, 1.17790e-02, 1.33390e-02, 1.50380e-02, 1.68690e-02,\n",
       "       1.88320e-02, 2.09370e-02, 2.32300e-02, 2.57190e-02, 2.84360e-02,\n",
       "       3.15420e-02, 3.50060e-02, 3.89650e-02, 4.34960e-02, 4.87240e-02,\n",
       "       5.48080e-02, 6.17480e-02, 6.96280e-02, 7.84790e-02, 8.84050e-02,\n",
       "       9.94470e-02, 1.11543e-01, 1.24661e-01, 1.38599e-01, 1.53150e-01,\n",
       "       1.68138e-01, 1.83559e-01, 1.99321e-01, 2.15417e-01, 2.31810e-01,\n",
       "       2.48460e-01, 2.65339e-01, 2.82439e-01, 2.99718e-01, 3.17104e-01,\n",
       "       3.30487e-01, 3.48131e-01, 3.66086e-01, 3.84354e-01, 4.02934e-01,\n",
       "       4.21824e-01, 4.41023e-01, 4.60525e-01, 4.80327e-01, 5.00419e-01,\n",
       "       5.20793e-01, 5.41435e-01, 5.62330e-01, 5.83459e-01, 6.04801e-01,\n",
       "       6.26326e-01, 6.48003e-01, 6.69795e-01, 6.91657e-01, 7.13536e-01,\n",
       "       7.35375e-01, 1.00000e+00])"
      ]
     },
     "execution_count": 16,
     "metadata": {},
     "output_type": "execute_result"
    }
   ],
   "source": [
    "# check some values\n",
    "dav2004R_provider_agg_be.get_rates(calendaryear=1999, gender=risk_factors.Gender.M, age=np.arange(122))"
   ]
  },
  {
   "cell_type": "code",
   "execution_count": 17,
   "id": "4be60df9",
   "metadata": {},
   "outputs": [
    {
     "data": {
      "text/plain": [
       "array([2.10561130e-03, 1.89167296e-04, 1.24689267e-04, 9.00879952e-05,\n",
       "       6.82826052e-05, 5.89208244e-05, 5.44453734e-05, 4.57431127e-05,\n",
       "       5.03031291e-05, 4.20267595e-05, 4.02595341e-05, 4.69834924e-05,\n",
       "       4.82815618e-05, 5.17996389e-05, 6.18861795e-05, 8.35913503e-05,\n",
       "       1.17548503e-04, 1.51336529e-04, 2.42100787e-04, 2.50042685e-04,\n",
       "       2.43107933e-04, 2.41156198e-04, 2.37242761e-04, 2.48279671e-04,\n",
       "       2.51174298e-04, 2.57428811e-04, 2.62800454e-04, 2.70731524e-04,\n",
       "       2.65261456e-04, 2.60020279e-04, 2.55367350e-04, 2.55201289e-04,\n",
       "       2.60925943e-04, 2.73390395e-04, 2.91027341e-04, 3.12698182e-04,\n",
       "       3.38631738e-04, 3.70034435e-04, 4.04230736e-04, 4.38389567e-04,\n",
       "       4.72774313e-04, 5.06647659e-04, 5.39629001e-04, 5.74565536e-04,\n",
       "       6.12554561e-04, 6.54137406e-04, 7.01807827e-04, 7.55485482e-04,\n",
       "       8.12776406e-04, 8.73461806e-04, 9.35332703e-04, 1.00078900e-03,\n",
       "       1.06810205e-03, 1.13597861e-03, 1.20195245e-03, 1.26481391e-03,\n",
       "       1.32749095e-03, 1.39479809e-03, 1.46963327e-03, 1.55679364e-03,\n",
       "       1.65668471e-03, 1.77914658e-03, 1.92209265e-03, 2.07989301e-03,\n",
       "       2.24055412e-03, 2.39153549e-03, 2.54588420e-03, 2.73720426e-03,\n",
       "       2.92752059e-03, 3.12308526e-03, 3.33472728e-03, 3.57752195e-03,\n",
       "       3.87074230e-03, 4.23071335e-03, 4.67824677e-03, 5.25699826e-03,\n",
       "       5.98118271e-03, 6.89946386e-03, 8.05631696e-03, 9.51598353e-03,\n",
       "       1.13572950e-02, 1.36509545e-02, 1.64888716e-02, 1.99255150e-02,\n",
       "       2.40246337e-02, 2.88780531e-02, 3.45516704e-02, 4.11748047e-02,\n",
       "       4.88871623e-02, 5.78093573e-02, 6.55156549e-02, 7.18866966e-02,\n",
       "       7.82988833e-02, 8.47129536e-02, 9.10768924e-02, 9.73371190e-02,\n",
       "       1.03444993e-01, 1.09363034e-01, 1.15183223e-01, 1.20950769e-01,\n",
       "       1.25109938e-01, 1.30800872e-01, 1.36515378e-01, 1.42252653e-01,\n",
       "       1.48010797e-01, 1.53787587e-01, 1.59581209e-01, 1.65388092e-01,\n",
       "       1.71205826e-01, 1.77029582e-01, 1.82855364e-01, 1.88677193e-01,\n",
       "       1.94488912e-01, 2.00283168e-01, 2.06052137e-01, 2.11785185e-01,\n",
       "       2.17471658e-01, 2.23099227e-01, 2.28653290e-01, 2.34117070e-01,\n",
       "       2.39473007e-01, 1.00000000e+00])"
      ]
     },
     "execution_count": 17,
     "metadata": {},
     "output_type": "execute_result"
    }
   ],
   "source": [
    "# select for future ages of one person\n",
    "dav2004R_provider_agg_be.get_rates(calendaryear=2022 + np.arange(122), gender=risk_factors.Gender.M, age=np.arange(122))"
   ]
  },
  {
   "cell_type": "code",
   "execution_count": null,
   "id": "647949d5",
   "metadata": {},
   "outputs": [],
   "source": []
  }
 ],
 "metadata": {
  "kernelspec": {
   "display_name": "Python 3 (ipykernel)",
   "language": "python",
   "name": "python3"
  },
  "language_info": {
   "codemirror_mode": {
    "name": "ipython",
    "version": 3
   },
   "file_extension": ".py",
   "mimetype": "text/x-python",
   "name": "python",
   "nbconvert_exporter": "python",
   "pygments_lexer": "ipython3",
   "version": "3.10.4"
  }
 },
 "nbformat": 4,
 "nbformat_minor": 5
}

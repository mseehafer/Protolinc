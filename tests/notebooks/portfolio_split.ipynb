{
 "cells": [
  {
   "cell_type": "markdown",
   "id": "b5a5c5a7",
   "metadata": {},
   "source": [
    "### Portfolio-Split"
   ]
  },
  {
   "cell_type": "code",
   "execution_count": 40,
   "id": "decfa2c4",
   "metadata": {},
   "outputs": [
    {
     "data": {
      "text/html": [
       "<div>\n",
       "<style scoped>\n",
       "    .dataframe tbody tr th:only-of-type {\n",
       "        vertical-align: middle;\n",
       "    }\n",
       "\n",
       "    .dataframe tbody tr th {\n",
       "        vertical-align: top;\n",
       "    }\n",
       "\n",
       "    .dataframe thead th {\n",
       "        text-align: right;\n",
       "    }\n",
       "</style>\n",
       "<table border=\"1\" class=\"dataframe\">\n",
       "  <thead>\n",
       "    <tr style=\"text-align: right;\">\n",
       "      <th></th>\n",
       "      <th>DATE_PORTFOLIO</th>\n",
       "      <th>ID</th>\n",
       "      <th>DATE_OF_BIRTH</th>\n",
       "      <th>DATE_START_OF_COVER</th>\n",
       "      <th>SUM_INSURED</th>\n",
       "      <th>CURRENT_STATUS</th>\n",
       "      <th>SEX</th>\n",
       "      <th>PRODUCT</th>\n",
       "      <th>PRODUCT_PARAMETERS</th>\n",
       "      <th>SMOKERSTATUS</th>\n",
       "      <th>RESERVING_RATE</th>\n",
       "      <th>DATE_OF_DISABLEMENT</th>\n",
       "    </tr>\n",
       "  </thead>\n",
       "  <tbody>\n",
       "    <tr>\n",
       "      <th>0</th>\n",
       "      <td>2021-12-31</td>\n",
       "      <td>1</td>\n",
       "      <td>1976-04-23</td>\n",
       "      <td>2022-01-01</td>\n",
       "      <td>1000</td>\n",
       "      <td>ACTIVE</td>\n",
       "      <td>m</td>\n",
       "      <td>TwoStateDisability</td>\n",
       "      <td>NaN</td>\n",
       "      <td>U</td>\n",
       "      <td>0</td>\n",
       "      <td>NaT</td>\n",
       "    </tr>\n",
       "    <tr>\n",
       "      <th>1</th>\n",
       "      <td>2021-12-31</td>\n",
       "      <td>2</td>\n",
       "      <td>1969-03-03</td>\n",
       "      <td>2022-01-01</td>\n",
       "      <td>100</td>\n",
       "      <td>ACTIVE</td>\n",
       "      <td>f</td>\n",
       "      <td>TwoStateDisability</td>\n",
       "      <td>NaN</td>\n",
       "      <td>U</td>\n",
       "      <td>0</td>\n",
       "      <td>NaT</td>\n",
       "    </tr>\n",
       "    <tr>\n",
       "      <th>2</th>\n",
       "      <td>2021-12-31</td>\n",
       "      <td>3</td>\n",
       "      <td>1970-09-13</td>\n",
       "      <td>2022-01-01</td>\n",
       "      <td>5000</td>\n",
       "      <td>DIS1</td>\n",
       "      <td>f</td>\n",
       "      <td>TwoStateDisability</td>\n",
       "      <td>NaN</td>\n",
       "      <td>U</td>\n",
       "      <td>0</td>\n",
       "      <td>2021-12-31</td>\n",
       "    </tr>\n",
       "  </tbody>\n",
       "</table>\n",
       "</div>"
      ],
      "text/plain": [
       "  DATE_PORTFOLIO  ID DATE_OF_BIRTH DATE_START_OF_COVER  SUM_INSURED  \\\n",
       "0     2021-12-31   1    1976-04-23          2022-01-01         1000   \n",
       "1     2021-12-31   2    1969-03-03          2022-01-01          100   \n",
       "2     2021-12-31   3    1970-09-13          2022-01-01         5000   \n",
       "\n",
       "  CURRENT_STATUS SEX             PRODUCT  PRODUCT_PARAMETERS SMOKERSTATUS  \\\n",
       "0         ACTIVE   m  TwoStateDisability                 NaN            U   \n",
       "1         ACTIVE   f  TwoStateDisability                 NaN            U   \n",
       "2           DIS1   f  TwoStateDisability                 NaN            U   \n",
       "\n",
       "   RESERVING_RATE DATE_OF_DISABLEMENT  \n",
       "0               0                 NaT  \n",
       "1               0                 NaT  \n",
       "2               0          2021-12-31  "
      ]
     },
     "execution_count": 40,
     "metadata": {},
     "output_type": "execute_result"
    }
   ],
   "source": [
    "import pandas as pd\n",
    "df = pd.read_excel(r\"C:\\Programming\\python\\PyProtolinc\\examples\\04_two_state_disability\\portfolio\\portfolio_small3.xlsx\")\n",
    "df"
   ]
  },
  {
   "cell_type": "code",
   "execution_count": 29,
   "id": "d4153ab5",
   "metadata": {},
   "outputs": [
    {
     "name": "stdout",
     "output_type": "stream",
     "text": [
      "<class 'pandas.core.frame.DataFrame'>\n",
      "RangeIndex: 3 entries, 0 to 2\n",
      "Data columns (total 12 columns):\n",
      " #   Column               Non-Null Count  Dtype         \n",
      "---  ------               --------------  -----         \n",
      " 0   DATE_PORTFOLIO       3 non-null      datetime64[ns]\n",
      " 1   ID                   3 non-null      int64         \n",
      " 2   DATE_OF_BIRTH        3 non-null      datetime64[ns]\n",
      " 3   DATE_START_OF_COVER  3 non-null      datetime64[ns]\n",
      " 4   SUM_INSURED          3 non-null      int64         \n",
      " 5   CURRENT_STATUS       3 non-null      object        \n",
      " 6   SEX                  3 non-null      object        \n",
      " 7   PRODUCT              3 non-null      object        \n",
      " 8   PRODUCT_PARAMETERS   0 non-null      float64       \n",
      " 9   SMOKERSTATUS         3 non-null      object        \n",
      " 10  RESERVING_RATE       3 non-null      int64         \n",
      " 11  DATE_OF_DISABLEMENT  0 non-null      float64       \n",
      "dtypes: datetime64[ns](3), float64(2), int64(3), object(4)\n",
      "memory usage: 416.0+ bytes\n"
     ]
    }
   ],
   "source": [
    "df.info()"
   ]
  },
  {
   "cell_type": "code",
   "execution_count": 49,
   "id": "ef57f45f",
   "metadata": {},
   "outputs": [
    {
     "data": {
      "text/plain": [
       "(DatetimeIndex(['NaT', 'NaT', '2021-12-31'], dtype='datetime64[ns]', freq=None),\n",
       " DatetimeIndex(['2021-12-31', '2021-12-31', '2021-12-31'], dtype='datetime64[ns]', freq=None))"
      ]
     },
     "execution_count": 49,
     "metadata": {},
     "output_type": "execute_result"
    }
   ],
   "source": [
    "# df.DATE_OF_BIRTH.info()\n",
    "import numpy as np\n",
    "x = df.DATE_OF_BIRTH.dt\n",
    "\n",
    "df.DATE_OF_BIRTH.dtype # == np.datetime64\n",
    "#x.year\n",
    "#x.info()\n",
    "\n",
    "the_date = pd.DatetimeIndex(df.DATE_PORTFOLIO.astype(\"datetime64[ns]\").values)\n",
    "\n",
    "df.DATE_OF_BIRTH.astype(\"datetime64[ns]\").values\n",
    "date_col = pd.DatetimeIndex(df.DATE_OF_DISABLEMENT.astype(\"datetime64[ns]\").values)\n",
    "\n",
    "date_col, the_date"
   ]
  },
  {
   "cell_type": "code",
   "execution_count": 54,
   "id": "a61f25bb",
   "metadata": {},
   "outputs": [
    {
     "data": {
      "text/plain": [
       "Float64Index([-1.0, -1.0, 0.0], dtype='float64')"
      ]
     },
     "execution_count": 54,
     "metadata": {},
     "output_type": "execute_result"
    }
   ],
   "source": [
    "age_in_months0 = \\\n",
    "        the_date.year * 12 + the_date.month \\\n",
    "        - date_col.year * 12 - date_col.month \\\n",
    "        - 1 \\\n",
    "        + (the_date.day >= date_col.day).astype(int)\n",
    "\n",
    "age_in_months0.fillna(-1)"
   ]
  },
  {
   "cell_type": "code",
   "execution_count": null,
   "id": "a3165ac7",
   "metadata": {},
   "outputs": [],
   "source": []
  },
  {
   "cell_type": "code",
   "execution_count": null,
   "id": "639736a5",
   "metadata": {},
   "outputs": [],
   "source": []
  },
  {
   "cell_type": "code",
   "execution_count": 50,
   "id": "57c6ede4",
   "metadata": {},
   "outputs": [
    {
     "ename": "ModuleNotFoundError",
     "evalue": "No module named 'pyprotolinc.models.model_disability_multistate'",
     "output_type": "error",
     "traceback": [
      "\u001b[1;31m---------------------------------------------------------------------------\u001b[0m",
      "\u001b[1;31mModuleNotFoundError\u001b[0m                       Traceback (most recent call last)",
      "Cell \u001b[1;32mIn[50], line 2\u001b[0m\n\u001b[0;32m      1\u001b[0m \u001b[38;5;66;03m# load a portfolio\u001b[39;00m\n\u001b[1;32m----> 2\u001b[0m \u001b[38;5;28;01mfrom\u001b[39;00m \u001b[38;5;21;01mpyprotolinc\u001b[39;00m\u001b[38;5;21;01m.\u001b[39;00m\u001b[38;5;21;01mmodels\u001b[39;00m\u001b[38;5;21;01m.\u001b[39;00m\u001b[38;5;21;01mmodel_disability_multistate\u001b[39;00m \u001b[38;5;28;01mimport\u001b[39;00m MultiStateDisabilityStates\n\u001b[0;32m      3\u001b[0m \u001b[38;5;28;01mfrom\u001b[39;00m \u001b[38;5;21;01mpyprotolinc\u001b[39;00m\u001b[38;5;21;01m.\u001b[39;00m\u001b[38;5;21;01mportfolio\u001b[39;00m \u001b[38;5;28;01mimport\u001b[39;00m Portfolio\n\u001b[0;32m      4\u001b[0m portfolio_path \u001b[38;5;241m=\u001b[39m \u001b[38;5;124mr\u001b[39m\u001b[38;5;124m\"\u001b[39m\u001b[38;5;124mD:\u001b[39m\u001b[38;5;124m\\\u001b[39m\u001b[38;5;124mprogramming\u001b[39m\u001b[38;5;124m\\\u001b[39m\u001b[38;5;124mPyMultiState\u001b[39m\u001b[38;5;124m\\\u001b[39m\u001b[38;5;124mpyprotolinc\u001b[39m\u001b[38;5;124m\\\u001b[39m\u001b[38;5;124mdata\u001b[39m\u001b[38;5;124m\\\u001b[39m\u001b[38;5;124mportfolio\u001b[39m\u001b[38;5;124m\\\u001b[39m\u001b[38;5;124mportfolio_med.xlsx\u001b[39m\u001b[38;5;124m\"\u001b[39m\n",
      "\u001b[1;31mModuleNotFoundError\u001b[0m: No module named 'pyprotolinc.models.model_disability_multistate'"
     ]
    }
   ],
   "source": [
    "# load a portfolio\n",
    "from pyprotolinc.models.model_disability_multistate import MultiStateDisabilityStates\n",
    "from pyprotolinc.portfolio import Portfolio\n",
    "portfolio_path = r\"D:\\programming\\PyMultiState\\pyprotolinc\\data\\portfolio\\portfolio_med.xlsx\"\n",
    "\n",
    "# load the portfolio\n",
    "portfolio = Portfolio(portfolio_path, MultiStateDisabilityStates)\n",
    "portfolio"
   ]
  },
  {
   "cell_type": "code",
   "execution_count": 2,
   "id": "83e45022",
   "metadata": {},
   "outputs": [
    {
     "data": {
      "text/plain": [
       "array([548, 633, 615, ..., 633, 615, 548], dtype=int64)"
      ]
     },
     "execution_count": 2,
     "metadata": {},
     "output_type": "execute_result"
    }
   ],
   "source": [
    "# the initial ages in (completed) months\n",
    "portfolio.initial_ages"
   ]
  },
  {
   "cell_type": "code",
   "execution_count": 3,
   "id": "cd28b497",
   "metadata": {},
   "outputs": [],
   "source": [
    "# IDEA: the assumptions are determined on a yearly basis so that they remain constant for 12 months\n",
    "# for each insured but at which months they switch depends on the insured. More specifically, it depends on the age\n",
    "# definition. Based on what we have so far that would depend on the age in months and months when assumptions \n",
    "# switch is the same for all records which differ in age my full years."
   ]
  },
  {
   "cell_type": "code",
   "execution_count": 4,
   "id": "67560e75",
   "metadata": {},
   "outputs": [
    {
     "data": {
      "text/plain": [
       "array([8, 9, 3, ..., 9, 3, 8], dtype=int64)"
      ]
     },
     "execution_count": 4,
     "metadata": {},
     "output_type": "execute_result"
    }
   ],
   "source": [
    "ages_groups = portfolio.initial_ages % 12\n",
    "ages_groups"
   ]
  },
  {
   "cell_type": "code",
   "execution_count": 5,
   "id": "5d646610",
   "metadata": {},
   "outputs": [
    {
     "name": "stdout",
     "output_type": "stream",
     "text": [
      "[8 9 3]\n"
     ]
    },
    {
     "data": {
      "text/html": [
       "<div>\n",
       "<style scoped>\n",
       "    .dataframe tbody tr th:only-of-type {\n",
       "        vertical-align: middle;\n",
       "    }\n",
       "\n",
       "    .dataframe tbody tr th {\n",
       "        vertical-align: top;\n",
       "    }\n",
       "\n",
       "    .dataframe thead th {\n",
       "        text-align: right;\n",
       "    }\n",
       "</style>\n",
       "<table border=\"1\" class=\"dataframe\">\n",
       "  <thead>\n",
       "    <tr style=\"text-align: right;\">\n",
       "      <th></th>\n",
       "      <th>ages</th>\n",
       "      <th>age_groups</th>\n",
       "    </tr>\n",
       "  </thead>\n",
       "  <tbody>\n",
       "    <tr>\n",
       "      <th>0</th>\n",
       "      <td>548</td>\n",
       "      <td>8</td>\n",
       "    </tr>\n",
       "    <tr>\n",
       "      <th>1</th>\n",
       "      <td>633</td>\n",
       "      <td>9</td>\n",
       "    </tr>\n",
       "    <tr>\n",
       "      <th>2</th>\n",
       "      <td>615</td>\n",
       "      <td>3</td>\n",
       "    </tr>\n",
       "    <tr>\n",
       "      <th>3</th>\n",
       "      <td>548</td>\n",
       "      <td>8</td>\n",
       "    </tr>\n",
       "    <tr>\n",
       "      <th>4</th>\n",
       "      <td>633</td>\n",
       "      <td>9</td>\n",
       "    </tr>\n",
       "  </tbody>\n",
       "</table>\n",
       "</div>"
      ],
      "text/plain": [
       "   ages  age_groups\n",
       "0   548           8\n",
       "1   633           9\n",
       "2   615           3\n",
       "3   548           8\n",
       "4   633           9"
      ]
     },
     "execution_count": 5,
     "metadata": {},
     "output_type": "execute_result"
    }
   ],
   "source": [
    "# illustration\n",
    "import pandas as pd\n",
    "df = pd.DataFrame({\"ages\": portfolio.initial_ages, \"age_groups\": ages_groups})\n",
    "print(df[\"age_groups\"].unique())\n",
    "df.head()"
   ]
  },
  {
   "cell_type": "code",
   "execution_count": 6,
   "id": "7949bfbe",
   "metadata": {},
   "outputs": [
    {
     "data": {
      "text/plain": [
       "(array([3, 8, 9], dtype=int64), array([1, 2, 0, ..., 2, 0, 1], dtype=int64))"
      ]
     },
     "execution_count": 6,
     "metadata": {},
     "output_type": "execute_result"
    }
   ],
   "source": [
    "import numpy as np\n",
    "month_groups, group_inverses = np.unique(ages_groups, return_inverse=True)\n",
    "month_groups, group_inverses"
   ]
  },
  {
   "cell_type": "code",
   "execution_count": 7,
   "id": "483066b9",
   "metadata": {},
   "outputs": [
    {
     "data": {
      "text/plain": [
       "array([   0,    1,    2, ..., 9997, 9998, 9999])"
      ]
     },
     "execution_count": 7,
     "metadata": {},
     "output_type": "execute_result"
    }
   ],
   "source": [
    "# an index for the parent\n",
    "portfolio_index = np.arange(len(portfolio.initial_ages))\n",
    "portfolio_index"
   ]
  },
  {
   "cell_type": "code",
   "execution_count": 8,
   "id": "3aedc47f",
   "metadata": {},
   "outputs": [],
   "source": [
    "sub_portfolio_indexes = [portfolio_index[ages_groups == k] for k in month_groups]"
   ]
  },
  {
   "cell_type": "code",
   "execution_count": 9,
   "id": "c176c768",
   "metadata": {},
   "outputs": [
    {
     "data": {
      "text/plain": [
       "[array([   2,    5,    8, ..., 9992, 9995, 9998]),\n",
       " array([   0,    3,    6, ..., 9993, 9996, 9999]),\n",
       " array([   1,    4,    7, ..., 9991, 9994, 9997])]"
      ]
     },
     "execution_count": 9,
     "metadata": {},
     "output_type": "execute_result"
    }
   ],
   "source": [
    "sub_portfolio_indexes"
   ]
  },
  {
   "cell_type": "code",
   "execution_count": 10,
   "id": "3218f250",
   "metadata": {},
   "outputs": [],
   "source": [
    "# now use the functionality\n",
    "subportfolios = portfolio.split_by_month_in_year()"
   ]
  },
  {
   "cell_type": "code",
   "execution_count": 11,
   "id": "2ea04e63",
   "metadata": {},
   "outputs": [
    {
     "data": {
      "text/plain": [
       "[<pyprotolinc.portfolio.Portfolio at 0x1eafc1b3d00>,\n",
       " <pyprotolinc.portfolio.Portfolio at 0x1eafecc5b20>,\n",
       " <pyprotolinc.portfolio.Portfolio at 0x1eafecc5ca0>]"
      ]
     },
     "execution_count": 11,
     "metadata": {},
     "output_type": "execute_result"
    }
   ],
   "source": [
    "subportfolios"
   ]
  },
  {
   "cell_type": "code",
   "execution_count": 12,
   "id": "6191ffbc",
   "metadata": {},
   "outputs": [
    {
     "data": {
      "text/plain": [
       "[3333, 3334, 3333]"
      ]
     },
     "execution_count": 12,
     "metadata": {},
     "output_type": "execute_result"
    }
   ],
   "source": [
    "[len(sp) for sp in subportfolios]"
   ]
  },
  {
   "cell_type": "code",
   "execution_count": 16,
   "id": "5ed8b0b8",
   "metadata": {},
   "outputs": [
    {
     "data": {
      "text/plain": [
       "([3, 8, 9], True)"
      ]
     },
     "execution_count": 16,
     "metadata": {},
     "output_type": "execute_result"
    }
   ],
   "source": [
    "[sp.common_month for sp in subportfolios], portfolio.common_month is None"
   ]
  },
  {
   "cell_type": "code",
   "execution_count": 15,
   "id": "1671b6fd",
   "metadata": {},
   "outputs": [
    {
     "data": {
      "text/plain": [
       "True"
      ]
     },
     "execution_count": 15,
     "metadata": {},
     "output_type": "execute_result"
    }
   ],
   "source": []
  },
  {
   "cell_type": "code",
   "execution_count": 18,
   "id": "c2fa9573",
   "metadata": {},
   "outputs": [
    {
     "name": "stdout",
     "output_type": "stream",
     "text": [
      "0 A\n",
      "1 B\n"
     ]
    }
   ],
   "source": [
    "for k, l in enumerate(('A', 'B')):\n",
    "    print(k, l)"
   ]
  },
  {
   "cell_type": "code",
   "execution_count": null,
   "id": "5be21b1c",
   "metadata": {},
   "outputs": [],
   "source": []
  }
 ],
 "metadata": {
  "kernelspec": {
   "display_name": "Python 3 (ipykernel)",
   "language": "python",
   "name": "python3"
  },
  "language_info": {
   "codemirror_mode": {
    "name": "ipython",
    "version": 3
   },
   "file_extension": ".py",
   "mimetype": "text/x-python",
   "name": "python",
   "nbconvert_exporter": "python",
   "pygments_lexer": "ipython3",
   "version": "3.10.9"
  }
 },
 "nbformat": 4,
 "nbformat_minor": 5
}

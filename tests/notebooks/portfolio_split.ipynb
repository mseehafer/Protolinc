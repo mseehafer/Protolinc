{
 "cells": [
  {
   "cell_type": "markdown",
   "id": "b5a5c5a7",
   "metadata": {},
   "source": [
    "### Portfolio-Split"
   ]
  },
  {
   "cell_type": "code",
   "execution_count": 1,
   "id": "57c6ede4",
   "metadata": {},
   "outputs": [
    {
     "data": {
      "text/plain": [
       "<pyprotolinc.portfolio.Portfolio at 0x1eafe3c4f40>"
      ]
     },
     "execution_count": 1,
     "metadata": {},
     "output_type": "execute_result"
    }
   ],
   "source": [
    "# load a portfolio\n",
    "from pyprotolinc.models.model_disability_multistate import MultiStateDisabilityStates\n",
    "from pyprotolinc.portfolio import Portfolio\n",
    "portfolio_path = r\"D:\\programming\\PyMultiState\\pyprotolinc\\data\\portfolio\\portfolio_med.xlsx\"\n",
    "\n",
    "# load the portfolio\n",
    "portfolio = Portfolio(portfolio_path, MultiStateDisabilityStates)\n",
    "portfolio"
   ]
  },
  {
   "cell_type": "code",
   "execution_count": 2,
   "id": "83e45022",
   "metadata": {},
   "outputs": [
    {
     "data": {
      "text/plain": [
       "array([548, 633, 615, ..., 633, 615, 548], dtype=int64)"
      ]
     },
     "execution_count": 2,
     "metadata": {},
     "output_type": "execute_result"
    }
   ],
   "source": [
    "# the initial ages in (completed) months\n",
    "portfolio.initial_ages"
   ]
  },
  {
   "cell_type": "code",
   "execution_count": 3,
   "id": "cd28b497",
   "metadata": {},
   "outputs": [],
   "source": [
    "# IDEA: the assumptions are determined on a yearly basis so that they remain constant for 12 months\n",
    "# for each insured but at which months they switch depends on the insured. More specifically, it depends on the age\n",
    "# definition. Based on what we have so far that would depend on the age in months and months when assumptions \n",
    "# switch is the same for all records which differ in age my full years."
   ]
  },
  {
   "cell_type": "code",
   "execution_count": 4,
   "id": "67560e75",
   "metadata": {},
   "outputs": [
    {
     "data": {
      "text/plain": [
       "array([8, 9, 3, ..., 9, 3, 8], dtype=int64)"
      ]
     },
     "execution_count": 4,
     "metadata": {},
     "output_type": "execute_result"
    }
   ],
   "source": [
    "ages_groups = portfolio.initial_ages % 12\n",
    "ages_groups"
   ]
  },
  {
   "cell_type": "code",
   "execution_count": 5,
   "id": "5d646610",
   "metadata": {},
   "outputs": [
    {
     "name": "stdout",
     "output_type": "stream",
     "text": [
      "[8 9 3]\n"
     ]
    },
    {
     "data": {
      "text/html": [
       "<div>\n",
       "<style scoped>\n",
       "    .dataframe tbody tr th:only-of-type {\n",
       "        vertical-align: middle;\n",
       "    }\n",
       "\n",
       "    .dataframe tbody tr th {\n",
       "        vertical-align: top;\n",
       "    }\n",
       "\n",
       "    .dataframe thead th {\n",
       "        text-align: right;\n",
       "    }\n",
       "</style>\n",
       "<table border=\"1\" class=\"dataframe\">\n",
       "  <thead>\n",
       "    <tr style=\"text-align: right;\">\n",
       "      <th></th>\n",
       "      <th>ages</th>\n",
       "      <th>age_groups</th>\n",
       "    </tr>\n",
       "  </thead>\n",
       "  <tbody>\n",
       "    <tr>\n",
       "      <th>0</th>\n",
       "      <td>548</td>\n",
       "      <td>8</td>\n",
       "    </tr>\n",
       "    <tr>\n",
       "      <th>1</th>\n",
       "      <td>633</td>\n",
       "      <td>9</td>\n",
       "    </tr>\n",
       "    <tr>\n",
       "      <th>2</th>\n",
       "      <td>615</td>\n",
       "      <td>3</td>\n",
       "    </tr>\n",
       "    <tr>\n",
       "      <th>3</th>\n",
       "      <td>548</td>\n",
       "      <td>8</td>\n",
       "    </tr>\n",
       "    <tr>\n",
       "      <th>4</th>\n",
       "      <td>633</td>\n",
       "      <td>9</td>\n",
       "    </tr>\n",
       "  </tbody>\n",
       "</table>\n",
       "</div>"
      ],
      "text/plain": [
       "   ages  age_groups\n",
       "0   548           8\n",
       "1   633           9\n",
       "2   615           3\n",
       "3   548           8\n",
       "4   633           9"
      ]
     },
     "execution_count": 5,
     "metadata": {},
     "output_type": "execute_result"
    }
   ],
   "source": [
    "# illustration\n",
    "import pandas as pd\n",
    "df = pd.DataFrame({\"ages\": portfolio.initial_ages, \"age_groups\": ages_groups})\n",
    "print(df[\"age_groups\"].unique())\n",
    "df.head()"
   ]
  },
  {
   "cell_type": "code",
   "execution_count": 6,
   "id": "7949bfbe",
   "metadata": {},
   "outputs": [
    {
     "data": {
      "text/plain": [
       "(array([3, 8, 9], dtype=int64), array([1, 2, 0, ..., 2, 0, 1], dtype=int64))"
      ]
     },
     "execution_count": 6,
     "metadata": {},
     "output_type": "execute_result"
    }
   ],
   "source": [
    "import numpy as np\n",
    "month_groups, group_inverses = np.unique(ages_groups, return_inverse=True)\n",
    "month_groups, group_inverses"
   ]
  },
  {
   "cell_type": "code",
   "execution_count": 7,
   "id": "483066b9",
   "metadata": {},
   "outputs": [
    {
     "data": {
      "text/plain": [
       "array([   0,    1,    2, ..., 9997, 9998, 9999])"
      ]
     },
     "execution_count": 7,
     "metadata": {},
     "output_type": "execute_result"
    }
   ],
   "source": [
    "# an index for the parent\n",
    "portfolio_index = np.arange(len(portfolio.initial_ages))\n",
    "portfolio_index"
   ]
  },
  {
   "cell_type": "code",
   "execution_count": 8,
   "id": "3aedc47f",
   "metadata": {},
   "outputs": [],
   "source": [
    "sub_portfolio_indexes = [portfolio_index[ages_groups == k] for k in month_groups]"
   ]
  },
  {
   "cell_type": "code",
   "execution_count": 9,
   "id": "c176c768",
   "metadata": {},
   "outputs": [
    {
     "data": {
      "text/plain": [
       "[array([   2,    5,    8, ..., 9992, 9995, 9998]),\n",
       " array([   0,    3,    6, ..., 9993, 9996, 9999]),\n",
       " array([   1,    4,    7, ..., 9991, 9994, 9997])]"
      ]
     },
     "execution_count": 9,
     "metadata": {},
     "output_type": "execute_result"
    }
   ],
   "source": [
    "sub_portfolio_indexes"
   ]
  },
  {
   "cell_type": "code",
   "execution_count": 10,
   "id": "3218f250",
   "metadata": {},
   "outputs": [],
   "source": [
    "# now use the functionality\n",
    "subportfolios = portfolio.split_by_month_in_year()"
   ]
  },
  {
   "cell_type": "code",
   "execution_count": 11,
   "id": "2ea04e63",
   "metadata": {},
   "outputs": [
    {
     "data": {
      "text/plain": [
       "[<pyprotolinc.portfolio.Portfolio at 0x1eafc1b3d00>,\n",
       " <pyprotolinc.portfolio.Portfolio at 0x1eafecc5b20>,\n",
       " <pyprotolinc.portfolio.Portfolio at 0x1eafecc5ca0>]"
      ]
     },
     "execution_count": 11,
     "metadata": {},
     "output_type": "execute_result"
    }
   ],
   "source": [
    "subportfolios"
   ]
  },
  {
   "cell_type": "code",
   "execution_count": 12,
   "id": "6191ffbc",
   "metadata": {},
   "outputs": [
    {
     "data": {
      "text/plain": [
       "[3333, 3334, 3333]"
      ]
     },
     "execution_count": 12,
     "metadata": {},
     "output_type": "execute_result"
    }
   ],
   "source": [
    "[len(sp) for sp in subportfolios]"
   ]
  },
  {
   "cell_type": "code",
   "execution_count": 16,
   "id": "5ed8b0b8",
   "metadata": {},
   "outputs": [
    {
     "data": {
      "text/plain": [
       "([3, 8, 9], True)"
      ]
     },
     "execution_count": 16,
     "metadata": {},
     "output_type": "execute_result"
    }
   ],
   "source": [
    "[sp.common_month for sp in subportfolios], portfolio.common_month is None"
   ]
  },
  {
   "cell_type": "code",
   "execution_count": 15,
   "id": "1671b6fd",
   "metadata": {},
   "outputs": [
    {
     "data": {
      "text/plain": [
       "True"
      ]
     },
     "execution_count": 15,
     "metadata": {},
     "output_type": "execute_result"
    }
   ],
   "source": []
  },
  {
   "cell_type": "code",
   "execution_count": 18,
   "id": "c2fa9573",
   "metadata": {},
   "outputs": [
    {
     "name": "stdout",
     "output_type": "stream",
     "text": [
      "0 A\n",
      "1 B\n"
     ]
    }
   ],
   "source": [
    "for k, l in enumerate(('A', 'B')):\n",
    "    print(k, l)"
   ]
  },
  {
   "cell_type": "code",
   "execution_count": null,
   "id": "5be21b1c",
   "metadata": {},
   "outputs": [],
   "source": []
  }
 ],
 "metadata": {
  "kernelspec": {
   "display_name": "Python 3 (ipykernel)",
   "language": "python",
   "name": "python3"
  },
  "language_info": {
   "codemirror_mode": {
    "name": "ipython",
    "version": 3
   },
   "file_extension": ".py",
   "mimetype": "text/x-python",
   "name": "python",
   "nbconvert_exporter": "python",
   "pygments_lexer": "ipython3",
   "version": "3.8.5"
  }
 },
 "nbformat": 4,
 "nbformat_minor": 5
}

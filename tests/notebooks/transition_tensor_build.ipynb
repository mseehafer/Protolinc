{
 "cells": [
  {
   "cell_type": "markdown",
   "id": "616b09c3",
   "metadata": {},
   "source": [
    "### Transition Probability Tensor"
   ]
  },
  {
   "cell_type": "code",
   "execution_count": 18,
   "id": "e6a6ebf8",
   "metadata": {},
   "outputs": [
    {
     "name": "stdout",
     "output_type": "stream",
     "text": [
      "d:\\programming\\PyMultiState\n"
     ]
    }
   ],
   "source": [
    "%cd d:\\programming\\PyMultiState"
   ]
  },
  {
   "cell_type": "code",
   "execution_count": 19,
   "id": "c609ed9e",
   "metadata": {},
   "outputs": [],
   "source": [
    "config_file = \"config.yml\""
   ]
  },
  {
   "cell_type": "code",
   "execution_count": 22,
   "id": "c287eaa6",
   "metadata": {},
   "outputs": [],
   "source": [
    "from protolinc.main import project_cashflows, get_config_from_file\n",
    "run_config = get_config_from_file(config_file)"
   ]
  },
  {
   "cell_type": "code",
   "execution_count": 23,
   "id": "5bffa90e",
   "metadata": {},
   "outputs": [
    {
     "name": "stderr",
     "output_type": "stream",
     "text": [
      "INFO - 2022-06-22 19:49:16,955 - protolinc.main - Mulistate run with config: {'model_name': 'GenericMultiState', 'years_to_simulate': 119, 'portfolio_path': 'protolinc/data/portfolio/portfolio_annuity_small.xlsx', 'assumptions_path': 'run/longevity_assumptions.yaml', 'steps_per_month': 1, 'state_model_name': 'AnnuityRunoffStates', 'timestep_duration': 0.08333333333333333, 'outfile': 'run/_results/ncf_out_generic.csv', 'portfolio_cache': 'run/portfolio_cache', 'profile_out_dir': 'run'}\n",
      "DEBUG - 2022-06-22 19:49:17,021 - protolinc.portfolio - Porfolio file not found in cache.\n",
      "INFO - 2022-06-22 19:49:17,022 - protolinc.portfolio - Reading portfolio data from file d:\\programming\\PyMultiState\\protolinc\\data\\portfolio\\portfolio_annuity_small.xlsx.\n",
      "INFO - 2022-06-22 19:49:19,636 - protolinc.portfolio - Portolio rows: 3\n",
      "INFO - 2022-06-22 19:49:19,639 - protolinc.portfolio - Porfolio saved in cache\n",
      "INFO - 2022-06-22 19:49:19,645 - protolinc.main - Selected product <class 'protolinc.product.Product_AnnuityInPayment'>\n"
     ]
    }
   ],
   "source": [
    "projector = project_cashflows(run_config)"
   ]
  },
  {
   "cell_type": "code",
   "execution_count": null,
   "id": "e11b7a0d",
   "metadata": {},
   "outputs": [],
   "source": [
    "projector"
   ]
  }
 ],
 "metadata": {
  "kernelspec": {
   "display_name": "Python 3 (ipykernel)",
   "language": "python",
   "name": "python3"
  },
  "language_info": {
   "codemirror_mode": {
    "name": "ipython",
    "version": 3
   },
   "file_extension": ".py",
   "mimetype": "text/x-python",
   "name": "python",
   "nbconvert_exporter": "python",
   "pygments_lexer": "ipython3",
   "version": "3.8.5"
  }
 },
 "nbformat": 4,
 "nbformat_minor": 5
}

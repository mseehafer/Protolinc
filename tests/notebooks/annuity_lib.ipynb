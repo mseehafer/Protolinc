{
 "cells": [
  {
   "cell_type": "code",
   "execution_count": 1,
   "id": "d49712e3",
   "metadata": {},
   "outputs": [],
   "source": [
    "from protolinc.tables import DAV2004R\n",
    "\n",
    "dav2004R = DAV2004R()"
   ]
  },
  {
   "cell_type": "code",
   "execution_count": 2,
   "id": "72ee6a8d",
   "metadata": {},
   "outputs": [
    {
     "name": "stdout",
     "output_type": "stream",
     "text": [
      "30.4 ms ± 1.33 ms per loop (mean ± std. dev. of 7 runs, 10 loops each)\n"
     ]
    }
   ],
   "source": [
    "%%timeit\n",
    "dav2004R = DAV2004R()"
   ]
  },
  {
   "cell_type": "code",
   "execution_count": null,
   "id": "1952010c",
   "metadata": {},
   "outputs": [],
   "source": []
  }
 ],
 "metadata": {
  "kernelspec": {
   "display_name": "Python 3 (ipykernel)",
   "language": "python",
   "name": "python3"
  },
  "language_info": {
   "codemirror_mode": {
    "name": "ipython",
    "version": 3
   },
   "file_extension": ".py",
   "mimetype": "text/x-python",
   "name": "python",
   "nbconvert_exporter": "python",
   "pygments_lexer": "ipython3",
   "version": "3.9.12"
  }
 },
 "nbformat": 4,
 "nbformat_minor": 5
}

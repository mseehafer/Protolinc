{
 "cells": [
  {
   "cell_type": "code",
   "execution_count": 1,
   "id": "87cd77a1",
   "metadata": {},
   "outputs": [],
   "source": [
    "import pymongo\n",
    "client = pymongo.MongoClient(\"localhost\", 27017)\n"
   ]
  },
  {
   "cell_type": "code",
   "execution_count": 2,
   "id": "527b3d31",
   "metadata": {},
   "outputs": [
    {
     "data": {
      "text/plain": [
       "['jobs', 'results']"
      ]
     },
     "execution_count": 2,
     "metadata": {},
     "output_type": "execute_result"
    }
   ],
   "source": [
    "db = client.pyprotolinc\n",
    "db.list_collection_names()"
   ]
  },
  {
   "cell_type": "code",
   "execution_count": 3,
   "id": "5c283274",
   "metadata": {},
   "outputs": [],
   "source": [
    "results_col = db.results\n",
    "jobs_col = db.jobs"
   ]
  },
  {
   "cell_type": "code",
   "execution_count": 4,
   "id": "c2b556a7",
   "metadata": {},
   "outputs": [
    {
     "name": "stdout",
     "output_type": "stream",
     "text": [
      "{'_id': '0dc2a52c-ec0b-11ed-a46b-4c034f70a3f9', 'params': {'config_file': '12'}, 'events': [{'type': 'API_JOB_RECEIVED', 'state': 'TO_BE_SUBMITTED', 'timestamp': 1683376773.800887}], 'subtasks': {'d0893d9d-6f68-4f51-9384-09b88ccd88ce': {'task_id': 'd0893d9d-6f68-4f51-9384-09b88ccd88ce', 'root_task_id': 'd0893d9d-6f68-4f51-9384-09b88ccd88ce', 'name': 'pyprotolinc.server.tasks.valuation_run_modular', 'events': [{'hostname': 'worker1@DESKTOP-F633F5A', 'utcoffset': -2, 'pid': 663, 'clock': 2368, 'uuid': 'd0893d9d-6f68-4f51-9384-09b88ccd88ce', 'timestamp': 1683376773.937037, 'type': 'task-started', 'local_received': 1683376773.9412887, 'state': 'STARTED'}, {'hostname': 'worker1@DESKTOP-F633F5A', 'utcoffset': -2, 'pid': 663, 'clock': 2376, 'uuid': 'd0893d9d-6f68-4f51-9384-09b88ccd88ce', 'result': \"'d0893d9d-6f68-4f51-9384-09b88ccd88ce'\", 'runtime': 0.013890489000914386, 'timestamp': 1683376773.956936, 'type': 'task-succeeded', 'local_received': 1683376773.96328, 'state': 'SUCCESS'}]}, 'a7919b2c-9bcf-4361-b3a1-768dbab28ae0': {'task_id': 'a7919b2c-9bcf-4361-b3a1-768dbab28ae0', 'root_task_id': 'd0893d9d-6f68-4f51-9384-09b88ccd88ce', 'name': 'pyprotolinc.server.tasks.valuation_subportfolio', 'events': [{'hostname': 'worker1@DESKTOP-F633F5A', 'utcoffset': -2, 'pid': 663, 'clock': 2372, 'uuid': 'a7919b2c-9bcf-4361-b3a1-768dbab28ae0', 'timestamp': 1683376773.9478524, 'type': 'task-started', 'local_received': 1683376773.9531562, 'state': 'STARTED'}, {'hostname': 'worker1@DESKTOP-F633F5A', 'utcoffset': -2, 'pid': 663, 'clock': 2382, 'uuid': 'a7919b2c-9bcf-4361-b3a1-768dbab28ae0', 'result': '210', 'runtime': 1.0034528830001364, 'timestamp': 1683376774.948184, 'type': 'task-succeeded', 'local_received': 1683376774.949548, 'state': 'SUCCESS'}]}, '27ae64d0-becd-4017-9fbc-7249df7966da': {'task_id': '27ae64d0-becd-4017-9fbc-7249df7966da', 'root_task_id': 'd0893d9d-6f68-4f51-9384-09b88ccd88ce', 'name': 'pyprotolinc.server.tasks.valuation_subportfolio', 'events': [{'hostname': 'worker1@DESKTOP-F633F5A', 'utcoffset': -2, 'pid': 663, 'clock': 2373, 'uuid': '27ae64d0-becd-4017-9fbc-7249df7966da', 'timestamp': 1683376773.9480412, 'type': 'task-started', 'local_received': 1683376773.9565346, 'state': 'STARTED'}, {'hostname': 'worker1@DESKTOP-F633F5A', 'utcoffset': -2, 'pid': 663, 'clock': 2383, 'uuid': '27ae64d0-becd-4017-9fbc-7249df7966da', 'result': '610', 'runtime': 1.0033962009983952, 'timestamp': 1683376774.9482548, 'type': 'task-succeeded', 'local_received': 1683376774.9525437, 'state': 'SUCCESS'}]}, 'f3ecc959-0ec6-4b90-9d03-cc655cddc314': {'task_id': 'f3ecc959-0ec6-4b90-9d03-cc655cddc314', 'root_task_id': 'd0893d9d-6f68-4f51-9384-09b88ccd88ce', 'name': 'pyprotolinc.server.tasks.valuation_subportfolio', 'events': [{'hostname': 'worker1@DESKTOP-F633F5A', 'utcoffset': -2, 'pid': 663, 'clock': 2377, 'uuid': 'f3ecc959-0ec6-4b90-9d03-cc655cddc314', 'timestamp': 1683376773.9570684, 'type': 'task-started', 'local_received': 1683376773.9658365, 'state': 'STARTED'}, {'hostname': 'worker1@DESKTOP-F633F5A', 'utcoffset': -2, 'pid': 663, 'clock': 2385, 'uuid': 'f3ecc959-0ec6-4b90-9d03-cc655cddc314', 'result': '1010', 'runtime': 1.0033737779995135, 'timestamp': 1683376774.9583673, 'type': 'task-succeeded', 'local_received': 1683376774.9612548, 'state': 'SUCCESS'}]}, 'bdb1f5a4-fedf-4c77-8d56-52a6d1be0a52': {'task_id': 'bdb1f5a4-fedf-4c77-8d56-52a6d1be0a52', 'root_task_id': 'd0893d9d-6f68-4f51-9384-09b88ccd88ce', 'name': 'pyprotolinc.server.tasks.valuation_subportfolio', 'events': [{'hostname': 'worker1@DESKTOP-F633F5A', 'utcoffset': -2, 'pid': 663, 'clock': 2378, 'uuid': 'bdb1f5a4-fedf-4c77-8d56-52a6d1be0a52', 'timestamp': 1683376773.957128, 'type': 'task-started', 'local_received': 1683376773.9694564, 'state': 'STARTED'}, {'hostname': 'worker1@DESKTOP-F633F5A', 'utcoffset': -2, 'pid': 663, 'clock': 2384, 'uuid': 'bdb1f5a4-fedf-4c77-8d56-52a6d1be0a52', 'result': '1410', 'runtime': 1.0030009410002094, 'timestamp': 1683376774.9571164, 'type': 'task-succeeded', 'local_received': 1683376774.9584472, 'state': 'SUCCESS'}]}, '23725cf1-ec8b-4365-900e-0d2a4c160018': {'task_id': '23725cf1-ec8b-4365-900e-0d2a4c160018', 'root_task_id': 'd0893d9d-6f68-4f51-9384-09b88ccd88ce', 'name': 'pyprotolinc.server.tasks.valuation_subportfolio', 'events': [{'hostname': 'worker1@DESKTOP-F633F5A', 'utcoffset': -2, 'pid': 663, 'clock': 2379, 'uuid': '23725cf1-ec8b-4365-900e-0d2a4c160018', 'timestamp': 1683376773.96091, 'type': 'task-started', 'local_received': 1683376773.9722264, 'state': 'STARTED'}, {'hostname': 'worker1@DESKTOP-F633F5A', 'utcoffset': -2, 'pid': 663, 'clock': 2387, 'uuid': '23725cf1-ec8b-4365-900e-0d2a4c160018', 'result': '1810', 'runtime': 1.0069056140018802, 'timestamp': 1683376774.9697208, 'type': 'task-succeeded', 'local_received': 1683376774.9718232, 'state': 'SUCCESS'}]}, '34d38344-c6e4-4012-bdaa-9f41d7356bc9': {'task_id': '34d38344-c6e4-4012-bdaa-9f41d7356bc9', 'root_task_id': 'd0893d9d-6f68-4f51-9384-09b88ccd88ce', 'name': 'pyprotolinc.server.tasks.combine_subportflio_results', 'events': [{'hostname': 'worker1@DESKTOP-F633F5A', 'utcoffset': -2, 'pid': 663, 'clock': 2388, 'uuid': '34d38344-c6e4-4012-bdaa-9f41d7356bc9', 'timestamp': 1683376774.9713297, 'type': 'task-started', 'local_received': 1683376774.9744773, 'state': 'STARTED'}, {'hostname': 'worker1@DESKTOP-F633F5A', 'utcoffset': -2, 'pid': 663, 'clock': 2389, 'uuid': '34d38344-c6e4-4012-bdaa-9f41d7356bc9', 'result': '5050', 'runtime': 1.0047527499991702, 'timestamp': 1683376775.9753711, 'type': 'task-succeeded', 'local_received': 1683376775.9774742, 'state': 'SUCCESS'}]}}}\n"
     ]
    }
   ],
   "source": [
    "# delete all: \n",
    "#jobs_col.delete_many(filter={})\n",
    "#results_col.delete_many(filter={})\n",
    "for r in jobs_col.find({}, {\"\"}):\n",
    "    print(r)"
   ]
  },
  {
   "cell_type": "code",
   "execution_count": 5,
   "id": "b01db92a",
   "metadata": {},
   "outputs": [
    {
     "data": {
      "text/plain": [
       "[{'type': 'API_JOB_RECEIVED',\n",
       "  'state': 'TO_BE_SUBMITTED',\n",
       "  'timestamp': 1683376773.800887}]"
      ]
     },
     "execution_count": 5,
     "metadata": {},
     "output_type": "execute_result"
    }
   ],
   "source": [
    "r[\"events\"]"
   ]
  },
  {
   "cell_type": "code",
   "execution_count": 77,
   "id": "c772c7b5",
   "metadata": {},
   "outputs": [
    {
     "data": {
      "text/plain": [
       "1682935865.4772186"
      ]
     },
     "execution_count": 77,
     "metadata": {},
     "output_type": "execute_result"
    }
   ],
   "source": [
    "\n",
    "r[\"events\"][-1]['timestamp']"
   ]
  },
  {
   "cell_type": "markdown",
   "id": "5a02455b",
   "metadata": {},
   "source": [
    "### Job List Query"
   ]
  },
  {
   "cell_type": "code",
   "execution_count": 200,
   "id": "cba952f5",
   "metadata": {},
   "outputs": [],
   "source": [
    "q = jobs_col.aggregate([{\"$project\": {\"latestEvent\": {\"$last\": \"$events\"}, \"firstEvent\": {\"$first\": \"$events\"}}},\n",
    "                            {\"$project\": {\"_id\": 0,\n",
    "                                          \"job_id\": \"$_id\",\n",
    "                                          \"submitted_at\": \"$firstEvent.timestamp\",\n",
    "                                          \"state\": \"$latestEvent.state\",\n",
    "                                          \"timestamp\": \"$latestEvent.timestamp\"}},\n",
    "                            {\"$sort\": {\"submitted_at\": 1}},\n",
    "                            ])\n",
    "\n",
    "q = jobs_col.aggregate([{\"$match\": {\"events.0.timestamp\": {\"$gte\": 1683376773.800887}}},  # filter for started date\n",
    "                        {\"$project\": {\"_id\": True, \"job_started\": {\"$first\": \"$events\"}, \"subtasks\": True}},\n",
    "                        {'$addFields': {'subtasksarr': {\"$objectToArray\": '$subtasks'}}},\n",
    "                        {'$project': {'subtasks_new': '$subtasksarr.v', \"job_started\": \"$job_started.timestamp\"}},\n",
    "                        {'$project': {'subtasks': False, 'subtaskarr': False}},\n",
    "                        {'$unwind': '$subtasks_new'},\n",
    "                        {\"$project\": {\"_id\": True,\n",
    "                                      'name': \"$subtasks_new.name\",\n",
    "                                      \"task_id\": \"$subtasks_new.task_id\",\n",
    "                                      \"job_started\": True,\n",
    "                                      \"firstEvent\": {\"$first\": \"$subtasks_new.events\"},\n",
    "                                      \"latestEvent\": {\"$last\": \"$subtasks_new.events\"}}},\n",
    "                        {'$project': {\"_id\": True, \"name\": True, \"task_id\": True, \"job_started\": True,\n",
    "                                      \"started\": \"$firstEvent.timestamp\",\n",
    "                                      \"latest_update\": \"$latestEvent.timestamp\",\n",
    "                                      \"status\": \"$latestEvent.state\"\n",
    "                                      }},\n",
    "                        {'$sort': {\"_id\": 1, \"started\": 1}},\n",
    "                        {\"$group\": {\"_id\": \"$_id\", \"job_started\": {\"$max\": \"$job_started\"},\n",
    "                                    \"subtasks\": {\"$push\": {\"task_id\": \"$task_id\",\n",
    "                                                               \"name\": \"$name\",\n",
    "                                                               \"status\": \"$status\",\n",
    "                                                               \"started\": \"$started\",\n",
    "                                                               \"latest_update\": \"$latest_update\"}}}},\n",
    "                        {\"$sort\": {\"subtasks.started\": 1}}\n",
    "                        \n",
    "                       ])"
   ]
  },
  {
   "cell_type": "code",
   "execution_count": 201,
   "id": "88d5402b",
   "metadata": {},
   "outputs": [
    {
     "data": {
      "text/plain": [
       "[{'_id': '0dc2a52c-ec0b-11ed-a46b-4c034f70a3f9',\n",
       "  'job_started': 1683376773.800887,\n",
       "  'subtasks': [{'task_id': 'd0893d9d-6f68-4f51-9384-09b88ccd88ce',\n",
       "    'name': 'pyprotolinc.server.tasks.valuation_run_modular',\n",
       "    'status': 'SUCCESS',\n",
       "    'started': 1683376773.937037,\n",
       "    'latest_update': 1683376773.956936},\n",
       "   {'task_id': 'a7919b2c-9bcf-4361-b3a1-768dbab28ae0',\n",
       "    'name': 'pyprotolinc.server.tasks.valuation_subportfolio',\n",
       "    'status': 'SUCCESS',\n",
       "    'started': 1683376773.9478524,\n",
       "    'latest_update': 1683376774.948184},\n",
       "   {'task_id': '27ae64d0-becd-4017-9fbc-7249df7966da',\n",
       "    'name': 'pyprotolinc.server.tasks.valuation_subportfolio',\n",
       "    'status': 'SUCCESS',\n",
       "    'started': 1683376773.9480412,\n",
       "    'latest_update': 1683376774.9482548},\n",
       "   {'task_id': 'f3ecc959-0ec6-4b90-9d03-cc655cddc314',\n",
       "    'name': 'pyprotolinc.server.tasks.valuation_subportfolio',\n",
       "    'status': 'SUCCESS',\n",
       "    'started': 1683376773.9570684,\n",
       "    'latest_update': 1683376774.9583673},\n",
       "   {'task_id': 'bdb1f5a4-fedf-4c77-8d56-52a6d1be0a52',\n",
       "    'name': 'pyprotolinc.server.tasks.valuation_subportfolio',\n",
       "    'status': 'SUCCESS',\n",
       "    'started': 1683376773.957128,\n",
       "    'latest_update': 1683376774.9571164},\n",
       "   {'task_id': '23725cf1-ec8b-4365-900e-0d2a4c160018',\n",
       "    'name': 'pyprotolinc.server.tasks.valuation_subportfolio',\n",
       "    'status': 'SUCCESS',\n",
       "    'started': 1683376773.96091,\n",
       "    'latest_update': 1683376774.9697208},\n",
       "   {'task_id': '34d38344-c6e4-4012-bdaa-9f41d7356bc9',\n",
       "    'name': 'pyprotolinc.server.tasks.combine_subportflio_results',\n",
       "    'status': 'SUCCESS',\n",
       "    'started': 1683376774.9713297,\n",
       "    'latest_update': 1683376775.9753711}]}]"
      ]
     },
     "execution_count": 201,
     "metadata": {},
     "output_type": "execute_result"
    }
   ],
   "source": [
    "x = list(q)[0:3]\n",
    "x"
   ]
  },
  {
   "cell_type": "markdown",
   "id": "ac4ef870",
   "metadata": {},
   "source": [
    "### Job Status Query"
   ]
  },
  {
   "cell_type": "code",
   "execution_count": 91,
   "id": "6abcfe5a",
   "metadata": {},
   "outputs": [],
   "source": []
  },
  {
   "cell_type": "code",
   "execution_count": 92,
   "id": "651f8e10",
   "metadata": {},
   "outputs": [
    {
     "data": {
      "text/plain": [
       "[{'job_id': '16e6225d-69c9-4271-a988-9ab3d7d935f7',\n",
       "  'state': 'SUCCESS',\n",
       "  'ts': '2023-05-01 10:11:05 UTC+0000'}]"
      ]
     },
     "execution_count": 92,
     "metadata": {},
     "output_type": "execute_result"
    }
   ],
   "source": [
    "import pytz\n",
    "from datetime import datetime\n",
    "\n",
    "q = jobs_col.aggregate([{\"$project\": {\"latestEvent\": { \"$last\": \"$events\" }}},\n",
    "                        {\"$project\": {\"_id\": 0, \"job_id\": \"$_id\", \"state\": \"$latestEvent.state\", \"ts\": \"$latestEvent.timestamp\"}}\n",
    "                       ])\n",
    "\n",
    "task_status = []\n",
    "for job_info in list(q):\n",
    "    task_status.append(job_info)\n",
    "    ts = datetime.fromtimestamp(job_info[\"ts\"], pytz.utc)\n",
    "    job_info[\"ts\"] = ts.strftime('%Y-%m-%d %H:%M:%S %Z%z')\n",
    "    # ts.astimezone(pytz.timezone('Europe/Berlin')).strftime('%Y-%m-%d %H:%M:%S %Z%z')\n",
    "\n",
    "task_status"
   ]
  },
  {
   "cell_type": "code",
   "execution_count": 83,
   "id": "126939be",
   "metadata": {},
   "outputs": [],
   "source": []
  },
  {
   "cell_type": "code",
   "execution_count": 86,
   "id": "c4f62807",
   "metadata": {},
   "outputs": [
    {
     "data": {
      "text/plain": [
       "'2023-05-01 12:11:05 CEST+0200'"
      ]
     },
     "execution_count": 86,
     "metadata": {},
     "output_type": "execute_result"
    }
   ],
   "source": [
    "ts = datetime.fromtimestamp(r[\"events\"][-1]['timestamp'], pytz.utc)\n",
    "ts.astimezone(pytz.timezone('Europe/Berlin')).strftime('%Y-%m-%d %H:%M:%S %Z%z')"
   ]
  },
  {
   "cell_type": "code",
   "execution_count": 80,
   "id": "f2152a00",
   "metadata": {},
   "outputs": [
    {
     "name": "stdout",
     "output_type": "stream",
     "text": [
      "Help on built-in function fromtimestamp:\n",
      "\n",
      "fromtimestamp(...) method of builtins.type instance\n",
      "    timestamp[, tz] -> tz's local time from POSIX timestamp.\n",
      "\n"
     ]
    }
   ],
   "source": [
    "help(datetime.fromtimestamp)"
   ]
  },
  {
   "cell_type": "code",
   "execution_count": 99,
   "id": "8ebc1667",
   "metadata": {},
   "outputs": [
    {
     "data": {
      "text/plain": [
       "1682949114.508494"
      ]
     },
     "execution_count": 99,
     "metadata": {},
     "output_type": "execute_result"
    }
   ],
   "source": [
    "from datetime import timezone\n",
    "ts = datetime.now()\n",
    "ts.replace(tzinfo=timezone.utc).timestamp()"
   ]
  },
  {
   "cell_type": "code",
   "execution_count": 100,
   "id": "cf546fe0",
   "metadata": {},
   "outputs": [
    {
     "name": "stdout",
     "output_type": "stream",
     "text": [
      "Help on built-in function now:\n",
      "\n",
      "now(tz=None) method of builtins.type instance\n",
      "    Returns new datetime object representing current time local to tz.\n",
      "    \n",
      "      tz\n",
      "        Timezone object.\n",
      "    \n",
      "    If no tz is specified, uses local timezone.\n",
      "\n"
     ]
    }
   ],
   "source": [
    "help(datetime.now)"
   ]
  },
  {
   "cell_type": "code",
   "execution_count": 103,
   "id": "a93e0c8c",
   "metadata": {},
   "outputs": [
    {
     "data": {
      "text/plain": [
       "1682941998.20702"
      ]
     },
     "execution_count": 103,
     "metadata": {},
     "output_type": "execute_result"
    }
   ],
   "source": [
    "ts = datetime.now(tz=timezone.utc).timestamp()\n",
    "ts"
   ]
  },
  {
   "cell_type": "code",
   "execution_count": null,
   "id": "a876f994",
   "metadata": {},
   "outputs": [],
   "source": []
  }
 ],
 "metadata": {
  "kernelspec": {
   "display_name": "Python 3 (ipykernel)",
   "language": "python",
   "name": "python3"
  },
  "language_info": {
   "codemirror_mode": {
    "name": "ipython",
    "version": 3
   },
   "file_extension": ".py",
   "mimetype": "text/x-python",
   "name": "python",
   "nbconvert_exporter": "python",
   "pygments_lexer": "ipython3",
   "version": "3.10.9"
  }
 },
 "nbformat": 4,
 "nbformat_minor": 5
}

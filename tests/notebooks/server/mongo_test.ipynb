{
 "cells": [
  {
   "cell_type": "code",
   "execution_count": 1,
   "id": "87cd77a1",
   "metadata": {},
   "outputs": [
    {
     "data": {
      "text/plain": [
       "'test'"
      ]
     },
     "execution_count": 1,
     "metadata": {},
     "output_type": "execute_result"
    }
   ],
   "source": [
    "import pymongo\n",
    "client = pymongo.MongoClient(\"localhost\", 27017)\n"
   ]
  },
  {
   "cell_type": "code",
   "execution_count": 8,
   "id": "527b3d31",
   "metadata": {},
   "outputs": [
    {
     "data": {
      "text/plain": [
       "['results', 'jobs']"
      ]
     },
     "execution_count": 8,
     "metadata": {},
     "output_type": "execute_result"
    }
   ],
   "source": [
    "db = client.pyprotolinc\n",
    "db.list_collection_names()"
   ]
  },
  {
   "cell_type": "code",
   "execution_count": 37,
   "id": "5c283274",
   "metadata": {},
   "outputs": [],
   "source": [
    "results_col = db.results\n",
    "jobs_col = db.jobs"
   ]
  },
  {
   "cell_type": "code",
   "execution_count": 105,
   "id": "c2b556a7",
   "metadata": {},
   "outputs": [
    {
     "name": "stdout",
     "output_type": "stream",
     "text": [
      "{'_id': '10565964-e357-4ab9-b57a-4285d4890aeb', 'params': {'config_file': '/mnt/c/Programming/python/PyProtolinc/examples/03_mortality/config_for_cli_runner.yml'}, 'events': [{'type': 'JOB_RECEIVED', 'timestamp': 1682942065.111397}, {'hostname': 'celery@DESKTOP-F633F5A', 'utcoffset': -2, 'pid': 684, 'clock': 6637, 'uuid': '10565964-e357-4ab9-b57a-4285d4890aeb', 'name': 'pyprotolinc.server.tasks.valuation_run', 'args': \"('/mnt/c/Programming/python/PyProtolinc/examples/03_mortality/config_for_cli_runner.yml',)\", 'kwargs': '{}', 'root_id': '10565964-e357-4ab9-b57a-4285d4890aeb', 'parent_id': None, 'retries': 0, 'eta': None, 'expires': None, 'timestamp': 1682942065.125053, 'type': 'task-received', 'local_received': 1682942065.1295567, 'state': 'RECEIVED'}, {'hostname': 'celery@DESKTOP-F633F5A', 'utcoffset': -2, 'pid': 684, 'clock': 6638, 'uuid': '10565964-e357-4ab9-b57a-4285d4890aeb', 'timestamp': 1682942065.1323586, 'type': 'task-started', 'local_received': 1682942065.134752, 'state': 'STARTED'}, {'hostname': 'celery@DESKTOP-F633F5A', 'utcoffset': -2, 'pid': 684, 'clock': 6641, 'uuid': '10565964-e357-4ab9-b57a-4285d4890aeb', 'result': 'None', 'runtime': 1.4949479499991867, 'timestamp': 1682942066.628074, 'type': 'task-succeeded', 'local_received': 1682942066.6293857, 'state': 'SUCCESS'}]}\n"
     ]
    }
   ],
   "source": [
    "# delete all: \n",
    "#jobs_col.delete_many(filter={})\n",
    "#results_col.delete_many(filter={})\n",
    "for r in jobs_col.find():\n",
    "    print(r)"
   ]
  },
  {
   "cell_type": "code",
   "execution_count": 106,
   "id": "b01db92a",
   "metadata": {},
   "outputs": [
    {
     "data": {
      "text/plain": [
       "[{'type': 'JOB_RECEIVED', 'timestamp': 1682942065.111397},\n",
       " {'hostname': 'celery@DESKTOP-F633F5A',\n",
       "  'utcoffset': -2,\n",
       "  'pid': 684,\n",
       "  'clock': 6637,\n",
       "  'uuid': '10565964-e357-4ab9-b57a-4285d4890aeb',\n",
       "  'name': 'pyprotolinc.server.tasks.valuation_run',\n",
       "  'args': \"('/mnt/c/Programming/python/PyProtolinc/examples/03_mortality/config_for_cli_runner.yml',)\",\n",
       "  'kwargs': '{}',\n",
       "  'root_id': '10565964-e357-4ab9-b57a-4285d4890aeb',\n",
       "  'parent_id': None,\n",
       "  'retries': 0,\n",
       "  'eta': None,\n",
       "  'expires': None,\n",
       "  'timestamp': 1682942065.125053,\n",
       "  'type': 'task-received',\n",
       "  'local_received': 1682942065.1295567,\n",
       "  'state': 'RECEIVED'},\n",
       " {'hostname': 'celery@DESKTOP-F633F5A',\n",
       "  'utcoffset': -2,\n",
       "  'pid': 684,\n",
       "  'clock': 6638,\n",
       "  'uuid': '10565964-e357-4ab9-b57a-4285d4890aeb',\n",
       "  'timestamp': 1682942065.1323586,\n",
       "  'type': 'task-started',\n",
       "  'local_received': 1682942065.134752,\n",
       "  'state': 'STARTED'},\n",
       " {'hostname': 'celery@DESKTOP-F633F5A',\n",
       "  'utcoffset': -2,\n",
       "  'pid': 684,\n",
       "  'clock': 6641,\n",
       "  'uuid': '10565964-e357-4ab9-b57a-4285d4890aeb',\n",
       "  'result': 'None',\n",
       "  'runtime': 1.4949479499991867,\n",
       "  'timestamp': 1682942066.628074,\n",
       "  'type': 'task-succeeded',\n",
       "  'local_received': 1682942066.6293857,\n",
       "  'state': 'SUCCESS'}]"
      ]
     },
     "execution_count": 106,
     "metadata": {},
     "output_type": "execute_result"
    }
   ],
   "source": [
    "r[\"events\"]"
   ]
  },
  {
   "cell_type": "code",
   "execution_count": 77,
   "id": "c772c7b5",
   "metadata": {},
   "outputs": [
    {
     "data": {
      "text/plain": [
       "1682935865.4772186"
      ]
     },
     "execution_count": 77,
     "metadata": {},
     "output_type": "execute_result"
    }
   ],
   "source": [
    "\n",
    "r[\"events\"][-1]['timestamp']"
   ]
  },
  {
   "cell_type": "markdown",
   "id": "ac4ef870",
   "metadata": {},
   "source": [
    "### Job Status Query"
   ]
  },
  {
   "cell_type": "code",
   "execution_count": 91,
   "id": "6abcfe5a",
   "metadata": {},
   "outputs": [],
   "source": []
  },
  {
   "cell_type": "code",
   "execution_count": 92,
   "id": "651f8e10",
   "metadata": {},
   "outputs": [
    {
     "data": {
      "text/plain": [
       "[{'job_id': '16e6225d-69c9-4271-a988-9ab3d7d935f7',\n",
       "  'state': 'SUCCESS',\n",
       "  'ts': '2023-05-01 10:11:05 UTC+0000'}]"
      ]
     },
     "execution_count": 92,
     "metadata": {},
     "output_type": "execute_result"
    }
   ],
   "source": [
    "import pytz\n",
    "from datetime import datetime\n",
    "\n",
    "q = jobs_col.aggregate([{\"$project\": {\"latestEvent\": { \"$last\": \"$events\" }}},\n",
    "                        {\"$project\": {\"_id\": 0, \"job_id\": \"$_id\", \"state\": \"$latestEvent.state\", \"ts\": \"$latestEvent.timestamp\"}}\n",
    "                       ])\n",
    "\n",
    "task_status = []\n",
    "for job_info in list(q):\n",
    "    task_status.append(job_info)\n",
    "    ts = datetime.fromtimestamp(job_info[\"ts\"], pytz.utc)\n",
    "    job_info[\"ts\"] = ts.strftime('%Y-%m-%d %H:%M:%S %Z%z')\n",
    "    # ts.astimezone(pytz.timezone('Europe/Berlin')).strftime('%Y-%m-%d %H:%M:%S %Z%z')\n",
    "\n",
    "task_status"
   ]
  },
  {
   "cell_type": "code",
   "execution_count": 83,
   "id": "126939be",
   "metadata": {},
   "outputs": [],
   "source": []
  },
  {
   "cell_type": "code",
   "execution_count": 86,
   "id": "c4f62807",
   "metadata": {},
   "outputs": [
    {
     "data": {
      "text/plain": [
       "'2023-05-01 12:11:05 CEST+0200'"
      ]
     },
     "execution_count": 86,
     "metadata": {},
     "output_type": "execute_result"
    }
   ],
   "source": [
    "ts = datetime.fromtimestamp(r[\"events\"][-1]['timestamp'], pytz.utc)\n",
    "ts.astimezone(pytz.timezone('Europe/Berlin')).strftime('%Y-%m-%d %H:%M:%S %Z%z')"
   ]
  },
  {
   "cell_type": "code",
   "execution_count": 80,
   "id": "f2152a00",
   "metadata": {},
   "outputs": [
    {
     "name": "stdout",
     "output_type": "stream",
     "text": [
      "Help on built-in function fromtimestamp:\n",
      "\n",
      "fromtimestamp(...) method of builtins.type instance\n",
      "    timestamp[, tz] -> tz's local time from POSIX timestamp.\n",
      "\n"
     ]
    }
   ],
   "source": [
    "help(datetime.fromtimestamp)"
   ]
  },
  {
   "cell_type": "code",
   "execution_count": 99,
   "id": "8ebc1667",
   "metadata": {},
   "outputs": [
    {
     "data": {
      "text/plain": [
       "1682949114.508494"
      ]
     },
     "execution_count": 99,
     "metadata": {},
     "output_type": "execute_result"
    }
   ],
   "source": [
    "from datetime import timezone\n",
    "ts = datetime.now()\n",
    "ts.replace(tzinfo=timezone.utc).timestamp()"
   ]
  },
  {
   "cell_type": "code",
   "execution_count": 100,
   "id": "cf546fe0",
   "metadata": {},
   "outputs": [
    {
     "name": "stdout",
     "output_type": "stream",
     "text": [
      "Help on built-in function now:\n",
      "\n",
      "now(tz=None) method of builtins.type instance\n",
      "    Returns new datetime object representing current time local to tz.\n",
      "    \n",
      "      tz\n",
      "        Timezone object.\n",
      "    \n",
      "    If no tz is specified, uses local timezone.\n",
      "\n"
     ]
    }
   ],
   "source": [
    "help(datetime.now)"
   ]
  },
  {
   "cell_type": "code",
   "execution_count": 103,
   "id": "a93e0c8c",
   "metadata": {},
   "outputs": [
    {
     "data": {
      "text/plain": [
       "1682941998.20702"
      ]
     },
     "execution_count": 103,
     "metadata": {},
     "output_type": "execute_result"
    }
   ],
   "source": [
    "ts = datetime.now(tz=timezone.utc).timestamp()\n",
    "ts"
   ]
  },
  {
   "cell_type": "code",
   "execution_count": null,
   "id": "a876f994",
   "metadata": {},
   "outputs": [],
   "source": []
  }
 ],
 "metadata": {
  "kernelspec": {
   "display_name": "Python 3 (ipykernel)",
   "language": "python",
   "name": "python3"
  },
  "language_info": {
   "codemirror_mode": {
    "name": "ipython",
    "version": 3
   },
   "file_extension": ".py",
   "mimetype": "text/x-python",
   "name": "python",
   "nbconvert_exporter": "python",
   "pygments_lexer": "ipython3",
   "version": "3.10.9"
  }
 },
 "nbformat": 4,
 "nbformat_minor": 5
}

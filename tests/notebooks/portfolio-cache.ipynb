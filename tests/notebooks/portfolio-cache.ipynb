{
 "cells": [
  {
   "cell_type": "markdown",
   "id": "eabbb366",
   "metadata": {},
   "source": [
    "### Portfolio Cache"
   ]
  },
  {
   "cell_type": "code",
   "execution_count": 1,
   "id": "b7a394e8",
   "metadata": {},
   "outputs": [],
   "source": [
    "portfolio_path = r\"D:\\programming\\PyMultiState\\pyprotolinc\\data\\portfolio\\portfolio_med.xlsx\""
   ]
  },
  {
   "cell_type": "code",
   "execution_count": 5,
   "id": "28f8d8e3",
   "metadata": {},
   "outputs": [],
   "source": [
    "import os\n",
    "from pyprotolinc.portfolio import Portfolio, PortfolioLoader\n",
    "from pyprotolinc.models.model_disability_multistate import MultiStateDisabilityStates"
   ]
  },
  {
   "cell_type": "code",
   "execution_count": 21,
   "id": "b7427c5a",
   "metadata": {},
   "outputs": [],
   "source": [
    "import hashlib\n",
    "import pickle"
   ]
  },
  {
   "cell_type": "code",
   "execution_count": 8,
   "id": "2b18b50a",
   "metadata": {},
   "outputs": [
    {
     "data": {
      "text/plain": [
       "'D:\\\\programming\\\\PyMultiState\\\\pyprotolinc\\\\data\\\\portfolio\\\\portfolio_med.xlsx'"
      ]
     },
     "execution_count": 8,
     "metadata": {},
     "output_type": "execute_result"
    }
   ],
   "source": [
    "portfolio_abs_path = os.path.abspath(portfolio_path)\n",
    "portfolio_abs_path"
   ]
  },
  {
   "cell_type": "code",
   "execution_count": 9,
   "id": "9204d883",
   "metadata": {},
   "outputs": [
    {
     "data": {
      "text/plain": [
       "<enum 'MultiStateDisabilityStates'>"
      ]
     },
     "execution_count": 9,
     "metadata": {},
     "output_type": "execute_result"
    }
   ],
   "source": [
    "MultiStateDisabilityStates"
   ]
  },
  {
   "cell_type": "code",
   "execution_count": 25,
   "id": "e1b7f3a6",
   "metadata": {},
   "outputs": [
    {
     "data": {
      "text/plain": [
       "'0dcd0e11f8fc2dad10b841cc51b9467c'"
      ]
     },
     "execution_count": 25,
     "metadata": {},
     "output_type": "execute_result"
    }
   ],
   "source": [
    "md5 = hashlib.md5()\n",
    "\n",
    "md5.update(portfolio_abs_path.encode('utf-8'))\n",
    "md5.update(pickle.dumps(MultiStateDisabilityStates))\n",
    "\n",
    "md5.hexdigest()"
   ]
  },
  {
   "cell_type": "code",
   "execution_count": 18,
   "id": "1ff52ca0",
   "metadata": {},
   "outputs": [
    {
     "data": {
      "text/plain": [
       "'249325d7906cbf5e26734d4b222422e7'"
      ]
     },
     "execution_count": 18,
     "metadata": {},
     "output_type": "execute_result"
    }
   ],
   "source": []
  },
  {
   "cell_type": "code",
   "execution_count": 23,
   "id": "e9c6694e",
   "metadata": {},
   "outputs": [],
   "source": []
  },
  {
   "cell_type": "code",
   "execution_count": 24,
   "id": "aaf51ccc",
   "metadata": {},
   "outputs": [
    {
     "data": {
      "text/plain": [
       "'0dcd0e11f8fc2dad10b841cc51b9467c'"
      ]
     },
     "execution_count": 24,
     "metadata": {},
     "output_type": "execute_result"
    }
   ],
   "source": [
    "md5.hexdigest() "
   ]
  },
  {
   "cell_type": "code",
   "execution_count": null,
   "id": "40ac492e",
   "metadata": {},
   "outputs": [],
   "source": []
  }
 ],
 "metadata": {
  "kernelspec": {
   "display_name": "Python 3 (ipykernel)",
   "language": "python",
   "name": "python3"
  },
  "language_info": {
   "codemirror_mode": {
    "name": "ipython",
    "version": 3
   },
   "file_extension": ".py",
   "mimetype": "text/x-python",
   "name": "python",
   "nbconvert_exporter": "python",
   "pygments_lexer": "ipython3",
   "version": "3.8.5"
  }
 },
 "nbformat": 4,
 "nbformat_minor": 5
}

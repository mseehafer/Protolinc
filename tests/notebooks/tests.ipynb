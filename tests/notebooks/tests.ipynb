{
 "cells": [
  {
   "cell_type": "code",
   "execution_count": 1,
   "id": "c5a02b7e",
   "metadata": {},
   "outputs": [],
   "source": [
    "### Numpy: Extend Vector by last non-zero element."
   ]
  },
  {
   "cell_type": "code",
   "execution_count": 11,
   "id": "f70708ab",
   "metadata": {},
   "outputs": [
    {
     "data": {
      "text/plain": [
       "(array([ 0,  1,  0,  2, 99,  0,  0]), array([1, 2]), array([0., 0., 0.]))"
      ]
     },
     "execution_count": 11,
     "metadata": {},
     "output_type": "execute_result"
    }
   ],
   "source": [
    "import numpy as np\n",
    "\n",
    "a = np.array([0, 1, 0, 2, 99, 0, 0])\n",
    "b = np.array([1, 2])\n",
    "c = np.zeros(3)\n",
    "a, b, c"
   ]
  },
  {
   "cell_type": "code",
   "execution_count": 17,
   "id": "7a9c251d",
   "metadata": {},
   "outputs": [
    {
     "data": {
      "text/plain": [
       "(4, 1, (array([], dtype=int64),))"
      ]
     },
     "execution_count": 17,
     "metadata": {},
     "output_type": "execute_result"
    }
   ],
   "source": [
    "# find biggest index for a non-zero element \n",
    "np.nonzero(a)[0].max(), np.nonzero(b)[0].max(), np.nonzero(c)"
   ]
  },
  {
   "cell_type": "code",
   "execution_count": 20,
   "id": "b37a2267",
   "metadata": {},
   "outputs": [],
   "source": [
    "def fill_with_last_nonzero_value(x: np.ndarray):\n",
    "    \"\"\" Return a vector which consists of a copy of x but with all trailing zeros\n",
    "        overwritten by with the last non-zero element in the vector.\"\"\"\n",
    "    y = x.copy()\n",
    "    nz = np.nonzero(y)[0]\n",
    "    if len(nz) > 0:\n",
    "        y[nz.max()+1:] = y[nz.max()]\n",
    "    return y"
   ]
  },
  {
   "cell_type": "code",
   "execution_count": 21,
   "id": "2a1448dc",
   "metadata": {},
   "outputs": [
    {
     "data": {
      "text/plain": [
       "(array([ 0,  1,  0,  2, 99, 99, 99]), array([1, 2]), array([0., 0., 0.]))"
      ]
     },
     "execution_count": 21,
     "metadata": {},
     "output_type": "execute_result"
    }
   ],
   "source": [
    "fill_with_last_nonzero_value(a), fill_with_last_nonzero_value(b), fill_with_last_nonzero_value(c)"
   ]
  },
  {
   "cell_type": "markdown",
   "id": "1e4a4cd4",
   "metadata": {},
   "source": [
    "### Numpy broadcasting"
   ]
  },
  {
   "cell_type": "code",
   "execution_count": 2,
   "id": "6f3035b6",
   "metadata": {},
   "outputs": [],
   "source": [
    "import numpy as np"
   ]
  },
  {
   "cell_type": "code",
   "execution_count": 6,
   "id": "6c64431d",
   "metadata": {},
   "outputs": [
    {
     "data": {
      "text/plain": [
       "array([[[ 0,  1,  2,  3,  4],\n",
       "        [ 5,  6,  7,  8,  9]],\n",
       "\n",
       "       [[10, 11, 12, 13, 14],\n",
       "        [15, 16, 17, 18, 19]]])"
      ]
     },
     "execution_count": 6,
     "metadata": {},
     "output_type": "execute_result"
    }
   ],
   "source": [
    "num_states, num_records = 2, 5\n",
    "cf_eom_per_state_change = np.arange(num_states * num_states * num_records).reshape((num_states, num_states, num_records))\n",
    "cf_eom_per_state_change"
   ]
  },
  {
   "cell_type": "markdown",
   "id": "59a141d9",
   "metadata": {},
   "source": [
    "Interpretation: The first row represents the payments due when transitioning form 0 to 0, the second when transitioning from 0 to 1, the third is the transition 1->0, the fourth is 1 -> 0"
   ]
  },
  {
   "cell_type": "code",
   "execution_count": 13,
   "id": "719ee6b2",
   "metadata": {},
   "outputs": [
    {
     "data": {
      "text/plain": [
       "array([[1, 1, 1, 1, 1],\n",
       "       [2, 2, 2, 2, 2]])"
      ]
     },
     "execution_count": 13,
     "metadata": {},
     "output_type": "execute_result"
    }
   ],
   "source": [
    "# conditional on being in status \"0\" at the EOP for all insureds the reserve must be 1 and\n",
    "# conditional on being in status \"1\" it must be 2\n",
    "last_year_reserves = np.array([\n",
    "    [1, 1, 1, 1, 1],\n",
    "    [2, 2, 2, 2, 2]\n",
    "])\n",
    "last_year_reserves\n"
   ]
  },
  {
   "cell_type": "code",
   "execution_count": 14,
   "id": "2cdcbf00",
   "metadata": {},
   "outputs": [
    {
     "data": {
      "text/plain": [
       "array([[[ 1,  2,  3,  4,  5],\n",
       "        [ 7,  8,  9, 10, 11]],\n",
       "\n",
       "       [[11, 12, 13, 14, 15],\n",
       "        [17, 18, 19, 20, 21]]])"
      ]
     },
     "execution_count": 14,
     "metadata": {},
     "output_type": "execute_result"
    }
   ],
   "source": [
    "cf_eom_per_state_change + last_year_reserves"
   ]
  },
  {
   "cell_type": "markdown",
   "id": "fba1637c",
   "metadata": {},
   "source": [
    "The broadcasting works as expected:\n",
    "\n",
    "- first row: we see the sum of the payments due for 0->0 transitions + the reserve needed when in state 0 (1 higher than the payments)\n",
    "- second row: we see the sum of the payments due for 0->1 transitions + the reserve needed when in state 1 (2 higher than the payments)\n",
    "- same for rwos three an four\n",
    "\n"
   ]
  },
  {
   "cell_type": "code",
   "execution_count": 16,
   "id": "bc03cc25",
   "metadata": {},
   "outputs": [
    {
     "data": {
      "text/plain": [
       "(array([[[ 0,  1,  2,  3,  4],\n",
       "         [ 5,  6,  7,  8,  9]],\n",
       " \n",
       "        [[10, 11, 12, 13, 14],\n",
       "         [15, 16, 17, 18, 19]]]),\n",
       " array([[10, 35],\n",
       "        [60, 85]]))"
      ]
     },
     "execution_count": 16,
     "metadata": {},
     "output_type": "execute_result"
    }
   ],
   "source": [
    "# test sum\n",
    "cf_eom_per_state_change, cf_eom_per_state_change.sum(axis=2)"
   ]
  },
  {
   "cell_type": "code",
   "execution_count": 50,
   "id": "introductory-alloy",
   "metadata": {},
   "outputs": [],
   "source": [
    "from enum import IntEnum\n",
    "import numpy as np"
   ]
  },
  {
   "cell_type": "code",
   "execution_count": 54,
   "id": "23b8bb07",
   "metadata": {},
   "outputs": [
    {
     "data": {
      "text/plain": [
       "(array([[1, 2],\n",
       "        [3, 4]]),\n",
       " array([3, 7]))"
      ]
     },
     "execution_count": 54,
     "metadata": {},
     "output_type": "execute_result"
    }
   ],
   "source": [
    "A = np.array([[1, 2], [3, 4]])\n",
    "A, A.sum(axis=1)"
   ]
  },
  {
   "cell_type": "code",
   "execution_count": null,
   "id": "palestinian-tender",
   "metadata": {},
   "outputs": [],
   "source": [
    "class States(IntEnum):\n",
    "    ACTIVE = 0\n",
    "    DIS1 = 1\n",
    "    DIS2 = 2"
   ]
  },
  {
   "cell_type": "code",
   "execution_count": null,
   "id": "3cb98f96",
   "metadata": {},
   "outputs": [],
   "source": [
    "len(States)"
   ]
  },
  {
   "cell_type": "code",
   "execution_count": null,
   "id": "ad5bc224",
   "metadata": {},
   "outputs": [],
   "source": [
    "transition_matrix = np.array([\n",
    "    [0.7, 0.1, 0.05, 0.05, 0.1],\n",
    "    [0.2, 0.5, 0.2, 0.1, 0],\n",
    "    [0, 0, 0.8, 0.2, 0],\n",
    "    [0, 0, 0, 1, 0],\n",
    "    [0, 0, 0, 0, 1],\n",
    "])\n",
    "transition_matrix"
   ]
  },
  {
   "cell_type": "code",
   "execution_count": null,
   "id": "9a0f4918",
   "metadata": {},
   "outputs": [],
   "source": [
    "state0 = np.array([[1, 0, 0, 0, 0], [0, 1, 0, 0, 0]])\n",
    "state0"
   ]
  },
  {
   "cell_type": "code",
   "execution_count": null,
   "id": "7ba79b73",
   "metadata": {},
   "outputs": [],
   "source": [
    "state1 = np.dot(state0, transition_matrix)\n",
    "state1"
   ]
  },
  {
   "cell_type": "code",
   "execution_count": null,
   "id": "77acbdaf",
   "metadata": {},
   "outputs": [],
   "source": [
    "state2 = np.dot(state1, transition_matrix)\n",
    "state2"
   ]
  },
  {
   "cell_type": "markdown",
   "id": "f8937fe2",
   "metadata": {},
   "source": [
    "### Different transition matrices per row"
   ]
  },
  {
   "cell_type": "code",
   "execution_count": 7,
   "id": "ec484cc6",
   "metadata": {},
   "outputs": [
    {
     "data": {
      "text/plain": [
       "(array([[0.6, 0.4],\n",
       "        [0. , 1. ]]),\n",
       " array([[0.5, 0.5],\n",
       "        [0.1, 0.9]]))"
      ]
     },
     "execution_count": 7,
     "metadata": {},
     "output_type": "execute_result"
    }
   ],
   "source": [
    "t1 = np.array([\n",
    "    [0.6, 0.4],\n",
    "    [0, 1],\n",
    "])\n",
    "\n",
    "t2 = np.array([\n",
    "    [0.5, 0.5],\n",
    "    [0.1, 0.9],\n",
    "])\n",
    "t1, t2"
   ]
  },
  {
   "cell_type": "code",
   "execution_count": 8,
   "id": "d1ae6254",
   "metadata": {},
   "outputs": [
    {
     "data": {
      "text/plain": [
       "array([[0.6, 0.4],\n",
       "       [0.1, 0.9]])"
      ]
     },
     "execution_count": 8,
     "metadata": {},
     "output_type": "execute_result"
    }
   ],
   "source": [
    "# create two mixed states\n",
    "s = np.array([[0.6, 0.4], [0.1, 0.9]])\n",
    "s"
   ]
  },
  {
   "cell_type": "code",
   "execution_count": null,
   "id": "d5ad05b9",
   "metadata": {},
   "outputs": [],
   "source": [
    "# expected rows of the result\n",
    "np.dot(s[0, :], t1),np.dot(s[1,:], t2)"
   ]
  },
  {
   "cell_type": "code",
   "execution_count": null,
   "id": "172d9cfb",
   "metadata": {},
   "outputs": [],
   "source": [
    "# build one matrix of transitions\n",
    "T = np.zeros((2, 2, 2))\n",
    "T[0, :, :] = t1\n",
    "T[1, :, :] = t2\n",
    "T"
   ]
  },
  {
   "cell_type": "code",
   "execution_count": null,
   "id": "9d0714d8",
   "metadata": {},
   "outputs": [],
   "source": [
    "# calculate state transition vectorized\n",
    "np.einsum('ij,ijk->ik', s, T)"
   ]
  },
  {
   "cell_type": "markdown",
   "id": "0de47916",
   "metadata": {},
   "source": [
    "### Building the Transition Matrix"
   ]
  },
  {
   "cell_type": "code",
   "execution_count": 9,
   "id": "0303da25",
   "metadata": {},
   "outputs": [
    {
     "data": {
      "text/plain": [
       "(100,\n",
       " array([0.        , 0.01010101, 0.02020202, 0.03030303, 0.04040404,\n",
       "        0.05050505, 0.06060606, 0.07070707, 0.08080808, 0.09090909,\n",
       "        0.1010101 , 0.11111111, 0.12121212, 0.13131313, 0.14141414,\n",
       "        0.15151515, 0.16161616, 0.17171717, 0.18181818, 0.19191919,\n",
       "        0.2020202 , 0.21212121, 0.22222222, 0.23232323, 0.24242424,\n",
       "        0.25252525, 0.26262626, 0.27272727, 0.28282828, 0.29292929,\n",
       "        0.3030303 , 0.31313131, 0.32323232, 0.33333333, 0.34343434,\n",
       "        0.35353535, 0.36363636, 0.37373737, 0.38383838, 0.39393939,\n",
       "        0.4040404 , 0.41414141, 0.42424242, 0.43434343, 0.44444444,\n",
       "        0.45454545, 0.46464646, 0.47474747, 0.48484848, 0.49494949,\n",
       "        0.50505051, 0.51515152, 0.52525253, 0.53535354, 0.54545455,\n",
       "        0.55555556, 0.56565657, 0.57575758, 0.58585859, 0.5959596 ,\n",
       "        0.60606061, 0.61616162, 0.62626263, 0.63636364, 0.64646465,\n",
       "        0.65656566, 0.66666667, 0.67676768, 0.68686869, 0.6969697 ,\n",
       "        0.70707071, 0.71717172, 0.72727273, 0.73737374, 0.74747475,\n",
       "        0.75757576, 0.76767677, 0.77777778, 0.78787879, 0.7979798 ,\n",
       "        0.80808081, 0.81818182, 0.82828283, 0.83838384, 0.84848485,\n",
       "        0.85858586, 0.86868687, 0.87878788, 0.88888889, 0.8989899 ,\n",
       "        0.90909091, 0.91919192, 0.92929293, 0.93939394, 0.94949495,\n",
       "        0.95959596, 0.96969697, 0.97979798, 0.98989899, 1.        ]))"
      ]
     },
     "execution_count": 9,
     "metadata": {},
     "output_type": "execute_result"
    }
   ],
   "source": [
    "# start with base mortality table by age\n",
    "qx = np.linspace(0, 1, 100)\n",
    "len(qx), qx"
   ]
  },
  {
   "cell_type": "code",
   "execution_count": 10,
   "id": "f0b3d3dd",
   "metadata": {},
   "outputs": [
    {
     "data": {
      "text/plain": [
       "array([42, 25, 67])"
      ]
     },
     "execution_count": 10,
     "metadata": {},
     "output_type": "execute_result"
    }
   ],
   "source": [
    "\n",
    "age_vec = np.array([42, 25, 67], dtype=int)\n",
    "age_vec"
   ]
  },
  {
   "cell_type": "code",
   "execution_count": 11,
   "id": "c4778466",
   "metadata": {},
   "outputs": [
    {
     "data": {
      "text/plain": [
       "3"
      ]
     },
     "execution_count": 11,
     "metadata": {},
     "output_type": "execute_result"
    }
   ],
   "source": [
    "num_insured = len(age_vec)\n",
    "num_insured"
   ]
  },
  {
   "cell_type": "code",
   "execution_count": 12,
   "id": "fa0c17f9",
   "metadata": {},
   "outputs": [
    {
     "data": {
      "text/plain": [
       "array([[[0., 0.],\n",
       "        [0., 0.]],\n",
       "\n",
       "       [[0., 0.],\n",
       "        [0., 0.]],\n",
       "\n",
       "       [[0., 0.],\n",
       "        [0., 0.]]])"
      ]
     },
     "execution_count": 12,
     "metadata": {},
     "output_type": "execute_result"
    }
   ],
   "source": [
    "# generate the state transitions\n",
    "T = np.zeros((num_insured, 2, 2))\n",
    "T"
   ]
  },
  {
   "cell_type": "code",
   "execution_count": 13,
   "id": "7c38d987",
   "metadata": {},
   "outputs": [
    {
     "data": {
      "text/plain": [
       "array([0.42424242, 0.25252525, 0.67676768])"
      ]
     },
     "execution_count": 13,
     "metadata": {},
     "output_type": "execute_result"
    }
   ],
   "source": [
    "# select mortalities per age\n",
    "qx[age_vec]"
   ]
  },
  {
   "cell_type": "code",
   "execution_count": 14,
   "id": "a775e663",
   "metadata": {},
   "outputs": [
    {
     "data": {
      "text/plain": [
       "array([[0.57575758, 0.42424242],\n",
       "       [0.74747475, 0.25252525],\n",
       "       [0.32323232, 0.67676768]])"
      ]
     },
     "execution_count": 14,
     "metadata": {},
     "output_type": "execute_result"
    }
   ],
   "source": [
    "# build matrix of transition probabilities if alive\n",
    "alive_transitions = qx[age_vec].reshape((num_insured, 1)).dot(np.array([-1, 1]).reshape((1, 2))) + np.ones((num_insured, 1)).dot(np.array([1, 0]).reshape((1, 2)))\n",
    "alive_transitions"
   ]
  },
  {
   "cell_type": "code",
   "execution_count": 16,
   "id": "99f2ba8f",
   "metadata": {},
   "outputs": [
    {
     "data": {
      "text/plain": [
       "array([[0., 1.],\n",
       "       [0., 1.],\n",
       "       [0., 1.]])"
      ]
     },
     "execution_count": 16,
     "metadata": {},
     "output_type": "execute_result"
    }
   ],
   "source": [
    "# death transition: who is dead stays it\n",
    "death_transitions = np.ones((3, 1)).dot(np.array([0, 1]).reshape((1, 2)))\n",
    "death_transitions"
   ]
  },
  {
   "cell_type": "code",
   "execution_count": 17,
   "id": "2ac35c3f",
   "metadata": {},
   "outputs": [
    {
     "data": {
      "text/plain": [
       "array([[[0.57575758, 0.42424242],\n",
       "        [0.        , 1.        ]],\n",
       "\n",
       "       [[0.74747475, 0.25252525],\n",
       "        [0.        , 1.        ]],\n",
       "\n",
       "       [[0.32323232, 0.67676768],\n",
       "        [0.        , 1.        ]]])"
      ]
     },
     "execution_count": 17,
     "metadata": {},
     "output_type": "execute_result"
    }
   ],
   "source": [
    "T[:, 0, :] = alive_transitions\n",
    "T[:, 1, :] = death_transitions\n",
    "T"
   ]
  },
  {
   "cell_type": "code",
   "execution_count": null,
   "id": "8b002bc0",
   "metadata": {},
   "outputs": [],
   "source": [
    "state_old = np.ones((3, 1)).dot(np.array([1, 0]).reshape((1, 2)))\n",
    "state_old"
   ]
  },
  {
   "cell_type": "code",
   "execution_count": null,
   "id": "1e392b90",
   "metadata": {},
   "outputs": [],
   "source": [
    "# apply state transitions\n",
    "state_new = np.einsum('ij,ijk->ik', state_old, T)\n",
    "state_new"
   ]
  },
  {
   "cell_type": "code",
   "execution_count": null,
   "id": "421c872e",
   "metadata": {},
   "outputs": [],
   "source": [
    "# zum checken (vgl. mit zweiter Spalte oben)\n",
    "qx[age_vec]"
   ]
  },
  {
   "cell_type": "code",
   "execution_count": null,
   "id": "1d50fc0a",
   "metadata": {},
   "outputs": [],
   "source": [
    "# one more transition\n",
    "np.einsum('ij,ijk->ik', state_new, T)"
   ]
  },
  {
   "cell_type": "markdown",
   "id": "fe866f4f",
   "metadata": {},
   "source": [
    "### Check reading in"
   ]
  },
  {
   "cell_type": "code",
   "execution_count": 57,
   "id": "d10f28db",
   "metadata": {},
   "outputs": [
    {
     "data": {
      "text/plain": [
       "<module 'multistate' from 'D:\\\\programming\\\\PyMulitState\\\\multistate.py'>"
      ]
     },
     "execution_count": 57,
     "metadata": {},
     "output_type": "execute_result"
    }
   ],
   "source": [
    "from importlib import reload\n",
    "reload(multistate)"
   ]
  },
  {
   "cell_type": "code",
   "execution_count": 1,
   "id": "26365dde",
   "metadata": {},
   "outputs": [
    {
     "name": "stderr",
     "output_type": "stream",
     "text": [
      "INFO - 2022-06-07 14:03:03,359 - portfolio - Reading portfolio data from file data/portfolio/portfolio_med.xlsx.\n",
      "INFO - 2022-06-07 14:03:08,020 - multistate - Portolio rows: 10000\n",
      "INFO - 2022-06-07 14:03:08,021 - assumptions - Reading assumptions from file data/assumptions/base_assumption.xlsx\n",
      "DEBUG - 2022-06-07 14:03:08,040 - assumptions - Sheet MORTALITY (0->3) describes the transition 0 => 3\n",
      "DEBUG - 2022-06-07 14:03:08,041 - assumptions - Sheet LAPSE (0->4) describes the transition 0 => 4\n",
      "DEBUG - 2022-06-07 14:03:08,042 - assumptions - Sheet DIS1 (0->1) describes the transition 0 => 1\n",
      "DEBUG - 2022-06-07 14:03:08,042 - assumptions - Sheet DIS_WORSEN (1->2) describes the transition 1 => 2\n",
      "DEBUG - 2022-06-07 14:03:08,043 - assumptions - Sheet DIS_DEATH1 (1->3) describes the transition 1 => 3\n",
      "DEBUG - 2022-06-07 14:03:08,044 - assumptions - Sheet REC1(1->0) describes the transition 1 => 0\n",
      "DEBUG - 2022-06-07 14:03:08,045 - assumptions - Sheet DIS2(0->2) describes the transition 0 => 2\n",
      "DEBUG - 2022-06-07 14:03:08,046 - assumptions - Sheet DIS_IMPR (2->1) describes the transition 2 => 1\n",
      "DEBUG - 2022-06-07 14:03:08,047 - assumptions - Sheet DIS_DEATH2 (2->3) describes the transition 2 => 3\n",
      "DEBUG - 2022-06-07 14:03:08,047 - assumptions - Sheet REC2(2->0) describes the transition 2 => 0\n",
      "DEBUG - 2022-06-07 14:03:08,048 - assumptions - Processing sheet MORTALITY (0->3)\n",
      "DEBUG - 2022-06-07 14:03:08,062 - assumptions - <enum 'Gender'> applicable for <BaseAssumption: MORTALITY>\n",
      "DEBUG - 2022-06-07 14:03:08,064 - assumptions - <enum 'Age'> applicable for <BaseAssumption: MORTALITY>\n",
      "DEBUG - 2022-06-07 14:03:08,070 - assumptions - Processing sheet LAPSE (0->4)\n",
      "DEBUG - 2022-06-07 14:03:08,074 - assumptions - Processing sheet DIS1 (0->1)\n",
      "DEBUG - 2022-06-07 14:03:08,084 - assumptions - <enum 'Age'> applicable for <BaseAssumption: DIS1>\n",
      "DEBUG - 2022-06-07 14:03:08,089 - assumptions - Processing sheet DIS_WORSEN (1->2)\n",
      "DEBUG - 2022-06-07 14:03:08,094 - assumptions - Processing sheet DIS_DEATH1 (1->3)\n",
      "DEBUG - 2022-06-07 14:03:08,098 - assumptions - Processing sheet REC1(1->0)\n",
      "DEBUG - 2022-06-07 14:03:08,102 - assumptions - Processing sheet DIS2(0->2)\n",
      "DEBUG - 2022-06-07 14:03:08,112 - assumptions - <enum 'Age'> applicable for <BaseAssumption: DIS2>\n",
      "DEBUG - 2022-06-07 14:03:08,117 - assumptions - Processing sheet DIS_IMPR (2->1)\n",
      "DEBUG - 2022-06-07 14:03:08,122 - assumptions - Processing sheet DIS_DEATH2 (2->3)\n",
      "DEBUG - 2022-06-07 14:03:08,127 - assumptions - Processing sheet REC2(2->0)\n",
      "DEBUG - 2022-06-07 14:03:08,140 - multistate - Calculating projection year 1.\n",
      "DEBUG - 2022-06-07 14:03:08,298 - multistate - Calculating projection year 2.\n",
      "DEBUG - 2022-06-07 14:03:08,454 - multistate - Calculating projection year 3.\n",
      "DEBUG - 2022-06-07 14:03:08,615 - multistate - Calculating projection year 4.\n",
      "DEBUG - 2022-06-07 14:03:08,774 - multistate - Calculating projection year 5.\n",
      "DEBUG - 2022-06-07 14:03:08,932 - multistate - Calculating projection year 6.\n",
      "DEBUG - 2022-06-07 14:03:09,088 - multistate - Calculating projection year 7.\n",
      "DEBUG - 2022-06-07 14:03:09,250 - multistate - Calculating projection year 8.\n",
      "DEBUG - 2022-06-07 14:03:09,407 - multistate - Calculating projection year 9.\n",
      "DEBUG - 2022-06-07 14:03:09,561 - multistate - Calculating projection year 10.\n",
      "DEBUG - 2022-06-07 14:03:09,725 - multistate - Calculating projection year 11.\n",
      "DEBUG - 2022-06-07 14:03:09,883 - multistate - Calculating projection year 12.\n",
      "DEBUG - 2022-06-07 14:03:10,042 - multistate - Calculating projection year 13.\n",
      "DEBUG - 2022-06-07 14:03:10,203 - multistate - Calculating projection year 14.\n",
      "DEBUG - 2022-06-07 14:03:10,357 - multistate - Calculating projection year 15.\n",
      "DEBUG - 2022-06-07 14:03:10,536 - multistate - Calculating projection year 16.\n",
      "DEBUG - 2022-06-07 14:03:10,692 - multistate - Calculating projection year 17.\n",
      "DEBUG - 2022-06-07 14:03:10,854 - multistate - Calculating projection year 18.\n",
      "DEBUG - 2022-06-07 14:03:11,011 - multistate - Calculating projection year 19.\n",
      "DEBUG - 2022-06-07 14:03:11,180 - multistate - Calculating projection year 20.\n",
      "DEBUG - 2022-06-07 14:03:11,335 - multistate - Calculating projection year 21.\n",
      "DEBUG - 2022-06-07 14:03:11,490 - multistate - Calculating projection year 22.\n",
      "DEBUG - 2022-06-07 14:03:11,649 - multistate - Calculating projection year 23.\n",
      "DEBUG - 2022-06-07 14:03:11,820 - multistate - Calculating projection year 24.\n",
      "DEBUG - 2022-06-07 14:03:11,975 - multistate - Calculating projection year 25.\n",
      "DEBUG - 2022-06-07 14:03:12,146 - multistate - Calculating projection year 26.\n",
      "DEBUG - 2022-06-07 14:03:12,304 - multistate - Calculating projection year 27.\n",
      "DEBUG - 2022-06-07 14:03:12,465 - multistate - Calculating projection year 28.\n",
      "DEBUG - 2022-06-07 14:03:12,638 - multistate - Calculating projection year 29.\n",
      "DEBUG - 2022-06-07 14:03:12,808 - multistate - Calculating projection year 30.\n",
      "DEBUG - 2022-06-07 14:03:12,962 - multistate - Calculating projection year 31.\n",
      "DEBUG - 2022-06-07 14:03:13,149 - multistate - Calculating projection year 32.\n",
      "DEBUG - 2022-06-07 14:03:13,325 - multistate - Calculating projection year 33.\n",
      "DEBUG - 2022-06-07 14:03:13,505 - multistate - Calculating projection year 34.\n",
      "DEBUG - 2022-06-07 14:03:13,672 - multistate - Calculating projection year 35.\n",
      "DEBUG - 2022-06-07 14:03:13,834 - multistate - Calculating projection year 36.\n",
      "DEBUG - 2022-06-07 14:03:13,989 - multistate - Calculating projection year 37.\n",
      "DEBUG - 2022-06-07 14:03:14,200 - multistate - Calculating projection year 38.\n",
      "DEBUG - 2022-06-07 14:03:14,356 - multistate - Calculating projection year 39.\n",
      "DEBUG - 2022-06-07 14:03:14,510 - multistate - Calculating projection year 40.\n",
      "DEBUG - 2022-06-07 14:03:14,678 - multistate - Calculating projection year 41.\n",
      "DEBUG - 2022-06-07 14:03:14,861 - multistate - Calculating projection year 42.\n",
      "DEBUG - 2022-06-07 14:03:15,030 - multistate - Calculating projection year 43.\n",
      "DEBUG - 2022-06-07 14:03:15,191 - multistate - Calculating projection year 44.\n",
      "DEBUG - 2022-06-07 14:03:15,365 - multistate - Calculating projection year 45.\n",
      "DEBUG - 2022-06-07 14:03:15,521 - multistate - Calculating projection year 46.\n",
      "DEBUG - 2022-06-07 14:03:15,685 - multistate - Calculating projection year 47.\n",
      "DEBUG - 2022-06-07 14:03:15,856 - multistate - Calculating projection year 48.\n",
      "DEBUG - 2022-06-07 14:03:16,021 - multistate - Calculating projection year 49.\n",
      "DEBUG - 2022-06-07 14:03:16,187 - multistate - Calculating projection year 50.\n",
      "DEBUG - 2022-06-07 14:03:16,347 - multistate - Calculating projection year 51.\n",
      "DEBUG - 2022-06-07 14:03:16,503 - multistate - Calculating projection year 52.\n",
      "DEBUG - 2022-06-07 14:03:16,689 - multistate - Calculating projection year 53.\n",
      "DEBUG - 2022-06-07 14:03:16,853 - multistate - Calculating projection year 54.\n",
      "DEBUG - 2022-06-07 14:03:17,004 - multistate - Calculating projection year 55.\n",
      "DEBUG - 2022-06-07 14:03:17,159 - multistate - Calculating projection year 56.\n",
      "DEBUG - 2022-06-07 14:03:17,313 - multistate - Calculating projection year 57.\n",
      "DEBUG - 2022-06-07 14:03:17,471 - multistate - Calculating projection year 58.\n",
      "DEBUG - 2022-06-07 14:03:17,660 - multistate - Calculating projection year 59.\n",
      "DEBUG - 2022-06-07 14:03:17,814 - multistate - Calculating projection year 60.\n",
      "DEBUG - 2022-06-07 14:03:17,968 - multistate - Calculating projection year 61.\n",
      "DEBUG - 2022-06-07 14:03:18,125 - multistate - Calculating projection year 62.\n",
      "DEBUG - 2022-06-07 14:03:18,294 - multistate - Calculating projection year 63.\n",
      "DEBUG - 2022-06-07 14:03:18,462 - multistate - Calculating projection year 64.\n",
      "DEBUG - 2022-06-07 14:03:18,636 - multistate - Calculating projection year 65.\n",
      "DEBUG - 2022-06-07 14:03:18,840 - multistate - Calculating projection year 66.\n",
      "DEBUG - 2022-06-07 14:03:18,998 - multistate - Calculating projection year 67.\n",
      "DEBUG - 2022-06-07 14:03:19,154 - multistate - Calculating projection year 68.\n",
      "DEBUG - 2022-06-07 14:03:19,308 - multistate - Calculating projection year 69.\n",
      "DEBUG - 2022-06-07 14:03:19,467 - multistate - Calculating projection year 70.\n",
      "DEBUG - 2022-06-07 14:03:19,624 - multistate - Calculating projection year 71.\n",
      "DEBUG - 2022-06-07 14:03:19,783 - multistate - Calculating projection year 72.\n",
      "DEBUG - 2022-06-07 14:03:19,936 - multistate - Calculating projection year 73.\n"
     ]
    },
    {
     "name": "stderr",
     "output_type": "stream",
     "text": [
      "DEBUG - 2022-06-07 14:03:20,085 - multistate - Calculating projection year 74.\n",
      "INFO - 2022-06-07 14:03:20,193 - export - Exporting NCF to data/results/ncf_out.csv\n",
      "INFO - 2022-06-07 14:03:20,232 - multistate - Elapsed time 16.873013019561768\n"
     ]
    }
   ],
   "source": [
    "import math\n",
    "import numpy as np\n",
    "import pandas as pd\n",
    "import multistate\n",
    "projector = multistate.main()"
   ]
  },
  {
   "cell_type": "code",
   "execution_count": 3,
   "id": "79c68306",
   "metadata": {},
   "outputs": [
    {
     "data": {
      "text/plain": [
       "array([[[1.00000000e+00, 0.00000000e+00, 0.00000000e+00, 0.00000000e+00,\n",
       "         0.00000000e+00],\n",
       "        [1.00000000e+00, 0.00000000e+00, 0.00000000e+00, 0.00000000e+00,\n",
       "         0.00000000e+00],\n",
       "        [0.00000000e+00, 1.00000000e+00, 0.00000000e+00, 0.00000000e+00,\n",
       "         0.00000000e+00]],\n",
       "\n",
       "       [[9.97628500e-01, 6.25000000e-04, 6.25000000e-04, 7.98333333e-05,\n",
       "         1.04166667e-03],\n",
       "        [9.96795833e-01, 1.04166667e-03, 1.04166667e-03, 7.91666667e-05,\n",
       "         1.04166667e-03],\n",
       "        [4.16666667e-03, 9.90625000e-01, 4.16666667e-03, 1.04166667e-03,\n",
       "         0.00000000e+00]],\n",
       "\n",
       "       [[9.95265358e-01, 1.24396052e-03, 1.24708552e-03, 1.62732550e-04,\n",
       "         2.08086302e-03],\n",
       "        [9.93606491e-01, 2.07240017e-03, 2.07760851e-03, 1.63505017e-04,\n",
       "         2.07999566e-03],\n",
       "        [8.28181563e-03, 9.81350911e-01, 8.27170139e-03, 2.09123125e-03,\n",
       "         4.34027778e-06]],\n",
       "\n",
       "       ...,\n",
       "\n",
       "       [[0.00000000e+00, 0.00000000e+00, 0.00000000e+00, 0.00000000e+00,\n",
       "         0.00000000e+00],\n",
       "        [0.00000000e+00, 0.00000000e+00, 0.00000000e+00, 0.00000000e+00,\n",
       "         0.00000000e+00],\n",
       "        [0.00000000e+00, 0.00000000e+00, 0.00000000e+00, 0.00000000e+00,\n",
       "         0.00000000e+00]],\n",
       "\n",
       "       [[0.00000000e+00, 0.00000000e+00, 0.00000000e+00, 0.00000000e+00,\n",
       "         0.00000000e+00],\n",
       "        [0.00000000e+00, 0.00000000e+00, 0.00000000e+00, 0.00000000e+00,\n",
       "         0.00000000e+00],\n",
       "        [0.00000000e+00, 0.00000000e+00, 0.00000000e+00, 0.00000000e+00,\n",
       "         0.00000000e+00]],\n",
       "\n",
       "       [[0.00000000e+00, 0.00000000e+00, 0.00000000e+00, 0.00000000e+00,\n",
       "         0.00000000e+00],\n",
       "        [0.00000000e+00, 0.00000000e+00, 0.00000000e+00, 0.00000000e+00,\n",
       "         0.00000000e+00],\n",
       "        [0.00000000e+00, 0.00000000e+00, 0.00000000e+00, 0.00000000e+00,\n",
       "         0.00000000e+00]]])"
      ]
     },
     "execution_count": 3,
     "metadata": {},
     "output_type": "execute_result"
    }
   ],
   "source": [
    "projector.proj_state.state_recorder"
   ]
  },
  {
   "cell_type": "code",
   "execution_count": 4,
   "id": "e8c18c9e",
   "metadata": {},
   "outputs": [
    {
     "data": {
      "text/plain": [
       "array([[       0.        ,        0.        ,        0.        ,\n",
       "               0.        ,        0.        ],\n",
       "       [   30560.83333333, -1388750.00000002,        0.        ,\n",
       "               0.        ,        0.        ],\n",
       "       [   32535.289886  , -1338304.96706194,   -46882.04177851,\n",
       "               0.        ,        0.        ],\n",
       "       ...,\n",
       "       [       0.        ,        0.        ,        0.        ,\n",
       "               0.        ,        0.        ],\n",
       "       [       0.        ,        0.        ,        0.        ,\n",
       "               0.        ,        0.        ],\n",
       "       [       0.        ,        0.        ,        0.        ,\n",
       "               0.        ,        0.        ]])"
      ]
     },
     "execution_count": 4,
     "metadata": {},
     "output_type": "execute_result"
    }
   ],
   "source": [
    "projector.ncf_portfolio"
   ]
  },
  {
   "cell_type": "code",
   "execution_count": 25,
   "id": "e9f8fcba",
   "metadata": {},
   "outputs": [
    {
     "data": {
      "text/plain": [
       "array([[5.98740812e-04, 2.98904270e-05, 6.80881124e-05, 5.80909277e-01,\n",
       "        4.18394003e-01],\n",
       "       [1.57126913e-04, 1.17073341e-05, 2.66689255e-05, 5.54222893e-01,\n",
       "        4.45581604e-01],\n",
       "       [2.21329121e-04, 1.32693857e-05, 3.02272052e-05, 7.58259335e-01,\n",
       "        2.41475839e-01]])"
      ]
     },
     "execution_count": 25,
     "metadata": {},
     "output_type": "execute_result"
    }
   ],
   "source": [
    "projector.proj_state.state_matrix"
   ]
  },
  {
   "cell_type": "markdown",
   "id": "9dee86f5",
   "metadata": {},
   "source": [
    "### Payments\n"
   ]
  },
  {
   "cell_type": "code",
   "execution_count": 6,
   "id": "dd444853",
   "metadata": {},
   "outputs": [
    {
     "data": {
      "text/plain": [
       "array([[ 2.50000000e+01, -4.16666667e+02,  0.00000000e+00,\n",
       "         0.00000000e+00,  0.00000000e+00],\n",
       "       [ 2.53908916e+01, -4.02180984e+02, -1.53744711e+01,\n",
       "         0.00000000e+00,  0.00000000e+00],\n",
       "       [ 2.57535397e+01, -3.88309690e+02, -2.99190743e+01,\n",
       "         0.00000000e+00,  0.00000000e+00],\n",
       "       ...,\n",
       "       [ 4.13615805e-09, -1.53689950e-07, -7.00203233e-07,\n",
       "         0.00000000e+00,  0.00000000e+00],\n",
       "       [ 4.06009945e-09, -1.50863791e-07, -6.87327401e-07,\n",
       "         0.00000000e+00,  0.00000000e+00],\n",
       "       [ 3.98543948e-09, -1.48089601e-07, -6.74688339e-07,\n",
       "         0.00000000e+00,  0.00000000e+00]])"
      ]
     },
     "execution_count": 6,
     "metadata": {},
     "output_type": "execute_result"
    }
   ],
   "source": [
    "projector.ncf_portfolio\n",
    "# projector.payments_recorder"
   ]
  },
  {
   "cell_type": "code",
   "execution_count": 34,
   "id": "ff3dcf77",
   "metadata": {},
   "outputs": [
    {
     "data": {
      "text/plain": [
       "(2021, 12)"
      ]
     },
     "execution_count": 34,
     "metadata": {},
     "output_type": "execute_result"
    }
   ],
   "source": [
    "portfolio_date = projector.proj_state._portfolio.portfolio_date\n",
    "portfolio_year, portfolio_month = portfolio_date.year, portfolio_date.month\n",
    "portfolio_year, portfolio_month"
   ]
  },
  {
   "cell_type": "code",
   "execution_count": 46,
   "id": "275948a0",
   "metadata": {},
   "outputs": [],
   "source": []
  },
  {
   "cell_type": "code",
   "execution_count": 47,
   "id": "09819883",
   "metadata": {},
   "outputs": [
    {
     "data": {
      "text/plain": [
       "array([ 8,  9, 10, ...,  5,  6,  7], dtype=int32)"
      ]
     },
     "execution_count": 47,
     "metadata": {},
     "output_type": "execute_result"
    }
   ],
   "source": [
    "# generate a time axis\n",
    "len(projector.ncf_portfolio)\n",
    "zero_based_months_tmp = (portfolio_month - 1) + np.arange(1, 1 + len(projector.ncf_portfolio))\n",
    "months = zero_based_months_tmp % 12 + 1\n",
    "months"
   ]
  },
  {
   "cell_type": "code",
   "execution_count": 48,
   "id": "10f95a8e",
   "metadata": {},
   "outputs": [
    {
     "data": {
      "text/plain": [
       "array([2021, 2021, 2021, ..., 2121, 2121, 2121], dtype=int32)"
      ]
     },
     "execution_count": 48,
     "metadata": {},
     "output_type": "execute_result"
    }
   ],
   "source": [
    "years = portfolio_year + zero_based_months_tmp // 12\n",
    "years"
   ]
  },
  {
   "cell_type": "code",
   "execution_count": 49,
   "id": "ef8a8054",
   "metadata": {},
   "outputs": [
    {
     "data": {
      "text/plain": [
       "array([3, 3, 4, 4, 4, 1, 1, 1, 2, 2], dtype=int32)"
      ]
     },
     "execution_count": 49,
     "metadata": {},
     "output_type": "execute_result"
    }
   ],
   "source": [
    "quarters = (months - 1) // 3 + 1\n",
    "quarters[:10]"
   ]
  },
  {
   "cell_type": "code",
   "execution_count": 28,
   "id": "61d208c6",
   "metadata": {},
   "outputs": [
    {
     "data": {
      "text/html": [
       "<div>\n",
       "<style scoped>\n",
       "    .dataframe tbody tr th:only-of-type {\n",
       "        vertical-align: middle;\n",
       "    }\n",
       "\n",
       "    .dataframe tbody tr th {\n",
       "        vertical-align: top;\n",
       "    }\n",
       "\n",
       "    .dataframe thead th {\n",
       "        text-align: right;\n",
       "    }\n",
       "</style>\n",
       "<table border=\"1\" class=\"dataframe\">\n",
       "  <thead>\n",
       "    <tr style=\"text-align: right;\">\n",
       "      <th></th>\n",
       "      <th>PREMIUM</th>\n",
       "      <th>DI_ONG_CLAIMS1</th>\n",
       "      <th>DI_ONG_CLAIMS2</th>\n",
       "    </tr>\n",
       "  </thead>\n",
       "  <tbody>\n",
       "    <tr>\n",
       "      <th>0</th>\n",
       "      <td>9.166667</td>\n",
       "      <td>-416.666667</td>\n",
       "      <td>0.000000</td>\n",
       "    </tr>\n",
       "    <tr>\n",
       "      <th>1</th>\n",
       "      <td>9.759086</td>\n",
       "      <td>-401.531582</td>\n",
       "      <td>-14.065895</td>\n",
       "    </tr>\n",
       "    <tr>\n",
       "      <th>2</th>\n",
       "      <td>10.319578</td>\n",
       "      <td>-387.037787</td>\n",
       "      <td>-27.330817</td>\n",
       "    </tr>\n",
       "    <tr>\n",
       "      <th>3</th>\n",
       "      <td>10.849565</td>\n",
       "      <td>-373.157034</td>\n",
       "      <td>-39.833448</td>\n",
       "    </tr>\n",
       "    <tr>\n",
       "      <th>4</th>\n",
       "      <td>11.350385</td>\n",
       "      <td>-359.862329</td>\n",
       "      <td>-51.610678</td>\n",
       "    </tr>\n",
       "    <tr>\n",
       "      <th>...</th>\n",
       "      <td>...</td>\n",
       "      <td>...</td>\n",
       "      <td>...</td>\n",
       "    </tr>\n",
       "    <tr>\n",
       "      <th>595</th>\n",
       "      <td>0.017231</td>\n",
       "      <td>-0.008907</td>\n",
       "      <td>-0.040578</td>\n",
       "    </tr>\n",
       "    <tr>\n",
       "      <th>596</th>\n",
       "      <td>0.016609</td>\n",
       "      <td>-0.008743</td>\n",
       "      <td>-0.039832</td>\n",
       "    </tr>\n",
       "    <tr>\n",
       "      <th>597</th>\n",
       "      <td>0.016010</td>\n",
       "      <td>-0.008582</td>\n",
       "      <td>-0.039099</td>\n",
       "    </tr>\n",
       "    <tr>\n",
       "      <th>598</th>\n",
       "      <td>0.015433</td>\n",
       "      <td>-0.008424</td>\n",
       "      <td>-0.038380</td>\n",
       "    </tr>\n",
       "    <tr>\n",
       "      <th>599</th>\n",
       "      <td>0.014878</td>\n",
       "      <td>-0.008269</td>\n",
       "      <td>-0.037675</td>\n",
       "    </tr>\n",
       "  </tbody>\n",
       "</table>\n",
       "<p>600 rows × 3 columns</p>\n",
       "</div>"
      ],
      "text/plain": [
       "       PREMIUM  DI_ONG_CLAIMS1  DI_ONG_CLAIMS2\n",
       "0     9.166667     -416.666667        0.000000\n",
       "1     9.759086     -401.531582      -14.065895\n",
       "2    10.319578     -387.037787      -27.330817\n",
       "3    10.849565     -373.157034      -39.833448\n",
       "4    11.350385     -359.862329      -51.610678\n",
       "..         ...             ...             ...\n",
       "595   0.017231       -0.008907       -0.040578\n",
       "596   0.016609       -0.008743       -0.039832\n",
       "597   0.016010       -0.008582       -0.039099\n",
       "598   0.015433       -0.008424       -0.038380\n",
       "599   0.014878       -0.008269       -0.037675\n",
       "\n",
       "[600 rows x 3 columns]"
      ]
     },
     "execution_count": 28,
     "metadata": {},
     "output_type": "execute_result"
    }
   ],
   "source": [
    "df_ncf = pd.DataFrame({\n",
    "    \"PREMIUM\": projector.ncf_portfolio[:, 0],\n",
    "    \"DI_ONG_CLAIMS1\": projector.ncf_portfolio[:, 1],\n",
    "    \"DI_ONG_CLAIMS2\": projector.ncf_portfolio[:, 2]\n",
    "})\n",
    "df_ncf"
   ]
  },
  {
   "cell_type": "code",
   "execution_count": 30,
   "id": "19c06890",
   "metadata": {},
   "outputs": [
    {
     "name": "stderr",
     "output_type": "stream",
     "text": [
      "DEBUG - 2022-06-06 18:50:51,530 - matplotlib - (private) matplotlib data path: D:\\Software\\miniconda\\lib\\site-packages\\matplotlib\\mpl-data\n",
      "DEBUG - 2022-06-06 18:50:51,531 - matplotlib - matplotlib data path: D:\\Software\\miniconda\\lib\\site-packages\\matplotlib\\mpl-data\n",
      "DEBUG - 2022-06-06 18:50:51,558 - matplotlib - CONFIGDIR=C:\\Users\\martin\\.matplotlib\n",
      "DEBUG - 2022-06-06 18:50:51,564 - matplotlib - matplotlib version 3.3.4\n",
      "DEBUG - 2022-06-06 18:50:51,564 - matplotlib - interactive is False\n",
      "DEBUG - 2022-06-06 18:50:51,565 - matplotlib - platform is win32\n",
      "DEBUG - 2022-06-06 18:50:51,568 - matplotlib - loaded modules: ['sys', 'builtins', '_frozen_importlib', '_imp', '_warnings', '_frozen_importlib_external', '_io', 'marshal', 'nt', '_thread', '_weakref', 'winreg', 'time', 'zipimport', '_codecs', 'codecs', 'encodings.aliases', 'encodings', 'encodings.utf_8', 'encodings.cp1252', '_signal', '__main__', 'encodings.latin_1', '_abc', 'abc', 'io', '_stat', 'stat', '_collections_abc', 'genericpath', 'ntpath', 'os.path', 'os', '_sitebuiltins', '_locale', '_bootlocale', '_distutils_hack', 'types', 'importlib._bootstrap', 'importlib._bootstrap_external', 'warnings', 'importlib', 'importlib.machinery', 'importlib.abc', '_operator', 'operator', 'keyword', '_heapq', 'heapq', 'itertools', 'reprlib', '_collections', 'collections', '_functools', 'functools', 'contextlib', 'importlib.util', 'mpl_toolkits', 'site', '_weakrefset', 'weakref', 'pkgutil', 'runpy', 'enum', '_sre', 'sre_constants', 'sre_parse', 'sre_compile', 'copyreg', 're', 'ipykernel._version', '_json', 'json.scanner', 'json.decoder', 'json.encoder', 'json', 'errno', 'signal', 'threading', 'msvcrt', '_winapi', 'subprocess', 'collections.abc', 'typing.io', 'typing.re', 'typing', 'jupyter_client._version', '_ast', 'ast', '_opcode', 'opcode', 'dis', 'token', 'tokenize', 'linecache', 'inspect', 'traitlets.utils', 'traitlets.utils.getargspec', 'traitlets.utils.importstring', 'traitlets.utils.sentinel', 'traitlets.utils.bunch', 'traitlets.utils.descriptions', 'traitlets.traitlets', 'copy', 'traitlets.utils.decorators', 'traitlets._version', 'traitlets', 'concurrent', 'traceback', '_string', 'string', 'atexit', 'logging', 'concurrent.futures._base', 'concurrent.futures', '_socket', 'math', 'select', 'selectors', 'socket', '_ssl', '_struct', 'struct', 'binascii', 'base64', 'ssl', 'asyncio.constants', 'asyncio.format_helpers', 'asyncio.base_futures', 'asyncio.log', 'asyncio.coroutines', '_contextvars', 'contextvars', 'asyncio.exceptions', 'asyncio.base_tasks', '_asyncio', 'asyncio.events', 'asyncio.futures', 'asyncio.protocols', 'asyncio.transports', 'asyncio.sslproto', 'asyncio.locks', 'asyncio.tasks', 'asyncio.staggered', 'asyncio.trsock', 'asyncio.base_events', 'asyncio.runners', 'asyncio.queues', 'asyncio.streams', 'asyncio.subprocess', '_overlapped', 'asyncio.base_subprocess', 'asyncio.proactor_events', 'asyncio.selector_events', 'posixpath', 'fnmatch', 'zlib', '_compression', '_bz2', 'bz2', '_lzma', 'lzma', 'shutil', '_bisect', 'bisect', '_sha512', '_random', 'random', 'tempfile', 'asyncio.windows_utils', 'asyncio.windows_events', 'asyncio', '_queue', 'queue', 'platform', 'zmq.libzmq', 'zmq.backend.select', 'cython_runtime', 'zmq.backend.cython.constants', '_cython_0_29_24', 'zmq.backend.cython.error', 'zmq.error', 'zmq.backend.cython.message', 'zmq.backend.cython.context', '_compat_pickle', '_pickle', 'pickle', 'zmq.backend.cython.socket', 'zmq.backend.cython.utils', 'zmq.backend.cython._poll', 'zmq.backend.cython._version', 'zmq.backend.cython._device', 'zmq.backend.cython._proxy_steerable', 'zmq.backend.cython', 'zmq.backend', 'zmq.utils', 'zmq.utils.constant_names', 'zmq.sugar.constants', 'zmq.sugar.attrsettr', 'zmq.sugar.poll', 'zmq.utils.jsonapi', 'zmq.utils.strtypes', 'zmq.sugar.socket', 'zmq.sugar.context', 'zmq.sugar.frame', 'zmq.sugar.tracker', 'zmq.sugar.version', 'zmq.sugar.stopwatch', 'zmq.sugar', 'zmq', 'zmq._future', 'zmq.asyncio', 'jupyter_client.channelsabc', '_hashlib', '_blake2', '_sha3', 'hashlib', 'hmac', 'pprint', '_datetime', 'datetime', 'locale', 'gettext', 'argparse', 'traitlets.config.loader', 'textwrap', 'traitlets.utils.text', 'traitlets.config.configurable', 'traitlets.config.application', 'traitlets.config', 'traitlets.log', '__future__', 'tornado', 'logging.handlers', 'html.entities', 'html', 'urllib', 'urllib.parse', 'array', 'tornado.speedups', 'tornado.util', 'tornado.escape', 'colorama.ansi', '_ctypes', 'ctypes._endian', 'ctypes', 'ctypes.wintypes', 'colorama.win32', 'colorama.winterm', 'colorama.ansitowin32', 'colorama.initialise', 'colorama', 'tornado.log', 'numbers', 'tornado.concurrent', 'tornado.ioloop', 'tornado.platform', 'tornado.gen', 'tornado.platform.asyncio', 'zmq.eventloop.ioloop', 'zmq.eventloop', 'zmq.eventloop.zmqstream', 'jupyter_client.adapter', 'dateutil._version', 'dateutil', 'calendar', 'six', '_decimal', 'decimal', 'dateutil._common', 'dateutil.relativedelta', 'six.moves', 'dateutil.tz._common', 'dateutil.tz._factories', 'dateutil.tz.win', 'dateutil.tz.tz', 'dateutil.tz', 'dateutil.parser._parser', 'dateutil.parser.isoparser', 'dateutil.parser', '_strptime', 'jupyter_client.jsonutil', 'jupyter_client.session', 'jupyter_client.channels', 'getpass', 'jupyter_client.clientabc', 'glob', 'jupyter_core.version', 'jupyter_core', 'pathlib', 'jupyter_core.paths', 'jupyter_client.localinterfaces', 'jupyter_client.utils', 'jupyter_client.connect', 'jupyter_client.client', 'jupyter_client.asynchronous.client', 'jupyter_client.asynchronous', 'jupyter_client.blocking.client', 'jupyter_client.blocking', 'jupyter_client.launcher', 'uuid', 'jupyter_client.managerabc', 'zipfile', 'configparser', 'entrypoints', 'jupyter_client.provisioning.provisioner_base', 'jupyter_client.provisioning.factory', 'jupyter_client.provisioning.local_provisioner', 'jupyter_client.provisioning', 'jupyter_client.kernelspec', 'jupyter_client.manager', 'jupyter_client.multikernelmanager', 'jupyter_client', 'ipykernel.connect', 'ipykernel', 'IPython.core', 'IPython.core.getipython', 'IPython.core.release', 'sysconfig', 'pydoc', 'executing.executing', 'executing.version', 'executing', 'asttokens.line_numbers', 'asttokens.util', 'asttokens.mark_tokens', 'asttokens.asttokens', 'asttokens', 'fractions', 'pure_eval.utils', 'pure_eval.my_getattr_static', 'pure_eval.core', 'pure_eval.version', 'pure_eval', 'stack_data.utils', 'stack_data.core', 'stack_data.formatting', 'stack_data.version', 'stack_data', 'pygments', 'pygments.formatters._mapping', 'pygments.plugin', 'pygments.util', 'pygments.formatters', 'pygments.styles', 'pygments.formatter', 'pygments.console', 'pygments.token', 'pygments.style', 'pygments.formatters.terminal256', 'bdb', 'IPython.utils', 'IPython.utils.ipstruct', 'IPython.utils.coloransi', 'IPython.utils.colorable', 'IPython.utils.PyColorize', 'IPython.utils.encoding', 'IPython.utils.py3compat', 'IPython.core.excolors', 'cmd', 'codeop', 'code', 'pdb', 'IPython.core.debugger', 'IPython.core.display_trap', 'shlex', 'IPython.utils._process_common', 'IPython.utils._process_win32', 'IPython.utils.process', 'IPython.utils.decorators', 'IPython.utils.path', 'IPython.utils.terminal', 'IPython.core.ultratb', 'IPython.utils._sysinfo', 'IPython.utils.sysinfo', 'IPython.core.crashhandler', 'IPython.utils.importstring', 'IPython.paths', 'IPython.core.profiledir', 'IPython.core.application', 'IPython.terminal', 'IPython.core.compilerop', 'IPython.core.error', 'IPython.utils.text', 'IPython.core.magic_arguments', 'getopt', 'IPython.core.display_functions', 'mimetypes', 'IPython.testing', 'IPython.testing.skipdoctest', 'IPython.core.display', 'IPython.lib', 'IPython.lib.display', 'IPython.display', 'IPython.utils.data', 'IPython.core.page', 'IPython.lib.pretty', 'IPython.utils.openpy', 'IPython.utils.dir2', 'IPython.utils.wildcard', 'pygments.lexers._mapping', 'pygments.modeline', 'pygments.lexers', 'pygments.filter', 'pygments.filters', 'pygments.regexopt', 'pygments.lexer', 'pygments.unistring', 'pygments.lexers.python', 'pygments.formatters.html', 'IPython.core.oinspect', 'IPython.core.inputtransformer2', 'IPython.core.magic', 'pickleshare', 'IPython.core.hooks', 'IPython.core.autocall', 'IPython.core.macro', 'IPython.core.splitinput', 'IPython.core.prefilter', 'IPython.core.alias', 'IPython.core.builtin_trap', 'IPython.core.displayhook', 'IPython.core.displaypub', 'backcall.backcall', 'backcall', 'IPython.core.events', 'IPython.core.extensions', 'decorator', 'IPython.utils.sentinel', 'IPython.core.formatters', '_sqlite3', 'sqlite3.dbapi2', 'sqlite3', 'IPython.core.history', 'IPython.core.logger', 'IPython.core.payload', 'IPython.core.usage', 'IPython.utils.capture', 'IPython.utils.io', 'IPython.utils.strdispatch', 'IPython.utils.syspathcontext', 'IPython.core.async_helpers', 'IPython.core.interactiveshell', 'prompt_toolkit.application.current', 'prompt_toolkit.eventloop.utils', 'prompt_toolkit.eventloop.async_generator', 'wcwidth.table_wide', 'wcwidth.table_zero', 'wcwidth.unicode_versions', 'wcwidth.wcwidth', 'wcwidth', 'prompt_toolkit.utils', 'prompt_toolkit.eventloop.inputhook', 'prompt_toolkit.eventloop', 'prompt_toolkit.application.run_in_terminal', 'prompt_toolkit.selection', 'prompt_toolkit.clipboard.base', 'prompt_toolkit.clipboard.in_memory', 'prompt_toolkit.clipboard', 'prompt_toolkit.cache', 'prompt_toolkit.enums', 'prompt_toolkit.filters.base', 'prompt_toolkit.filters.app', 'prompt_toolkit.filters.cli', 'prompt_toolkit.filters.utils', 'prompt_toolkit.filters', 'prompt_toolkit.document', 'prompt_toolkit.auto_suggest', 'prompt_toolkit.data_structures', 'prompt_toolkit.styles.base', 'prompt_toolkit.styles.named_colors', 'prompt_toolkit.styles.style', 'prompt_toolkit.styles.defaults', 'prompt_toolkit.styles.pygments', 'colorsys', 'prompt_toolkit.styles.style_transformation', 'prompt_toolkit.styles', 'prompt_toolkit.output.color_depth', 'prompt_toolkit.output.base', 'prompt_toolkit.output.defaults', 'prompt_toolkit.output', 'prompt_toolkit.output.vt100', 'prompt_toolkit.mouse_events', 'prompt_toolkit.formatted_text.base', 'prompt_toolkit.formatted_text.ansi', 'xml', 'xml.dom.domreg', 'xml.dom', 'xml.dom.minicompat', 'xml.dom.NodeFilter', 'xml.dom.xmlbuilder', 'xml.dom.minidom', 'prompt_toolkit.formatted_text.html', 'prompt_toolkit.formatted_text.pygments', 'prompt_toolkit.formatted_text.utils', 'prompt_toolkit.formatted_text', 'prompt_toolkit.completion.base', 'prompt_toolkit.completion.deduplicate', 'prompt_toolkit.completion.filesystem', 'prompt_toolkit.completion.word_completer', 'prompt_toolkit.completion.fuzzy_completer', 'prompt_toolkit.completion.nested', 'prompt_toolkit.completion', 'prompt_toolkit.history', 'prompt_toolkit.keys', 'prompt_toolkit.key_binding.key_bindings', 'prompt_toolkit.key_binding.key_processor', 'prompt_toolkit.key_binding', 'prompt_toolkit.key_binding.vi_state', 'prompt_toolkit.search', 'prompt_toolkit.validation', 'prompt_toolkit.buffer', 'prompt_toolkit.input.base', 'prompt_toolkit.input.defaults', 'prompt_toolkit.input', 'prompt_toolkit.input.typeahead', 'prompt_toolkit.key_binding.bindings', 'prompt_toolkit.key_binding.bindings.scroll', 'prompt_toolkit.key_binding.bindings.page_navigation', 'prompt_toolkit.lexers.base', 'prompt_toolkit.lexers.pygments', 'prompt_toolkit.lexers', 'prompt_toolkit.layout.utils', 'prompt_toolkit.layout.processors', 'prompt_toolkit.layout.controls', 'prompt_toolkit.layout.dimension', 'prompt_toolkit.layout.margins', 'prompt_toolkit.layout.mouse_handlers', 'prompt_toolkit.layout.screen', 'prompt_toolkit.layout.containers', 'prompt_toolkit.layout.layout', 'prompt_toolkit.layout.menus', 'prompt_toolkit.layout.scrollable_pane', 'prompt_toolkit.layout', 'prompt_toolkit.key_binding.bindings.completion', 'prompt_toolkit.key_binding.bindings.named_commands', 'prompt_toolkit.key_binding.bindings.basic', 'prompt_toolkit.key_binding.bindings.cpr', 'prompt_toolkit.key_binding.bindings.emacs', 'prompt_toolkit.key_binding.bindings.mouse', 'prompt_toolkit.input.ansi_escape_sequences', 'prompt_toolkit.input.vt100_parser', 'prompt_toolkit.key_binding.digraphs', 'prompt_toolkit.key_binding.bindings.vi', 'prompt_toolkit.key_binding.defaults', 'prompt_toolkit.key_binding.emacs_state', 'prompt_toolkit.layout.dummy', 'prompt_toolkit.renderer', 'prompt_toolkit.application.application', 'prompt_toolkit.application.dummy', 'prompt_toolkit.application', 'prompt_toolkit.key_binding.bindings.focus', 'prompt_toolkit.widgets.toolbars', 'prompt_toolkit.widgets.base', 'prompt_toolkit.widgets.dialogs', 'prompt_toolkit.widgets.menus', 'prompt_toolkit.widgets', 'prompt_toolkit.shortcuts.dialogs', 'prompt_toolkit.shortcuts.progress_bar.formatters', 'prompt_toolkit.shortcuts.progress_bar.base', 'prompt_toolkit.shortcuts.progress_bar', 'prompt_toolkit.key_binding.bindings.auto_suggest', 'prompt_toolkit.key_binding.bindings.open_in_editor', 'prompt_toolkit.shortcuts.prompt', 'prompt_toolkit.shortcuts.utils', 'prompt_toolkit.shortcuts', 'prompt_toolkit', 'prompt_toolkit.patch_stdout', 'unicodedata', 'IPython.core.latex_symbols', 'IPython.utils.generics', 'parso.utils', 'parso.tree', 'parso.python', 'parso.python.token', 'parso.python.tokenize', 'parso.pgen2.grammar_parser', 'parso.pgen2.generator', 'parso.pgen2', 'parso.parser', 'parso._compatibility', 'difflib', 'parso.python.prefix', 'parso.python.tree', 'parso.python.parser', 'parso.python.diff', 'gc', 'parso.cache', 'parso.normalizer', 'parso.python.errors', 'parso.python.pep8', 'parso.file_io', 'parso.grammar', 'parso', 'jedi.parser_utils', 'jedi.debug', 'jedi.settings', 'jedi.cache', 'jedi.file_io', 'jedi.inference.cache', 'jedi.inference.helpers', 'jedi.inference.utils', 'jedi.inference.base_value', 'jedi.inference.sys_path', 'jedi.inference.recursion', 'jedi.inference.flow_analysis', 'jedi.common', 'jedi.inference.lazy_value', 'jedi.inference.docstrings', 'jedi.plugins', 'jedi.inference.names', 'jedi.inference.filters', 'jedi.inference.compiled.getattr_static', 'jedi.inference.compiled.access', 'jedi.inference.signature', 'jedi.inference.context', 'jedi.inference.compiled.value', 'jedi.inference.compiled', 'jedi.inference.analysis', 'jedi.inference.gradual', 'jedi.inference.value.module', 'jedi.inference.value.dynamic_arrays', 'jedi.inference.value.iterable', 'jedi.inference.arguments', 'jedi.inference.parser_cache', 'jedi.inference.gradual.generics', 'jedi.inference.value.function', 'jedi.inference.value.klass', 'jedi.inference.value.instance', 'jedi.inference.value', 'jedi.inference.gradual.base', 'jedi.inference.gradual.type_var', 'jedi.inference.gradual.typing', 'jedi.inference.gradual.stub_value', 'jedi.inference.gradual.typeshed', 'jedi._compatibility', 'jedi.inference.compiled.subprocess.functions', 'jedi.api.exceptions', 'jedi.inference.compiled.subprocess', 'jedi.inference.imports', 'jedi.inference.param', 'jedi.inference.gradual.annotation', 'jedi.inference.value.decorator', 'jedi.inference.syntax_tree', 'jedi.inference', 'jedi.inference.gradual.conversion', 'jedi.inference.compiled.mixed', 'pydoc_data', 'pydoc_data.topics', 'jedi.api.keywords', 'jedi.api.completion_cache', 'jedi.api.helpers', 'jedi.api.classes', 'jedi.api.interpreter', 'jedi.api.strings', 'jedi.api.file_name', 'jedi.inference.docstring_utils', 'jedi.api.completion', 'filecmp', 'jedi.api.environment', 'jedi.inference.references', 'jedi.api.project', 'jedi.api.errors', 'jedi.api.refactoring', 'jedi.api.refactoring.extract', 'jedi.inference.gradual.utils', 'jedi.api', 'jedi.plugins.stdlib', 'jedi.plugins.flask', 'jedi.plugins.pytest', 'jedi.plugins.django', 'jedi.plugins.registry', 'jedi', 'IPython.core.completer', 'IPython.terminal.ptutils', 'IPython.lib.clipboard', 'IPython.terminal.shortcuts', 'concurrent.futures.thread', 'IPython.terminal.debugger', 'IPython.terminal.magics', 'IPython.terminal.pt_inputhooks', 'IPython.terminal.prompts', 'IPython.terminal.interactiveshell', 'IPython.core.magics.auto', 'IPython.core.magics.basic', 'email', 'http', 'email.errors', 'email.quoprimime', 'email.base64mime', 'quopri', 'email.encoders', 'email.charset', 'email.header', 'email._parseaddr', 'email.utils', 'email._policybase', 'email.feedparser', 'email.parser', 'uu', 'email._encoded_words', 'email.iterators', 'email.message', 'http.client', 'urllib.response', 'urllib.error', 'nturl2path', 'urllib.request', 'IPython.utils.contexts', 'IPython.core.magics.code', 'IPython.core.magics.config', 'IPython.core.magics.display', '_lsprof', 'profile', 'cProfile', 'pstats', 'timeit', 'IPython.utils.module_paths', 'IPython.utils.timing', 'IPython.core.magics.execution', 'IPython.core.magics.extension', 'IPython.core.magics.history', 'IPython.core.magics.logging', 'IPython.core.magics.namespace', 'IPython.core.magics.osm', 'IPython.core.magics.packaging', 'IPython.core.pylabtools', 'IPython.core.magics.pylab', 'IPython.core.magics.script', 'IPython.core.magics', 'IPython.core.shellapp', 'IPython.extensions', 'IPython.extensions.storemagic', 'IPython.terminal.ipapp', 'IPython.terminal.embed', 'IPython.utils.frame', 'IPython', 'imp', 'ipykernel.iostream', 'ipykernel.control', 'ipykernel.heartbeat', 'IPython.utils.tokenutil', 'tornado.locks', 'tornado.queues', 'ipykernel.jsonutil', 'ipykernel.kernelbase', 'ipykernel.comm.comm', 'ipykernel.comm.manager', 'ipykernel.comm', 'IPython.core.payloadpage', 'ipykernel.displayhook', 'ipykernel.zmqshell', 'setuptools._distutils', 'distutils.debug', 'distutils.errors', 'distutils.fancy_getopt', 'distutils.dep_util', 'distutils.log', 'distutils.spawn', 'distutils.py35compat', 'distutils.util', 'distutils.dist', 'distutils.dir_util', 'distutils.file_util', 'distutils.archive_util', 'distutils.cmd', 'distutils.config', 'distutils.extension', 'distutils.core', '_distutils_hack.override', 'setuptools._deprecation_warning', 'xml.parsers', 'pyexpat.errors', 'pyexpat.model', 'pyexpat', 'xml.parsers.expat.model', 'xml.parsers.expat.errors', 'xml.parsers.expat', 'plistlib', 'pkg_resources.extern', 'pkg_resources._vendor', 'pkg_resources._vendor.jaraco', 'pkg_resources.extern.jaraco', 'importlib.resources', 'pkg_resources._vendor.zipp', 'pkg_resources._vendor.importlib_resources._compat', 'pkg_resources._vendor.importlib_resources.abc', 'pkg_resources._vendor.importlib_resources._common', 'pkg_resources._vendor.importlib_resources._legacy', 'pkg_resources._vendor.importlib_resources', 'pkg_resources.extern.importlib_resources', 'pkg_resources._vendor.more_itertools.recipes', 'pkg_resources._vendor.more_itertools.more', 'pkg_resources._vendor.more_itertools', 'pkg_resources.extern.more_itertools', 'pkg_resources.extern.jaraco.functools', 'pkg_resources.extern.jaraco.context', 'pkg_resources.extern.jaraco.text', 'win32api', '_win32sysloader', 'pywintypes', 'pythoncom', 'win32com.gen_py', 'win32com', 'win32com.shell', 'pkg_resources._vendor.appdirs', 'pkg_resources.extern.appdirs', 'pkg_resources._vendor.packaging.__about__', 'pkg_resources._vendor.packaging', 'pkg_resources.extern.packaging', 'pkg_resources.extern.packaging._structures', 'pkg_resources.extern.packaging.version', 'pkg_resources._vendor.packaging._manylinux', 'pkg_resources._vendor.packaging._musllinux', 'pkg_resources.extern.packaging.tags', 'pkg_resources.extern.packaging.utils', 'pkg_resources.extern.packaging.specifiers', 'pkg_resources._vendor.pyparsing', 'pkg_resources.extern.pyparsing', 'pkg_resources.extern.packaging.markers', 'pkg_resources.extern.packaging.requirements', 'pkg_resources', 'setuptools.version', 'distutils.filelist', 'setuptools.monkey', 'setuptools.extension', 'distutils.command', 'setuptools.extern', 'setuptools._vendor', 'setuptools._vendor.packaging.__about__', 'setuptools._vendor.packaging', 'setuptools.extern.packaging', 'setuptools._vendor.ordered_set', 'setuptools.extern.ordered_set', 'setuptools._vendor.more_itertools.recipes', 'setuptools._vendor.more_itertools.more', 'setuptools._vendor.more_itertools', 'setuptools.extern.more_itertools', 'setuptools._vendor.pyparsing', 'setuptools.extern.pyparsing', 'setuptools._vendor.packaging._manylinux', 'setuptools._vendor.packaging._musllinux', 'setuptools.extern.packaging.tags', 'setuptools.extern.packaging._structures', 'setuptools.extern.packaging.version', 'setuptools.extern.packaging.utils', 'setuptools.extern.packaging.specifiers', 'setuptools.extern.packaging.markers', 'setuptools.extern.packaging.requirements', 'setuptools._vendor.jaraco', 'setuptools.extern.jaraco', 'setuptools.extern.jaraco.context', 'setuptools.extern.jaraco.functools', '_csv', 'csv', 'setuptools._vendor.zipp', 'setuptools._vendor.importlib_metadata._functools', 'setuptools._vendor.importlib_metadata._text', 'setuptools._vendor.importlib_metadata._adapters', 'setuptools._vendor.importlib_metadata._compat', 'setuptools._vendor.importlib_metadata._meta', 'setuptools._vendor.importlib_metadata._collections', 'setuptools._vendor.importlib_metadata._itertools', 'setuptools._vendor.importlib_metadata', 'setuptools.extern.importlib_metadata', 'setuptools._vendor.nspektr._compat', 'setuptools._vendor.nspektr', 'setuptools.extern.nspektr', 'zipp', 'importlib_metadata._functools', 'importlib_metadata._text', 'importlib_metadata._adapters', 'importlib_metadata._compat', 'importlib_metadata._meta', 'importlib_metadata._collections', 'importlib_metadata._itertools', 'importlib_metadata', 'setuptools._vendor.importlib_resources._compat', 'setuptools._vendor.importlib_resources.abc', 'setuptools._vendor.importlib_resources._common', 'setuptools._vendor.importlib_resources._legacy', 'setuptools._vendor.importlib_resources', 'setuptools.extern.importlib_resources', 'setuptools._importlib', 'distutils.command.bdist', 'setuptools.command', 'setuptools.windows_support', 'setuptools.config.expand', 'setuptools.config.setupcfg', 'setuptools.config', 'setuptools.errors', 'email._header_value_parser', 'email.headerregistry', 'setuptools.config._apply_pyprojecttoml', 'setuptools.config.pyprojecttoml', 'setuptools.discovery', 'setuptools.extern.jaraco.text', 'setuptools._reqs', 'setuptools._itertools', 'setuptools._entry_points', 'setuptools.dist', 'setuptools.py34compat', 'setuptools._imp', 'setuptools.depends', 'setuptools.logging', 'distutils.ccompiler', 'distutils.msvc9compiler', 'setuptools.msvc', 'unittest.util', 'unittest.result', 'unittest.case', 'unittest.async_case', 'unittest.suite', 'unittest.loader', 'unittest.signals', 'unittest.runner', 'unittest.main', 'unittest', 'unittest.mock', 'distutils._msvccompiler', 'setuptools', 'distutils', 'distutils.version', 'ipykernel.eventloops', 'ipykernel.compiler', 'debugpy._version', 'debugpy.common', 'debugpy.common.json', 'debugpy.common.fmt', 'debugpy.common.compat', 'debugpy', 'debugpy._vendored._util', 'debugpy._vendored', '_pydevd_bundle', 'encodings.ascii', 'stringprep', 'encodings.idna', '_pydevd_bundle.pydevd_vm_type', '_pydev_imps', 'xmlrpc', 'gzip', 'xmlrpc.client', 'socketserver', 'http.server', 'xmlrpc.server', '_pydev_imps._pydev_saved_modules', '_pydevd_bundle.pydevd_constants', '_pydev_bundle', '_pydev_runfiles', '_pydevd_frame_eval', 'pydev_ipython', 'pydevd_concurrency_analyser', 'pydevd_plugins', '_pydev_bundle.pydev_log', '_pydev_bundle._pydev_filesystem_encoding', '_pydevd_bundle.pydevd_comm_constants', 'pydevd_file_utils', '_pydev_imps._pydev_execfile', '_pydevd_bundle.pydevd_exec2', '_pydev_bundle.pydev_imports', '_pydev_bundle.pydev_is_thread_alive', '_pydev_bundle.pydev_override', 'pydevd_plugins.extensions', '_pydevd_bundle.pydevd_extension_utils', '_pydevd_bundle.pydevd_frame_utils', '_pydevd_bundle.pydevd_filtering', '_pydevd_bundle.pydevd_io', '_pydevd_bundle.pydevd_utils', '_pydev_bundle._pydev_tipper_common', '_pydev_bundle._pydev_imports_tipper', '_pydev_bundle._pydev_calltip_util', '_pydevd_bundle.pydevd_safe_repr', '_pydevd_bundle.pydevd_resolver', '_pydevd_bundle.pydevd_extension_api', '_pydevd_bundle.pydevd_xml', '_pydevd_bundle.pydevd_dont_trace', '_pydevd_frame_eval.vendored', '_pydevd_frame_eval.vendored.bytecode.flags', '_pydevd_frame_eval.vendored.bytecode.instr', '_pydevd_frame_eval.vendored.bytecode.bytecode', '_pydevd_frame_eval.vendored.bytecode.concrete', '_pydevd_frame_eval.vendored.bytecode.cfg', '_pydevd_frame_eval.vendored.bytecode', '_pydevd_bundle.pydevd_bytecode_utils', '_pydevd_bundle.pydevd_cython', '_pydevd_bundle.pydevd_cython_wrapper', '_pydevd_bundle.pydevd_additional_thread_info', '_pydevd_bundle.pydevd_thread_lifecycle', '_pydevd_bundle.pydevd_save_locals', '_pydevd_bundle.pydevd_defaults', '_pydev_bundle.pydev_monkey', 'pydevd_tracing', '_pydevd_bundle.pydevd_daemon_thread', '_pydevd_bundle.pydevd_timeout', '_pydevd_bundle.pydevd_vars', '_pydev_bundle.pydev_console_utils', '_pydevd_bundle.pydevd_import_class', '_pydevd_bundle.pydevd_breakpoints', '_pydevd_bundle.pydevd_custom_frames', '_pydevd_bundle.pydevd_dont_trace_files', '_pydevd_bundle.pydevd_net_command', '_pydev_bundle.pydev_umd', 'pydevconsole', '_pydev_bundle._pydev_completer', '_pydevd_bundle.pydevd_net_command_factory_xml', '_pydevd_bundle.pydevd_frame', '_pydevd_bundle.pydevd_additional_thread_info_regular', '_pydevd_bundle.pydevd_trace_dispatch', '_pydevd_frame_eval.pydevd_frame_eval_main', '_pydevd_bundle.pydevd_source_mapping', 'pydevd_concurrency_analyser.pydevd_thread_wrappers', 'pydevd_concurrency_analyser.pydevd_concurrency_logger', '_pydevd_bundle._debug_adapter', '_pydevd_bundle._debug_adapter.pydevd_schema_log', '_pydevd_bundle._debug_adapter.pydevd_base_schema', '_pydevd_bundle._debug_adapter.pydevd_schema', '_pydevd_bundle.pydevd_reload', '_pydev_bundle.fsnotify', '_pydevd_bundle.pydevd_console', '_pydevd_bundle.pydevd_comm', '_pydevd_bundle.pydevd_net_command_factory_json', '_pydevd_bundle.pydevd_collect_bytecode_info', '_pydevd_bundle.pydevd_api', '_pydevd_bundle.pydevd_json_debug_options', '_pydevd_bundle.pydevd_process_net_command_json', '_pydevd_bundle.pydevd_traceproperty', '_pydevd_bundle.pydevd_process_net_command', '_pydevd_bundle.pydevd_suspended_frames', '_pydevd_bundle.pydevd_trace_api', 'pydevd_plugins.django_debug', 'pydevd_plugins.jinja2_debug', '_pydevd_bundle.pydevd_plugin_utils', 'pydevd_plugins.extensions.types', 'pydevd_plugins.extensions.types.pydevd_helpers', 'pydevd_plugins.extensions.types.pydevd_plugin_numpy_types', 'pydevd_plugins.extensions.types.pydevd_plugins_django_form_str', 'pydevd', 'debugpy._vendored.force_pydevd', 'debugpy.server', 'debugpy.adapter', 'debugpy.common.timestamp', 'debugpy.common.util', 'debugpy.common.log', 'debugpy.common.sockets', 'debugpy.server.api', 'ipykernel.debugger', 'ipykernel.ipkernel', 'ipykernel.parentpoller', 'ipykernel.kernelapp', 'ntsecuritycon', 'win32security', 'faulthandler', 'IPython.core.completerlib', 'numpy._globals', 'numpy.__config__', 'numpy.version', 'numpy._distributor_init', 'numpy.core._multiarray_umath', 'numpy.compat._inspect', 'numpy.compat.py3k', 'numpy.compat', 'numpy.core.overrides', 'numpy.core.multiarray', 'numpy.core.umath', 'numpy.core._string_helpers', 'numpy.core._dtype', 'numpy.core._type_aliases', 'numpy.core.numerictypes', 'numpy.core._asarray', 'numpy.core._exceptions', 'numpy.core._methods', 'numpy.core.fromnumeric', 'numpy.core.shape_base', 'numpy.core._ufunc_config', 'numpy.core.arrayprint', 'numpy.core.numeric', 'numpy.core.defchararray', 'numpy.core.records', 'numpy.core.memmap', 'numpy.core.function_base', 'numpy.core.machar', 'numpy.core.getlimits', 'numpy.core.einsumfunc', 'numpy.core._multiarray_tests', 'numpy.core._add_newdocs', 'numpy.core._add_newdocs_scalars', 'numpy.core._dtype_ctypes', 'numpy.core._internal', 'numpy._pytesttester', 'numpy.core', 'numpy.lib.mixins', 'numpy.lib.ufunclike', 'numpy.lib.type_check', 'numpy.lib.scimath', 'numpy.lib.twodim_base', 'numpy.linalg.lapack_lite', 'numpy.linalg._umath_linalg', 'numpy.linalg.linalg', 'numpy.linalg', 'numpy.matrixlib.defmatrix', 'numpy.matrixlib', 'numpy.lib.histograms', 'numpy.lib.function_base', 'numpy.lib.stride_tricks', 'numpy.lib.index_tricks', 'numpy.lib.nanfunctions', 'numpy.lib.shape_base', 'numpy.lib.polynomial', 'numpy.lib.utils', 'numpy.lib.arraysetops', 'numpy.lib.format', 'numpy.lib._datasource', 'numpy.lib._iotools', 'numpy.lib.npyio', 'numpy.lib.arrayterator', 'numpy.lib.arraypad', 'numpy.lib._version', 'numpy.lib', 'numpy.fft._pocketfft_internal', 'numpy.fft._pocketfft', 'numpy.fft.helper', 'numpy.fft', 'numpy.polynomial.polyutils', 'numpy.polynomial._polybase', 'numpy.polynomial.polynomial', 'numpy.polynomial.chebyshev', 'numpy.polynomial.legendre', 'numpy.polynomial.hermite', 'numpy.polynomial.hermite_e', 'numpy.polynomial.laguerre', 'numpy.polynomial', '_cython_0_29_21', 'numpy.random._common', 'secrets', 'numpy.random.bit_generator', 'numpy.random._bounded_integers', 'numpy.random._mt19937', 'numpy.random.mtrand', 'numpy.random._philox', 'numpy.random._pcg64', 'numpy.random._sfc64', 'numpy.random._generator', 'numpy.random._pickle', 'numpy.random', 'numpy.ctypeslib', 'numpy.ma.core', 'numpy.ma.extras', 'numpy.ma', 'numpy', 'commons', 'product', 'pytz.exceptions', 'pytz.lazy', 'pytz.tzinfo', 'pytz.tzfile', 'pytz', 'mmap', 'pandas._typing', 'pandas.compat', 'pandas.compat.numpy', 'pandas._libs.tslibs.dtypes', 'pandas._libs.tslibs.base', 'pandas._libs.tslibs.np_datetime', 'pandas._libs.tslibs.nattype', 'pandas._libs.tslibs.timezones', 'pandas._libs.tslibs.ccalendar', 'pandas._libs.tslibs.tzconversion', 'pandas._libs.tslibs.timedeltas', 'pandas._config.config', 'pandas._config.dates', 'pandas._config.display', 'pandas._config', 'pandas._config.localization', 'pandas._libs.tslibs.strptime', 'pandas._libs.tslibs.fields', 'pandas._libs.tslibs.timestamps', 'dateutil.easter', 'pandas._libs.properties', 'pandas._libs.tslibs.offsets', 'pandas._libs.tslibs.parsing', 'pandas._libs.tslibs.conversion', 'pandas._libs.tslibs.period', 'pandas._libs.tslibs.vectorized', 'pandas._libs.tslibs', 'pandas._libs.ops_dispatch', 'pandas._libs.missing', 'pandas._libs.hashtable', 'pandas._libs.algos', 'pandas._libs.interval', 'pandas._libs', 'pandas._libs.tslib', 'pandas._libs.lib', 'pandas.core', 'pandas.core.config_init', 'pandas.core.dtypes', 'pandas.errors', 'pandas.core.dtypes.generic', 'pandas.core.dtypes.base', 'pandas.core.dtypes.inference', 'pandas.core.dtypes.dtypes', 'pandas.core.dtypes.common', 'pandas.core.dtypes.missing', 'pandas.util._decorators', 'pandas.core.util', 'pandas._libs.hashing', 'pandas.core.util.hashing', 'pandas.util', 'pandas.util._validators', 'pandas.core.dtypes.cast', 'pandas.core.common', 'pandas.core.construction', 'pandas.core.indexers', 'pandas.core.algorithms', 'pandas.compat.numpy.function', 'pandas._libs.ops', 'pandas.core.ops.roperator', 'pandas.core.ops.missing', 'pandas.core.ops.dispatch', 'pandas.core.ops.invalid', 'pandas.core.ops.array_ops', 'pandas.core.ops.common', 'pandas.core.ops.docstrings', 'pandas.core.ops.mask_ops', 'pandas.core.ops.methods', 'pandas.core.ops', 'pandas.compat._optional', 'pandas.core.missing', 'pandas.core.sorting', 'pandas.core.arrays.base', 'pandas.core.nanops', 'pandas.core.array_algos', 'pandas.core.array_algos.masked_reductions', 'pandas.core.arraylike', 'pandas.core.arrays.masked', 'pandas.core.arrays.boolean', 'pandas.core.accessor', 'pandas.core.array_algos.transforms', 'pandas.core.arrays._mixins', 'pandas.core.base', 'pandas.core.strings.accessor', 'pandas.core.strings.base', 'pandas.core.strings', 'pandas.core.strings.object_array', 'pandas.io', 'pandas.io.formats', 'pandas.io.formats.console', 'pandas.core.arrays.categorical', 'pandas.tseries', 'pandas.tseries.frequencies', 'pandas.core.arrays.datetimelike', 'pandas.core.arrays._ranges', 'pandas.tseries.offsets', 'pandas.core.arrays.datetimes', 'pandas.core.tools', 'pandas.core.tools.numeric', 'pandas.core.arrays.numeric', 'pandas.core.arrays.floating', 'pandas.core.arrays.integer', 'pandas.core.indexes', 'pandas._libs.index', 'pandas._libs.join', 'pandas._libs.sparse', 'pandas.core.arrays.sparse.dtype', 'pandas.io.formats.printing', 'pandas.core.arrays.sparse.array', 'pandas.core.arrays.sparse.accessor', 'pandas.core.arrays.sparse', 'pandas.core.dtypes.concat', 'pandas.core.indexes.frozen', 'pandas.core.indexes.base', 'pandas.core.arrays.interval', 'pandas.core.arrays.numpy_', 'pandas.core.arrays.period', 'pandas.core.arrays.string_', 'pandas.core.arrays.timedeltas', 'pandas.core.arrays', 'pandas.core.flags', 'pandas._libs.reduction', 'pandas.core.indexes.extension', 'pandas.core.indexes.category', 'pandas.core.indexes.numeric', 'pandas.core.tools.timedeltas', 'pandas.core.indexes.datetimelike', 'pandas.core.tools.times', 'pandas.core.indexes.datetimes', 'pandas.util._exceptions', 'pandas.core.indexes.multi', 'pandas.core.indexes.timedeltas', 'pandas.core.indexes.interval', 'pandas.core.indexes.period', 'pandas.core.indexes.range', 'pandas.core.indexes.api', 'pandas.core.aggregation', 'pandas._libs.indexing', 'pandas.core.indexing', 'pandas._libs.internals', 'pandas._libs.writers', 'pandas.core.array_algos.replace', 'pandas.core.internals.blocks', 'pandas.core.internals.ops', 'pandas.core.internals.managers', 'pandas.core.internals.concat', 'pandas.core.internals', 'pandas.core.shared_docs', 'pandas._libs.window', 'pandas._libs.window.aggregations', 'pandas.core.util.numba_', 'pandas.core.window.common', 'pandas._libs.window.indexers', 'pandas.core.window.indexers', 'pandas.core.window.numba_', 'pandas.core.groupby.base', 'pandas.core.window.rolling', 'pandas.core.window.ewm', 'pandas.core.window.expanding', 'pandas.core.window', 'pandas.core.reshape', 'pandas.core.reshape.concat', 'dataclasses', 'pandas.io.common', 'pandas.io.formats.format', 'pandas.core.generic', 'pandas.core.internals.construction', 'pandas.core.reshape.util', 'pandas.core.reshape.melt', 'pandas._libs.reshape', 'pandas.core.indexes.accessors', 'pandas.arrays', 'pandas.core.tools.datetimes', 'pandas.plotting._core', 'pandas.plotting._misc', 'pandas.plotting', 'pandas.core.series', 'pandas.io.formats.info', 'pandas.core.frame', 'pandas._libs.groupby', 'pandas.core.groupby.numba_', 'pandas.core.groupby.categorical', 'pandas.core.groupby.grouper', 'pandas.core.groupby.ops', 'pandas.core.groupby.groupby', 'pandas.core.groupby.generic', 'pandas.core.groupby', 'pandas.core.api', 'pandas.tseries.api', 'pandas.core.computation', 'pandas.core.computation.common', 'pandas.core.computation.align', 'pandas.compat.chainmap', 'pandas.core.computation.scope', 'pandas.core.computation.ops', 'pandas.core.computation.engines', 'pandas.core.computation.parsing', 'pandas.core.computation.expr', 'pandas.core.computation.eval', 'pandas.core.computation.api', 'pandas.core.reshape.merge', 'pandas.core.reshape.pivot', 'pandas.core.reshape.reshape', 'pandas.core.reshape.tile', 'pandas.core.reshape.api', 'pandas.api.extensions', 'pandas.api.indexers', 'pandas.core.dtypes.api', 'pandas.api.types', 'pandas.api', 'pandas.util._print_versions', 'pandas.io.clipboards', 'pandas._libs.parsers', 'pandas.io.excel._util', 'pandas.io.date_converters', 'pandas.io.parsers', 'pandas.io.excel._odfreader', 'pandas.io.excel._openpyxl', 'pandas.io.excel._pyxlsb', 'pandas.io.excel._xlrd', 'pandas.io.excel._base', 'pandas._libs.json', 'pandas.io.formats._color_data', 'pandas.io.formats.css', 'pandas.io.formats.excel', 'pandas.io.excel._odswriter', 'pandas.io.excel._xlsxwriter', 'pandas.io.excel._xlwt', 'pandas.io.excel', 'pandas.io.feather_format', 'pandas.io.gbq', 'pandas.io.html', 'pandas.io.json._normalize', 'pandas.io.json._table_schema', 'pandas.io.json._json', 'pandas.io.json', 'pandas.io.orc', 'pandas.io.parquet', 'pandas.compat.pickle_compat', 'pandas.io.pickle', 'pandas.core.computation.pytables', 'pandas.io.pytables', 'pandas.io.sas.sasreader', 'pandas.io.sas', 'pandas.io.spss', 'pandas.io.sql', 'pandas.io.stata', 'pandas.io.api', 'pandas.util._tester', 'cmath', 'pandas._libs.testing', 'pandas._testing', 'pandas.testing', 'pandas._version', 'pandas', 'risk_factors', 'portfolio', 'assumptions', 'encodings.cp437', 'openpyxl.compat.numbers', 'openpyxl.compat.strings', 'openpyxl.compat', 'defusedxml.common', 'defusedxml', 'openpyxl.xml', 'openpyxl.worksheet', 'openpyxl.utils.exceptions', 'openpyxl.utils.cell', 'openpyxl.utils.formulas', 'openpyxl.utils', 'openpyxl.utils.datetime', 'openpyxl.descriptors.namespace', 'openpyxl.descriptors.base', 'xml.etree', 'xml.etree.ElementPath', 'et_xmlfile.xmlfile', 'et_xmlfile', '_elementtree', 'xml.etree.ElementTree', 'defusedxml.ElementTree', 'openpyxl.xml.constants', 'openpyxl.xml.functions', 'openpyxl.utils.indexed_list', 'openpyxl.descriptors.sequence', 'openpyxl.descriptors', 'openpyxl.descriptors.serialisable', 'openpyxl.styles.alignment', 'openpyxl.styles.colors', 'openpyxl.styles.borders', 'openpyxl.styles.fills', 'openpyxl.descriptors.nested', 'openpyxl.styles.fonts', 'openpyxl.styles.numbers', 'openpyxl.styles.protection', 'openpyxl.descriptors.excel', 'openpyxl.styles.cell_style', 'openpyxl.styles.named_styles', 'openpyxl.styles', 'openpyxl.styles.proxy', 'openpyxl.styles.builtins', 'openpyxl.styles.styleable', 'openpyxl.worksheet.hyperlink', 'openpyxl.cell.cell', 'openpyxl.cell.read_only', 'openpyxl.cell', 'openpyxl.styles.differential', 'openpyxl.formatting.rule', 'openpyxl.formatting', 'openpyxl.worksheet.cell_range', 'openpyxl.formatting.formatting', 'openpyxl.packaging', 'openpyxl.packaging.relationship', 'openpyxl.utils.escape', 'openpyxl.worksheet.header_footer', 'openpyxl.workbook.child', 'openpyxl.formula.tokenizer', 'openpyxl.formula', 'openpyxl.workbook.defined_name', 'openpyxl.formula.translate', 'openpyxl.worksheet.datavalidation', 'openpyxl.worksheet.page', 'openpyxl.utils.units', 'openpyxl.utils.bound_dictionary', 'openpyxl.worksheet.dimensions', 'openpyxl.utils.protection', 'openpyxl.worksheet.protection', 'openpyxl.worksheet.filters', 'openpyxl.worksheet.views', 'openpyxl.worksheet.merge', 'openpyxl.worksheet.properties', 'openpyxl.worksheet.pagebreak', 'openpyxl.worksheet.scenario', 'openpyxl.worksheet.related', 'openpyxl.worksheet.table', 'openpyxl.worksheet.worksheet', 'openpyxl.cell.text', 'openpyxl.worksheet._reader', 'openpyxl.worksheet._read_only', 'openpyxl.comments.comments', 'openpyxl.comments', 'openpyxl.comments.author', 'openpyxl.comments.shape_writer', 'openpyxl.comments.comment_sheet', 'openpyxl.cell._writer', 'openpyxl.worksheet._writer', 'openpyxl.worksheet._write_only', 'openpyxl.worksheet.copier', 'openpyxl.writer', 'openpyxl.drawing.drawing', 'openpyxl.drawing', 'PIL._version', 'PIL', 'PIL.ImageMode', 'PIL.TiffTags', 'PIL._binary', 'PIL._util', 'PIL._imaging', 'cffi.lock', 'cffi.error', 'cffi.model', 'cffi.api', 'cffi', 'PIL.Image', 'openpyxl.drawing.image', 'openpyxl.chart.layout', 'openpyxl.chart.picture', 'openpyxl.drawing.colors', 'openpyxl.drawing.effect', 'openpyxl.drawing.fill', 'openpyxl.drawing.line', 'openpyxl.drawing.geometry', 'openpyxl.chart.shapes', 'openpyxl.drawing.text', 'openpyxl.chart.data_source', 'openpyxl.chart.text', 'openpyxl.chart.error_bar', 'openpyxl.chart.marker', 'openpyxl.chart._3d', 'openpyxl.chart.legend', 'openpyxl.chart.reference', 'openpyxl.chart.label', 'openpyxl.chart.trendline', 'openpyxl.chart.series', 'openpyxl.chart.series_factory', 'openpyxl.chart.title', 'openpyxl.chart._chart', 'openpyxl.chart.descriptors', 'openpyxl.chart.axis', 'openpyxl.chart.area_chart', 'openpyxl.chart.bar_chart', 'openpyxl.chart.bubble_chart', 'openpyxl.chart.updown_bars', 'openpyxl.chart.line_chart', 'openpyxl.chart.pie_chart', 'openpyxl.chart.radar_chart', 'openpyxl.chart.scatter_chart', 'openpyxl.chart.stock_chart', 'openpyxl.chart.surface_chart', 'openpyxl.chart', 'openpyxl.drawing.xdr', 'openpyxl.drawing.properties', 'openpyxl.drawing.connector', 'openpyxl.drawing.picture', 'openpyxl.drawing.relation', 'openpyxl.drawing.graphic', 'openpyxl.drawing.spreadsheet_drawing', 'openpyxl.packaging.manifest', 'openpyxl.packaging.extended', 'openpyxl.styles.table', 'openpyxl.styles.stylesheet', 'openpyxl.workbook.external_reference', 'openpyxl.workbook.function_group', 'openpyxl.workbook.properties', 'openpyxl.workbook.protection', 'openpyxl.workbook.smart_tags', 'openpyxl.workbook.views', 'openpyxl.workbook.web', 'openpyxl.packaging.workbook', 'openpyxl.workbook._writer', 'openpyxl.writer.theme', 'openpyxl.writer.excel', 'openpyxl.worksheet.drawing', 'openpyxl.chartsheet.relation', 'openpyxl.chartsheet.properties', 'openpyxl.chartsheet.protection', 'openpyxl.chartsheet.views', 'openpyxl.chartsheet.custom', 'openpyxl.chartsheet.publish', 'openpyxl.chartsheet.chartsheet', 'openpyxl.chartsheet', 'openpyxl.packaging.core', 'openpyxl.workbook.workbook', 'openpyxl.workbook', 'openpyxl.reader', 'openpyxl.pivot', 'openpyxl.pivot.fields', 'openpyxl.pivot.table', 'openpyxl.reader.strings', 'openpyxl.workbook.external_link.external', 'openpyxl.workbook.external_link', 'openpyxl.pivot.cache', 'openpyxl.pivot.record', 'openpyxl.reader.workbook', 'openpyxl.chart.plotarea', 'openpyxl.chart.pivot', 'openpyxl.chart.print_settings', 'openpyxl.chart.chartspace', 'openpyxl.chart.reader', 'openpyxl.reader.drawings', 'openpyxl.reader.excel', 'openpyxl._constants', 'openpyxl', 'pandas.core.computation.check', 'pandas.core.computation.expressions', 'pygments.styles.default', 'pandas.io.formats.string', 'pandas.io.formats.html', 'multistate_main', 'pandas.plotting._matplotlib', 'pandas.plotting._matplotlib.boxplot', 'matplotlib', 'matplotlib.cbook.deprecation', 'matplotlib.cbook', 'matplotlib._animation_data', 'matplotlib.animation', 'pyparsing.util', 'pyparsing.unicode', 'pyparsing.exceptions', 'pyparsing.actions', 'pyparsing.results', 'pyparsing.core', 'pyparsing.helpers', 'pyparsing.testing', 'pyparsing.common', 'pyparsing', 'matplotlib.fontconfig_pattern', 'matplotlib.docstring', 'matplotlib._color_data', 'matplotlib.colors', 'cycler', 'matplotlib.rcsetup', 'matplotlib._version', 'matplotlib.ft2font', 'kiwisolver._cext', 'kiwisolver']\n"
     ]
    },
    {
     "name": "stderr",
     "output_type": "stream",
     "text": [
      "DEBUG - 2022-06-06 18:50:51,856 - matplotlib - CACHEDIR=C:\\Users\\martin\\.matplotlib\n",
      "DEBUG - 2022-06-06 18:50:51,867 - matplotlib.font_manager - Using fontManager instance from C:\\Users\\martin\\.matplotlib\\fontlist-v330.json\n",
      "DEBUG - 2022-06-06 18:50:52,517 - matplotlib.pyplot - Loaded backend module://matplotlib_inline.backend_inline version unknown.\n",
      "DEBUG - 2022-06-06 18:50:52,519 - matplotlib.pyplot - Loaded backend module://matplotlib_inline.backend_inline version unknown.\n"
     ]
    },
    {
     "data": {
      "text/plain": [
       "<AxesSubplot:>"
      ]
     },
     "execution_count": 30,
     "metadata": {},
     "output_type": "execute_result"
    },
    {
     "name": "stderr",
     "output_type": "stream",
     "text": [
      "DEBUG - 2022-06-06 18:50:52,735 - matplotlib.font_manager - findfont: Matching sans\\-serif:style=normal:variant=normal:weight=normal:stretch=normal:size=10.0.\n",
      "DEBUG - 2022-06-06 18:50:52,737 - matplotlib.font_manager - findfont: score(<Font 'DejaVu Serif' (DejaVuSerif-Italic.ttf) italic normal 400 normal>) = 11.05\n",
      "DEBUG - 2022-06-06 18:50:52,738 - matplotlib.font_manager - findfont: score(<Font 'STIXGeneral' (STIXGeneralItalic.ttf) italic normal 400 normal>) = 11.05\n",
      "DEBUG - 2022-06-06 18:50:52,739 - matplotlib.font_manager - findfont: score(<Font 'STIXSizeFourSym' (STIXSizFourSymBol.ttf) normal normal 700 normal>) = 10.335\n",
      "DEBUG - 2022-06-06 18:50:52,741 - matplotlib.font_manager - findfont: score(<Font 'STIXSizeOneSym' (STIXSizOneSymBol.ttf) normal normal 700 normal>) = 10.335\n",
      "DEBUG - 2022-06-06 18:50:52,742 - matplotlib.font_manager - findfont: score(<Font 'STIXSizeFiveSym' (STIXSizFiveSymReg.ttf) normal normal 400 normal>) = 10.05\n",
      "DEBUG - 2022-06-06 18:50:52,743 - matplotlib.font_manager - findfont: score(<Font 'STIXGeneral' (STIXGeneral.ttf) normal normal 400 normal>) = 10.05\n",
      "DEBUG - 2022-06-06 18:50:52,744 - matplotlib.font_manager - findfont: score(<Font 'STIXSizeThreeSym' (STIXSizThreeSymReg.ttf) normal normal 400 normal>) = 10.05\n",
      "DEBUG - 2022-06-06 18:50:52,745 - matplotlib.font_manager - findfont: score(<Font 'DejaVu Sans Display' (DejaVuSansDisplay.ttf) normal normal 400 normal>) = 10.05\n",
      "DEBUG - 2022-06-06 18:50:52,746 - matplotlib.font_manager - findfont: score(<Font 'DejaVu Serif' (DejaVuSerif-BoldItalic.ttf) italic normal 700 normal>) = 11.335\n",
      "DEBUG - 2022-06-06 18:50:52,746 - matplotlib.font_manager - findfont: score(<Font 'STIXSizeTwoSym' (STIXSizTwoSymReg.ttf) normal normal 400 normal>) = 10.05\n",
      "DEBUG - 2022-06-06 18:50:52,749 - matplotlib.font_manager - findfont: score(<Font 'DejaVu Sans' (DejaVuSans-Oblique.ttf) oblique normal 400 normal>) = 1.05\n",
      "DEBUG - 2022-06-06 18:50:52,750 - matplotlib.font_manager - findfont: score(<Font 'cmsy10' (cmsy10.ttf) normal normal 400 normal>) = 10.05\n",
      "DEBUG - 2022-06-06 18:50:52,751 - matplotlib.font_manager - findfont: score(<Font 'STIXSizeFourSym' (STIXSizFourSymReg.ttf) normal normal 400 normal>) = 10.05\n",
      "DEBUG - 2022-06-06 18:50:52,752 - matplotlib.font_manager - findfont: score(<Font 'DejaVu Serif Display' (DejaVuSerifDisplay.ttf) normal normal 400 normal>) = 10.05\n",
      "DEBUG - 2022-06-06 18:50:52,753 - matplotlib.font_manager - findfont: score(<Font 'STIXNonUnicode' (STIXNonUni.ttf) normal normal 400 normal>) = 10.05\n",
      "DEBUG - 2022-06-06 18:50:52,754 - matplotlib.font_manager - findfont: score(<Font 'cmmi10' (cmmi10.ttf) normal normal 400 normal>) = 10.05\n",
      "DEBUG - 2022-06-06 18:50:52,757 - matplotlib.font_manager - findfont: score(<Font 'DejaVu Sans' (DejaVuSans-BoldOblique.ttf) oblique normal 700 normal>) = 1.335\n",
      "DEBUG - 2022-06-06 18:50:52,759 - matplotlib.font_manager - findfont: score(<Font 'STIXNonUnicode' (STIXNonUniBol.ttf) normal normal 700 normal>) = 10.335\n",
      "DEBUG - 2022-06-06 18:50:52,760 - matplotlib.font_manager - findfont: score(<Font 'DejaVu Sans' (DejaVuSans.ttf) normal normal 400 normal>) = 0.05\n",
      "DEBUG - 2022-06-06 18:50:52,762 - matplotlib.font_manager - findfont: score(<Font 'STIXSizeThreeSym' (STIXSizThreeSymBol.ttf) normal normal 700 normal>) = 10.335\n",
      "DEBUG - 2022-06-06 18:50:52,763 - matplotlib.font_manager - findfont: score(<Font 'DejaVu Sans' (DejaVuSans-Bold.ttf) normal normal 700 normal>) = 0.33499999999999996\n",
      "DEBUG - 2022-06-06 18:50:52,763 - matplotlib.font_manager - findfont: score(<Font 'cmex10' (cmex10.ttf) normal normal 400 normal>) = 10.05\n",
      "DEBUG - 2022-06-06 18:50:52,764 - matplotlib.font_manager - findfont: score(<Font 'DejaVu Sans Mono' (DejaVuSansMono-Oblique.ttf) oblique normal 400 normal>) = 11.05\n",
      "DEBUG - 2022-06-06 18:50:52,765 - matplotlib.font_manager - findfont: score(<Font 'STIXGeneral' (STIXGeneralBol.ttf) normal normal 700 normal>) = 10.335\n",
      "DEBUG - 2022-06-06 18:50:52,766 - matplotlib.font_manager - findfont: score(<Font 'STIXNonUnicode' (STIXNonUniBolIta.ttf) italic normal 700 normal>) = 11.335\n",
      "DEBUG - 2022-06-06 18:50:52,770 - matplotlib.font_manager - findfont: score(<Font 'cmr10' (cmr10.ttf) normal normal 400 normal>) = 10.05\n",
      "DEBUG - 2022-06-06 18:50:52,770 - matplotlib.font_manager - findfont: score(<Font 'STIXGeneral' (STIXGeneralBolIta.ttf) italic normal 700 normal>) = 11.335\n",
      "DEBUG - 2022-06-06 18:50:52,771 - matplotlib.font_manager - findfont: score(<Font 'STIXSizeOneSym' (STIXSizOneSymReg.ttf) normal normal 400 normal>) = 10.05\n",
      "DEBUG - 2022-06-06 18:50:52,772 - matplotlib.font_manager - findfont: score(<Font 'STIXNonUnicode' (STIXNonUniIta.ttf) italic normal 400 normal>) = 11.05\n",
      "DEBUG - 2022-06-06 18:50:52,773 - matplotlib.font_manager - findfont: score(<Font 'DejaVu Serif' (DejaVuSerif.ttf) normal normal 400 normal>) = 10.05\n",
      "DEBUG - 2022-06-06 18:50:52,774 - matplotlib.font_manager - findfont: score(<Font 'STIXSizeTwoSym' (STIXSizTwoSymBol.ttf) normal normal 700 normal>) = 10.335\n",
      "DEBUG - 2022-06-06 18:50:52,776 - matplotlib.font_manager - findfont: score(<Font 'DejaVu Sans Mono' (DejaVuSansMono-BoldOblique.ttf) oblique normal 700 normal>) = 11.335\n",
      "DEBUG - 2022-06-06 18:50:52,776 - matplotlib.font_manager - findfont: score(<Font 'cmb10' (cmb10.ttf) normal normal 400 normal>) = 10.05\n",
      "DEBUG - 2022-06-06 18:50:52,777 - matplotlib.font_manager - findfont: score(<Font 'cmtt10' (cmtt10.ttf) normal normal 400 normal>) = 10.05\n",
      "DEBUG - 2022-06-06 18:50:52,777 - matplotlib.font_manager - findfont: score(<Font 'cmss10' (cmss10.ttf) normal normal 400 normal>) = 10.05\n",
      "DEBUG - 2022-06-06 18:50:52,778 - matplotlib.font_manager - findfont: score(<Font 'DejaVu Serif' (DejaVuSerif-Bold.ttf) normal normal 700 normal>) = 10.335\n",
      "DEBUG - 2022-06-06 18:50:52,779 - matplotlib.font_manager - findfont: score(<Font 'DejaVu Sans Mono' (DejaVuSansMono.ttf) normal normal 400 normal>) = 10.05\n",
      "DEBUG - 2022-06-06 18:50:52,779 - matplotlib.font_manager - findfont: score(<Font 'DejaVu Sans Mono' (DejaVuSansMono-Bold.ttf) normal normal 700 normal>) = 10.335\n",
      "DEBUG - 2022-06-06 18:50:52,780 - matplotlib.font_manager - findfont: score(<Font 'Arial Unicode MS' (ARIALUNI.TTF) normal normal 400 normal>) = 10.05\n",
      "DEBUG - 2022-06-06 18:50:52,780 - matplotlib.font_manager - findfont: score(<Font 'Calibri' (calibrili.ttf) italic normal 300 normal>) = 11.145\n",
      "DEBUG - 2022-06-06 18:50:52,781 - matplotlib.font_manager - findfont: score(<Font 'Corbel' (corbell.ttf) normal normal 300 normal>) = 10.145\n",
      "DEBUG - 2022-06-06 18:50:52,781 - matplotlib.font_manager - findfont: score(<Font 'Corbel' (corbelli.ttf) italic normal 300 normal>) = 11.145\n",
      "DEBUG - 2022-06-06 18:50:52,782 - matplotlib.font_manager - findfont: score(<Font 'Segoe UI' (seguisbi.ttf) italic normal 600 normal>) = 11.24\n",
      "DEBUG - 2022-06-06 18:50:52,782 - matplotlib.font_manager - findfont: score(<Font 'Century' (CENTURY.TTF) normal normal 400 normal>) = 10.05\n",
      "DEBUG - 2022-06-06 18:50:52,782 - matplotlib.font_manager - findfont: score(<Font 'Ink Free' (Inkfree.ttf) normal normal 400 normal>) = 10.05\n",
      "DEBUG - 2022-06-06 18:50:52,783 - matplotlib.font_manager - findfont: score(<Font 'MV Boli' (mvboli.ttf) normal normal 400 normal>) = 10.05\n",
      "DEBUG - 2022-06-06 18:50:52,783 - matplotlib.font_manager - findfont: score(<Font 'Wingdings 3' (WINGDNG3.TTF) normal normal 400 normal>) = 10.05\n",
      "DEBUG - 2022-06-06 18:50:52,784 - matplotlib.font_manager - findfont: score(<Font 'Arial' (ariali.ttf) italic normal 400 normal>) = 7.413636363636363\n",
      "DEBUG - 2022-06-06 18:50:52,785 - matplotlib.font_manager - findfont: score(<Font 'Consolas' (consola.ttf) normal normal 400 normal>) = 10.05\n",
      "DEBUG - 2022-06-06 18:50:52,785 - matplotlib.font_manager - findfont: score(<Font 'Tahoma' (tahoma.ttf) normal normal 400 normal>) = 10.05\n",
      "DEBUG - 2022-06-06 18:50:52,786 - matplotlib.font_manager - findfont: score(<Font 'Microsoft Sans Serif' (micross.ttf) normal normal 400 normal>) = 10.05\n",
      "DEBUG - 2022-06-06 18:50:52,786 - matplotlib.font_manager - findfont: score(<Font 'Bookman Old Style' (BOOKOS.TTF) normal normal 300 normal>) = 10.145\n",
      "DEBUG - 2022-06-06 18:50:52,787 - matplotlib.font_manager - findfont: score(<Font 'Comic Sans MS' (comic.ttf) normal normal 400 normal>) = 10.05\n"
     ]
    },
    {
     "name": "stderr",
     "output_type": "stream",
     "text": [
      "DEBUG - 2022-06-06 18:50:52,787 - matplotlib.font_manager - findfont: score(<Font 'MV Boli' (mvboli.ttf) normal normal 400 normal>) = 10.05\n",
      "DEBUG - 2022-06-06 18:50:52,788 - matplotlib.font_manager - findfont: score(<Font 'Corbel' (corbeli.ttf) italic normal 400 normal>) = 11.05\n",
      "DEBUG - 2022-06-06 18:50:52,789 - matplotlib.font_manager - findfont: score(<Font 'Trebuchet MS' (trebuc.ttf) normal normal 400 normal>) = 10.05\n",
      "DEBUG - 2022-06-06 18:50:52,794 - matplotlib.font_manager - findfont: score(<Font 'Constantia' (constan.ttf) normal normal 400 normal>) = 10.05\n",
      "DEBUG - 2022-06-06 18:50:52,794 - matplotlib.font_manager - findfont: score(<Font 'Trebuchet MS' (trebucit.ttf) italic normal 400 normal>) = 11.05\n",
      "DEBUG - 2022-06-06 18:50:52,795 - matplotlib.font_manager - findfont: score(<Font 'Segoe UI' (segoeuil.ttf) normal normal 300 normal>) = 10.145\n",
      "DEBUG - 2022-06-06 18:50:52,795 - matplotlib.font_manager - findfont: score(<Font 'Segoe Print' (segoeprb.ttf) normal normal 700 normal>) = 10.335\n",
      "DEBUG - 2022-06-06 18:50:52,796 - matplotlib.font_manager - findfont: score(<Font 'Candara' (Candaral.ttf) normal normal 400 normal>) = 10.05\n",
      "DEBUG - 2022-06-06 18:50:52,796 - matplotlib.font_manager - findfont: score(<Font 'Candara' (Candara.ttf) normal normal 400 normal>) = 10.05\n",
      "DEBUG - 2022-06-06 18:50:52,797 - matplotlib.font_manager - findfont: score(<Font 'Times New Roman' (timesi.ttf) italic normal 400 normal>) = 11.05\n",
      "DEBUG - 2022-06-06 18:50:52,797 - matplotlib.font_manager - findfont: score(<Font 'Verdana' (verdanaz.ttf) italic normal 700 normal>) = 4.971363636363637\n",
      "DEBUG - 2022-06-06 18:50:52,797 - matplotlib.font_manager - findfont: score(<Font 'Sitka Small' (SitkaB.ttc) normal normal 700 normal>) = 10.335\n",
      "DEBUG - 2022-06-06 18:50:52,798 - matplotlib.font_manager - findfont: score(<Font 'Segoe UI' (segoeuisl.ttf) normal normal 350 normal>) = 10.0975\n",
      "DEBUG - 2022-06-06 18:50:52,798 - matplotlib.font_manager - findfont: score(<Font 'Segoe UI Historic' (seguihis.ttf) normal normal 400 normal>) = 10.05\n",
      "DEBUG - 2022-06-06 18:50:52,800 - matplotlib.font_manager - findfont: score(<Font 'Franklin Gothic Medium' (framd.ttf) normal normal 400 normal>) = 10.05\n",
      "DEBUG - 2022-06-06 18:50:52,801 - matplotlib.font_manager - findfont: score(<Font 'Gadugi' (gadugib.ttf) normal normal 700 normal>) = 10.335\n",
      "DEBUG - 2022-06-06 18:50:52,802 - matplotlib.font_manager - findfont: score(<Font 'Georgia' (georgiai.ttf) italic normal 400 normal>) = 11.05\n",
      "DEBUG - 2022-06-06 18:50:52,802 - matplotlib.font_manager - findfont: score(<Font 'Segoe UI' (segoeui.ttf) normal normal 400 normal>) = 10.05\n",
      "DEBUG - 2022-06-06 18:50:52,803 - matplotlib.font_manager - findfont: score(<Font 'Century Gothic' (GOTHIC.TTF) normal normal 400 normal>) = 10.05\n",
      "DEBUG - 2022-06-06 18:50:52,804 - matplotlib.font_manager - findfont: score(<Font 'Calibri' (calibriz.ttf) italic normal 700 normal>) = 11.335\n",
      "DEBUG - 2022-06-06 18:50:52,804 - matplotlib.font_manager - findfont: score(<Font 'Palatino Linotype' (palab.ttf) normal normal 700 normal>) = 10.335\n",
      "DEBUG - 2022-06-06 18:50:52,805 - matplotlib.font_manager - findfont: score(<Font 'Garamond' (GARA.TTF) normal normal 400 normal>) = 10.05\n",
      "DEBUG - 2022-06-06 18:50:52,805 - matplotlib.font_manager - findfont: score(<Font 'Yu Gothic' (YuGothM.ttc) normal normal 500 normal>) = 10.145\n",
      "DEBUG - 2022-06-06 18:50:52,806 - matplotlib.font_manager - findfont: score(<Font 'Monotype Corsiva' (MTCORSVA.TTF) normal normal 400 normal>) = 10.05\n",
      "DEBUG - 2022-06-06 18:50:52,806 - matplotlib.font_manager - findfont: score(<Font 'Malgun Gothic' (malgun.ttf) normal normal 400 normal>) = 10.05\n",
      "DEBUG - 2022-06-06 18:50:52,807 - matplotlib.font_manager - findfont: score(<Font 'Segoe WP' (SegoeWP-Light.ttf) normal normal 300 normal>) = 10.145\n",
      "DEBUG - 2022-06-06 18:50:52,807 - matplotlib.font_manager - findfont: score(<Font 'Verdana' (verdanaz.ttf) italic normal 700 normal>) = 4.971363636363637\n",
      "DEBUG - 2022-06-06 18:50:52,808 - matplotlib.font_manager - findfont: score(<Font 'Segoe Print' (segoepr.ttf) normal normal 400 normal>) = 10.05\n",
      "DEBUG - 2022-06-06 18:50:52,808 - matplotlib.font_manager - findfont: score(<Font 'Lucida Console' (lucon.ttf) normal normal 400 normal>) = 10.05\n",
      "DEBUG - 2022-06-06 18:50:52,811 - matplotlib.font_manager - findfont: score(<Font 'Times New Roman' (timesbd.ttf) normal normal 700 normal>) = 10.335\n",
      "DEBUG - 2022-06-06 18:50:52,812 - matplotlib.font_manager - findfont: score(<Font 'Monotype Corsiva' (MTCORSVA.TTF) normal normal 400 normal>) = 10.05\n",
      "DEBUG - 2022-06-06 18:50:52,813 - matplotlib.font_manager - findfont: score(<Font 'Palatino Linotype' (palab.ttf) normal normal 700 normal>) = 10.335\n",
      "DEBUG - 2022-06-06 18:50:52,814 - matplotlib.font_manager - findfont: score(<Font 'Microsoft Yi Baiti' (msyi.ttf) normal normal 400 normal>) = 10.05\n",
      "DEBUG - 2022-06-06 18:50:52,814 - matplotlib.font_manager - findfont: score(<Font 'Sitka Small' (SitkaB.ttc) normal normal 700 normal>) = 10.335\n",
      "DEBUG - 2022-06-06 18:50:52,814 - matplotlib.font_manager - findfont: score(<Font 'Courier New' (couri.ttf) italic normal 400 normal>) = 11.05\n",
      "DEBUG - 2022-06-06 18:50:52,815 - matplotlib.font_manager - findfont: score(<Font 'Verdana' (verdanai.ttf) italic normal 400 normal>) = 4.6863636363636365\n",
      "DEBUG - 2022-06-06 18:50:52,815 - matplotlib.font_manager - findfont: score(<Font 'Tahoma' (tahomabd.ttf) normal normal 700 normal>) = 10.335\n",
      "DEBUG - 2022-06-06 18:50:52,816 - matplotlib.font_manager - findfont: score(<Font 'Microsoft JhengHei' (msjhbd.ttc) normal normal 700 normal>) = 10.335\n",
      "DEBUG - 2022-06-06 18:50:52,816 - matplotlib.font_manager - findfont: score(<Font 'Segoe UI' (seguili.ttf) italic normal 300 normal>) = 11.145\n",
      "DEBUG - 2022-06-06 18:50:52,816 - matplotlib.font_manager - findfont: score(<Font 'Verdana' (verdanab.ttf) normal normal 700 normal>) = 3.9713636363636367\n",
      "DEBUG - 2022-06-06 18:50:52,817 - matplotlib.font_manager - findfont: score(<Font 'Bookman Old Style' (BOOKOSBI.TTF) italic normal 600 normal>) = 11.24\n",
      "DEBUG - 2022-06-06 18:50:52,819 - matplotlib.font_manager - findfont: score(<Font 'Yu Gothic' (YuGothB.ttc) normal normal 700 normal>) = 10.335\n",
      "DEBUG - 2022-06-06 18:50:52,819 - matplotlib.font_manager - findfont: score(<Font 'Corbel' (corbel.ttf) normal normal 400 normal>) = 10.05\n",
      "DEBUG - 2022-06-06 18:50:52,820 - matplotlib.font_manager - findfont: score(<Font 'Microsoft MHei' (MSMHei.ttf) normal normal 300 normal>) = 10.145\n",
      "DEBUG - 2022-06-06 18:50:52,821 - matplotlib.font_manager - findfont: score(<Font 'Sitka Small' (SitkaI.ttc) italic normal 400 normal>) = 11.05\n",
      "DEBUG - 2022-06-06 18:50:52,821 - matplotlib.font_manager - findfont: score(<Font 'Microsoft New Tai Lue' (ntailub.ttf) normal normal 700 normal>) = 10.335\n",
      "DEBUG - 2022-06-06 18:50:52,822 - matplotlib.font_manager - findfont: score(<Font 'Webdings' (webdings.ttf) normal normal 400 normal>) = 10.05\n",
      "DEBUG - 2022-06-06 18:50:52,822 - matplotlib.font_manager - findfont: score(<Font 'Microsoft MHei' (MSMHei.ttf) normal normal 300 normal>) = 10.145\n",
      "DEBUG - 2022-06-06 18:50:52,823 - matplotlib.font_manager - findfont: score(<Font 'Microsoft MHei' (MSMHei-Bold.ttf) normal normal 600 normal>) = 10.24\n",
      "DEBUG - 2022-06-06 18:50:52,823 - matplotlib.font_manager - findfont: score(<Font 'Palatino Linotype' (palai.ttf) italic normal 400 normal>) = 11.05\n",
      "DEBUG - 2022-06-06 18:50:52,823 - matplotlib.font_manager - findfont: score(<Font 'Segoe UI' (segoeuib.ttf) normal normal 700 normal>) = 10.335\n",
      "DEBUG - 2022-06-06 18:50:52,824 - matplotlib.font_manager - findfont: score(<Font 'MS Reference Specialty' (REFSPCL.TTF) normal normal 400 normal>) = 10.05\n",
      "DEBUG - 2022-06-06 18:50:52,824 - matplotlib.font_manager - findfont: score(<Font 'Malgun Gothic' (malgunbd.ttf) normal normal 700 normal>) = 10.335\n",
      "DEBUG - 2022-06-06 18:50:52,825 - matplotlib.font_manager - findfont: score(<Font 'Microsoft YaHei' (msyh.ttc) normal normal 400 normal>) = 10.05\n",
      "DEBUG - 2022-06-06 18:50:52,825 - matplotlib.font_manager - findfont: score(<Font 'Yu Gothic' (YuGothL.ttc) normal normal 300 normal>) = 10.145\n",
      "DEBUG - 2022-06-06 18:50:52,826 - matplotlib.font_manager - findfont: score(<Font 'Arial' (ariblk.ttf) normal normal 900 normal>) = 6.888636363636364\n"
     ]
    },
    {
     "name": "stderr",
     "output_type": "stream",
     "text": [
      "DEBUG - 2022-06-06 18:50:52,827 - matplotlib.font_manager - findfont: score(<Font 'Segoe Script' (segoesc.ttf) normal normal 400 normal>) = 10.05\n",
      "DEBUG - 2022-06-06 18:50:52,828 - matplotlib.font_manager - findfont: score(<Font 'Calibri' (calibrib.ttf) normal normal 700 normal>) = 10.335\n",
      "DEBUG - 2022-06-06 18:50:52,830 - matplotlib.font_manager - findfont: score(<Font 'Segoe UI' (segoeuib.ttf) normal normal 700 normal>) = 10.335\n",
      "DEBUG - 2022-06-06 18:50:52,830 - matplotlib.font_manager - findfont: score(<Font 'Book Antiqua' (BKANT.TTF) normal normal 400 normal>) = 10.05\n",
      "DEBUG - 2022-06-06 18:50:52,830 - matplotlib.font_manager - findfont: score(<Font 'Microsoft Himalaya' (himalaya.ttf) normal normal 400 normal>) = 10.05\n",
      "DEBUG - 2022-06-06 18:50:52,831 - matplotlib.font_manager - findfont: score(<Font 'Cambria' (cambriab.ttf) normal normal 700 normal>) = 10.335\n",
      "DEBUG - 2022-06-06 18:50:52,831 - matplotlib.font_manager - findfont: score(<Font 'Microsoft Tai Le' (taileb.ttf) normal normal 700 normal>) = 10.335\n",
      "DEBUG - 2022-06-06 18:50:52,831 - matplotlib.font_manager - findfont: score(<Font 'Constantia' (constanz.ttf) italic normal 700 normal>) = 11.335\n",
      "DEBUG - 2022-06-06 18:50:52,833 - matplotlib.font_manager - findfont: score(<Font 'Franklin Gothic Medium' (framdit.ttf) italic normal 400 normal>) = 11.05\n",
      "DEBUG - 2022-06-06 18:50:52,833 - matplotlib.font_manager - findfont: score(<Font 'Microsoft JhengHei' (msjhl.ttc) normal normal 290 normal>) = 10.1545\n",
      "DEBUG - 2022-06-06 18:50:52,834 - matplotlib.font_manager - findfont: score(<Font 'Franklin Gothic Medium' (framdit.ttf) italic normal 400 normal>) = 11.05\n",
      "DEBUG - 2022-06-06 18:50:52,834 - matplotlib.font_manager - findfont: score(<Font 'Verdana' (verdanab.ttf) normal normal 700 normal>) = 3.9713636363636367\n",
      "DEBUG - 2022-06-06 18:50:52,835 - matplotlib.font_manager - findfont: score(<Font 'Trebuchet MS' (trebucbd.ttf) normal normal 700 normal>) = 10.335\n",
      "DEBUG - 2022-06-06 18:50:52,835 - matplotlib.font_manager - findfont: score(<Font 'Calibri' (calibrii.ttf) italic normal 400 normal>) = 11.05\n",
      "DEBUG - 2022-06-06 18:50:52,836 - matplotlib.font_manager - findfont: score(<Font 'Bayerndruck' (BAYDRUCK.TTF) normal normal 400 normal>) = 10.05\n",
      "DEBUG - 2022-06-06 18:50:52,836 - matplotlib.font_manager - findfont: score(<Font 'Segoe UI' (segoeuil.ttf) normal normal 300 normal>) = 10.145\n",
      "DEBUG - 2022-06-06 18:50:52,837 - matplotlib.font_manager - findfont: score(<Font 'Yu Gothic' (YuGothR.ttc) normal normal 400 normal>) = 10.05\n",
      "DEBUG - 2022-06-06 18:50:52,837 - matplotlib.font_manager - findfont: score(<Font 'Segoe UI' (seguibli.ttf) italic normal 900 normal>) = 11.525\n",
      "DEBUG - 2022-06-06 18:50:52,838 - matplotlib.font_manager - findfont: score(<Font 'Ebrima' (ebrima.ttf) normal normal 400 normal>) = 10.05\n",
      "DEBUG - 2022-06-06 18:50:52,840 - matplotlib.font_manager - findfont: score(<Font 'Myanmar Text' (mmrtext.ttf) normal normal 400 normal>) = 10.05\n",
      "DEBUG - 2022-06-06 18:50:52,840 - matplotlib.font_manager - findfont: score(<Font 'Arial' (ARIALN.TTF) normal normal 400 condensed>) = 6.613636363636363\n",
      "DEBUG - 2022-06-06 18:50:52,841 - matplotlib.font_manager - findfont: score(<Font 'Tahoma' (tahomabd.ttf) normal normal 700 normal>) = 10.335\n",
      "DEBUG - 2022-06-06 18:50:52,841 - matplotlib.font_manager - findfont: score(<Font 'Book Antiqua' (ANTQUAI.TTF) italic normal 400 normal>) = 11.05\n",
      "DEBUG - 2022-06-06 18:50:52,842 - matplotlib.font_manager - findfont: score(<Font 'Courier New' (couri.ttf) italic normal 400 normal>) = 11.05\n",
      "DEBUG - 2022-06-06 18:50:52,843 - matplotlib.font_manager - findfont: score(<Font 'Lucida Console' (lucon.ttf) normal normal 400 normal>) = 10.05\n",
      "DEBUG - 2022-06-06 18:50:52,843 - matplotlib.font_manager - findfont: score(<Font 'MS Mincho' (MSMINCHO.TTF) normal normal 400 normal>) = 10.05\n",
      "DEBUG - 2022-06-06 18:50:52,844 - matplotlib.font_manager - findfont: score(<Font 'Verdana' (verdana.ttf) normal normal 400 normal>) = 3.6863636363636365\n",
      "DEBUG - 2022-06-06 18:50:52,844 - matplotlib.font_manager - findfont: score(<Font 'Arial' (arialbd.ttf) normal normal 700 normal>) = 6.698636363636363\n",
      "DEBUG - 2022-06-06 18:50:52,845 - matplotlib.font_manager - findfont: score(<Font 'Times New Roman' (times.ttf) normal normal 400 normal>) = 10.05\n",
      "DEBUG - 2022-06-06 18:50:52,845 - matplotlib.font_manager - findfont: score(<Font 'Comic Sans MS' (comici.ttf) italic normal 400 normal>) = 11.05\n",
      "DEBUG - 2022-06-06 18:50:52,846 - matplotlib.font_manager - findfont: score(<Font 'Constantia' (constanz.ttf) italic normal 700 normal>) = 11.335\n",
      "DEBUG - 2022-06-06 18:50:52,846 - matplotlib.font_manager - findfont: score(<Font 'Myanmar Text' (mmrtextb.ttf) normal normal 700 normal>) = 10.335\n",
      "DEBUG - 2022-06-06 18:50:52,847 - matplotlib.font_manager - findfont: score(<Font 'Microsoft PhagsPa' (phagspa.ttf) normal normal 400 normal>) = 10.05\n",
      "DEBUG - 2022-06-06 18:50:52,847 - matplotlib.font_manager - findfont: score(<Font 'Segoe WP' (SegoeWP-Semilight.ttf) normal normal 350 normal>) = 10.0975\n",
      "DEBUG - 2022-06-06 18:50:52,849 - matplotlib.font_manager - findfont: score(<Font 'Trebuchet MS' (trebucbi.ttf) italic normal 700 normal>) = 11.335\n",
      "DEBUG - 2022-06-06 18:50:52,849 - matplotlib.font_manager - findfont: score(<Font 'Tahoma' (tahoma.ttf) normal normal 400 normal>) = 10.05\n",
      "DEBUG - 2022-06-06 18:50:52,850 - matplotlib.font_manager - findfont: score(<Font 'Yu Gothic' (YuGothic-Bold.ttf) normal normal 700 normal>) = 10.335\n",
      "DEBUG - 2022-06-06 18:50:52,850 - matplotlib.font_manager - findfont: score(<Font 'Microsoft NeoGothic' (MSNeoGothic.ttf) normal normal 400 normal>) = 10.05\n",
      "DEBUG - 2022-06-06 18:50:52,850 - matplotlib.font_manager - findfont: score(<Font 'Javanese Text' (javatext.ttf) normal normal 400 normal>) = 10.05\n",
      "DEBUG - 2022-06-06 18:50:52,851 - matplotlib.font_manager - findfont: score(<Font 'Century Gothic' (GOTHICB.TTF) normal normal 700 normal>) = 10.335\n",
      "DEBUG - 2022-06-06 18:50:52,852 - matplotlib.font_manager - findfont: score(<Font 'Sitka Small' (SitkaI.ttc) italic normal 400 normal>) = 11.05\n",
      "DEBUG - 2022-06-06 18:50:52,852 - matplotlib.font_manager - findfont: score(<Font 'Arial' (ARIALNB.TTF) normal normal 700 condensed>) = 6.8986363636363635\n",
      "DEBUG - 2022-06-06 18:50:52,854 - matplotlib.font_manager - findfont: score(<Font 'Calibri' (calibriz.ttf) italic normal 700 normal>) = 11.335\n",
      "DEBUG - 2022-06-06 18:50:52,854 - matplotlib.font_manager - findfont: score(<Font 'MS Reference Sans Serif' (REFSAN.TTF) normal normal 400 normal>) = 10.05\n",
      "DEBUG - 2022-06-06 18:50:52,854 - matplotlib.font_manager - findfont: score(<Font 'Garamond' (GARAIT.TTF) italic normal 400 normal>) = 11.05\n",
      "DEBUG - 2022-06-06 18:50:52,855 - matplotlib.font_manager - findfont: score(<Font 'Georgia' (georgiai.ttf) italic normal 400 normal>) = 11.05\n",
      "DEBUG - 2022-06-06 18:50:52,856 - matplotlib.font_manager - findfont: score(<Font 'Segoe WP' (SegoeWP-Black.ttf) normal normal 800 normal>) = 10.43\n",
      "DEBUG - 2022-06-06 18:50:52,856 - matplotlib.font_manager - findfont: score(<Font 'MS Gothic' (msgothic.ttc) normal normal 400 normal>) = 10.05\n",
      "DEBUG - 2022-06-06 18:50:52,857 - matplotlib.font_manager - findfont: score(<Font 'Palatino Linotype' (palai.ttf) italic normal 400 normal>) = 11.05\n",
      "DEBUG - 2022-06-06 18:50:52,857 - matplotlib.font_manager - findfont: score(<Font 'Segoe WP' (SegoeWP-Light.ttf) normal normal 300 normal>) = 10.145\n",
      "DEBUG - 2022-06-06 18:50:52,858 - matplotlib.font_manager - findfont: score(<Font 'Segoe UI Symbol' (seguisym.ttf) normal normal 400 normal>) = 10.05\n",
      "DEBUG - 2022-06-06 18:50:52,859 - matplotlib.font_manager - findfont: score(<Font 'Bookman Old Style' (BOOKOSB.TTF) normal normal 600 normal>) = 10.24\n",
      "DEBUG - 2022-06-06 18:50:52,859 - matplotlib.font_manager - findfont: score(<Font 'Candara' (Candaraz.ttf) italic normal 700 normal>) = 11.335\n",
      "DEBUG - 2022-06-06 18:50:52,860 - matplotlib.font_manager - findfont: score(<Font 'Segoe WP' (SegoeWP-Bold.ttf) normal normal 700 normal>) = 10.335\n",
      "DEBUG - 2022-06-06 18:50:52,861 - matplotlib.font_manager - findfont: score(<Font 'Nirmala UI' (NirmalaS.ttf) normal normal 350 normal>) = 10.0975\n",
      "DEBUG - 2022-06-06 18:50:52,861 - matplotlib.font_manager - findfont: score(<Font 'Cambria' (cambriaz.ttf) italic normal 700 normal>) = 11.335\n"
     ]
    },
    {
     "name": "stderr",
     "output_type": "stream",
     "text": [
      "DEBUG - 2022-06-06 18:50:52,862 - matplotlib.font_manager - findfont: score(<Font 'Arial' (arial.ttf) normal normal 400 normal>) = 6.413636363636363\n",
      "DEBUG - 2022-06-06 18:50:52,862 - matplotlib.font_manager - findfont: score(<Font 'Segoe WP' (SegoeWP-Bold.ttf) normal normal 700 normal>) = 10.335\n",
      "DEBUG - 2022-06-06 18:50:52,863 - matplotlib.font_manager - findfont: score(<Font 'Segoe UI' (seguisbi.ttf) italic normal 600 normal>) = 11.24\n",
      "DEBUG - 2022-06-06 18:50:52,863 - matplotlib.font_manager - findfont: score(<Font 'Segoe UI' (segoeuiz.ttf) italic normal 700 normal>) = 11.335\n",
      "DEBUG - 2022-06-06 18:50:52,864 - matplotlib.font_manager - findfont: score(<Font 'Nirmala UI' (Nirmala.ttf) normal normal 400 normal>) = 10.05\n",
      "DEBUG - 2022-06-06 18:50:52,864 - matplotlib.font_manager - findfont: score(<Font 'Sylfaen' (sylfaen.ttf) normal normal 400 normal>) = 10.05\n",
      "DEBUG - 2022-06-06 18:50:52,864 - matplotlib.font_manager - findfont: score(<Font 'Arial' (arial.ttf) normal normal 400 normal>) = 6.413636363636363\n",
      "DEBUG - 2022-06-06 18:50:52,865 - matplotlib.font_manager - findfont: score(<Font 'Yu Gothic' (YuGothB.ttc) normal normal 700 normal>) = 10.335\n",
      "DEBUG - 2022-06-06 18:50:52,865 - matplotlib.font_manager - findfont: score(<Font 'Microsoft Tai Le' (taile.ttf) normal normal 400 normal>) = 10.05\n",
      "DEBUG - 2022-06-06 18:50:52,866 - matplotlib.font_manager - findfont: score(<Font 'Microsoft NeoGothic' (MSNeoGothic-Bold.ttf) normal normal 700 normal>) = 10.335\n",
      "DEBUG - 2022-06-06 18:50:52,868 - matplotlib.font_manager - findfont: score(<Font 'Yu Gothic' (YuGothL.ttc) normal normal 300 normal>) = 10.145\n",
      "DEBUG - 2022-06-06 18:50:52,868 - matplotlib.font_manager - findfont: score(<Font 'Consolas' (consolaz.ttf) italic normal 700 normal>) = 11.335\n",
      "DEBUG - 2022-06-06 18:50:52,869 - matplotlib.font_manager - findfont: score(<Font 'Constantia' (constanb.ttf) normal normal 700 normal>) = 10.335\n",
      "DEBUG - 2022-06-06 18:50:52,869 - matplotlib.font_manager - findfont: score(<Font 'Bahnschrift' (bahnschrift.ttf) normal normal 400 normal>) = 10.05\n",
      "DEBUG - 2022-06-06 18:50:52,870 - matplotlib.font_manager - findfont: score(<Font 'Gadugi' (gadugib.ttf) normal normal 700 normal>) = 10.335\n",
      "DEBUG - 2022-06-06 18:50:52,870 - matplotlib.font_manager - findfont: score(<Font 'Century Gothic' (GOTHICBI.TTF) italic normal 700 normal>) = 11.335\n",
      "DEBUG - 2022-06-06 18:50:52,871 - matplotlib.font_manager - findfont: score(<Font 'Candara' (Candarai.ttf) italic normal 400 normal>) = 11.05\n",
      "DEBUG - 2022-06-06 18:50:52,871 - matplotlib.font_manager - findfont: score(<Font 'Times New Roman' (times.ttf) normal normal 400 normal>) = 10.05\n",
      "DEBUG - 2022-06-06 18:50:52,872 - matplotlib.font_manager - findfont: score(<Font 'Microsoft YaHei' (msyhbd.ttc) normal normal 700 normal>) = 10.335\n",
      "DEBUG - 2022-06-06 18:50:52,872 - matplotlib.font_manager - findfont: score(<Font 'Calibri' (calibri.ttf) normal normal 400 normal>) = 10.05\n",
      "DEBUG - 2022-06-06 18:50:52,873 - matplotlib.font_manager - findfont: score(<Font 'Microsoft Yi Baiti' (msyi.ttf) normal normal 400 normal>) = 10.05\n",
      "DEBUG - 2022-06-06 18:50:52,873 - matplotlib.font_manager - findfont: score(<Font 'Segoe Script' (segoescb.ttf) normal normal 700 normal>) = 10.335\n",
      "DEBUG - 2022-06-06 18:50:52,874 - matplotlib.font_manager - findfont: score(<Font 'Segoe Script' (segoescb.ttf) normal normal 700 normal>) = 10.335\n",
      "DEBUG - 2022-06-06 18:50:52,874 - matplotlib.font_manager - findfont: score(<Font 'Myanmar Text' (mmrtext.ttf) normal normal 400 normal>) = 10.05\n",
      "DEBUG - 2022-06-06 18:50:52,875 - matplotlib.font_manager - findfont: score(<Font 'Consolas' (consolaz.ttf) italic normal 700 normal>) = 11.335\n",
      "DEBUG - 2022-06-06 18:50:52,875 - matplotlib.font_manager - findfont: score(<Font 'Microsoft YaHei' (msyhbd.ttc) normal normal 700 normal>) = 10.335\n",
      "DEBUG - 2022-06-06 18:50:52,878 - matplotlib.font_manager - findfont: score(<Font 'Arial' (ariali.ttf) italic normal 400 normal>) = 7.413636363636363\n",
      "DEBUG - 2022-06-06 18:50:52,878 - matplotlib.font_manager - findfont: score(<Font 'Arial' (ARIALN.TTF) normal normal 400 condensed>) = 6.613636363636363\n",
      "DEBUG - 2022-06-06 18:50:52,879 - matplotlib.font_manager - findfont: score(<Font 'Courier New' (cour.ttf) normal normal 400 normal>) = 10.05\n",
      "DEBUG - 2022-06-06 18:50:52,879 - matplotlib.font_manager - findfont: score(<Font 'DengXian' (DengXian.ttf) normal normal 400 normal>) = 10.05\n",
      "DEBUG - 2022-06-06 18:50:52,880 - matplotlib.font_manager - findfont: score(<Font 'Segoe UI' (seguibli.ttf) italic normal 900 normal>) = 11.525\n",
      "DEBUG - 2022-06-06 18:50:52,880 - matplotlib.font_manager - findfont: score(<Font 'Georgia' (georgiaz.ttf) italic normal 700 normal>) = 11.335\n",
      "DEBUG - 2022-06-06 18:50:52,881 - matplotlib.font_manager - findfont: score(<Font 'HoloLens MDL2 Assets' (holomdl2.ttf) normal normal 400 normal>) = 10.05\n",
      "DEBUG - 2022-06-06 18:50:52,881 - matplotlib.font_manager - findfont: score(<Font 'Ebrima' (ebrimabd.ttf) normal normal 700 normal>) = 10.335\n",
      "DEBUG - 2022-06-06 18:50:52,881 - matplotlib.font_manager - findfont: score(<Font 'Gabriola' (Gabriola.ttf) normal normal 400 normal>) = 10.05\n",
      "DEBUG - 2022-06-06 18:50:52,883 - matplotlib.font_manager - findfont: score(<Font 'Javanese Text' (javatext.ttf) normal normal 400 normal>) = 10.05\n",
      "DEBUG - 2022-06-06 18:50:52,884 - matplotlib.font_manager - findfont: score(<Font 'Bookman Old Style' (BOOKOS.TTF) normal normal 300 normal>) = 10.145\n",
      "DEBUG - 2022-06-06 18:50:52,884 - matplotlib.font_manager - findfont: score(<Font 'Malgun Gothic' (malgun.ttf) normal normal 400 normal>) = 10.05\n",
      "DEBUG - 2022-06-06 18:50:52,885 - matplotlib.font_manager - findfont: score(<Font 'Constantia' (constani.ttf) italic normal 400 normal>) = 11.05\n",
      "DEBUG - 2022-06-06 18:50:52,885 - matplotlib.font_manager - findfont: score(<Font 'Lucida Sans Unicode' (l_10646.ttf) normal normal 400 normal>) = 10.05\n",
      "DEBUG - 2022-06-06 18:50:52,887 - matplotlib.font_manager - findfont: score(<Font 'Segoe WP' (SegoeWP-Semilight.ttf) normal normal 350 normal>) = 10.0975\n",
      "DEBUG - 2022-06-06 18:50:52,887 - matplotlib.font_manager - findfont: score(<Font 'Cambria' (cambria.ttc) normal normal 400 normal>) = 10.05\n",
      "DEBUG - 2022-06-06 18:50:52,887 - matplotlib.font_manager - findfont: score(<Font 'Bookman Old Style' (BOOKOSB.TTF) normal normal 600 normal>) = 10.24\n",
      "DEBUG - 2022-06-06 18:50:52,888 - matplotlib.font_manager - findfont: score(<Font 'Leelawadee UI' (LeelaUIb.ttf) normal normal 700 normal>) = 10.335\n",
      "DEBUG - 2022-06-06 18:50:52,889 - matplotlib.font_manager - findfont: score(<Font 'Sitka Small' (Sitka.ttc) normal normal 400 normal>) = 10.05\n",
      "DEBUG - 2022-06-06 18:50:52,890 - matplotlib.font_manager - findfont: score(<Font 'SimSun' (simsun.ttc) normal normal 400 normal>) = 10.05\n",
      "DEBUG - 2022-06-06 18:50:52,890 - matplotlib.font_manager - findfont: score(<Font 'Yu Gothic' (YuGothM.ttc) normal normal 500 normal>) = 10.145\n",
      "DEBUG - 2022-06-06 18:50:52,891 - matplotlib.font_manager - findfont: score(<Font 'Calibri' (calibril.ttf) normal normal 300 normal>) = 10.145\n",
      "DEBUG - 2022-06-06 18:50:52,892 - matplotlib.font_manager - findfont: score(<Font 'Comic Sans MS' (comicz.ttf) italic normal 700 normal>) = 11.335\n",
      "DEBUG - 2022-06-06 18:50:52,892 - matplotlib.font_manager - findfont: score(<Font 'Sitka Small' (Sitka.ttc) normal normal 400 normal>) = 10.05\n",
      "DEBUG - 2022-06-06 18:50:52,893 - matplotlib.font_manager - findfont: score(<Font 'MS Reference Sans Serif' (REFSAN.TTF) normal normal 400 normal>) = 10.05\n",
      "DEBUG - 2022-06-06 18:50:52,893 - matplotlib.font_manager - findfont: score(<Font 'Candara' (Candarab.ttf) normal normal 700 normal>) = 10.335\n",
      "DEBUG - 2022-06-06 18:50:52,894 - matplotlib.font_manager - findfont: score(<Font 'Nirmala UI' (NirmalaB.ttf) normal normal 700 normal>) = 10.335\n",
      "DEBUG - 2022-06-06 18:50:52,895 - matplotlib.font_manager - findfont: score(<Font 'MS Mincho' (MSMINCHO.TTF) normal normal 400 normal>) = 10.05\n",
      "DEBUG - 2022-06-06 18:50:52,895 - matplotlib.font_manager - findfont: score(<Font 'Gadugi' (gadugi.ttf) normal normal 400 normal>) = 10.05\n",
      "DEBUG - 2022-06-06 18:50:52,896 - matplotlib.font_manager - findfont: score(<Font 'Candara' (Candarab.ttf) normal normal 700 normal>) = 10.335\n"
     ]
    },
    {
     "name": "stderr",
     "output_type": "stream",
     "text": [
      "DEBUG - 2022-06-06 18:50:52,897 - matplotlib.font_manager - findfont: score(<Font 'Segoe UI Historic' (seguihis.ttf) normal normal 400 normal>) = 10.05\n",
      "DEBUG - 2022-06-06 18:50:52,897 - matplotlib.font_manager - findfont: score(<Font 'Mongolian Baiti' (monbaiti.ttf) normal normal 400 normal>) = 10.05\n",
      "DEBUG - 2022-06-06 18:50:52,898 - matplotlib.font_manager - findfont: score(<Font 'Cambria' (cambriai.ttf) italic normal 400 normal>) = 11.05\n",
      "DEBUG - 2022-06-06 18:50:52,898 - matplotlib.font_manager - findfont: score(<Font 'Palatino Linotype' (pala.ttf) normal normal 400 normal>) = 10.05\n",
      "DEBUG - 2022-06-06 18:50:52,899 - matplotlib.font_manager - findfont: score(<Font 'Wingdings 3' (WINGDNG3.TTF) normal normal 400 normal>) = 10.05\n",
      "DEBUG - 2022-06-06 18:50:52,899 - matplotlib.font_manager - findfont: score(<Font 'Segoe WP' (SegoeWP-Semibold.ttf) normal normal 600 normal>) = 10.24\n",
      "DEBUG - 2022-06-06 18:50:52,900 - matplotlib.font_manager - findfont: score(<Font 'Webdings' (webdings.ttf) normal normal 400 normal>) = 10.05\n",
      "DEBUG - 2022-06-06 18:50:52,900 - matplotlib.font_manager - findfont: score(<Font 'Arial' (arialbi.ttf) italic normal 700 normal>) = 7.698636363636363\n",
      "DEBUG - 2022-06-06 18:50:52,902 - matplotlib.font_manager - findfont: score(<Font 'Candara' (Candaral.ttf) normal normal 400 normal>) = 10.05\n",
      "DEBUG - 2022-06-06 18:50:52,902 - matplotlib.font_manager - findfont: score(<Font 'Symbol' (symbol.ttf) normal normal 400 normal>) = 10.05\n",
      "DEBUG - 2022-06-06 18:50:52,903 - matplotlib.font_manager - findfont: score(<Font 'MingLiU-ExtB' (mingliub.ttc) normal normal 400 normal>) = 10.05\n",
      "DEBUG - 2022-06-06 18:50:52,904 - matplotlib.font_manager - findfont: score(<Font 'Segoe UI Emoji' (seguiemj.ttf) normal normal 400 normal>) = 10.05\n",
      "DEBUG - 2022-06-06 18:50:52,904 - matplotlib.font_manager - findfont: score(<Font 'Microsoft NeoGothic' (MSNeoGothic-Bold.ttf) normal normal 700 normal>) = 10.335\n",
      "DEBUG - 2022-06-06 18:50:52,905 - matplotlib.font_manager - findfont: score(<Font 'Arial' (ARIALNBI.TTF) italic normal 700 condensed>) = 7.8986363636363635\n",
      "DEBUG - 2022-06-06 18:50:52,905 - matplotlib.font_manager - findfont: score(<Font 'Bahnschrift' (bahnschrift.ttf) normal normal 400 normal>) = 10.05\n",
      "DEBUG - 2022-06-06 18:50:52,907 - matplotlib.font_manager - findfont: score(<Font 'Courier New' (courbd.ttf) normal normal 700 normal>) = 10.335\n",
      "DEBUG - 2022-06-06 18:50:52,907 - matplotlib.font_manager - findfont: score(<Font 'Nirmala UI' (NirmalaB.ttf) normal normal 700 normal>) = 10.335\n",
      "DEBUG - 2022-06-06 18:50:52,908 - matplotlib.font_manager - findfont: score(<Font 'Courier New' (courbi.ttf) italic normal 700 normal>) = 11.335\n",
      "DEBUG - 2022-06-06 18:50:52,909 - matplotlib.font_manager - findfont: score(<Font 'Microsoft PhagsPa' (phagspab.ttf) normal normal 700 normal>) = 10.335\n",
      "DEBUG - 2022-06-06 18:50:52,909 - matplotlib.font_manager - findfont: score(<Font 'SimSun-ExtB' (simsunb.ttf) normal normal 400 normal>) = 10.05\n",
      "DEBUG - 2022-06-06 18:50:52,910 - matplotlib.font_manager - findfont: score(<Font 'Microsoft Sans Serif' (micross.ttf) normal normal 400 normal>) = 10.05\n",
      "DEBUG - 2022-06-06 18:50:52,910 - matplotlib.font_manager - findfont: score(<Font 'Arial Unicode MS' (ARIALUNI.TTF) normal normal 400 normal>) = 10.05\n",
      "DEBUG - 2022-06-06 18:50:52,911 - matplotlib.font_manager - findfont: score(<Font 'Marlett' (marlett.ttf) normal normal 500 normal>) = 10.145\n",
      "DEBUG - 2022-06-06 18:50:52,911 - matplotlib.font_manager - findfont: score(<Font 'Segoe UI' (segoeuisl.ttf) normal normal 350 normal>) = 10.0975\n",
      "DEBUG - 2022-06-06 18:50:52,912 - matplotlib.font_manager - findfont: score(<Font 'Book Antiqua' (ANTQUAB.TTF) normal normal 700 normal>) = 10.335\n",
      "DEBUG - 2022-06-06 18:50:52,913 - matplotlib.font_manager - findfont: score(<Font 'Segoe WP' (SegoeWP-Black.ttf) normal normal 800 normal>) = 10.43\n",
      "DEBUG - 2022-06-06 18:50:52,913 - matplotlib.font_manager - findfont: score(<Font 'Constantia' (constani.ttf) italic normal 400 normal>) = 11.05\n",
      "DEBUG - 2022-06-06 18:50:52,914 - matplotlib.font_manager - findfont: score(<Font 'Bookshelf Symbol 7' (BSSYM7.TTF) normal normal 400 normal>) = 10.05\n",
      "DEBUG - 2022-06-06 18:50:52,914 - matplotlib.font_manager - findfont: score(<Font 'Microsoft JhengHei' (msjhl.ttc) normal normal 290 normal>) = 10.1545\n",
      "DEBUG - 2022-06-06 18:50:52,915 - matplotlib.font_manager - findfont: score(<Font 'Microsoft YaHei' (msyh.ttc) normal normal 400 normal>) = 10.05\n",
      "DEBUG - 2022-06-06 18:50:52,915 - matplotlib.font_manager - findfont: score(<Font 'Segoe UI' (seguisli.ttf) italic normal 350 normal>) = 11.0975\n",
      "DEBUG - 2022-06-06 18:50:52,916 - matplotlib.font_manager - findfont: score(<Font 'Courier New' (courbi.ttf) italic normal 700 normal>) = 11.335\n",
      "DEBUG - 2022-06-06 18:50:52,916 - matplotlib.font_manager - findfont: score(<Font 'Corbel' (corbel.ttf) normal normal 400 normal>) = 10.05\n",
      "DEBUG - 2022-06-06 18:50:52,917 - matplotlib.font_manager - findfont: score(<Font 'Lucida Sans Unicode' (l_10646.ttf) normal normal 400 normal>) = 10.05\n",
      "DEBUG - 2022-06-06 18:50:52,917 - matplotlib.font_manager - findfont: score(<Font 'Cambria' (cambria.ttc) normal normal 400 normal>) = 10.05\n",
      "DEBUG - 2022-06-06 18:50:52,917 - matplotlib.font_manager - findfont: score(<Font 'Verdana' (verdana.ttf) normal normal 400 normal>) = 3.6863636363636365\n",
      "DEBUG - 2022-06-06 18:50:52,918 - matplotlib.font_manager - findfont: score(<Font 'Ebrima' (ebrima.ttf) normal normal 400 normal>) = 10.05\n",
      "DEBUG - 2022-06-06 18:50:52,918 - matplotlib.font_manager - findfont: score(<Font 'Franklin Gothic Medium' (framd.ttf) normal normal 400 normal>) = 10.05\n",
      "DEBUG - 2022-06-06 18:50:52,919 - matplotlib.font_manager - findfont: score(<Font 'Book Antiqua' (ANTQUABI.TTF) italic normal 700 normal>) = 11.335\n",
      "DEBUG - 2022-06-06 18:50:52,921 - matplotlib.font_manager - findfont: score(<Font 'Trebuchet MS' (trebucit.ttf) italic normal 400 normal>) = 11.05\n",
      "DEBUG - 2022-06-06 18:50:52,921 - matplotlib.font_manager - findfont: score(<Font 'Cambria' (cambriab.ttf) normal normal 700 normal>) = 10.335\n",
      "DEBUG - 2022-06-06 18:50:52,921 - matplotlib.font_manager - findfont: score(<Font 'Segoe UI Symbol' (seguisym.ttf) normal normal 400 normal>) = 10.05\n",
      "DEBUG - 2022-06-06 18:50:52,922 - matplotlib.font_manager - findfont: score(<Font 'Malgun Gothic' (malgunbd.ttf) normal normal 700 normal>) = 10.335\n",
      "DEBUG - 2022-06-06 18:50:52,922 - matplotlib.font_manager - findfont: score(<Font 'Comic Sans MS' (comicbd.ttf) normal normal 700 normal>) = 10.335\n",
      "DEBUG - 2022-06-06 18:50:52,923 - matplotlib.font_manager - findfont: score(<Font 'Trebuchet MS' (trebucbi.ttf) italic normal 700 normal>) = 11.335\n",
      "DEBUG - 2022-06-06 18:50:52,923 - matplotlib.font_manager - findfont: score(<Font 'Microsoft YaHei' (msyhl.ttc) normal normal 290 normal>) = 10.1545\n",
      "DEBUG - 2022-06-06 18:50:52,924 - matplotlib.font_manager - findfont: score(<Font 'Times New Roman' (timesbi.ttf) italic normal 700 normal>) = 11.335\n",
      "DEBUG - 2022-06-06 18:50:52,924 - matplotlib.font_manager - findfont: score(<Font 'Georgia' (georgiab.ttf) normal normal 700 normal>) = 10.335\n",
      "DEBUG - 2022-06-06 18:50:52,925 - matplotlib.font_manager - findfont: score(<Font 'Wingdings' (wingding.ttf) normal normal 400 normal>) = 10.05\n",
      "DEBUG - 2022-06-06 18:50:52,925 - matplotlib.font_manager - findfont: score(<Font 'Segoe UI' (seguisb.ttf) normal normal 600 normal>) = 10.24\n",
      "DEBUG - 2022-06-06 18:50:52,926 - matplotlib.font_manager - findfont: score(<Font 'Century Gothic' (GOTHICI.TTF) italic normal 400 normal>) = 11.05\n",
      "DEBUG - 2022-06-06 18:50:52,926 - matplotlib.font_manager - findfont: score(<Font 'Candara' (Candarai.ttf) italic normal 400 normal>) = 11.05\n",
      "DEBUG - 2022-06-06 18:50:52,928 - matplotlib.font_manager - findfont: score(<Font 'Microsoft MHei' (MSMHei-Bold.ttf) normal normal 600 normal>) = 10.24\n",
      "DEBUG - 2022-06-06 18:50:52,929 - matplotlib.font_manager - findfont: score(<Font 'Arial' (arialbd.ttf) normal normal 700 normal>) = 6.698636363636363\n",
      "DEBUG - 2022-06-06 18:50:52,929 - matplotlib.font_manager - findfont: score(<Font 'Segoe UI Emoji' (seguiemj.ttf) normal normal 400 normal>) = 10.05\n",
      "DEBUG - 2022-06-06 18:50:52,929 - matplotlib.font_manager - findfont: score(<Font 'Yu Gothic' (YuGothR.ttc) normal normal 400 normal>) = 10.05\n"
     ]
    },
    {
     "name": "stderr",
     "output_type": "stream",
     "text": [
      "DEBUG - 2022-06-06 18:50:52,930 - matplotlib.font_manager - findfont: score(<Font 'Microsoft PhagsPa' (phagspab.ttf) normal normal 700 normal>) = 10.335\n",
      "DEBUG - 2022-06-06 18:50:52,930 - matplotlib.font_manager - findfont: score(<Font 'Microsoft JhengHei' (msjh.ttc) normal normal 400 normal>) = 10.05\n",
      "DEBUG - 2022-06-06 18:50:52,931 - matplotlib.font_manager - findfont: score(<Font 'Segoe UI' (seguili.ttf) italic normal 300 normal>) = 11.145\n",
      "DEBUG - 2022-06-06 18:50:52,932 - matplotlib.font_manager - findfont: score(<Font 'Consolas' (consolai.ttf) italic normal 400 normal>) = 11.05\n",
      "DEBUG - 2022-06-06 18:50:52,932 - matplotlib.font_manager - findfont: score(<Font 'Segoe UI' (seguisb.ttf) normal normal 600 normal>) = 10.24\n",
      "DEBUG - 2022-06-06 18:50:52,933 - matplotlib.font_manager - findfont: score(<Font 'Segoe WP' (SegoeWP-Semibold.ttf) normal normal 600 normal>) = 10.24\n",
      "DEBUG - 2022-06-06 18:50:52,934 - matplotlib.font_manager - findfont: score(<Font 'Consolas' (consolab.ttf) normal normal 700 normal>) = 10.335\n",
      "DEBUG - 2022-06-06 18:50:52,934 - matplotlib.font_manager - findfont: score(<Font 'Bayerndruck' (BAYDRUCK.TTF) normal normal 400 normal>) = 10.05\n",
      "DEBUG - 2022-06-06 18:50:52,935 - matplotlib.font_manager - findfont: score(<Font 'Segoe UI' (segoeuiz.ttf) italic normal 700 normal>) = 11.335\n",
      "DEBUG - 2022-06-06 18:50:52,935 - matplotlib.font_manager - findfont: score(<Font 'Segoe UI' (segoeuii.ttf) italic normal 400 normal>) = 11.05\n",
      "DEBUG - 2022-06-06 18:50:52,936 - matplotlib.font_manager - findfont: score(<Font 'Comic Sans MS' (comicz.ttf) italic normal 700 normal>) = 11.335\n",
      "DEBUG - 2022-06-06 18:50:52,937 - matplotlib.font_manager - findfont: score(<Font 'Arial' (ARIALNB.TTF) normal normal 700 condensed>) = 6.8986363636363635\n",
      "DEBUG - 2022-06-06 18:50:52,937 - matplotlib.font_manager - findfont: score(<Font 'Wingdings' (wingding.ttf) normal normal 400 normal>) = 10.05\n",
      "DEBUG - 2022-06-06 18:50:52,938 - matplotlib.font_manager - findfont: score(<Font 'Verdana' (verdanai.ttf) italic normal 400 normal>) = 4.6863636363636365\n",
      "DEBUG - 2022-06-06 18:50:52,938 - matplotlib.font_manager - findfont: score(<Font 'Palatino Linotype' (palabi.ttf) italic normal 700 normal>) = 11.335\n",
      "DEBUG - 2022-06-06 18:50:52,939 - matplotlib.font_manager - findfont: score(<Font 'Sitka Small' (SitkaZ.ttc) italic normal 700 normal>) = 11.335\n",
      "DEBUG - 2022-06-06 18:50:52,939 - matplotlib.font_manager - findfont: score(<Font 'Corbel' (corbelz.ttf) italic normal 700 normal>) = 11.335\n",
      "DEBUG - 2022-06-06 18:50:52,940 - matplotlib.font_manager - findfont: score(<Font 'Microsoft New Tai Lue' (ntailu.ttf) normal normal 400 normal>) = 10.05\n",
      "DEBUG - 2022-06-06 18:50:52,940 - matplotlib.font_manager - findfont: score(<Font 'DengXian' (DengXian.ttf) normal normal 400 normal>) = 10.05\n",
      "DEBUG - 2022-06-06 18:50:52,941 - matplotlib.font_manager - findfont: score(<Font 'Ebrima' (ebrimabd.ttf) normal normal 700 normal>) = 10.335\n",
      "DEBUG - 2022-06-06 18:50:52,941 - matplotlib.font_manager - findfont: score(<Font 'Gadugi' (gadugi.ttf) normal normal 400 normal>) = 10.05\n",
      "DEBUG - 2022-06-06 18:50:52,943 - matplotlib.font_manager - findfont: score(<Font 'Microsoft Tai Le' (taile.ttf) normal normal 400 normal>) = 10.05\n",
      "DEBUG - 2022-06-06 18:50:52,944 - matplotlib.font_manager - findfont: score(<Font 'Times New Roman' (timesbi.ttf) italic normal 700 normal>) = 11.335\n",
      "DEBUG - 2022-06-06 18:50:52,944 - matplotlib.font_manager - findfont: score(<Font 'Garamond' (GARA.TTF) normal normal 400 normal>) = 10.05\n",
      "DEBUG - 2022-06-06 18:50:52,945 - matplotlib.font_manager - findfont: score(<Font 'Comic Sans MS' (comic.ttf) normal normal 400 normal>) = 10.05\n",
      "DEBUG - 2022-06-06 18:50:52,946 - matplotlib.font_manager - findfont: score(<Font 'Microsoft JhengHei' (msjhbd.ttc) normal normal 700 normal>) = 10.335\n",
      "DEBUG - 2022-06-06 18:50:52,946 - matplotlib.font_manager - findfont: score(<Font 'MS Outlook' (OUTLOOK.TTF) normal normal 400 normal>) = 10.05\n",
      "DEBUG - 2022-06-06 18:50:52,947 - matplotlib.font_manager - findfont: score(<Font 'Arial' (ARIALNI.TTF) italic normal 400 condensed>) = 7.613636363636363\n",
      "DEBUG - 2022-06-06 18:50:52,947 - matplotlib.font_manager - findfont: score(<Font 'Calibri' (calibri.ttf) normal normal 400 normal>) = 10.05\n",
      "DEBUG - 2022-06-06 18:50:52,948 - matplotlib.font_manager - findfont: score(<Font 'Impact' (impact.ttf) normal normal 400 normal>) = 10.05\n",
      "DEBUG - 2022-06-06 18:50:52,948 - matplotlib.font_manager - findfont: score(<Font 'Leelawadee UI' (LeelawUI.ttf) normal normal 400 normal>) = 10.05\n",
      "DEBUG - 2022-06-06 18:50:52,948 - matplotlib.font_manager - findfont: score(<Font 'Bookshelf Symbol 7' (BSSYM7.TTF) normal normal 400 normal>) = 10.05\n",
      "DEBUG - 2022-06-06 18:50:52,950 - matplotlib.font_manager - findfont: score(<Font 'Microsoft Himalaya' (himalaya.ttf) normal normal 400 normal>) = 10.05\n",
      "DEBUG - 2022-06-06 18:50:52,950 - matplotlib.font_manager - findfont: score(<Font 'Calibri' (calibril.ttf) normal normal 300 normal>) = 10.145\n",
      "DEBUG - 2022-06-06 18:50:52,951 - matplotlib.font_manager - findfont: score(<Font 'Candara' (Candarali.ttf) italic normal 400 normal>) = 11.05\n",
      "DEBUG - 2022-06-06 18:50:52,951 - matplotlib.font_manager - findfont: score(<Font 'Trebuchet MS' (trebuc.ttf) normal normal 400 normal>) = 10.05\n",
      "DEBUG - 2022-06-06 18:50:52,952 - matplotlib.font_manager - findfont: score(<Font 'Sitka Small' (SitkaZ.ttc) italic normal 700 normal>) = 11.335\n",
      "DEBUG - 2022-06-06 18:50:52,953 - matplotlib.font_manager - findfont: score(<Font 'Segoe MDL2 Assets' (segmdl2.ttf) normal normal 400 normal>) = 10.05\n",
      "DEBUG - 2022-06-06 18:50:52,953 - matplotlib.font_manager - findfont: score(<Font 'Bookman Old Style' (BOOKOSI.TTF) italic normal 300 normal>) = 11.145\n",
      "DEBUG - 2022-06-06 18:50:52,954 - matplotlib.font_manager - findfont: score(<Font 'Bookman Old Style' (BOOKOSBI.TTF) italic normal 600 normal>) = 11.24\n",
      "DEBUG - 2022-06-06 18:50:52,954 - matplotlib.font_manager - findfont: score(<Font 'Segoe UI' (seguisli.ttf) italic normal 350 normal>) = 11.0975\n",
      "DEBUG - 2022-06-06 18:50:52,955 - matplotlib.font_manager - findfont: score(<Font 'Constantia' (constanb.ttf) normal normal 700 normal>) = 10.335\n",
      "DEBUG - 2022-06-06 18:50:52,956 - matplotlib.font_manager - findfont: score(<Font 'Arial' (ARIALNI.TTF) italic normal 400 condensed>) = 7.613636363636363\n",
      "DEBUG - 2022-06-06 18:50:52,956 - matplotlib.font_manager - findfont: score(<Font 'Wingdings 2' (WINGDNG2.TTF) normal normal 400 normal>) = 10.05\n",
      "DEBUG - 2022-06-06 18:50:52,957 - matplotlib.font_manager - findfont: score(<Font 'Times New Roman' (timesi.ttf) italic normal 400 normal>) = 11.05\n",
      "DEBUG - 2022-06-06 18:50:52,957 - matplotlib.font_manager - findfont: score(<Font 'Trebuchet MS' (trebucbd.ttf) normal normal 700 normal>) = 10.335\n",
      "DEBUG - 2022-06-06 18:50:52,958 - matplotlib.font_manager - findfont: score(<Font 'Constantia' (constan.ttf) normal normal 400 normal>) = 10.05\n",
      "DEBUG - 2022-06-06 18:50:52,959 - matplotlib.font_manager - findfont: score(<Font 'Segoe UI' (seguibl.ttf) normal normal 900 normal>) = 10.525\n",
      "DEBUG - 2022-06-06 18:50:52,959 - matplotlib.font_manager - findfont: score(<Font 'Courier New' (courbd.ttf) normal normal 700 normal>) = 10.335\n",
      "DEBUG - 2022-06-06 18:50:52,960 - matplotlib.font_manager - findfont: score(<Font 'Gabriola' (Gabriola.ttf) normal normal 400 normal>) = 10.05\n",
      "DEBUG - 2022-06-06 18:50:52,961 - matplotlib.font_manager - findfont: score(<Font 'Garamond' (GARABD.TTF) normal normal 700 normal>) = 10.335\n",
      "DEBUG - 2022-06-06 18:50:52,961 - matplotlib.font_manager - findfont: score(<Font 'Candara' (Candarali.ttf) italic normal 400 normal>) = 11.05\n",
      "DEBUG - 2022-06-06 18:50:52,962 - matplotlib.font_manager - findfont: score(<Font 'SimSun-ExtB' (simsunb.ttf) normal normal 400 normal>) = 10.05\n",
      "DEBUG - 2022-06-06 18:50:52,962 - matplotlib.font_manager - findfont: score(<Font 'Mongolian Baiti' (monbaiti.ttf) normal normal 400 normal>) = 10.05\n",
      "DEBUG - 2022-06-06 18:50:52,963 - matplotlib.font_manager - findfont: score(<Font 'Corbel' (corbelb.ttf) normal normal 700 normal>) = 10.335\n",
      "DEBUG - 2022-06-06 18:50:52,964 - matplotlib.font_manager - findfont: score(<Font 'Myanmar Text' (mmrtextb.ttf) normal normal 700 normal>) = 10.335\n"
     ]
    },
    {
     "name": "stderr",
     "output_type": "stream",
     "text": [
      "DEBUG - 2022-06-06 18:50:52,964 - matplotlib.font_manager - findfont: score(<Font 'Segoe Print' (segoeprb.ttf) normal normal 700 normal>) = 10.335\n",
      "DEBUG - 2022-06-06 18:50:52,965 - matplotlib.font_manager - findfont: score(<Font 'Consolas' (consolab.ttf) normal normal 700 normal>) = 10.335\n",
      "DEBUG - 2022-06-06 18:50:52,965 - matplotlib.font_manager - findfont: score(<Font 'Symbol' (symbol.ttf) normal normal 400 normal>) = 10.05\n",
      "DEBUG - 2022-06-06 18:50:52,966 - matplotlib.font_manager - findfont: score(<Font 'Segoe Script' (segoesc.ttf) normal normal 400 normal>) = 10.05\n",
      "DEBUG - 2022-06-06 18:50:52,966 - matplotlib.font_manager - findfont: score(<Font 'Corbel' (corbelli.ttf) italic normal 300 normal>) = 11.145\n",
      "DEBUG - 2022-06-06 18:50:52,966 - matplotlib.font_manager - findfont: score(<Font 'Segoe UI' (seguibl.ttf) normal normal 900 normal>) = 10.525\n",
      "DEBUG - 2022-06-06 18:50:52,967 - matplotlib.font_manager - findfont: score(<Font 'Palatino Linotype' (palabi.ttf) italic normal 700 normal>) = 11.335\n",
      "DEBUG - 2022-06-06 18:50:52,968 - matplotlib.font_manager - findfont: score(<Font 'Corbel' (corbell.ttf) normal normal 300 normal>) = 10.145\n",
      "DEBUG - 2022-06-06 18:50:52,968 - matplotlib.font_manager - findfont: score(<Font 'Comic Sans MS' (comici.ttf) italic normal 400 normal>) = 11.05\n",
      "DEBUG - 2022-06-06 18:50:52,969 - matplotlib.font_manager - findfont: score(<Font 'Century Gothic' (GOTHICI.TTF) italic normal 400 normal>) = 11.05\n",
      "DEBUG - 2022-06-06 18:50:52,970 - matplotlib.font_manager - findfont: score(<Font 'MS Outlook' (OUTLOOK.TTF) normal normal 400 normal>) = 10.05\n",
      "DEBUG - 2022-06-06 18:50:52,970 - matplotlib.font_manager - findfont: score(<Font 'MingLiU-ExtB' (mingliub.ttc) normal normal 400 normal>) = 10.05\n",
      "DEBUG - 2022-06-06 18:50:52,971 - matplotlib.font_manager - findfont: score(<Font 'Microsoft New Tai Lue' (ntailu.ttf) normal normal 400 normal>) = 10.05\n",
      "DEBUG - 2022-06-06 18:50:52,971 - matplotlib.font_manager - findfont: score(<Font 'Ink Free' (Inkfree.ttf) normal normal 400 normal>) = 10.05\n",
      "DEBUG - 2022-06-06 18:50:52,972 - matplotlib.font_manager - findfont: score(<Font 'Calibri' (calibrii.ttf) italic normal 400 normal>) = 11.05\n",
      "DEBUG - 2022-06-06 18:50:52,972 - matplotlib.font_manager - findfont: score(<Font 'Corbel' (corbelz.ttf) italic normal 700 normal>) = 11.335\n",
      "DEBUG - 2022-06-06 18:50:52,973 - matplotlib.font_manager - findfont: score(<Font 'Palatino Linotype' (pala.ttf) normal normal 400 normal>) = 10.05\n",
      "DEBUG - 2022-06-06 18:50:52,974 - matplotlib.font_manager - findfont: score(<Font 'Segoe MDL2 Assets' (segmdl2.ttf) normal normal 400 normal>) = 10.05\n",
      "DEBUG - 2022-06-06 18:50:52,975 - matplotlib.font_manager - findfont: score(<Font 'Arial' (ARIALNBI.TTF) italic normal 700 condensed>) = 7.8986363636363635\n",
      "DEBUG - 2022-06-06 18:50:52,976 - matplotlib.font_manager - findfont: score(<Font 'Georgia' (georgiab.ttf) normal normal 700 normal>) = 10.335\n",
      "DEBUG - 2022-06-06 18:50:52,976 - matplotlib.font_manager - findfont: score(<Font 'Segoe UI' (segoeui.ttf) normal normal 400 normal>) = 10.05\n",
      "DEBUG - 2022-06-06 18:50:52,977 - matplotlib.font_manager - findfont: score(<Font 'Cambria' (cambriaz.ttf) italic normal 700 normal>) = 11.335\n",
      "DEBUG - 2022-06-06 18:50:52,978 - matplotlib.font_manager - findfont: score(<Font 'Georgia' (georgia.ttf) normal normal 400 normal>) = 10.05\n",
      "DEBUG - 2022-06-06 18:50:52,978 - matplotlib.font_manager - findfont: score(<Font 'Nirmala UI' (NirmalaS.ttf) normal normal 350 normal>) = 10.0975\n",
      "DEBUG - 2022-06-06 18:50:52,979 - matplotlib.font_manager - findfont: score(<Font 'Calibri' (calibrib.ttf) normal normal 700 normal>) = 10.335\n",
      "DEBUG - 2022-06-06 18:50:52,980 - matplotlib.font_manager - findfont: score(<Font 'Arial' (ariblk.ttf) normal normal 900 normal>) = 6.888636363636364\n",
      "DEBUG - 2022-06-06 18:50:52,980 - matplotlib.font_manager - findfont: score(<Font 'Century Gothic' (GOTHICB.TTF) normal normal 700 normal>) = 10.335\n",
      "DEBUG - 2022-06-06 18:50:52,980 - matplotlib.font_manager - findfont: score(<Font 'Times New Roman' (timesbd.ttf) normal normal 700 normal>) = 10.335\n",
      "DEBUG - 2022-06-06 18:50:52,981 - matplotlib.font_manager - findfont: score(<Font 'Leelawadee UI' (LeelUIsl.ttf) normal normal 350 normal>) = 10.0975\n",
      "DEBUG - 2022-06-06 18:50:52,981 - matplotlib.font_manager - findfont: score(<Font 'Leelawadee UI' (LeelawUI.ttf) normal normal 400 normal>) = 10.05\n",
      "DEBUG - 2022-06-06 18:50:52,982 - matplotlib.font_manager - findfont: score(<Font 'SimSun' (simsun.ttc) normal normal 400 normal>) = 10.05\n",
      "DEBUG - 2022-06-06 18:50:52,983 - matplotlib.font_manager - findfont: score(<Font 'Book Antiqua' (BKANT.TTF) normal normal 400 normal>) = 10.05\n",
      "DEBUG - 2022-06-06 18:50:52,983 - matplotlib.font_manager - findfont: score(<Font 'Corbel' (corbelb.ttf) normal normal 700 normal>) = 10.335\n",
      "DEBUG - 2022-06-06 18:50:52,984 - matplotlib.font_manager - findfont: score(<Font 'Microsoft JhengHei' (msjh.ttc) normal normal 400 normal>) = 10.05\n",
      "DEBUG - 2022-06-06 18:50:52,984 - matplotlib.font_manager - findfont: score(<Font 'Microsoft YaHei' (msyhl.ttc) normal normal 290 normal>) = 10.1545\n",
      "DEBUG - 2022-06-06 18:50:52,985 - matplotlib.font_manager - findfont: score(<Font 'Leelawadee UI' (LeelaUIb.ttf) normal normal 700 normal>) = 10.335\n",
      "DEBUG - 2022-06-06 18:50:52,986 - matplotlib.font_manager - findfont: score(<Font 'Comic Sans MS' (comicbd.ttf) normal normal 700 normal>) = 10.335\n",
      "DEBUG - 2022-06-06 18:50:52,986 - matplotlib.font_manager - findfont: score(<Font 'Georgia' (georgiaz.ttf) italic normal 700 normal>) = 11.335\n",
      "DEBUG - 2022-06-06 18:50:52,987 - matplotlib.font_manager - findfont: score(<Font 'Segoe UI' (segoeuii.ttf) italic normal 400 normal>) = 11.05\n",
      "DEBUG - 2022-06-06 18:50:52,987 - matplotlib.font_manager - findfont: score(<Font 'Century Gothic' (GOTHIC.TTF) normal normal 400 normal>) = 10.05\n",
      "DEBUG - 2022-06-06 18:50:52,988 - matplotlib.font_manager - findfont: score(<Font 'Microsoft PhagsPa' (phagspa.ttf) normal normal 400 normal>) = 10.05\n",
      "DEBUG - 2022-06-06 18:50:52,988 - matplotlib.font_manager - findfont: score(<Font 'Garamond' (GARAIT.TTF) italic normal 400 normal>) = 11.05\n",
      "DEBUG - 2022-06-06 18:50:52,989 - matplotlib.font_manager - findfont: score(<Font 'Leelawadee UI' (LeelUIsl.ttf) normal normal 350 normal>) = 10.0975\n",
      "DEBUG - 2022-06-06 18:50:52,990 - matplotlib.font_manager - findfont: score(<Font 'Book Antiqua' (ANTQUABI.TTF) italic normal 700 normal>) = 11.335\n",
      "DEBUG - 2022-06-06 18:50:52,990 - matplotlib.font_manager - findfont: score(<Font 'Yu Gothic' (YuGothic-Bold.ttf) normal normal 700 normal>) = 10.335\n",
      "DEBUG - 2022-06-06 18:50:52,990 - matplotlib.font_manager - findfont: score(<Font 'Segoe WP' (SegoeWP.ttf) normal normal 400 normal>) = 10.05\n",
      "DEBUG - 2022-06-06 18:50:52,991 - matplotlib.font_manager - findfont: score(<Font 'Malgun Gothic' (malgunsl.ttf) normal normal 300 normal>) = 10.145\n",
      "DEBUG - 2022-06-06 18:50:52,992 - matplotlib.font_manager - findfont: score(<Font 'HoloLens MDL2 Assets' (holomdl2.ttf) normal normal 400 normal>) = 10.05\n",
      "DEBUG - 2022-06-06 18:50:52,992 - matplotlib.font_manager - findfont: score(<Font 'Bookman Old Style' (BOOKOSI.TTF) italic normal 300 normal>) = 11.145\n",
      "DEBUG - 2022-06-06 18:50:52,993 - matplotlib.font_manager - findfont: score(<Font 'Microsoft New Tai Lue' (ntailub.ttf) normal normal 700 normal>) = 10.335\n",
      "DEBUG - 2022-06-06 18:50:52,993 - matplotlib.font_manager - findfont: score(<Font 'Consolas' (consolai.ttf) italic normal 400 normal>) = 11.05\n",
      "DEBUG - 2022-06-06 18:50:52,994 - matplotlib.font_manager - findfont: score(<Font 'Cambria' (cambriai.ttf) italic normal 400 normal>) = 11.05\n",
      "DEBUG - 2022-06-06 18:50:52,995 - matplotlib.font_manager - findfont: score(<Font 'Book Antiqua' (ANTQUAB.TTF) normal normal 700 normal>) = 10.335\n",
      "DEBUG - 2022-06-06 18:50:52,995 - matplotlib.font_manager - findfont: score(<Font 'Malgun Gothic' (malgunsl.ttf) normal normal 300 normal>) = 10.145\n",
      "DEBUG - 2022-06-06 18:50:52,996 - matplotlib.font_manager - findfont: score(<Font 'Candara' (Candara.ttf) normal normal 400 normal>) = 10.05\n",
      "DEBUG - 2022-06-06 18:50:52,996 - matplotlib.font_manager - findfont: score(<Font 'Segoe WP' (SegoeWP.ttf) normal normal 400 normal>) = 10.05\n",
      "DEBUG - 2022-06-06 18:50:52,997 - matplotlib.font_manager - findfont: score(<Font 'Arial' (arialbi.ttf) italic normal 700 normal>) = 7.698636363636363\n"
     ]
    },
    {
     "name": "stderr",
     "output_type": "stream",
     "text": [
      "DEBUG - 2022-06-06 18:50:52,998 - matplotlib.font_manager - findfont: score(<Font 'Microsoft Tai Le' (taileb.ttf) normal normal 700 normal>) = 10.335\n",
      "DEBUG - 2022-06-06 18:50:52,998 - matplotlib.font_manager - findfont: score(<Font 'Impact' (impact.ttf) normal normal 400 normal>) = 10.05\n",
      "DEBUG - 2022-06-06 18:50:52,999 - matplotlib.font_manager - findfont: score(<Font 'Segoe Print' (segoepr.ttf) normal normal 400 normal>) = 10.05\n",
      "DEBUG - 2022-06-06 18:50:52,999 - matplotlib.font_manager - findfont: score(<Font 'MS Gothic' (msgothic.ttc) normal normal 400 normal>) = 10.05\n",
      "DEBUG - 2022-06-06 18:50:53,000 - matplotlib.font_manager - findfont: score(<Font 'Consolas' (consola.ttf) normal normal 400 normal>) = 10.05\n",
      "DEBUG - 2022-06-06 18:50:53,001 - matplotlib.font_manager - findfont: score(<Font 'Century' (CENTURY.TTF) normal normal 400 normal>) = 10.05\n",
      "DEBUG - 2022-06-06 18:50:53,002 - matplotlib.font_manager - findfont: score(<Font 'Sylfaen' (sylfaen.ttf) normal normal 400 normal>) = 10.05\n",
      "DEBUG - 2022-06-06 18:50:53,003 - matplotlib.font_manager - findfont: score(<Font 'Corbel' (corbeli.ttf) italic normal 400 normal>) = 11.05\n",
      "DEBUG - 2022-06-06 18:50:53,003 - matplotlib.font_manager - findfont: score(<Font 'Calibri' (calibrili.ttf) italic normal 300 normal>) = 11.145\n",
      "DEBUG - 2022-06-06 18:50:53,004 - matplotlib.font_manager - findfont: score(<Font 'MS Reference Specialty' (REFSPCL.TTF) normal normal 400 normal>) = 10.05\n",
      "DEBUG - 2022-06-06 18:50:53,004 - matplotlib.font_manager - findfont: score(<Font 'Candara' (Candaraz.ttf) italic normal 700 normal>) = 11.335\n",
      "DEBUG - 2022-06-06 18:50:53,004 - matplotlib.font_manager - findfont: score(<Font 'Courier New' (cour.ttf) normal normal 400 normal>) = 10.05\n",
      "DEBUG - 2022-06-06 18:50:53,005 - matplotlib.font_manager - findfont: score(<Font 'Century Gothic' (GOTHICBI.TTF) italic normal 700 normal>) = 11.335\n",
      "DEBUG - 2022-06-06 18:50:53,005 - matplotlib.font_manager - findfont: score(<Font 'Georgia' (georgia.ttf) normal normal 400 normal>) = 10.05\n",
      "DEBUG - 2022-06-06 18:50:53,006 - matplotlib.font_manager - findfont: score(<Font 'Nirmala UI' (Nirmala.ttf) normal normal 400 normal>) = 10.05\n",
      "DEBUG - 2022-06-06 18:50:53,006 - matplotlib.font_manager - findfont: score(<Font 'Microsoft NeoGothic' (MSNeoGothic.ttf) normal normal 400 normal>) = 10.05\n",
      "DEBUG - 2022-06-06 18:50:53,007 - matplotlib.font_manager - findfont: score(<Font 'Wingdings 2' (WINGDNG2.TTF) normal normal 400 normal>) = 10.05\n",
      "DEBUG - 2022-06-06 18:50:53,008 - matplotlib.font_manager - findfont: score(<Font 'Book Antiqua' (ANTQUAI.TTF) italic normal 400 normal>) = 11.05\n",
      "DEBUG - 2022-06-06 18:50:53,008 - matplotlib.font_manager - findfont: score(<Font 'Garamond' (GARABD.TTF) normal normal 700 normal>) = 10.335\n",
      "DEBUG - 2022-06-06 18:50:53,010 - matplotlib.font_manager - findfont: Matching sans\\-serif:style=normal:variant=normal:weight=normal:stretch=normal:size=10.0 to DejaVu Sans ('D:\\\\Software\\\\miniconda\\\\lib\\\\site-packages\\\\matplotlib\\\\mpl-data\\\\fonts\\\\ttf\\\\DejaVuSans.ttf') with score of 0.050000.\n"
     ]
    },
    {
     "data": {
      "image/png": "[encoded data removed]",
      "text/plain": [
       "<Figure size 432x288 with 1 Axes>"
      ]
     },
     "metadata": {
      "needs_background": "light"
     },
     "output_type": "display_data"
    }
   ],
   "source": [
    "df_ncf.plot()"
   ]
  },
  {
   "cell_type": "code",
   "execution_count": 5,
   "id": "368fa4ad",
   "metadata": {},
   "outputs": [
    {
     "data": {
      "text/plain": [
       "10000"
      ]
     },
     "execution_count": 5,
     "metadata": {},
     "output_type": "execute_result"
    }
   ],
   "source": [
    "# The premium rate will be much more complicated and depend on\n",
    "# the individual.\n",
    "# Moreover, the payments can also depend on the individual (e.g. waiting periods),\n",
    "# but it is not clear how that could be modelled in this framework (maybe a separate state?)\n",
    "\n",
    "num_records = projector.proj_state.state_matrix.shape[0]\n",
    "num_records"
   ]
  },
  {
   "cell_type": "code",
   "execution_count": null,
   "id": "e92eea33",
   "metadata": {},
   "outputs": [],
   "source": []
  },
  {
   "cell_type": "code",
   "execution_count": 6,
   "id": "daab5969",
   "metadata": {},
   "outputs": [
    {
     "data": {
      "text/plain": [
       "array([[ 0.1, -1. , -2. ,  0. ,  0. ],\n",
       "       [ 0.1, -1. , -2. ,  0. ,  0. ],\n",
       "       [ 0.1, -1. , -2. ,  0. ,  0. ],\n",
       "       ...,\n",
       "       [ 0.1, -1. , -2. ,  0. ,  0. ],\n",
       "       [ 0.1, -1. , -2. ,  0. ,  0. ],\n",
       "       [ 0.1, -1. , -2. ,  0. ,  0. ]])"
      ]
     },
     "execution_count": 6,
     "metadata": {},
     "output_type": "execute_result"
    }
   ],
   "source": [
    "payment_matrix = np.ones((num_records,1)).dot(Product.PAYMENT_MULITIPLIERS.reshape((1, 5)))\n",
    "payment_matrix"
   ]
  },
  {
   "cell_type": "code",
   "execution_count": 10,
   "id": "040c0515",
   "metadata": {},
   "outputs": [
    {
     "data": {
      "text/plain": [
       "array([[   28.77612606,   -66.36432711,  -216.72353444,     0.        ,\n",
       "            0.        ],\n",
       "       [    2.87102138,    -6.63773803,   -21.71253067,     0.        ,\n",
       "            0.        ],\n",
       "       [  100.87448066,  -349.61421944, -1220.52348397,     0.        ,\n",
       "            0.        ],\n",
       "       ...,\n",
       "       [    2.87102138,    -6.63773803,   -21.71253067,     0.        ,\n",
       "            0.        ],\n",
       "       [  100.87448066,  -349.61421944, -1220.52348397,     0.        ,\n",
       "            0.        ],\n",
       "       [   28.77612606,   -66.36432711,  -216.72353444,     0.        ,\n",
       "            0.        ]])"
      ]
     },
     "execution_count": 10,
     "metadata": {},
     "output_type": "execute_result"
    }
   ],
   "source": [
    "payments = projector.proj_state.state_matrix * payment_matrix * projector.sum_insured.reshape((num_records, 1))\n",
    "payments"
   ]
  },
  {
   "cell_type": "code",
   "execution_count": 12,
   "id": "c3e9e6de",
   "metadata": {},
   "outputs": [
    {
     "data": {
      "text/plain": [
       "array([  441723.36259622, -1408646.44083053, -4862928.90062833,\n",
       "              0.        ,        0.        ])"
      ]
     },
     "execution_count": 12,
     "metadata": {},
     "output_type": "execute_result"
    }
   ],
   "source": [
    "payments.sum(axis=0)"
   ]
  },
  {
   "cell_type": "code",
   "execution_count": 2,
   "id": "a0909c0c",
   "metadata": {},
   "outputs": [
    {
     "data": {
      "text/plain": [
       "array([[       nan, 0.05      , 0.05      , 0.43697479, 0.05      ],\n",
       "       [0.2       ,        nan, 0.2       , 0.05      , 0.        ],\n",
       "       [0.01      , 0.1       ,        nan, 0.2       , 0.        ],\n",
       "       [0.        , 0.        , 0.        ,        nan, 0.        ],\n",
       "       [0.        , 0.        , 0.        , 0.        ,        nan]])"
      ]
     },
     "execution_count": 2,
     "metadata": {},
     "output_type": "execute_result"
    }
   ],
   "source": [
    "projector.applicable_assumptions[1, :, :]"
   ]
  },
  {
   "cell_type": "code",
   "execution_count": 53,
   "id": "545dea40",
   "metadata": {},
   "outputs": [
    {
     "data": {
      "text/plain": [
       "array([[[       nan, 0.03      , 0.03      , 0.39130435, 0.05      ],\n",
       "        [0.2       ,        nan, 0.2       , 0.05      , 0.        ],\n",
       "        [0.01      , 0.1       ,        nan, 0.2       , 0.        ],\n",
       "        [0.        , 0.        , 0.        ,        nan, 0.        ],\n",
       "        [0.        , 0.        , 0.        , 0.        ,        nan]],\n",
       "\n",
       "       [[       nan, 0.05      , 0.05      , 0.43697479, 0.05      ],\n",
       "        [0.2       ,        nan, 0.2       , 0.05      , 0.        ],\n",
       "        [0.01      , 0.1       ,        nan, 0.2       , 0.        ],\n",
       "        [0.        , 0.        , 0.        ,        nan, 0.        ],\n",
       "        [0.        , 0.        , 0.        , 0.        ,        nan]],\n",
       "\n",
       "       [[       nan, 0.05      , 0.05      , 0.42857143, 0.05      ],\n",
       "        [0.2       ,        nan, 0.2       , 0.05      , 0.        ],\n",
       "        [0.01      , 0.1       ,        nan, 0.2       , 0.        ],\n",
       "        [0.        , 0.        , 0.        ,        nan, 0.        ],\n",
       "        [0.        , 0.        , 0.        , 0.        ,        nan]]])"
      ]
     },
     "execution_count": 53,
     "metadata": {},
     "output_type": "execute_result"
    }
   ],
   "source": [
    "A = projector.applicable_assumptions.copy()\n",
    "A"
   ]
  },
  {
   "cell_type": "code",
   "execution_count": 4,
   "id": "2d340f15",
   "metadata": {},
   "outputs": [
    {
     "data": {
      "text/plain": [
       "0.125"
      ]
     },
     "execution_count": 4,
     "metadata": {},
     "output_type": "execute_result"
    }
   ],
   "source": [
    "# transform to quarters\n",
    "timesteps_per_quarter = 2\n",
    "timesteps_per_year = 4 * timesteps_per_quarter\n",
    "timestep = 1.0 / timesteps_per_year\n",
    "timestep"
   ]
  },
  {
   "cell_type": "code",
   "execution_count": 12,
   "id": "8c1395cd",
   "metadata": {},
   "outputs": [
    {
     "data": {
      "text/plain": [
       "array([[[0.        , 0.00375   , 0.00375   , 0.04891304, 0.00625   ],\n",
       "        [0.025     , 0.        , 0.025     , 0.00625   , 0.        ],\n",
       "        [0.00125   , 0.0125    , 0.        , 0.025     , 0.        ],\n",
       "        [0.        , 0.        , 0.        , 0.        , 0.        ],\n",
       "        [0.        , 0.        , 0.        , 0.        , 0.        ]],\n",
       "\n",
       "       [[0.        , 0.00625   , 0.00625   , 0.05462185, 0.00625   ],\n",
       "        [0.025     , 0.        , 0.025     , 0.00625   , 0.        ],\n",
       "        [0.00125   , 0.0125    , 0.        , 0.025     , 0.        ],\n",
       "        [0.        , 0.        , 0.        , 0.        , 0.        ],\n",
       "        [0.        , 0.        , 0.        , 0.        , 0.        ]],\n",
       "\n",
       "       [[0.        , 0.00625   , 0.00625   , 0.05357143, 0.00625   ],\n",
       "        [0.025     , 0.        , 0.025     , 0.00625   , 0.        ],\n",
       "        [0.00125   , 0.0125    , 0.        , 0.025     , 0.        ],\n",
       "        [0.        , 0.        , 0.        , 0.        , 0.        ],\n",
       "        [0.        , 0.        , 0.        , 0.        , 0.        ]]])"
      ]
     },
     "execution_count": 12,
     "metadata": {},
     "output_type": "execute_result"
    }
   ],
   "source": [
    "A_per_step = np.nan_to_num(A) * timestep\n",
    "A_per_step"
   ]
  },
  {
   "cell_type": "code",
   "execution_count": 30,
   "id": "de6ed2af",
   "metadata": {},
   "outputs": [
    {
     "data": {
      "text/plain": [
       "array([[0.06266304, 0.05625   , 0.03875   , 0.        , 0.        ],\n",
       "       [0.07337185, 0.05625   , 0.03875   , 0.        , 0.        ],\n",
       "       [0.07232143, 0.05625   , 0.03875   , 0.        , 0.        ]])"
      ]
     },
     "execution_count": 30,
     "metadata": {},
     "output_type": "execute_result"
    }
   ],
   "source": [
    "# first method would be to just fill per row so that the row sum becomes 1\n",
    "row_sums = A_per_step.sum(axis=2)\n",
    "row_sums"
   ]
  },
  {
   "cell_type": "code",
   "execution_count": 48,
   "id": "794f18d7",
   "metadata": {},
   "outputs": [
    {
     "data": {
      "text/plain": [
       "array([0, 0, 0, 0, 0, 1, 1, 1, 1, 1, 2, 2, 2, 2, 2])"
      ]
     },
     "execution_count": 48,
     "metadata": {},
     "output_type": "execute_result"
    }
   ],
   "source": [
    "# idea to construct first index consisting of 5 zeros followed by 5 ones followed by 5 2's etc.\n",
    "first_ind = np.arange(1, 4, dtype=np.int32).reshape((3, 1)).dot(np.ones((1,5), dtype=np.int32)).reshape(15) - 1\n",
    "first_ind"
   ]
  },
  {
   "cell_type": "code",
   "execution_count": 47,
   "id": "684088e8",
   "metadata": {},
   "outputs": [
    {
     "data": {
      "text/plain": [
       "array([0, 1, 2, 3, 4, 0, 1, 2, 3, 4, 0, 1, 2, 3, 4])"
      ]
     },
     "execution_count": 47,
     "metadata": {},
     "output_type": "execute_result"
    }
   ],
   "source": [
    "# idea to construct second and third index consisting of the sequence 0, 1, 2, 3, 4 repeated for each insured\n",
    "other_ind = np.ones((3,1), dtype=np.int32).dot(np.arange(1, 6, dtype=np.int32).reshape((1, 5))).reshape(15) - 1\n",
    "other_ind"
   ]
  },
  {
   "cell_type": "code",
   "execution_count": 51,
   "id": "e5ef130a",
   "metadata": {},
   "outputs": [
    {
     "data": {
      "text/plain": [
       "array([[[0.93733696, 0.00375   , 0.00375   , 0.04891304, 0.00625   ],\n",
       "        [0.025     , 0.94375   , 0.025     , 0.00625   , 0.        ],\n",
       "        [0.00125   , 0.0125    , 0.96125   , 0.025     , 0.        ],\n",
       "        [0.        , 0.        , 0.        , 1.        , 0.        ],\n",
       "        [0.        , 0.        , 0.        , 0.        , 1.        ]],\n",
       "\n",
       "       [[0.92662815, 0.00625   , 0.00625   , 0.05462185, 0.00625   ],\n",
       "        [0.025     , 0.94375   , 0.025     , 0.00625   , 0.        ],\n",
       "        [0.00125   , 0.0125    , 0.96125   , 0.025     , 0.        ],\n",
       "        [0.        , 0.        , 0.        , 1.        , 0.        ],\n",
       "        [0.        , 0.        , 0.        , 0.        , 1.        ]],\n",
       "\n",
       "       [[0.92767857, 0.00625   , 0.00625   , 0.05357143, 0.00625   ],\n",
       "        [0.025     , 0.94375   , 0.025     , 0.00625   , 0.        ],\n",
       "        [0.00125   , 0.0125    , 0.96125   , 0.025     , 0.        ],\n",
       "        [0.        , 0.        , 0.        , 1.        , 0.        ],\n",
       "        [0.        , 0.        , 0.        , 0.        , 1.        ]]])"
      ]
     },
     "execution_count": 51,
     "metadata": {},
     "output_type": "execute_result"
    }
   ],
   "source": [
    "# adjust on the diagonal\n",
    "A_per_step[first_ind, other_ind, other_ind] = 1 - row_sums.reshape(15)\n",
    "A_per_step"
   ]
  },
  {
   "cell_type": "code",
   "execution_count": 52,
   "id": "fb6397d2",
   "metadata": {},
   "outputs": [
    {
     "data": {
      "text/plain": [
       "array([[1., 1., 1., 1., 1.],\n",
       "       [1., 1., 1., 1., 1.],\n",
       "       [1., 1., 1., 1., 1.]])"
      ]
     },
     "execution_count": 52,
     "metadata": {},
     "output_type": "execute_result"
    }
   ],
   "source": [
    "# check: calculate the row sums again\n",
    "A_per_step.sum(axis=2)"
   ]
  },
  {
   "cell_type": "code",
   "execution_count": 17,
   "id": "eb83285c",
   "metadata": {},
   "outputs": [
    {
     "data": {
      "text/plain": [
       "array([[[1.        , 0.99625   , 0.99625   , 0.95108696, 0.99375   ],\n",
       "        [0.975     , 1.        , 0.975     , 0.99375   , 1.        ],\n",
       "        [0.99875   , 0.9875    , 1.        , 0.975     , 1.        ],\n",
       "        [1.        , 1.        , 1.        , 1.        , 1.        ],\n",
       "        [1.        , 1.        , 1.        , 1.        , 1.        ]],\n",
       "\n",
       "       [[1.        , 0.99375   , 0.99375   , 0.94537815, 0.99375   ],\n",
       "        [0.975     , 1.        , 0.975     , 0.99375   , 1.        ],\n",
       "        [0.99875   , 0.9875    , 1.        , 0.975     , 1.        ],\n",
       "        [1.        , 1.        , 1.        , 1.        , 1.        ],\n",
       "        [1.        , 1.        , 1.        , 1.        , 1.        ]],\n",
       "\n",
       "       [[1.        , 0.99375   , 0.99375   , 0.94642857, 0.99375   ],\n",
       "        [0.975     , 1.        , 0.975     , 0.99375   , 1.        ],\n",
       "        [0.99875   , 0.9875    , 1.        , 0.975     , 1.        ],\n",
       "        [1.        , 1.        , 1.        , 1.        , 1.        ],\n",
       "        [1.        , 1.        , 1.        , 1.        , 1.        ]]])"
      ]
     },
     "execution_count": 17,
     "metadata": {},
     "output_type": "execute_result"
    }
   ],
   "source": [
    "# transform\n",
    "B = 1 - A_per_step\n",
    "B"
   ]
  },
  {
   "cell_type": "code",
   "execution_count": 28,
   "id": "c5339754",
   "metadata": {},
   "outputs": [
    {
     "data": {
      "text/plain": [
       "array([[0.06193262, 0.05531641, 0.03839102, 0.        , 0.        ],\n",
       "       [0.07223713, 0.05531641, 0.03839102, 0.        , 0.        ],\n",
       "       [0.07120629, 0.05531641, 0.03839102, 0.        , 0.        ]])"
      ]
     },
     "execution_count": 28,
     "metadata": {},
     "output_type": "execute_result"
    }
   ],
   "source": [
    "# the total decrements per insured and state at BOP\n",
    "decrements = 1 - B.prod(axis=(2))\n",
    "decrements"
   ]
  },
  {
   "cell_type": "code",
   "execution_count": 25,
   "id": "2170b6d1",
   "metadata": {},
   "outputs": [
    {
     "data": {
      "text/plain": [
       "array([[1.        , 0.99625   , 0.99625   , 0.95108696, 0.99375   ],\n",
       "       [0.975     , 1.        , 0.975     , 0.99375   , 1.        ],\n",
       "       [0.99875   , 0.9875    , 1.        , 0.975     , 1.        ],\n",
       "       [1.        , 1.        , 1.        , 1.        , 1.        ],\n",
       "       [1.        , 1.        , 1.        , 1.        , 1.        ]])"
      ]
     },
     "execution_count": 25,
     "metadata": {},
     "output_type": "execute_result"
    }
   ],
   "source": [
    "B[0, :, :]"
   ]
  },
  {
   "cell_type": "code",
   "execution_count": 26,
   "id": "755dda52",
   "metadata": {},
   "outputs": [
    {
     "data": {
      "text/plain": [
       "array([0.93806738, 0.94468359, 0.96160898, 1.        , 1.        ])"
      ]
     },
     "execution_count": 26,
     "metadata": {},
     "output_type": "execute_result"
    }
   ],
   "source": [
    "B[0, :, :].prod(axis=1)"
   ]
  },
  {
   "cell_type": "code",
   "execution_count": 27,
   "id": "41ba0cc8",
   "metadata": {},
   "outputs": [
    {
     "data": {
      "text/plain": [
       "0.9380673875699977"
      ]
     },
     "execution_count": 27,
     "metadata": {},
     "output_type": "execute_result"
    }
   ],
   "source": [
    "0.99625 * 0.99625 * 0.95108696 * 0.99375  "
   ]
  },
  {
   "cell_type": "code",
   "execution_count": null,
   "id": "6eeec05f",
   "metadata": {},
   "outputs": [],
   "source": []
  }
 ],
 "metadata": {
  "kernelspec": {
   "display_name": "Python 3 (ipykernel)",
   "language": "python",
   "name": "python3"
  },
  "language_info": {
   "codemirror_mode": {
    "name": "ipython",
    "version": 3
   },
   "file_extension": ".py",
   "mimetype": "text/x-python",
   "name": "python",
   "nbconvert_exporter": "python",
   "pygments_lexer": "ipython3",
   "version": "3.9.12"
  }
 },
 "nbformat": 4,
 "nbformat_minor": 5
}

{
 "cells": [
  {
   "cell_type": "markdown",
   "id": "e8aa6a03",
   "metadata": {},
   "source": [
    "# Load DAV-Tables"
   ]
  },
  {
   "cell_type": "code",
   "execution_count": 43,
   "id": "0bd1c1f3",
   "metadata": {},
   "outputs": [],
   "source": [
    "import zipfile\n",
    "import os\n",
    "import shutil\n",
    "import tempfile\n",
    "\n",
    "import requests\n",
    "\n",
    "\n",
    "# the directory where to copy the data files to\n",
    "target_dir = \".\"\n",
    "\n",
    "\n",
    "# create a temporary dict\n",
    "with tempfile.TemporaryDirectory() as tmp_dir:\n",
    "\n",
    "    # download location of R-package\n",
    "    file_name = \"MortalityTables_2.0.3.zip\"\n",
    "    link_address = \"https://cran.r-project.org/bin/windows/contrib/4.3/\" + file_name\n",
    "    \n",
    "    # download and save .zip to tmp dir\n",
    "    path_to_zipfile = os.path.join(tmp_dir, file_name)\n",
    "    r = requests.get(link_address)\n",
    "    zip_file = os.path.join(tmp_dir, file_name)\n",
    "    with open(zip_file, 'wb') as f:\n",
    "        f.write(r.content)\n",
    "        \n",
    "    # extract zip\n",
    "    with zipfile.ZipFile(zip_file, 'r') as zip_ref:\n",
    "        zip_ref.extractall(tmp_dir)\n",
    "    \n",
    "    tables_dir = os.path.join(tmp_dir, \"MortalityTables\", \"extdata\")\n",
    "    \n",
    "    # identify files to copy\n",
    "    dav_2004r_files = [f for f in os.listdir(tables_dir) if \"DAV2004R\" in f and f[-4:].upper() == \".CSV\"]\n",
    "    dav_2008t_files = [f for f in os.listdir(tables_dir) if \"DAV2008T\" in f and f[-4:].upper() == \".CSV\"]\n",
    "    \n",
    "    # create directories if they do not exist\n",
    "    dav_2004r_dir = os.path.join(working_dir, \"tables\", \"Germany_Annuities_DAV2004R\")\n",
    "    dav_2008t_dir = os.path.join(working_dir, \"tables\", \"Germany_Endowments_DAV2008T\")\n",
    "    os.makedirs(dav_2004r_dir, exist_ok = True)\n",
    "    os.makedirs(dav_2008t_dir, exist_ok = True)\n",
    "\n",
    "    # copy the file\n",
    "    for f in dav_2004r_files:\n",
    "        shutil.copy(os.path.join(tables_dir, f), os.path.join(dav_2004r_dir, f))\n",
    "\n",
    "    # copy the file\n",
    "    for f in dav_2008t_files:\n",
    "        shutil.copy(os.path.join(tables_dir, f), os.path.join(dav_2008t_dir, f))    \n",
    "\n"
   ]
  },
  {
   "cell_type": "code",
   "execution_count": 44,
   "id": "d4c9f4ea",
   "metadata": {},
   "outputs": [
    {
     "name": "stdout",
     "output_type": "stream",
     "text": [
      " Datentr„ger in Laufwerk D: ist Volume\n",
      " Volumeseriennummer: 1C67-F69C\n",
      "\n",
      " Verzeichnis von d:\\programming\\py\\pyprotolinc\\tests\\notebooks\n",
      "\n"
     ]
    },
    {
     "name": "stderr",
     "output_type": "stream",
     "text": [
      "Datei nicht gefunden\n"
     ]
    }
   ],
   "source": [
    "!dir *.zip"
   ]
  },
  {
   "cell_type": "code",
   "execution_count": 34,
   "id": "0720a7dd",
   "metadata": {},
   "outputs": [],
   "source": [
    "import zipfile\n",
    "import os\n",
    "import shutil\n",
    "import tempfile\n",
    "\n",
    "directory_to_extract_to = \".\"\n",
    "with zipfile.ZipFile(file_name, 'r') as zip_ref:\n",
    "    zip_ref.extractall(directory_to_extract_to)\n",
    "    \n",
    "tables_dir = os.path.join(directory_to_extract_to, \"MortalityTables\", \"extdata\")"
   ]
  },
  {
   "cell_type": "code",
   "execution_count": 40,
   "id": "70fae78e",
   "metadata": {},
   "outputs": [
    {
     "name": "stdout",
     "output_type": "stream",
     "text": [
      "MortalityTables_2.0.3.zip\n"
     ]
    },
    {
     "ename": "FileNotFoundError",
     "evalue": "[Errno 2] No such file or directory: 'MortalityTables_2.0.3.zip'",
     "output_type": "error",
     "traceback": [
      "\u001b[1;31m---------------------------------------------------------------------------\u001b[0m",
      "\u001b[1;31mFileNotFoundError\u001b[0m                         Traceback (most recent call last)",
      "Input \u001b[1;32mIn [40]\u001b[0m, in \u001b[0;36m<cell line: 3>\u001b[1;34m()\u001b[0m\n\u001b[0;32m      1\u001b[0m \u001b[38;5;28mprint\u001b[39m(file_name)\n\u001b[0;32m      2\u001b[0m directory_to_extract_to \u001b[38;5;241m=\u001b[39m \u001b[38;5;124m\"\u001b[39m\u001b[38;5;124m.\u001b[39m\u001b[38;5;124m\"\u001b[39m\n\u001b[1;32m----> 3\u001b[0m \u001b[38;5;28;01mwith\u001b[39;00m \u001b[43mzipfile\u001b[49m\u001b[38;5;241;43m.\u001b[39;49m\u001b[43mZipFile\u001b[49m\u001b[43m(\u001b[49m\u001b[43mfile_name\u001b[49m\u001b[43m,\u001b[49m\u001b[43m \u001b[49m\u001b[38;5;124;43m'\u001b[39;49m\u001b[38;5;124;43mr\u001b[39;49m\u001b[38;5;124;43m'\u001b[39;49m\u001b[43m)\u001b[49m \u001b[38;5;28;01mas\u001b[39;00m zip_ref:\n\u001b[0;32m      4\u001b[0m     zip_ref\u001b[38;5;241m.\u001b[39mextractall(directory_to_extract_to)\n",
      "File \u001b[1;32m~\\miniconda3\\lib\\zipfile.py:1248\u001b[0m, in \u001b[0;36mZipFile.__init__\u001b[1;34m(self, file, mode, compression, allowZip64, compresslevel, strict_timestamps)\u001b[0m\n\u001b[0;32m   1246\u001b[0m \u001b[38;5;28;01mwhile\u001b[39;00m \u001b[38;5;28;01mTrue\u001b[39;00m:\n\u001b[0;32m   1247\u001b[0m     \u001b[38;5;28;01mtry\u001b[39;00m:\n\u001b[1;32m-> 1248\u001b[0m         \u001b[38;5;28mself\u001b[39m\u001b[38;5;241m.\u001b[39mfp \u001b[38;5;241m=\u001b[39m \u001b[43mio\u001b[49m\u001b[38;5;241;43m.\u001b[39;49m\u001b[43mopen\u001b[49m\u001b[43m(\u001b[49m\u001b[43mfile\u001b[49m\u001b[43m,\u001b[49m\u001b[43m \u001b[49m\u001b[43mfilemode\u001b[49m\u001b[43m)\u001b[49m\n\u001b[0;32m   1249\u001b[0m     \u001b[38;5;28;01mexcept\u001b[39;00m \u001b[38;5;167;01mOSError\u001b[39;00m:\n\u001b[0;32m   1250\u001b[0m         \u001b[38;5;28;01mif\u001b[39;00m filemode \u001b[38;5;129;01min\u001b[39;00m modeDict:\n",
      "\u001b[1;31mFileNotFoundError\u001b[0m: [Errno 2] No such file or directory: 'MortalityTables_2.0.3.zip'"
     ]
    }
   ],
   "source": [
    "print(file_name)\n",
    "directory_to_extract_to = \".\"\n",
    "with zipfile.ZipFile(file_name, 'r') as zip_ref:\n",
    "    zip_ref.extractall(directory_to_extract_to)"
   ]
  },
  {
   "cell_type": "code",
   "execution_count": 36,
   "id": "e5b1da06",
   "metadata": {},
   "outputs": [
    {
     "data": {
      "text/plain": [
       "(['Germany_Annuities_DAV2004R.csv',\n",
       "  'Germany_Annuities_DAV2004R_AV.csv',\n",
       "  'Germany_Annuities_DAV2004R_AVBase.csv',\n",
       "  'Germany_Annuities_DAV2004R_Select.csv',\n",
       "  'Germany_Annuities_DAV2004R_Trends.csv'],\n",
       " ['Germany_Endowments_DAV2008T.csv'])"
      ]
     },
     "execution_count": 36,
     "metadata": {},
     "output_type": "execute_result"
    }
   ],
   "source": [
    "dav_2004r_files = [f for f in os.listdir(tables_dir) if \"DAV2004R\" in f and f[-4:].upper() == \".CSV\"]\n",
    "dav_2008t_files = [f for f in os.listdir(tables_dir) if \"DAV2008T\" in f and f[-4:].upper() == \".CSV\"]\n",
    "dav_2004r_files, dav_2008t_files "
   ]
  },
  {
   "cell_type": "code",
   "execution_count": 24,
   "id": "533d8c28",
   "metadata": {},
   "outputs": [],
   "source": [
    "# create directories if they do not exist\n",
    "working_dir = \".\"\n",
    "dav_2004r_dir = os.path.join(working_dir, \"tables\", \"Germany_Annuities_DAV2004R\")\n",
    "dav_2008t_dir = os.path.join(working_dir, \"tables\", \"Germany_Endowments_DAV2008T\")\n",
    "os.makedirs(dav_2004r_dir, exist_ok = True)\n",
    "os.makedirs(dav_2008t_dir, exist_ok = True)\n",
    "\n",
    "# copy the file\n",
    "for f in dav_2004r_files:\n",
    "    shutil.copy(os.path.join(tables_dir, f), os.path.join(dav_2004r_dir, f))\n",
    "\n",
    "# copy the file\n",
    "for f in dav_2008t_files:\n",
    "    shutil.copy(os.path.join(tables_dir, f), os.path.join(dav_2008t_dir, f))"
   ]
  },
  {
   "cell_type": "code",
   "execution_count": 10,
   "id": "d6606c37",
   "metadata": {},
   "outputs": [],
   "source": []
  },
  {
   "cell_type": "code",
   "execution_count": null,
   "id": "a322fcc5",
   "metadata": {},
   "outputs": [],
   "source": []
  }
 ],
 "metadata": {
  "kernelspec": {
   "display_name": "Python 3 (ipykernel)",
   "language": "python",
   "name": "python3"
  },
  "language_info": {
   "codemirror_mode": {
    "name": "ipython",
    "version": 3
   },
   "file_extension": ".py",
   "mimetype": "text/x-python",
   "name": "python",
   "nbconvert_exporter": "python",
   "pygments_lexer": "ipython3",
   "version": "3.9.12"
  }
 },
 "nbformat": 4,
 "nbformat_minor": 5
}

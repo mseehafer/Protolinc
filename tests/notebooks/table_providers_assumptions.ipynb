{
 "cells": [
  {
   "cell_type": "markdown",
   "id": "7d0c52d4",
   "metadata": {},
   "source": [
    "### Trivial Rate Providers"
   ]
  },
  {
   "cell_type": "code",
   "execution_count": 1,
   "id": "c80e572c",
   "metadata": {},
   "outputs": [],
   "source": [
    "import numpy as np\n",
    "from pyprotolinc.assumptions.providers import ConstantRateProvider\n",
    "import pyprotolinc._actuarial as actuarial"
   ]
  },
  {
   "cell_type": "code",
   "execution_count": 2,
   "id": "5e4d0e99",
   "metadata": {},
   "outputs": [],
   "source": [
    "zero_provider = ConstantRateProvider(0.0)\n",
    "flat_provider = ConstantRateProvider(0.05)"
   ]
  },
  {
   "cell_type": "code",
   "execution_count": 3,
   "id": "1cd83a31",
   "metadata": {},
   "outputs": [
    {
     "data": {
      "text/plain": [
       "array([0., 0., 0., 0., 0., 0., 0., 0., 0., 0., 0., 0., 0., 0.])"
      ]
     },
     "execution_count": 3,
     "metadata": {},
     "output_type": "execute_result"
    }
   ],
   "source": [
    "zero_provider.get_rates(length=14)"
   ]
  },
  {
   "cell_type": "code",
   "execution_count": 4,
   "id": "c1370f55",
   "metadata": {},
   "outputs": [
    {
     "data": {
      "text/plain": [
       "array([0.05, 0.05, 0.05, 0.05])"
      ]
     },
     "execution_count": 4,
     "metadata": {},
     "output_type": "execute_result"
    }
   ],
   "source": [
    "flat_provider.get_rates(length=4)"
   ]
  },
  {
   "cell_type": "markdown",
   "id": "a48ccd4f",
   "metadata": {},
   "source": [
    "### Simple Standard RatesProvider"
   ]
  },
  {
   "cell_type": "code",
   "execution_count": 5,
   "id": "d5938df1",
   "metadata": {},
   "outputs": [],
   "source": [
    "vals2D = np.array([\n",
    "        [1, 2, 3],\n",
    "        [4, 5, 6]], dtype=np.float64)\n",
    "\n",
    "offsets = np.zeros(2, dtype=np.int32)\n",
    "offsets[0] = 2\n",
    "    # dimension mismatch should produce an exception\n",
    "\n",
    "providerS = actuarial.StandardRateProvider([actuarial.CRiskFactors.Gender, actuarial.CRiskFactors.Age], vals2D, offsets)"
   ]
  },
  {
   "cell_type": "code",
   "execution_count": 6,
   "id": "10ce56b2",
   "metadata": {},
   "outputs": [
    {
     "data": {
      "text/plain": [
       "True"
      ]
     },
     "execution_count": 6,
     "metadata": {},
     "output_type": "execute_result"
    }
   ],
   "source": [
    "# test new methods\n",
    "providerS.get_shape() == (2, 3)"
   ]
  },
  {
   "cell_type": "code",
   "execution_count": 8,
   "id": "a36aa528",
   "metadata": {},
   "outputs": [
    {
     "data": {
      "text/plain": [
       "True"
      ]
     },
     "execution_count": 8,
     "metadata": {},
     "output_type": "execute_result"
    }
   ],
   "source": [
    "np.array_equal(providerS.get_offsets(), offsets)"
   ]
  },
  {
   "cell_type": "code",
   "execution_count": 9,
   "id": "b5856e25",
   "metadata": {},
   "outputs": [
    {
     "data": {
      "text/plain": [
       "array([[1., 2., 3.],\n",
       "       [4., 5., 6.]])"
      ]
     },
     "execution_count": 9,
     "metadata": {},
     "output_type": "execute_result"
    }
   ],
   "source": [
    "providerS.get_values().reshape(vals2D.shape)"
   ]
  },
  {
   "cell_type": "code",
   "execution_count": 10,
   "id": "af4efda4",
   "metadata": {},
   "outputs": [],
   "source": [
    "import pickle"
   ]
  },
  {
   "cell_type": "code",
   "execution_count": 11,
   "id": "ea2333a4",
   "metadata": {},
   "outputs": [
    {
     "data": {
      "text/plain": [
       "b'\\x80\\x04\\x95e\\x01\\x00\\x00\\x00\\x00\\x00\\x00\\x8c\\x16pyprotolinc._actuarial\\x94\\x8c\\x1crebuild_StandardRateProvider\\x94\\x93\\x94]\\x94(h\\x00\\x8c\\x0cCRiskFactors\\x94\\x93\\x94K\\x01\\x85\\x94R\\x94h\\x05K\\x00\\x85\\x94R\\x94e\\x8c\\x15numpy.core.multiarray\\x94\\x8c\\x0c_reconstruct\\x94\\x93\\x94\\x8c\\x05numpy\\x94\\x8c\\x07ndarray\\x94\\x93\\x94K\\x00\\x85\\x94C\\x01b\\x94\\x87\\x94R\\x94(K\\x01K\\x02K\\x03\\x86\\x94h\\r\\x8c\\x05dtype\\x94\\x93\\x94\\x8c\\x02f8\\x94\\x89\\x88\\x87\\x94R\\x94(K\\x03\\x8c\\x01<\\x94NNNJ\\xff\\xff\\xff\\xffJ\\xff\\xff\\xff\\xffK\\x00t\\x94b\\x89C0\\x00\\x00\\x00\\x00\\x00\\x00\\xf0?\\x00\\x00\\x00\\x00\\x00\\x00\\x00@\\x00\\x00\\x00\\x00\\x00\\x00\\x08@\\x00\\x00\\x00\\x00\\x00\\x00\\x10@\\x00\\x00\\x00\\x00\\x00\\x00\\x14@\\x00\\x00\\x00\\x00\\x00\\x00\\x18@\\x94t\\x94bh\\x0ch\\x0fK\\x00\\x85\\x94h\\x11\\x87\\x94R\\x94(K\\x01K\\x02\\x85\\x94h\\x16\\x8c\\x02i4\\x94\\x89\\x88\\x87\\x94R\\x94(K\\x03h\\x1aNNNJ\\xff\\xff\\xff\\xffJ\\xff\\xff\\xff\\xffK\\x00t\\x94b\\x89C\\x08\\x02\\x00\\x00\\x00\\x00\\x00\\x00\\x00\\x94t\\x94b\\x87\\x94R\\x94.'"
      ]
     },
     "execution_count": 11,
     "metadata": {},
     "output_type": "execute_result"
    }
   ],
   "source": [
    "serialized = pickle.dumps(providerS)\n",
    "serialized"
   ]
  },
  {
   "cell_type": "code",
   "execution_count": 12,
   "id": "c925ea07",
   "metadata": {},
   "outputs": [
    {
     "data": {
      "text/plain": [
       "<CStandardRateProvider with RF (Gender, Age)>"
      ]
     },
     "execution_count": 12,
     "metadata": {},
     "output_type": "execute_result"
    }
   ],
   "source": [
    "providerS2 = pickle.loads(serialized)\n",
    "providerS2"
   ]
  },
  {
   "cell_type": "code",
   "execution_count": 15,
   "id": "dbfa4108",
   "metadata": {},
   "outputs": [
    {
     "data": {
      "text/plain": [
       "True"
      ]
     },
     "execution_count": 15,
     "metadata": {},
     "output_type": "execute_result"
    }
   ],
   "source": [
    "providerS2.get_shape() == providerS.get_shape()"
   ]
  },
  {
   "cell_type": "code",
   "execution_count": 17,
   "id": "2e906a2f",
   "metadata": {},
   "outputs": [
    {
     "data": {
      "text/plain": [
       "True"
      ]
     },
     "execution_count": 17,
     "metadata": {},
     "output_type": "execute_result"
    }
   ],
   "source": [
    "# cmp values\n",
    "np.array_equal(providerS2.get_values().reshape(providerS2.get_shape()), providerS.get_values().reshape(providerS.get_shape()))"
   ]
  },
  {
   "cell_type": "code",
   "execution_count": 20,
   "id": "8b5a7dac",
   "metadata": {},
   "outputs": [
    {
     "data": {
      "text/plain": [
       "b'\\x80\\x04\\x95e\\x01\\x00\\x00\\x00\\x00\\x00\\x00\\x8c\\x16pyprotolinc._actuarial\\x94\\x8c\\x1crebuild_StandardRateProvider\\x94\\x93\\x94]\\x94(h\\x00\\x8c\\x0cCRiskFactors\\x94\\x93\\x94K\\x01\\x85\\x94R\\x94h\\x05K\\x00\\x85\\x94R\\x94e\\x8c\\x15numpy.core.multiarray\\x94\\x8c\\x0c_reconstruct\\x94\\x93\\x94\\x8c\\x05numpy\\x94\\x8c\\x07ndarray\\x94\\x93\\x94K\\x00\\x85\\x94C\\x01b\\x94\\x87\\x94R\\x94(K\\x01K\\x02K\\x03\\x86\\x94h\\r\\x8c\\x05dtype\\x94\\x93\\x94\\x8c\\x02f8\\x94\\x89\\x88\\x87\\x94R\\x94(K\\x03\\x8c\\x01<\\x94NNNJ\\xff\\xff\\xff\\xffJ\\xff\\xff\\xff\\xffK\\x00t\\x94b\\x89C0\\x00\\x00\\x00\\x00\\x00\\x00\\xf0?\\x00\\x00\\x00\\x00\\x00\\x00\\x00@\\x00\\x00\\x00\\x00\\x00\\x00\\x08@\\x00\\x00\\x00\\x00\\x00\\x00\\x10@\\x00\\x00\\x00\\x00\\x00\\x00\\x14@\\x00\\x00\\x00\\x00\\x00\\x00\\x18@\\x94t\\x94bh\\x0ch\\x0fK\\x00\\x85\\x94h\\x11\\x87\\x94R\\x94(K\\x01K\\x02\\x85\\x94h\\x16\\x8c\\x02i4\\x94\\x89\\x88\\x87\\x94R\\x94(K\\x03h\\x1aNNNJ\\xff\\xff\\xff\\xffJ\\xff\\xff\\xff\\xffK\\x00t\\x94b\\x89C\\x08\\x02\\x00\\x00\\x00\\x00\\x00\\x00\\x00\\x94t\\x94b\\x87\\x94R\\x94.'"
      ]
     },
     "execution_count": 20,
     "metadata": {},
     "output_type": "execute_result"
    }
   ],
   "source": [
    "serialized2 = pickle.dumps(providerS2)\n",
    "serialized2"
   ]
  },
  {
   "cell_type": "code",
   "execution_count": 21,
   "id": "ed01fa9e",
   "metadata": {},
   "outputs": [
    {
     "data": {
      "text/plain": [
       "True"
      ]
     },
     "execution_count": 21,
     "metadata": {},
     "output_type": "execute_result"
    }
   ],
   "source": [
    "serialized2 == serialized"
   ]
  },
  {
   "cell_type": "code",
   "execution_count": 22,
   "id": "c4dab7f6",
   "metadata": {},
   "outputs": [],
   "source": [
    "providerC = actuarial.ConstantRateProvider(0.6)"
   ]
  },
  {
   "cell_type": "code",
   "execution_count": null,
   "id": "24433740",
   "metadata": {},
   "outputs": [],
   "source": []
  },
  {
   "cell_type": "markdown",
   "id": "584b60d6",
   "metadata": {},
   "source": [
    "### Rates providers from Tables"
   ]
  },
  {
   "cell_type": "code",
   "execution_count": null,
   "id": "f07e48d0",
   "metadata": {},
   "outputs": [],
   "source": [
    "from pyprotolinc.assumptions.tables import AssumptionsTable1D\n",
    "import pyprotolinc.risk_factors as risk_factors\n"
   ]
  },
  {
   "cell_type": "code",
   "execution_count": null,
   "id": "53b5ee56",
   "metadata": {},
   "outputs": [],
   "source": [
    "simple_mort_table = AssumptionsTable1D(np.arange(120) / 120, risk_factors.Age)"
   ]
  },
  {
   "cell_type": "code",
   "execution_count": null,
   "id": "399001ca",
   "metadata": {},
   "outputs": [],
   "source": [
    "# inspect the values\n",
    "simple_mort_table.values"
   ]
  },
  {
   "cell_type": "code",
   "execution_count": null,
   "id": "5111dbf0",
   "metadata": {},
   "outputs": [],
   "source": [
    "# try out some other shapes\n",
    "test_arr = np.arange(120) / 120\n",
    "AssumptionsTable1D(test_arr.reshape((120, 1)), risk_factors.Age).values"
   ]
  },
  {
   "cell_type": "code",
   "execution_count": null,
   "id": "7f68733e",
   "metadata": {},
   "outputs": [],
   "source": [
    "AssumptionsTable1D(test_arr.reshape((1, 120)), risk_factors.Age).values"
   ]
  },
  {
   "cell_type": "code",
   "execution_count": null,
   "id": "39e183b7",
   "metadata": {},
   "outputs": [],
   "source": [
    "AssumptionsTable1D(test_arr.reshape((120, 1)), risk_factors.Gender).values"
   ]
  },
  {
   "cell_type": "code",
   "execution_count": null,
   "id": "2551c55f",
   "metadata": {},
   "outputs": [],
   "source": [
    "rp = simple_mort_table.rates_provider()\n",
    "rp"
   ]
  },
  {
   "cell_type": "code",
   "execution_count": null,
   "id": "3e2910fa",
   "metadata": {},
   "outputs": [],
   "source": [
    "rp.get_rates(age=np.array([1, 2, 1, 0]))"
   ]
  },
  {
   "cell_type": "markdown",
   "id": "f7b5a457",
   "metadata": {},
   "source": [
    "### 2D Assumptions"
   ]
  },
  {
   "cell_type": "code",
   "execution_count": null,
   "id": "e13efedd",
   "metadata": {},
   "outputs": [],
   "source": [
    "from pyprotolinc.assumptions.tables import AssumptionsTable2D"
   ]
  },
  {
   "cell_type": "code",
   "execution_count": null,
   "id": "9adabe92",
   "metadata": {},
   "outputs": [],
   "source": [
    "asssumptions = np.dot(np.arange(120).reshape((120, 1)) / 120, np.array([[1, 0.8]]))\n",
    "asssumptions"
   ]
  },
  {
   "cell_type": "code",
   "execution_count": null,
   "id": "98a8231c",
   "metadata": {},
   "outputs": [],
   "source": [
    "simple_2d_table = AssumptionsTable2D(asssumptions, risk_factors.Age, risk_factors.Gender)\n",
    "provider2 = simple_2d_table.rates_provider()"
   ]
  },
  {
   "cell_type": "code",
   "execution_count": null,
   "id": "67f2189f",
   "metadata": {},
   "outputs": [],
   "source": [
    "ages = np.array([1, 2, 1])\n",
    "genders = np.array([risk_factors.Gender.M, risk_factors.Gender.F, risk_factors.Gender.F])\n",
    "provider2.get_rates(age=ages, gender=genders)"
   ]
  },
  {
   "cell_type": "code",
   "execution_count": null,
   "id": "645a0ccb",
   "metadata": {},
   "outputs": [],
   "source": []
  }
 ],
 "metadata": {
  "kernelspec": {
   "display_name": "Python 3 (ipykernel)",
   "language": "python",
   "name": "python3"
  },
  "language_info": {
   "codemirror_mode": {
    "name": "ipython",
    "version": 3
   },
   "file_extension": ".py",
   "mimetype": "text/x-python",
   "name": "python",
   "nbconvert_exporter": "python",
   "pygments_lexer": "ipython3",
   "version": "3.9.12"
  }
 },
 "nbformat": 4,
 "nbformat_minor": 5
}

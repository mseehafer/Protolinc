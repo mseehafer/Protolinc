{
 "cells": [
  {
   "cell_type": "markdown",
   "id": "70aaa77a",
   "metadata": {},
   "source": [
    "# Example 3: Mortality Simulation\n",
    "\n",
    "We use this example to demonstrate a few additional features of *pyprotolinc*:\n",
    "\n",
    "  * Use of a custom state model\n",
    "  * Use of a customized product\n",
    "  * (Use of another standard table, still a todo)\n",
    "\n",
    "\n",
    "### A Custom State Model\n",
    "\n",
    "The following model is in fact part of *pyprotolinc* (```pyprotolinc.models.model_mortality.MortalityStates```) but since *pyprotolinc* is meant to be used (also) as a library \n",
    "it supports the integration of user-provided state models. We start by declaring an IntEnum containing the states."
   ]
  },
  {
   "cell_type": "code",
   "execution_count": 1,
   "id": "65a6973a",
   "metadata": {},
   "outputs": [],
   "source": [
    "from enum import IntEnum, unique\n",
    "\n",
    "import numpy as np\n",
    "from pyprotolinc.results import CfNames\n",
    "from pyprotolinc.product import register_product\n",
    "from pyprotolinc.results import ProbabilityVolumeResults\n",
    "from pyprotolinc.models import check_states, register_state_model\n",
    "\n",
    "\n",
    "@unique\n",
    "class MortalityStates2(IntEnum):\n",
    "    ACTIVE = 0      # the \"alive state\"\n",
    "    DEATH = 1       \n",
    "    LAPSED = 2      \n",
    "    MATURED = 3   \n",
    "\n",
    "    @classmethod\n",
    "    def to_std_outputs(cls):\n",
    "        return {\n",
    "            ProbabilityVolumeResults.VOL_ACTIVE: cls.ACTIVE,\n",
    "            ProbabilityVolumeResults.VOL_DEATH: cls.DEATH,\n",
    "            ProbabilityVolumeResults.VOL_LAPSED: cls.LAPSED,\n",
    "            ProbabilityVolumeResults.VOL_MATURED: cls.MATURED,\n",
    "\n",
    "            ProbabilityVolumeResults.MV_ACTIVE_DEATH: (cls.ACTIVE, cls.DEATH),\n",
    "            ProbabilityVolumeResults.MV_ACT_LAPSED: (cls.ACTIVE, cls.LAPSED),\n",
    "            ProbabilityVolumeResults.MV_ACT_MATURED: (cls.ACTIVE, cls.MATURED),\n",
    "        }\n",
    "\n",
    "# check and register the model\n",
    "register_state_model(MortalityStates2)"
   ]
  },
  {
   "cell_type": "markdown",
   "id": "b89f264c",
   "metadata": {},
   "source": [
    "Note that in the last statement above the model is registered with *pyprotolinc*. The class method ```to_std_outputs``` is required to map the states in the current state model to the standard output model. We parametrize which state belongs to which *volume vector* (=summed head count probability) in the standard output format and which state transition corresponds with the volume movements.\n",
    "\n",
    "### Configuration\n",
    "\n",
    "Importing the configuration from the current working directory we see that the above state model is selected there:"
   ]
  },
  {
   "cell_type": "code",
   "execution_count": 2,
   "id": "c81a25ed",
   "metadata": {},
   "outputs": [
    {
     "name": "stdout",
     "output_type": "stream",
     "text": [
      "MortalityStates2\n"
     ]
    }
   ],
   "source": [
    "from pyprotolinc.main import get_config_from_file, project_cashflows\n",
    "run_config = get_config_from_file(config_file='config.yml')\n",
    "print(run_config.state_model_name)"
   ]
  },
  {
   "cell_type": "markdown",
   "id": "da22d543",
   "metadata": {},
   "source": [
    "### Product Definition\n",
    "\n",
    "With these tools at hand we can now come to the product definition. Note that the product references the above state model in a class variable."
   ]
  },
  {
   "cell_type": "code",
   "execution_count": 3,
   "id": "fd593ea2",
   "metadata": {},
   "outputs": [],
   "source": [
    "from pyprotolinc.product import calc_term_end_indicator, calc_term_start_indicator, calc_terminal_months, calc_maturity_transition_indicator\n",
    "\n",
    "class Product_MortalityTerm2:\n",
    "    \"\"\" Simple product that pays out on death.\"\"\"\n",
    "\n",
    "    STATES_MODEL = MortalityStates2\n",
    "\n",
    "    def __init__(self, portfolio):\n",
    "        self.portfolio = portfolio\n",
    "        self.length = len(self.portfolio)\n",
    "\n",
    "        # monthly sum insured (=annuity per year) as an (n, 1)-array\n",
    "        self.sum_insured_per_month = self.portfolio.sum_insured[:, None] / 12.0\n",
    "\n",
    "        self.year_last_month, self.last_month = calc_terminal_months(self.portfolio.df_portfolio)\n",
    "\n",
    "    def get_bom_payments(self, time_axis):\n",
    "        \"\"\" Return the 'conditional payments', i.e. those payments that are due if an\n",
    "            insured is in the corresponding state at the given time. \"\"\"\n",
    "\n",
    "        multiplier_term_end = calc_term_end_indicator(time_axis,\n",
    "                                                      self.year_last_month,\n",
    "                                                      self.last_month)\n",
    "        multiplier_term_start = calc_term_start_indicator(time_axis,\n",
    "                                                          self.portfolio.policy_inception_yr,\n",
    "                                                          self.portfolio.policy_inception_month\n",
    "                                                          )\n",
    "        multiplier_term = multiplier_term_end * multiplier_term_start\n",
    "\n",
    "        return {\n",
    "            self.STATES_MODEL.ACTIVE: [\n",
    "                (CfNames.PREMIUM,\n",
    "                 0.0005 * multiplier_term * self.sum_insured_per_month * 12.0\n",
    "                 )\n",
    "            ]\n",
    "        }\n",
    "\n",
    "    def get_state_transition_payments(self, time_axis):\n",
    "        # a flat mortality benefit in this product\n",
    "\n",
    "        multiplier_term_end = calc_term_end_indicator(time_axis,\n",
    "                                                      self.year_last_month,\n",
    "                                                      self.last_month)\n",
    "        multiplier_term_start = calc_term_start_indicator(time_axis,\n",
    "                                                          self.portfolio.policy_inception_yr,\n",
    "                                                          self.portfolio.policy_inception_month\n",
    "                                                          )\n",
    "        multiplier_term = multiplier_term_end * multiplier_term_start\n",
    "        return {\n",
    "            (self.STATES_MODEL.ACTIVE, self.STATES_MODEL.DEATH): [\n",
    "                (CfNames.DEATH_PAYMENT,\n",
    "                 -multiplier_term * self.sum_insured_per_month * 12.0\n",
    "                 )\n",
    "             ]\n",
    "        }\n",
    "\n",
    "    def contractual_state_transitions(self, time_axis):\n",
    "        \"\"\" This method returns a datastructure which encodes\n",
    "            when and for which records contractual state transitions\n",
    "            are due.\n",
    "\n",
    "            Returns: Iterable consisting of three-tuples where\n",
    "              - first member = from-state\n",
    "              - sencond member = to-state\n",
    "              - third member is a binary matrix of the structure \"insured x time\"\n",
    "                where a \"1\" represents a contractual move.    \n",
    "        \"\"\"\n",
    "        # for the mortality term product there is only the transition\n",
    "        # ACTIVE -> MATURED\n",
    "        return [\n",
    "            (self.STATES_MODEL.ACTIVE,\n",
    "             self.STATES_MODEL.MATURED,\n",
    "             calc_maturity_transition_indicator(time_axis, self.year_last_month, self.last_month)\n",
    "             )\n",
    "        ]\n",
    "\n",
    "register_product(\"TERM2\", Product_MortalityTerm2)"
   ]
  },
  {
   "cell_type": "markdown",
   "id": "a1cd7c96",
   "metadata": {},
   "source": [
    "In the final statement we register the product under the name \"TERM2\". For a more in depth understanding of the structure of the product please refer to the concepts section of the documentation. In short, each product definition must provide methods\n",
    "for:\n",
    "\n",
    "  * *payments due at the beginning of a months* when in a certain state (```get_bom_payments```)\n",
    "  * *payments due at the end of the months* when a certain state transitons occurs (```get_state_transition_payments```)\n",
    "  * *state transitions* that do not originate from biometric the projection assumptions (```contractual_state_transitions```)\n",
    "  "
   ]
  },
  {
   "cell_type": "markdown",
   "id": "b75f224d",
   "metadata": {},
   "source": [
    "The following example demonstrates the principle."
   ]
  },
  {
   "cell_type": "code",
   "execution_count": 4,
   "id": "770e6a40",
   "metadata": {},
   "outputs": [
    {
     "name": "stderr",
     "output_type": "stream",
     "text": [
      "INFO - 2022-07-03 22:01:06,883 - pyprotolinc.portfolio - Reading portfolio data from file portfolio/portfolio_small.xlsx.\n"
     ]
    },
    {
     "data": {
      "text/html": [
       "<div>\n",
       "<style scoped>\n",
       "    .dataframe tbody tr th:only-of-type {\n",
       "        vertical-align: middle;\n",
       "    }\n",
       "\n",
       "    .dataframe tbody tr th {\n",
       "        vertical-align: top;\n",
       "    }\n",
       "\n",
       "    .dataframe thead th {\n",
       "        text-align: right;\n",
       "    }\n",
       "</style>\n",
       "<table border=\"1\" class=\"dataframe\">\n",
       "  <thead>\n",
       "    <tr style=\"text-align: right;\">\n",
       "      <th></th>\n",
       "      <th>DATE_PORTFOLIO</th>\n",
       "      <th>ID</th>\n",
       "      <th>DATE_OF_BIRTH</th>\n",
       "      <th>DATE_START_OF_COVER</th>\n",
       "      <th>SUM_INSURED</th>\n",
       "      <th>CURRENT_STATUS</th>\n",
       "      <th>SEX</th>\n",
       "      <th>PRODUCT</th>\n",
       "      <th>PRODUCT_PARAMETERS</th>\n",
       "      <th>SMOKERSTATUS</th>\n",
       "      <th>RESERVING_RATE</th>\n",
       "    </tr>\n",
       "  </thead>\n",
       "  <tbody>\n",
       "    <tr>\n",
       "      <th>0</th>\n",
       "      <td>2021-12-31</td>\n",
       "      <td>1</td>\n",
       "      <td>1976-04-23</td>\n",
       "      <td>2022-01-01</td>\n",
       "      <td>120000</td>\n",
       "      <td>ACTIVE</td>\n",
       "      <td>m</td>\n",
       "      <td>TERM2</td>\n",
       "      <td>10</td>\n",
       "      <td>S</td>\n",
       "      <td>0.04</td>\n",
       "    </tr>\n",
       "    <tr>\n",
       "      <th>1</th>\n",
       "      <td>2021-12-31</td>\n",
       "      <td>2</td>\n",
       "      <td>1962-09-01</td>\n",
       "      <td>2015-10-01</td>\n",
       "      <td>100000</td>\n",
       "      <td>ACTIVE</td>\n",
       "      <td>m</td>\n",
       "      <td>TERM2</td>\n",
       "      <td>10</td>\n",
       "      <td>N</td>\n",
       "      <td>0.03</td>\n",
       "    </tr>\n",
       "  </tbody>\n",
       "</table>\n",
       "</div>"
      ],
      "text/plain": [
       "  DATE_PORTFOLIO  ID DATE_OF_BIRTH DATE_START_OF_COVER  SUM_INSURED  \\\n",
       "0     2021-12-31   1    1976-04-23          2022-01-01       120000   \n",
       "1     2021-12-31   2    1962-09-01          2015-10-01       100000   \n",
       "\n",
       "  CURRENT_STATUS SEX PRODUCT  PRODUCT_PARAMETERS SMOKERSTATUS  RESERVING_RATE  \n",
       "0         ACTIVE   m   TERM2                  10            S            0.04  \n",
       "1         ACTIVE   m   TERM2                  10            N            0.03  "
      ]
     },
     "execution_count": 4,
     "metadata": {},
     "output_type": "execute_result"
    }
   ],
   "source": [
    "# load a portfolio\n",
    "from pyprotolinc.portfolio import Portfolio\n",
    "portfolio = Portfolio(\"portfolio/portfolio_small.xlsx\", states_model=MortalityStates2)\n",
    "portfolio.df_portfolio"
   ]
  },
  {
   "cell_type": "markdown",
   "id": "2f22dc47",
   "metadata": {},
   "source": [
    "The portfolio shows two insureds in state active at 2021-12-31 both having the *PRODUCT*\n",
    "set as \"TERM2\" and the *PRODUCT_PARAMETERS* set as 10. The latter parameter is meant to indicate the duration of the policy in years.\n",
    "\n",
    "To test the product definition we still need a time-axis object. We create one with in total 150 months for this test."
   ]
  },
  {
   "cell_type": "code",
   "execution_count": 5,
   "id": "378256fa",
   "metadata": {},
   "outputs": [],
   "source": [
    "from pyprotolinc.runner import TimeAxis\n",
    "time_axis = TimeAxis(portfolio.portfolio_date, 150)"
   ]
  },
  {
   "cell_type": "markdown",
   "id": "b46788a7",
   "metadata": {},
   "source": [
    "Now we can test the product."
   ]
  },
  {
   "cell_type": "code",
   "execution_count": 6,
   "id": "1e4bebb7",
   "metadata": {},
   "outputs": [
    {
     "data": {
      "text/plain": [
       "(<CfNames.PREMIUM: 0>,\n",
       " array([[ 0., 60., 60., 60., 60., 60., 60., 60., 60., 60., 60., 60., 60.,\n",
       "         60., 60., 60., 60., 60., 60., 60., 60., 60., 60., 60., 60., 60.,\n",
       "         60., 60., 60., 60., 60., 60., 60., 60., 60., 60., 60., 60., 60.,\n",
       "         60., 60., 60., 60., 60., 60., 60., 60., 60., 60., 60., 60., 60.,\n",
       "         60., 60., 60., 60., 60., 60., 60., 60., 60., 60., 60., 60., 60.,\n",
       "         60., 60., 60., 60., 60., 60., 60., 60., 60., 60., 60., 60., 60.,\n",
       "         60., 60., 60., 60., 60., 60., 60., 60., 60., 60., 60., 60., 60.,\n",
       "         60., 60., 60., 60., 60., 60., 60., 60., 60., 60., 60., 60., 60.,\n",
       "         60., 60., 60., 60., 60., 60., 60., 60., 60., 60., 60., 60., 60.,\n",
       "         60., 60., 60., 60.,  0.,  0.,  0.,  0.,  0.,  0.,  0.,  0.,  0.,\n",
       "          0.,  0.,  0.,  0.,  0.,  0.,  0.,  0.,  0.,  0.,  0.,  0.,  0.,\n",
       "          0.,  0.,  0.,  0.,  0.,  0.,  0.,  0.],\n",
       "        [50., 50., 50., 50., 50., 50., 50., 50., 50., 50., 50., 50., 50.,\n",
       "         50., 50., 50., 50., 50., 50., 50., 50., 50., 50., 50., 50., 50.,\n",
       "         50., 50., 50., 50., 50., 50., 50., 50., 50., 50., 50., 50., 50.,\n",
       "         50., 50., 50., 50., 50., 50., 50.,  0.,  0.,  0.,  0.,  0.,  0.,\n",
       "          0.,  0.,  0.,  0.,  0.,  0.,  0.,  0.,  0.,  0.,  0.,  0.,  0.,\n",
       "          0.,  0.,  0.,  0.,  0.,  0.,  0.,  0.,  0.,  0.,  0.,  0.,  0.,\n",
       "          0.,  0.,  0.,  0.,  0.,  0.,  0.,  0.,  0.,  0.,  0.,  0.,  0.,\n",
       "          0.,  0.,  0.,  0.,  0.,  0.,  0.,  0.,  0.,  0.,  0.,  0.,  0.,\n",
       "          0.,  0.,  0.,  0.,  0.,  0.,  0.,  0.,  0.,  0.,  0.,  0.,  0.,\n",
       "          0.,  0.,  0.,  0.,  0.,  0.,  0.,  0.,  0.,  0.,  0.,  0.,  0.,\n",
       "          0.,  0.,  0.,  0.,  0.,  0.,  0.,  0.,  0.,  0.,  0.,  0.,  0.,\n",
       "          0.,  0.,  0.,  0.,  0.,  0.,  0.,  0.]]))"
      ]
     },
     "execution_count": 6,
     "metadata": {},
     "output_type": "execute_result"
    }
   ],
   "source": [
    "prod = Product_MortalityTerm2(portfolio)\n",
    "bom_pay = prod.get_bom_payments(time_axis)\n",
    "\n",
    "# this outputs the premium vectors (index 0 is the first and only\n",
    "# payment type parametrized when in in active state above)\n",
    "bom_pay[prod.STATES_MODEL.ACTIVE][0]"
   ]
  },
  {
   "cell_type": "markdown",
   "id": "6aaea873",
   "metadata": {},
   "source": [
    "We see that there are 120 times \"60\" for the first insured and 46 times \"50\" for the second. Since the TimeAxis starts in December 2021 this mean that for insured #1 there are up to 120 payments (each month for ten years) to be made in the future and 45 for insured #2. This is explained as follows when looking at the portfolio:"
   ]
  },
  {
   "cell_type": "code",
   "execution_count": 7,
   "id": "0ee31b97",
   "metadata": {},
   "outputs": [
    {
     "data": {
      "text/html": [
       "<div>\n",
       "<style scoped>\n",
       "    .dataframe tbody tr th:only-of-type {\n",
       "        vertical-align: middle;\n",
       "    }\n",
       "\n",
       "    .dataframe tbody tr th {\n",
       "        vertical-align: top;\n",
       "    }\n",
       "\n",
       "    .dataframe thead th {\n",
       "        text-align: right;\n",
       "    }\n",
       "</style>\n",
       "<table border=\"1\" class=\"dataframe\">\n",
       "  <thead>\n",
       "    <tr style=\"text-align: right;\">\n",
       "      <th></th>\n",
       "      <th>DATE_PORTFOLIO</th>\n",
       "      <th>DATE_START_OF_COVER</th>\n",
       "      <th>PRODUCT_PARAMETERS</th>\n",
       "    </tr>\n",
       "  </thead>\n",
       "  <tbody>\n",
       "    <tr>\n",
       "      <th>0</th>\n",
       "      <td>2021-12-31</td>\n",
       "      <td>2022-01-01</td>\n",
       "      <td>10</td>\n",
       "    </tr>\n",
       "    <tr>\n",
       "      <th>1</th>\n",
       "      <td>2021-12-31</td>\n",
       "      <td>2015-10-01</td>\n",
       "      <td>10</td>\n",
       "    </tr>\n",
       "  </tbody>\n",
       "</table>\n",
       "</div>"
      ],
      "text/plain": [
       "  DATE_PORTFOLIO DATE_START_OF_COVER  PRODUCT_PARAMETERS\n",
       "0     2021-12-31          2022-01-01                  10\n",
       "1     2021-12-31          2015-10-01                  10"
      ]
     },
     "execution_count": 7,
     "metadata": {},
     "output_type": "execute_result"
    }
   ],
   "source": [
    "portfolio.df_portfolio[[\"DATE_PORTFOLIO\", \"DATE_START_OF_COVER\", \"PRODUCT_PARAMETERS\"]]"
   ]
  },
  {
   "cell_type": "markdown",
   "id": "464fb147",
   "metadata": {},
   "source": [
    "For insured #1 (row 0) the case is clear: The cover starts only on January 1st and the full 10 years of the term are in the future, hence there must be 120 payments (conditional on being active). For the insured in the second row the cover started in October 2015. That mean that at the end of December 2021 the policy exists for already three months and six years, i.e. for 75 months. Hence there remain 120 - 75 = 45 months."
   ]
  },
  {
   "cell_type": "markdown",
   "id": "df872006",
   "metadata": {},
   "source": [
    "### Assumptions\n",
    "\n",
    "Let's have a look at the assumptions next."
   ]
  },
  {
   "cell_type": "code",
   "execution_count": 8,
   "id": "ae01456a",
   "metadata": {},
   "outputs": [
    {
     "name": "stdout",
     "output_type": "stream",
     "text": [
      "\n",
      "assumptions_spec:\n",
      "\n",
      "  be:\n",
      "    # active -> death\n",
      "    - [0, 1, [\"Scalar\", 0.0015]]\n",
      "\n",
      "    # active -> lapse\n",
      "    - [0, 2, [\"Scalar\", 0.05]]\n",
      "\n",
      "  res:\n",
      "    # active -> death\n",
      "    - [0, 1, [\"Scalar\", 0.0015]]\n",
      "\n",
      "    # active -> lapse\n",
      "    - [0, 2, [\"Scalar\", 0.0]]\n",
      "\n"
     ]
    }
   ],
   "source": [
    "with open('mortality_assumptions_simple.yml', 'r') as f:\n",
    "    print(f.read())"
   ]
  },
  {
   "cell_type": "markdown",
   "id": "d78667a3",
   "metadata": {},
   "source": [
    "The state transition (0, 1) is the death while (0, 2) corresponds with lapse. We use simple assumptions for now.\n",
    "To work with the DAV2008T table we need to download it first by running ```pyprotolinc download_dav_tables``` on the command shell."
   ]
  },
  {
   "cell_type": "markdown",
   "id": "7ab785ac",
   "metadata": {},
   "source": [
    "### Run\n",
    "\n",
    "Now we run our custom state model and term:"
   ]
  },
  {
   "cell_type": "code",
   "execution_count": 9,
   "id": "d8b835bf",
   "metadata": {},
   "outputs": [
    {
     "name": "stderr",
     "output_type": "stream",
     "text": [
      "INFO - 2022-07-03 22:01:07,375 - pyprotolinc.main - Multistate run with config: {'model_name': 'GenericMultiState', 'years_to_simulate': 121, 'portfolio_path': 'portfolio/portfolio_small.xlsx', 'assumptions_path': 'mortality_assumptions_simple.yml', 'steps_per_month': 1, 'state_model_name': 'MortalityStates2', 'timestep_duration': 0.08333333333333333, 'outfile': 'results/ncf_out_generic.csv', 'portfolio_cache': 'portfolio/portfolio_cache', 'profile_out_dir': '.', 'portfolio_chunk_size': 1024, 'use_multicore': False}\n",
      "DEBUG - 2022-07-03 22:01:07,382 - pyprotolinc.portfolio - Porfolio file not found in cache.\n",
      "INFO - 2022-07-03 22:01:07,383 - pyprotolinc.portfolio - Reading portfolio data from file C:\\Users\\marti\\programming\\PyProtolinc\\examples\\03_mortality\\portfolio\\portfolio_small.xlsx.\n",
      "INFO - 2022-07-03 22:01:07,407 - pyprotolinc.portfolio - Created directory for portfolio cache C:\\Users\\marti\\programming\\PyProtolinc\\examples\\03_mortality\\portfolio\\portfolio_cache\n",
      "INFO - 2022-07-03 22:01:07,410 - pyprotolinc.portfolio - Porfolio saved in cache\n",
      "INFO - 2022-07-03 22:01:07,410 - pyprotolinc.portfolio - Portolio rows: 2\n",
      "DEBUG - 2022-07-03 22:01:07,414 - pyprotolinc.portfolio - Splitting portfolio for product TERM2.\n",
      "DEBUG - 2022-07-03 22:01:07,424 - pyprotolinc.portfolio - Initializing portfolio from dataframe\n",
      "DEBUG - 2022-07-03 22:01:07,432 - pyprotolinc.portfolio - Initializing portfolio from dataframe\n",
      "INFO - 2022-07-03 22:01:07,438 - pyprotolinc.main - Executions in single process for 2 units\n",
      "INFO - 2022-07-03 22:01:07,438 - pyprotolinc.main - Projecting subportfolio 1 / 2\n",
      "DEBUG - 2022-07-03 22:01:07,438 - pyprotolinc.runner - Creating a <Projector> object for chunk 1 of 2\n",
      "DEBUG - 2022-07-03 22:01:07,438 - pyprotolinc.runner - Starting the simulation for chunk 1 of 2\n",
      "INFO - 2022-07-03 22:01:07,465 - root - Runner for chunk 1: Early termination in 10/2026\n",
      "DEBUG - 2022-07-03 22:01:07,469 - pyprotolinc.runner - Starting backwards loop to calculate the reserves for chunk 1 of 2\n",
      "INFO - 2022-07-03 22:01:07,511 - pyprotolinc.main - Projecting subportfolio 2 / 2\n",
      "DEBUG - 2022-07-03 22:01:07,511 - pyprotolinc.runner - Creating a <Projector> object for chunk 2 of 2\n",
      "DEBUG - 2022-07-03 22:01:07,520 - pyprotolinc.runner - Starting the simulation for chunk 2 of 2\n",
      "INFO - 2022-07-03 22:01:07,548 - root - Runner for chunk 2: Early termination in 1/2033\n",
      "DEBUG - 2022-07-03 22:01:07,552 - pyprotolinc.runner - Starting backwards loop to calculate the reserves for chunk 2 of 2\n",
      "DEBUG - 2022-07-03 22:01:07,597 - pyprotolinc.main - Combining results from subportfolios\n",
      "INFO - 2022-07-03 22:01:07,597 - pyprotolinc.results - Exporting NCF to results/ncf_out_generic.csv\n",
      "INFO - 2022-07-03 22:01:07,641 - pyprotolinc.main - Elapsed time 0.3 seconds.\n"
     ]
    }
   ],
   "source": [
    "project_cashflows(run_config);"
   ]
  },
  {
   "cell_type": "markdown",
   "id": "8915ea40",
   "metadata": {},
   "source": [
    "Let's inspect the result."
   ]
  },
  {
   "cell_type": "code",
   "execution_count": 10,
   "id": "8b0b7126",
   "metadata": {},
   "outputs": [
    {
     "data": {
      "text/html": [
       "<div>\n",
       "<style scoped>\n",
       "    .dataframe tbody tr th:only-of-type {\n",
       "        vertical-align: middle;\n",
       "    }\n",
       "\n",
       "    .dataframe tbody tr th {\n",
       "        vertical-align: top;\n",
       "    }\n",
       "\n",
       "    .dataframe thead th {\n",
       "        text-align: right;\n",
       "    }\n",
       "</style>\n",
       "<table border=\"1\" class=\"dataframe\">\n",
       "  <thead>\n",
       "    <tr style=\"text-align: right;\">\n",
       "      <th></th>\n",
       "      <th>YEAR</th>\n",
       "      <th>QUARTER</th>\n",
       "      <th>MONTH</th>\n",
       "      <th>PREMIUM</th>\n",
       "      <th>ANNUITY_PAYMENT1</th>\n",
       "      <th>ANNUITY_PAYMENT2</th>\n",
       "      <th>DEATH_PAYMENT</th>\n",
       "      <th>DI_LUMPSUM_PAYMENT</th>\n",
       "      <th>RESERVE_BOM(ACTIVE)</th>\n",
       "      <th>RESERVE_BOM(DEATH)</th>\n",
       "      <th>...</th>\n",
       "      <th>MV_ACTIVE_DIS1</th>\n",
       "      <th>MV_ACT_DIS2</th>\n",
       "      <th>MV_ACT_LAPSED</th>\n",
       "      <th>MV_ACT_MATURED</th>\n",
       "      <th>MV_DIS1_DEATH</th>\n",
       "      <th>MV_DIS1_DIS2</th>\n",
       "      <th>MV_DIS1_ACT</th>\n",
       "      <th>MV_DIS2_DEATH</th>\n",
       "      <th>MV_DIS2_DIS1</th>\n",
       "      <th>MV_DIS2_ACT</th>\n",
       "    </tr>\n",
       "  </thead>\n",
       "  <tbody>\n",
       "    <tr>\n",
       "      <th>0</th>\n",
       "      <td>2021</td>\n",
       "      <td>4</td>\n",
       "      <td>12</td>\n",
       "      <td>0.000000</td>\n",
       "      <td>0.0</td>\n",
       "      <td>0.0</td>\n",
       "      <td>0.000000</td>\n",
       "      <td>0.0</td>\n",
       "      <td>0.000000</td>\n",
       "      <td>0.0</td>\n",
       "      <td>...</td>\n",
       "      <td>0.0</td>\n",
       "      <td>0.0</td>\n",
       "      <td>0.000000</td>\n",
       "      <td>0.0</td>\n",
       "      <td>0.0</td>\n",
       "      <td>0.0</td>\n",
       "      <td>0.0</td>\n",
       "      <td>0.0</td>\n",
       "      <td>0.0</td>\n",
       "      <td>0.0</td>\n",
       "    </tr>\n",
       "    <tr>\n",
       "      <th>1</th>\n",
       "      <td>2022</td>\n",
       "      <td>1</td>\n",
       "      <td>1</td>\n",
       "      <td>110.000000</td>\n",
       "      <td>0.0</td>\n",
       "      <td>0.0</td>\n",
       "      <td>-27.500000</td>\n",
       "      <td>0.0</td>\n",
       "      <td>-6044.408230</td>\n",
       "      <td>0.0</td>\n",
       "      <td>...</td>\n",
       "      <td>0.0</td>\n",
       "      <td>0.0</td>\n",
       "      <td>0.008333</td>\n",
       "      <td>0.0</td>\n",
       "      <td>0.0</td>\n",
       "      <td>0.0</td>\n",
       "      <td>0.0</td>\n",
       "      <td>0.0</td>\n",
       "      <td>0.0</td>\n",
       "      <td>0.0</td>\n",
       "    </tr>\n",
       "    <tr>\n",
       "      <th>2</th>\n",
       "      <td>2022</td>\n",
       "      <td>1</td>\n",
       "      <td>2</td>\n",
       "      <td>109.527917</td>\n",
       "      <td>0.0</td>\n",
       "      <td>0.0</td>\n",
       "      <td>-27.381979</td>\n",
       "      <td>0.0</td>\n",
       "      <td>-5955.167198</td>\n",
       "      <td>0.0</td>\n",
       "      <td>...</td>\n",
       "      <td>0.0</td>\n",
       "      <td>0.0</td>\n",
       "      <td>0.008298</td>\n",
       "      <td>0.0</td>\n",
       "      <td>0.0</td>\n",
       "      <td>0.0</td>\n",
       "      <td>0.0</td>\n",
       "      <td>0.0</td>\n",
       "      <td>0.0</td>\n",
       "      <td>0.0</td>\n",
       "    </tr>\n",
       "    <tr>\n",
       "      <th>3</th>\n",
       "      <td>2022</td>\n",
       "      <td>1</td>\n",
       "      <td>3</td>\n",
       "      <td>109.057859</td>\n",
       "      <td>0.0</td>\n",
       "      <td>0.0</td>\n",
       "      <td>-27.264465</td>\n",
       "      <td>0.0</td>\n",
       "      <td>-5866.393392</td>\n",
       "      <td>0.0</td>\n",
       "      <td>...</td>\n",
       "      <td>0.0</td>\n",
       "      <td>0.0</td>\n",
       "      <td>0.008262</td>\n",
       "      <td>0.0</td>\n",
       "      <td>0.0</td>\n",
       "      <td>0.0</td>\n",
       "      <td>0.0</td>\n",
       "      <td>0.0</td>\n",
       "      <td>0.0</td>\n",
       "      <td>0.0</td>\n",
       "    </tr>\n",
       "    <tr>\n",
       "      <th>4</th>\n",
       "      <td>2022</td>\n",
       "      <td>2</td>\n",
       "      <td>4</td>\n",
       "      <td>108.589819</td>\n",
       "      <td>0.0</td>\n",
       "      <td>0.0</td>\n",
       "      <td>-27.147455</td>\n",
       "      <td>0.0</td>\n",
       "      <td>-5778.084686</td>\n",
       "      <td>0.0</td>\n",
       "      <td>...</td>\n",
       "      <td>0.0</td>\n",
       "      <td>0.0</td>\n",
       "      <td>0.008227</td>\n",
       "      <td>0.0</td>\n",
       "      <td>0.0</td>\n",
       "      <td>0.0</td>\n",
       "      <td>0.0</td>\n",
       "      <td>0.0</td>\n",
       "      <td>0.0</td>\n",
       "      <td>0.0</td>\n",
       "    </tr>\n",
       "  </tbody>\n",
       "</table>\n",
       "<p>5 rows × 29 columns</p>\n",
       "</div>"
      ],
      "text/plain": [
       "   YEAR  QUARTER  MONTH     PREMIUM  ANNUITY_PAYMENT1  ANNUITY_PAYMENT2  \\\n",
       "0  2021        4     12    0.000000               0.0               0.0   \n",
       "1  2022        1      1  110.000000               0.0               0.0   \n",
       "2  2022        1      2  109.527917               0.0               0.0   \n",
       "3  2022        1      3  109.057859               0.0               0.0   \n",
       "4  2022        2      4  108.589819               0.0               0.0   \n",
       "\n",
       "   DEATH_PAYMENT  DI_LUMPSUM_PAYMENT  RESERVE_BOM(ACTIVE)  RESERVE_BOM(DEATH)  \\\n",
       "0       0.000000                 0.0             0.000000                 0.0   \n",
       "1     -27.500000                 0.0         -6044.408230                 0.0   \n",
       "2     -27.381979                 0.0         -5955.167198                 0.0   \n",
       "3     -27.264465                 0.0         -5866.393392                 0.0   \n",
       "4     -27.147455                 0.0         -5778.084686                 0.0   \n",
       "\n",
       "   ...  MV_ACTIVE_DIS1  MV_ACT_DIS2  MV_ACT_LAPSED  MV_ACT_MATURED  \\\n",
       "0  ...             0.0          0.0       0.000000             0.0   \n",
       "1  ...             0.0          0.0       0.008333             0.0   \n",
       "2  ...             0.0          0.0       0.008298             0.0   \n",
       "3  ...             0.0          0.0       0.008262             0.0   \n",
       "4  ...             0.0          0.0       0.008227             0.0   \n",
       "\n",
       "   MV_DIS1_DEATH  MV_DIS1_DIS2  MV_DIS1_ACT  MV_DIS2_DEATH  MV_DIS2_DIS1  \\\n",
       "0            0.0           0.0          0.0            0.0           0.0   \n",
       "1            0.0           0.0          0.0            0.0           0.0   \n",
       "2            0.0           0.0          0.0            0.0           0.0   \n",
       "3            0.0           0.0          0.0            0.0           0.0   \n",
       "4            0.0           0.0          0.0            0.0           0.0   \n",
       "\n",
       "   MV_DIS2_ACT  \n",
       "0          0.0  \n",
       "1          0.0  \n",
       "2          0.0  \n",
       "3          0.0  \n",
       "4          0.0  \n",
       "\n",
       "[5 rows x 29 columns]"
      ]
     },
     "execution_count": 10,
     "metadata": {},
     "output_type": "execute_result"
    }
   ],
   "source": [
    "import pandas as pd\n",
    "pd.read_csv(\"results/ncf_out_generic.csv\", index_col=0).head()"
   ]
  },
  {
   "cell_type": "markdown",
   "id": "8fd667ad",
   "metadata": {},
   "source": [
    "The premium of 110 can be explained as follows: It is obtained as 0.005 * 220000. The factor 0.0005 is introduced in the function ```get_bom_payments``` and 220000 is the *sum insured* of the full portfolio, i.e. both policies together.\n",
    "\n",
    "Note that the reserves are negative indicating the high profitability."
   ]
  },
  {
   "cell_type": "markdown",
   "id": "ca8e8bbf",
   "metadata": {},
   "source": [
    "### Re-Run with DAV2008T\n",
    "\n",
    "In order to rerun with other assumptions we can simple swap out the ```assumptions_path``` attribute of\n",
    "the ```run_config``` object:"
   ]
  },
  {
   "cell_type": "code",
   "execution_count": 11,
   "id": "ebc5a004",
   "metadata": {},
   "outputs": [],
   "source": [
    "run_config.assumptions_path = 'mortality_assumptions_simple_dav2008t.yml'"
   ]
  },
  {
   "cell_type": "markdown",
   "id": "74646429",
   "metadata": {},
   "source": [
    "The corresponding file looks as follows:"
   ]
  },
  {
   "cell_type": "code",
   "execution_count": 12,
   "id": "cf0d8d42",
   "metadata": {},
   "outputs": [
    {
     "name": "stdout",
     "output_type": "stream",
     "text": [
      "\n",
      "assumptions_spec:\n",
      "\n",
      "  be:\n",
      "    # active -> death\n",
      "    - [0, 1, [\"DAV2008T\", \"estimate_type:BE\",\n",
      "              \"base_directory:tables/Germany_Endowments_DAV2008T\"]]\n",
      "\n",
      "    # active -> lapse\n",
      "    - [0, 2, [\"Scalar\", 0.05]]\n",
      "\n",
      "  res:\n",
      "    # active -> death\n",
      "    - [0, 1, [\"DAV2008T\", \"estimate_type:LOADED\",\n",
      "              \"base_directory:tables/Germany_Endowments_DAV2008T\"]]\n",
      "\n",
      "    # active -> lapse\n",
      "    - [0, 2, [\"Scalar\", 0.0]]\n",
      "\n"
     ]
    }
   ],
   "source": [
    "with open(run_config.assumptions_path, 'r') as f:\n",
    "    print(f.read())"
   ]
  },
  {
   "cell_type": "markdown",
   "id": "17e1772b",
   "metadata": {},
   "source": [
    "As one can see we have parametrized the mortality assumption by the DAV2008T tables and we are assuming no\n",
    "lapse for the reserve calculations."
   ]
  },
  {
   "cell_type": "code",
   "execution_count": 13,
   "id": "e806ed27",
   "metadata": {},
   "outputs": [
    {
     "name": "stderr",
     "output_type": "stream",
     "text": [
      "INFO - 2022-07-03 22:01:07,784 - pyprotolinc.main - Multistate run with config: {'model_name': 'GenericMultiState', 'years_to_simulate': 121, 'portfolio_path': 'portfolio/portfolio_small.xlsx', 'assumptions_path': 'mortality_assumptions_simple_dav2008t.yml', 'steps_per_month': 1, 'state_model_name': 'MortalityStates2', 'timestep_duration': 0.08333333333333333, 'outfile': 'results/ncf_out_generic.csv', 'portfolio_cache': 'portfolio/portfolio_cache', 'profile_out_dir': '.', 'portfolio_chunk_size': 1024, 'use_multicore': False}\n",
      "INFO - 2022-07-03 22:01:07,832 - pyprotolinc.portfolio - Porfolio loaded from cache\n",
      "INFO - 2022-07-03 22:01:07,832 - pyprotolinc.portfolio - Portolio rows: 2\n",
      "DEBUG - 2022-07-03 22:01:07,832 - pyprotolinc.portfolio - Splitting portfolio for product TERM2.\n",
      "DEBUG - 2022-07-03 22:01:07,832 - pyprotolinc.portfolio - Initializing portfolio from dataframe\n",
      "DEBUG - 2022-07-03 22:01:07,845 - pyprotolinc.portfolio - Initializing portfolio from dataframe\n",
      "INFO - 2022-07-03 22:01:07,849 - pyprotolinc.main - Executions in single process for 2 units\n",
      "INFO - 2022-07-03 22:01:07,849 - pyprotolinc.main - Projecting subportfolio 1 / 2\n",
      "DEBUG - 2022-07-03 22:01:07,849 - pyprotolinc.runner - Creating a <Projector> object for chunk 1 of 2\n",
      "DEBUG - 2022-07-03 22:01:07,849 - pyprotolinc.runner - Starting the simulation for chunk 1 of 2\n",
      "INFO - 2022-07-03 22:01:07,881 - root - Runner for chunk 1: Early termination in 10/2026\n",
      "DEBUG - 2022-07-03 22:01:07,881 - pyprotolinc.runner - Starting backwards loop to calculate the reserves for chunk 1 of 2\n",
      "INFO - 2022-07-03 22:01:07,912 - pyprotolinc.main - Projecting subportfolio 2 / 2\n",
      "DEBUG - 2022-07-03 22:01:07,912 - pyprotolinc.runner - Creating a <Projector> object for chunk 2 of 2\n",
      "DEBUG - 2022-07-03 22:01:07,928 - pyprotolinc.runner - Starting the simulation for chunk 2 of 2\n",
      "INFO - 2022-07-03 22:01:07,960 - root - Runner for chunk 2: Early termination in 1/2033\n",
      "DEBUG - 2022-07-03 22:01:07,960 - pyprotolinc.runner - Starting backwards loop to calculate the reserves for chunk 2 of 2\n",
      "DEBUG - 2022-07-03 22:01:07,999 - pyprotolinc.main - Combining results from subportfolios\n",
      "INFO - 2022-07-03 22:01:08,005 - pyprotolinc.results - Exporting NCF to results/ncf_out_generic.csv\n",
      "INFO - 2022-07-03 22:01:08,036 - pyprotolinc.main - Elapsed time 0.3 seconds.\n"
     ]
    },
    {
     "data": {
      "text/html": [
       "<div>\n",
       "<style scoped>\n",
       "    .dataframe tbody tr th:only-of-type {\n",
       "        vertical-align: middle;\n",
       "    }\n",
       "\n",
       "    .dataframe tbody tr th {\n",
       "        vertical-align: top;\n",
       "    }\n",
       "\n",
       "    .dataframe thead th {\n",
       "        text-align: right;\n",
       "    }\n",
       "</style>\n",
       "<table border=\"1\" class=\"dataframe\">\n",
       "  <thead>\n",
       "    <tr style=\"text-align: right;\">\n",
       "      <th></th>\n",
       "      <th>YEAR</th>\n",
       "      <th>QUARTER</th>\n",
       "      <th>MONTH</th>\n",
       "      <th>PREMIUM</th>\n",
       "      <th>ANNUITY_PAYMENT1</th>\n",
       "      <th>ANNUITY_PAYMENT2</th>\n",
       "      <th>DEATH_PAYMENT</th>\n",
       "      <th>DI_LUMPSUM_PAYMENT</th>\n",
       "      <th>RESERVE_BOM(ACTIVE)</th>\n",
       "      <th>RESERVE_BOM(DEATH)</th>\n",
       "      <th>...</th>\n",
       "      <th>MV_ACTIVE_DIS1</th>\n",
       "      <th>MV_ACT_DIS2</th>\n",
       "      <th>MV_ACT_LAPSED</th>\n",
       "      <th>MV_ACT_MATURED</th>\n",
       "      <th>MV_DIS1_DEATH</th>\n",
       "      <th>MV_DIS1_DIS2</th>\n",
       "      <th>MV_DIS1_ACT</th>\n",
       "      <th>MV_DIS2_DEATH</th>\n",
       "      <th>MV_DIS2_DIS1</th>\n",
       "      <th>MV_DIS2_ACT</th>\n",
       "    </tr>\n",
       "  </thead>\n",
       "  <tbody>\n",
       "    <tr>\n",
       "      <th>0</th>\n",
       "      <td>2021</td>\n",
       "      <td>4</td>\n",
       "      <td>12</td>\n",
       "      <td>0.000000</td>\n",
       "      <td>0.0</td>\n",
       "      <td>0.0</td>\n",
       "      <td>0.000000</td>\n",
       "      <td>0.0</td>\n",
       "      <td>0.000000</td>\n",
       "      <td>0.0</td>\n",
       "      <td>...</td>\n",
       "      <td>0.0</td>\n",
       "      <td>0.0</td>\n",
       "      <td>0.000000</td>\n",
       "      <td>0.0</td>\n",
       "      <td>0.0</td>\n",
       "      <td>0.0</td>\n",
       "      <td>0.0</td>\n",
       "      <td>0.0</td>\n",
       "      <td>0.0</td>\n",
       "      <td>0.0</td>\n",
       "    </tr>\n",
       "    <tr>\n",
       "      <th>1</th>\n",
       "      <td>2022</td>\n",
       "      <td>1</td>\n",
       "      <td>1</td>\n",
       "      <td>110.000000</td>\n",
       "      <td>0.0</td>\n",
       "      <td>0.0</td>\n",
       "      <td>-73.688333</td>\n",
       "      <td>0.0</td>\n",
       "      <td>2949.569942</td>\n",
       "      <td>0.0</td>\n",
       "      <td>...</td>\n",
       "      <td>0.0</td>\n",
       "      <td>0.0</td>\n",
       "      <td>0.008333</td>\n",
       "      <td>0.0</td>\n",
       "      <td>0.0</td>\n",
       "      <td>0.0</td>\n",
       "      <td>0.0</td>\n",
       "      <td>0.0</td>\n",
       "      <td>0.0</td>\n",
       "      <td>0.0</td>\n",
       "    </tr>\n",
       "    <tr>\n",
       "      <th>2</th>\n",
       "      <td>2022</td>\n",
       "      <td>1</td>\n",
       "      <td>2</td>\n",
       "      <td>109.504822</td>\n",
       "      <td>0.0</td>\n",
       "      <td>0.0</td>\n",
       "      <td>-73.354760</td>\n",
       "      <td>0.0</td>\n",
       "      <td>2949.892834</td>\n",
       "      <td>0.0</td>\n",
       "      <td>...</td>\n",
       "      <td>0.0</td>\n",
       "      <td>0.0</td>\n",
       "      <td>0.008296</td>\n",
       "      <td>0.0</td>\n",
       "      <td>0.0</td>\n",
       "      <td>0.0</td>\n",
       "      <td>0.0</td>\n",
       "      <td>0.0</td>\n",
       "      <td>0.0</td>\n",
       "      <td>0.0</td>\n",
       "    </tr>\n",
       "    <tr>\n",
       "      <th>3</th>\n",
       "      <td>2022</td>\n",
       "      <td>1</td>\n",
       "      <td>3</td>\n",
       "      <td>109.011875</td>\n",
       "      <td>0.0</td>\n",
       "      <td>0.0</td>\n",
       "      <td>-73.022698</td>\n",
       "      <td>0.0</td>\n",
       "      <td>2950.213167</td>\n",
       "      <td>0.0</td>\n",
       "      <td>...</td>\n",
       "      <td>0.0</td>\n",
       "      <td>0.0</td>\n",
       "      <td>0.008258</td>\n",
       "      <td>0.0</td>\n",
       "      <td>0.0</td>\n",
       "      <td>0.0</td>\n",
       "      <td>0.0</td>\n",
       "      <td>0.0</td>\n",
       "      <td>0.0</td>\n",
       "      <td>0.0</td>\n",
       "    </tr>\n",
       "    <tr>\n",
       "      <th>4</th>\n",
       "      <td>2022</td>\n",
       "      <td>2</td>\n",
       "      <td>4</td>\n",
       "      <td>108.521148</td>\n",
       "      <td>0.0</td>\n",
       "      <td>0.0</td>\n",
       "      <td>-72.692139</td>\n",
       "      <td>0.0</td>\n",
       "      <td>2950.530930</td>\n",
       "      <td>0.0</td>\n",
       "      <td>...</td>\n",
       "      <td>0.0</td>\n",
       "      <td>0.0</td>\n",
       "      <td>0.008221</td>\n",
       "      <td>0.0</td>\n",
       "      <td>0.0</td>\n",
       "      <td>0.0</td>\n",
       "      <td>0.0</td>\n",
       "      <td>0.0</td>\n",
       "      <td>0.0</td>\n",
       "      <td>0.0</td>\n",
       "    </tr>\n",
       "  </tbody>\n",
       "</table>\n",
       "<p>5 rows × 29 columns</p>\n",
       "</div>"
      ],
      "text/plain": [
       "   YEAR  QUARTER  MONTH     PREMIUM  ANNUITY_PAYMENT1  ANNUITY_PAYMENT2  \\\n",
       "0  2021        4     12    0.000000               0.0               0.0   \n",
       "1  2022        1      1  110.000000               0.0               0.0   \n",
       "2  2022        1      2  109.504822               0.0               0.0   \n",
       "3  2022        1      3  109.011875               0.0               0.0   \n",
       "4  2022        2      4  108.521148               0.0               0.0   \n",
       "\n",
       "   DEATH_PAYMENT  DI_LUMPSUM_PAYMENT  RESERVE_BOM(ACTIVE)  RESERVE_BOM(DEATH)  \\\n",
       "0       0.000000                 0.0             0.000000                 0.0   \n",
       "1     -73.688333                 0.0          2949.569942                 0.0   \n",
       "2     -73.354760                 0.0          2949.892834                 0.0   \n",
       "3     -73.022698                 0.0          2950.213167                 0.0   \n",
       "4     -72.692139                 0.0          2950.530930                 0.0   \n",
       "\n",
       "   ...  MV_ACTIVE_DIS1  MV_ACT_DIS2  MV_ACT_LAPSED  MV_ACT_MATURED  \\\n",
       "0  ...             0.0          0.0       0.000000             0.0   \n",
       "1  ...             0.0          0.0       0.008333             0.0   \n",
       "2  ...             0.0          0.0       0.008296             0.0   \n",
       "3  ...             0.0          0.0       0.008258             0.0   \n",
       "4  ...             0.0          0.0       0.008221             0.0   \n",
       "\n",
       "   MV_DIS1_DEATH  MV_DIS1_DIS2  MV_DIS1_ACT  MV_DIS2_DEATH  MV_DIS2_DIS1  \\\n",
       "0            0.0           0.0          0.0            0.0           0.0   \n",
       "1            0.0           0.0          0.0            0.0           0.0   \n",
       "2            0.0           0.0          0.0            0.0           0.0   \n",
       "3            0.0           0.0          0.0            0.0           0.0   \n",
       "4            0.0           0.0          0.0            0.0           0.0   \n",
       "\n",
       "   MV_DIS2_ACT  \n",
       "0          0.0  \n",
       "1          0.0  \n",
       "2          0.0  \n",
       "3          0.0  \n",
       "4          0.0  \n",
       "\n",
       "[5 rows x 29 columns]"
      ]
     },
     "execution_count": 13,
     "metadata": {},
     "output_type": "execute_result"
    }
   ],
   "source": [
    "pd.DataFrame(project_cashflows(run_config)).head()"
   ]
  },
  {
   "cell_type": "markdown",
   "id": "47a6ae3b",
   "metadata": {},
   "source": [
    "Calculating the ratio of the claims in this and the previous projection we find that the latest claims are 2.68 times as high as the previous ones:\n",
    "\n",
    "-73.7 / -27.5 = 2.68"
   ]
  },
  {
   "cell_type": "markdown",
   "id": "2de61fc6",
   "metadata": {},
   "source": [
    "Looking at the portfolio we find that we have:\n",
    "\n",
    "  * a male smoker born in 1976 (being, say, 45 years at year-end 2021) *and*\n",
    "  * a male non-smoker born in 1962 being 59 years at year-end 2021\n",
    "  \n",
    "We check the mortality rates we would expect to be applied: \n",
    "\n",
    "<img src=\"img/dav_extract.png\"/>\n",
    "\n",
    "We can validate that these are the rate that are used by ```pyprotolinc```."
   ]
  },
  {
   "cell_type": "code",
   "execution_count": 14,
   "id": "9785c964",
   "metadata": {},
   "outputs": [
    {
     "data": {
      "text/plain": [
       "array([0.003013, 0.005227])"
      ]
     },
     "execution_count": 14,
     "metadata": {},
     "output_type": "execute_result"
    }
   ],
   "source": [
    "from pyprotolinc.assumptions.dav2008t import DAV2008T\n",
    "dav2008t = DAV2008T(base_directory=\"tables/Germany_Endowments_DAV2008T\")\n",
    "dav2008_provider = dav2008t.rates_provider(estimate_type=\"BE\")\n",
    "rates = dav2008_provider.get_rates(age=portfolio.initial_ages // 12,\n",
    "                                   smokerstatus=portfolio.smokerstatus,\n",
    "                                   gender=portfolio.gender)\n",
    "rates"
   ]
  },
  {
   "cell_type": "markdown",
   "id": "3b87c701",
   "metadata": {},
   "source": [
    "To demonstrate that this explains the increase in the claims level we calculated the sum-insured weighted average rate and\n",
    "divide it by 0.0015:"
   ]
  },
  {
   "cell_type": "code",
   "execution_count": 15,
   "id": "a1bf89f5",
   "metadata": {},
   "outputs": [
    {
     "data": {
      "text/plain": [
       "2.6795757575757575"
      ]
     },
     "execution_count": 15,
     "metadata": {},
     "output_type": "execute_result"
    }
   ],
   "source": [
    "rates.dot(portfolio.sum_insured) / portfolio.sum_insured.sum() / 0.0015"
   ]
  },
  {
   "cell_type": "markdown",
   "id": "e1932ef1",
   "metadata": {},
   "source": [
    "So the increase in claims in indeed explained by the higher mortality rates in the DAV2008 table compared to our previous \n",
    "simple assumption."
   ]
  }
 ],
 "metadata": {
  "kernelspec": {
   "display_name": "Python 3 (ipykernel)",
   "language": "python",
   "name": "python3"
  },
  "language_info": {
   "codemirror_mode": {
    "name": "ipython",
    "version": 3
   },
   "file_extension": ".py",
   "mimetype": "text/x-python",
   "name": "python",
   "nbconvert_exporter": "python",
   "pygments_lexer": "ipython3",
   "version": "3.9.12"
  }
 },
 "nbformat": 4,
 "nbformat_minor": 5
}

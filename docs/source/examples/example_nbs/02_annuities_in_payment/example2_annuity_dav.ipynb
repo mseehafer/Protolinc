{
 "cells": [
  {
   "cell_type": "markdown",
   "id": "8d373a62",
   "metadata": {},
   "source": [
    "# Examples 2: Annuity with DAV Annuity Table\n",
    "\n",
    "In the current example we build on the previous one and demonstrate two additional things:\n",
    "\n",
    "  * using the DAV2004R table as the base mortality assumption\n",
    "  * starting the projector from code\n",
    " \n",
    " \n",
    " The DAV2004R table can be used in a variety of ways for different use cases and *protolinc* provides\n",
    " some convenience code to use some of those with little effort."
   ]
  },
  {
   "cell_type": "markdown",
   "id": "dfc1b192",
   "metadata": {},
   "source": [
    "### Download the DAV Tables\n",
    "\n",
    "It's not so clear why the DAV tables aren't easily available for downloading from official sources. Luckily, the maintainer of the R-Project *MortalityTables* (cf. https://www.rdocumentation.org/packages/MortalityTables/versions/2.0.3) provides the required files. If you are willing to get them (the legal situation around this is not clear to the author) open up a command prompt and change into the base directory of this example and run:\n",
    "```\n",
    "protolinc download_dav_files\n",
    "```\n",
    "**or** run the folling code from a script:"
   ]
  },
  {
   "cell_type": "code",
   "execution_count": 1,
   "id": "bd367c25",
   "metadata": {},
   "outputs": [],
   "source": [
    "from protolinc.utils import download_dav_tables\n",
    "download_dav_tables()"
   ]
  },
  {
   "cell_type": "markdown",
   "id": "5ee7a085",
   "metadata": {},
   "source": [
    "Now a new folder called *tables* should have been created in  the working folder with two subfolders. In the present case the one of interest is this:"
   ]
  },
  {
   "cell_type": "code",
   "execution_count": 2,
   "id": "9157ef08",
   "metadata": {},
   "outputs": [
    {
     "name": "stdout",
     "output_type": "stream",
     "text": [
      "Germany_Annuities_DAV2004R.csv\n",
      "Germany_Annuities_DAV2004R_AV.csv\n",
      "Germany_Annuities_DAV2004R_AVBase.csv\n",
      "Germany_Annuities_DAV2004R_Select.csv\n",
      "Germany_Annuities_DAV2004R_Trends.csv\n"
     ]
    }
   ],
   "source": [
    "# use when not on Windows \"!ls\"\n",
    "!dir /B tables\\Germany_Annuities_DAV2004R"
   ]
  },
  {
   "cell_type": "markdown",
   "id": "a7a24294",
   "metadata": {},
   "source": [
    "*Protolinc* provides an interface class to these files. On instantiation pass the base folder from which to load the file as an argument."
   ]
  },
  {
   "cell_type": "code",
   "execution_count": 3,
   "id": "7cbab97c",
   "metadata": {},
   "outputs": [],
   "source": [
    "from protolinc.assumptions.dav2004r import DAV2004R\n",
    "dav2004r = DAV2004R(base_directory=\"tables/Germany_Annuities_DAV2004R\", trend_t1=10, trend_t2=25)"
   ]
  },
  {
   "cell_type": "markdown",
   "id": "26abea0b",
   "metadata": {},
   "source": [
    "The second and third argument above control the trend factor extrapolation between the start and target trends.\n",
    "\n",
    "\n",
    "As an aside it is quickly demonstrated here how one can work with this *raw* object (i.e. outside the context of a projection run). In this case one first has to create a *rates provider* object. Specifically, in this case we parametrize the *aggregate best estimate rates*, i.e. the aggregate (non-select) version using no additional prudency loadings (\"2. Ordnung\")."
   ]
  },
  {
   "cell_type": "code",
   "execution_count": 4,
   "id": "679c43d0",
   "metadata": {},
   "outputs": [],
   "source": [
    "rates_provider = dav2004r.rates_provider(table_type='AGGREGATE', estimate_type=\"BE\")"
   ]
  },
  {
   "cell_type": "markdown",
   "id": "74dd176b",
   "metadata": {},
   "source": [
    "To query for rates three risk factors need to be provided: CalendarYear, Gender and Age. Two of them are encoded in the canonical way, to be sure we get the gender right we import the corresponding *RiskFactor class* from protolinc and then proceed creating three arrays with two entries each:"
   ]
  },
  {
   "cell_type": "code",
   "execution_count": 5,
   "id": "f8bdcd06",
   "metadata": {},
   "outputs": [],
   "source": [
    "import numpy as np\n",
    "from protolinc.models.risk_factors import Gender\n",
    "\n",
    "ages = np.array([60, 70], dtype=np.int16)\n",
    "genders = np.array([Gender.M, Gender.F], dtype=np.int16)\n",
    "calendar_years = np.array([2022, 2022], dtype=np.int16)"
   ]
  },
  {
   "cell_type": "markdown",
   "id": "82c22f40",
   "metadata": {},
   "source": [
    "These arrays parametrize two individuals in the year 2022: a 60 year old male and a 70 year old female. For\n",
    "both of them we can now lookup the mortality rates as follows."
   ]
  },
  {
   "cell_type": "code",
   "execution_count": 6,
   "id": "ed216172",
   "metadata": {},
   "outputs": [
    {
     "data": {
      "text/plain": [
       "array([0.00392406, 0.00597981])"
      ]
     },
     "execution_count": 6,
     "metadata": {},
     "output_type": "execute_result"
    }
   ],
   "source": [
    "rates_provider.get_rates(age=ages, gender=genders, calendaryear=calendar_years)"
   ]
  },
  {
   "cell_type": "markdown",
   "id": "c3aba457",
   "metadata": {},
   "source": [
    "### Using the DAV Table via Configuration\n",
    "\n",
    "The key change when compared to the example 1 is found in the *longevity_assumptions.yml* file which reads as follows:"
   ]
  },
  {
   "cell_type": "code",
   "execution_count": 11,
   "id": "b18f12e5",
   "metadata": {},
   "outputs": [
    {
     "name": "stdout",
     "output_type": "stream",
     "text": [
      "# for the annuity model\n",
      "assumptions_spec:\n",
      "\n",
      "  be:\n",
      "    # annuitant's deaths\n",
      "    - [0, 1, [\"DAV2004R\", \"table_type:AGGREGATE\", \"estimate_type:BE\",\n",
      "              \"base_directory:tables/Germany_Annuities_DAV2004R\"]]\n",
      "\n",
      "  res:\n",
      "    # annuitant's deaths\n",
      "    - [0, 1, [\"DAV2004R\", \"table_type:AGGREGATE\", \"estimate_type:LOADED\",\n",
      "              \"base_directory:tables/Germany_Annuities_DAV2004R\"]]\n",
      "\n",
      "\n"
     ]
    }
   ],
   "source": [
    "with open('longevity_assumptions.yml', 'r') as f:\n",
    "    print(f.read())"
   ]
  },
  {
   "cell_type": "markdown",
   "id": "07043c77",
   "metadata": {},
   "source": [
    "Note that the parametrization is not a simple *scalar* as in example 1 but uses a syntax which should be\n",
    "easy to grasp with the knowledge of the above.\n",
    "\n",
    "We can now immediately start a run from the sheel by typeing ```protolinc run``` in the main directory of this example. We can also start the run programmatically as follows."
   ]
  },
  {
   "cell_type": "code",
   "execution_count": 12,
   "id": "91b5edf1",
   "metadata": {},
   "outputs": [
    {
     "name": "stderr",
     "output_type": "stream",
     "text": [
      "INFO - 2022-07-02 14:12:35,296 - protolinc.main - Mulistate run with config: {'model_name': 'GenericMultiState', 'years_to_simulate': 119, 'portfolio_path': 'portfolio/portfolio_annuity_small.xlsx', 'assumptions_path': 'longevity_assumptions.yml', 'steps_per_month': 1, 'state_model_name': 'AnnuityRunoffStates', 'timestep_duration': 0.08333333333333333, 'outfile': 'results/ncf_out_generic.csv', 'portfolio_cache': 'portfolio/portfolio_cache', 'profile_out_dir': '.', 'portfolio_chunk_size': 1024, 'use_multicore': True}\n",
      "INFO - 2022-07-02 14:12:35,360 - protolinc.portfolio - Porfolio loaded from cache\n",
      "INFO - 2022-07-02 14:12:35,361 - protolinc.portfolio - Portolio rows: 1\n",
      "DEBUG - 2022-07-02 14:12:35,363 - protolinc.portfolio - Splitting portfolio for product ANNUITYINPAYMENT.\n",
      "DEBUG - 2022-07-02 14:12:35,367 - protolinc.portfolio - Initializing portfolio from dataframe\n",
      "INFO - 2022-07-02 14:12:35,373 - protolinc.main - Executions in single process for 1 units\n",
      "INFO - 2022-07-02 14:12:35,374 - protolinc.main - Projecting subportfolio 1 / 1\n",
      "DEBUG - 2022-07-02 14:12:35,375 - protolinc.runner - Creating a <Projector> object for chunk 1 of 1\n",
      "DEBUG - 2022-07-02 14:12:35,377 - protolinc.runner - Starting the simulation for chunk 1 of 1\n",
      "INFO - 2022-07-02 14:12:35,515 - root - Runner for chunk 1: Early termination in 4/2111\n",
      "DEBUG - 2022-07-02 14:12:35,516 - protolinc.runner - Starting backwards loop to calculate the reserves for chunk 1 of 1\n",
      "DEBUG - 2022-07-02 14:12:35,572 - protolinc.main - Combining results from subportfolios\n",
      "INFO - 2022-07-02 14:12:35,573 - protolinc.results - Exporting NCF to results/ncf_out_generic.csv\n",
      "INFO - 2022-07-02 14:12:35,599 - protolinc.main - Elapsed time 0.3 seconds.\n"
     ]
    }
   ],
   "source": [
    "from protolinc.main import get_config_from_file, project_cashflows\n",
    "run_config = get_config_from_file('config.yml')\n",
    "project_cashflows(run_config)"
   ]
  }
 ],
 "metadata": {
  "kernelspec": {
   "display_name": "Python 3 (ipykernel)",
   "language": "python",
   "name": "python3"
  },
  "language_info": {
   "codemirror_mode": {
    "name": "ipython",
    "version": 3
   },
   "file_extension": ".py",
   "mimetype": "text/x-python",
   "name": "python",
   "nbconvert_exporter": "python",
   "pygments_lexer": "ipython3",
   "version": "3.9.12"
  }
 },
 "nbformat": 4,
 "nbformat_minor": 5
}

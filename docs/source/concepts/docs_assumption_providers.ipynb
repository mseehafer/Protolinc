{
 "cells": [
  {
   "cell_type": "markdown",
   "id": "10f899e5",
   "metadata": {},
   "source": [
    "## Assumption Providers\n",
    "\n",
    "```PyProtolinc``` allows to make use of user provided assumption sets which are internally stored in\n",
    "*assumption provider* objects. During the simulation an *assumptions set* is linked to a certain state transition and it provides information on how probable the transition. It can basically be understood as a (multi-dimensional) table of probabilities and each dimension is linked to a *risk factor*."
   ]
  },
  {
   "cell_type": "markdown",
   "id": "22b57361",
   "metadata": {},
   "source": [
    "### Constant Rate Providers\n",
    "\n",
    "These can be used in simple situation (e.g. testing). When constructing a ```ConstantRateProvider``` a float constant is passed in. Later the provider will return vectors containing this constant."
   ]
  },
  {
   "cell_type": "code",
   "execution_count": 1,
   "id": "2d2eef04",
   "metadata": {},
   "outputs": [
    {
     "data": {
      "text/plain": [
       "0.4"
      ]
     },
     "execution_count": 1,
     "metadata": {},
     "output_type": "execute_result"
    }
   ],
   "source": [
    "import pyprotolinc._actuarial as act\n",
    "import numpy as np\n",
    "\n",
    "const_prvdr = act.ConstantRateProvider(0.4)\n",
    "const_prvdr.get_rate()"
   ]
  },
  {
   "cell_type": "code",
   "execution_count": 2,
   "id": "7b4564f7",
   "metadata": {},
   "outputs": [
    {
     "data": {
      "text/plain": [
       "array([0.4, 0.4, 0.4, 0.4, 0.4, 0.4, 0.4])"
      ]
     },
     "execution_count": 2,
     "metadata": {},
     "output_type": "execute_result"
    }
   ],
   "source": [
    "# return a vector of the given length\n",
    "const_prvdr.get_rates(7)"
   ]
  },
  {
   "cell_type": "markdown",
   "id": "bf5b9624",
   "metadata": {},
   "source": [
    "### Standard Rate Providers and Risk Factors\n",
    "\n",
    "While not obvious from the previous example, in general a *rate provider* will depend on *risk factors* which are used to determine the entries to be selected in an assumptions table.\n",
    "The following *risk factors* are currently supported by ```PyProtolinc```:"
   ]
  },
  {
   "cell_type": "code",
   "execution_count": 3,
   "id": "085e487b",
   "metadata": {},
   "outputs": [
    {
     "data": {
      "text/plain": [
       "[<CRiskFactors.Age: 0>,\n",
       " <CRiskFactors.Gender: 1>,\n",
       " <CRiskFactors.CalendarYear: 2>,\n",
       " <CRiskFactors.SmokerStatus: 3>,\n",
       " <CRiskFactors.YearsDisabledIfDisabledAtStart: 4>]"
      ]
     },
     "execution_count": 3,
     "metadata": {},
     "output_type": "execute_result"
    }
   ],
   "source": [
    "[rf for rf in act.CRiskFactors]"
   ]
  },
  {
   "cell_type": "markdown",
   "id": "7759a787",
   "metadata": {},
   "source": [
    "To create a *StandardRateProvider* with a **1D lookup** we can proceed as follows."
   ]
  },
  {
   "cell_type": "code",
   "execution_count": 4,
   "id": "675a42b1",
   "metadata": {},
   "outputs": [],
   "source": [
    "std_prvdr_1d = act.StandardRateProvider(rfs=[act.CRiskFactors.Age], \n",
    "                                        values=np.array([0.1, 0.2, 0.3]),\n",
    "                                        offsets=np.zeros(1, dtype=int))"
   ]
  },
  {
   "cell_type": "markdown",
   "id": "8dcb5534",
   "metadata": {},
   "source": [
    "We have now created a provider which depends on the risk factor *Age*.  It essentially prescribes:\n",
    "\n",
    "  * age=0 -> 0.1\n",
    "  * age=1 -> 0.2\n",
    "  * age=2 -> 0.3"
   ]
  },
  {
   "cell_type": "markdown",
   "id": "1bc61f13",
   "metadata": {},
   "source": [
    "We can now query the object a follows."
   ]
  },
  {
   "cell_type": "code",
   "execution_count": 5,
   "id": "914b3b30",
   "metadata": {},
   "outputs": [
    {
     "data": {
      "text/plain": [
       "(0.1, 0.2)"
      ]
     },
     "execution_count": 5,
     "metadata": {},
     "output_type": "execute_result"
    }
   ],
   "source": [
    "std_prvdr_1d.get_rate([0]), std_prvdr_1d.get_rate(np.array([1], dtype=int))"
   ]
  },
  {
   "cell_type": "markdown",
   "id": "f2554e95",
   "metadata": {},
   "source": [
    "The next query is for five datapoints of ages 0, 0, 1, 0, 2:"
   ]
  },
  {
   "cell_type": "code",
   "execution_count": 6,
   "id": "73d151de",
   "metadata": {},
   "outputs": [
    {
     "data": {
      "text/plain": [
       "array([0.1, 0.1, 0.2, 0.1, 0.3])"
      ]
     },
     "execution_count": 6,
     "metadata": {},
     "output_type": "execute_result"
    }
   ],
   "source": [
    "ages = np.array([0, 0, 1, 0, 2], dtype=int)\n",
    "std_prvdr_1d.get_rates(len(ages), age=ages)"
   ]
  },
  {
   "cell_type": "markdown",
   "id": "8524cd26",
   "metadata": {},
   "source": [
    "We can also make this example 2 dimensional."
   ]
  },
  {
   "cell_type": "code",
   "execution_count": 7,
   "id": "18fd868b",
   "metadata": {},
   "outputs": [],
   "source": [
    "from pyprotolinc.models.risk_factors import Gender, SmokerStatus\n",
    "\n",
    "std_prvdr_2d = act.StandardRateProvider(rfs=[act.CRiskFactors.Gender, act.CRiskFactors.Age], \n",
    "                                        values=np.array([[0.1, 0.2, 0.3],\n",
    "                                                         [1.1, 1.2, 1.3]]),\n",
    "                                        offsets=np.zeros(2, dtype=int))"
   ]
  },
  {
   "cell_type": "markdown",
   "id": "52aa90f4",
   "metadata": {},
   "source": [
    "The ```values``` array passed in is 2D and the first dimension (the *rows*) corresponds with the first risk factor (Gender)\n",
    "and the second one (the *columns*) with the second risk factor (Age)."
   ]
  },
  {
   "cell_type": "code",
   "execution_count": 8,
   "id": "d117a8b0",
   "metadata": {},
   "outputs": [
    {
     "data": {
      "text/plain": [
       "array([0.1, 1.1, 0.2, 1.1, 0.3])"
      ]
     },
     "execution_count": 8,
     "metadata": {},
     "output_type": "execute_result"
    }
   ],
   "source": [
    "genders = np.array([Gender.M, Gender.F, Gender.M, Gender.F, Gender.M], dtype=int)\n",
    "std_prvdr_2d.get_rates(len(ages), age=ages, gender=genders)"
   ]
  },
  {
   "cell_type": "markdown",
   "id": "7fd70298",
   "metadata": {},
   "source": [
    "The first entry of the returned vector corresponds with a 0-year old of Gender=M (index 0) and the **fourth** corresponds with a 0 year old of gender F (index 1)."
   ]
  },
  {
   "cell_type": "markdown",
   "id": "f1ed9b0a",
   "metadata": {},
   "source": [
    "In the next 3D example we will demonstrate the use a non-zero **offset**."
   ]
  },
  {
   "cell_type": "code",
   "execution_count": 9,
   "id": "cb5c89bc",
   "metadata": {},
   "outputs": [],
   "source": [
    "values3D = np.array([\n",
    "                     [[0.1, 0.2, 0.3],\n",
    "                      [1.1, 1.2, 1.3]],\n",
    "                   \n",
    "                     [[-0.1, -0.2, -0.3],\n",
    "                      [-1.1, -1.2, -1.3]]\n",
    "])"
   ]
  },
  {
   "cell_type": "markdown",
   "id": "8a0fd68d",
   "metadata": {},
   "source": [
    "We want to use the risk factor *CalendarYear* and the example is meant such that the first dimension corresponds\n",
    "with the CalendarYear 2019 (this is the first group of six values above) and the second with 2020 (second group of six values).\n",
    "Furthermore, the second dimension is gender and the third age where this time the ages are supposed to start at 20."
   ]
  },
  {
   "cell_type": "code",
   "execution_count": 10,
   "id": "d41768a3",
   "metadata": {},
   "outputs": [],
   "source": [
    "std_prvdr_3d = act.StandardRateProvider(rfs=[act.CRiskFactors.CalendarYear, act.CRiskFactors.Gender, act.CRiskFactors.Age], \n",
    "                                        values=values3D,\n",
    "                                        offsets=np.array([2019, 0, 20], dtype=int))"
   ]
  },
  {
   "cell_type": "code",
   "execution_count": 11,
   "id": "c486bd9a",
   "metadata": {},
   "outputs": [
    {
     "data": {
      "text/plain": [
       "array([ 0.1,  1.1, -0.2, -1.1, -0.3])"
      ]
     },
     "execution_count": 11,
     "metadata": {},
     "output_type": "execute_result"
    }
   ],
   "source": [
    "ages = np.array([20, 20, 21, 20, 22], dtype=int)\n",
    "genders = np.array([Gender.M, Gender.F, Gender.M, Gender.F, Gender.M], dtype=int)\n",
    "calendaryears = np.array([2019, 2019, 2020, 2020, 2020], dtype=int)\n",
    "\n",
    "std_prvdr_3d.get_rates(len(ages), age=ages, gender=genders, calendaryear=calendaryears)"
   ]
  },
  {
   "cell_type": "markdown",
   "id": "93ba7424",
   "metadata": {},
   "source": [
    "The third value returned (-0.2) is parametrized with age=21, gender=M and calendaryear=2020. Therefore, in view of the offset of 2019 the calendaryear implies it must be read off from\n",
    "the second group of six values, then in the first row (gender M) and the second column (age=21 with offset of 20). There we find -0.2 as expected."
   ]
  },
  {
   "cell_type": "markdown",
   "id": "cb022660",
   "metadata": {},
   "source": [
    "Currently the dimension of the data is restricted to four or below."
   ]
  }
 ],
 "metadata": {
  "kernelspec": {
   "display_name": "Python 3 (ipykernel)",
   "language": "python",
   "name": "python3"
  },
  "language_info": {
   "codemirror_mode": {
    "name": "ipython",
    "version": 3
   },
   "file_extension": ".py",
   "mimetype": "text/x-python",
   "name": "python",
   "nbconvert_exporter": "python",
   "pygments_lexer": "ipython3",
   "version": "3.9.12"
  }
 },
 "nbformat": 4,
 "nbformat_minor": 5
}

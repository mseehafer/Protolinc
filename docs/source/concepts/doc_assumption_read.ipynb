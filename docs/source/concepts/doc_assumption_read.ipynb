{
 "cells": [
  {
   "cell_type": "markdown",
   "id": "8169b476",
   "metadata": {},
   "source": [
    "## Assumptions From Files\n",
    "\n",
    "It is possible to read assumtion table from Excel files int ```PyProtolinc```, this can be done both programmatically or\n",
    "by configuration. in both cases the assumptions need to be stored in xlsx files in a certain format."
   ]
  },
  {
   "cell_type": "markdown",
   "id": "c9617725",
   "metadata": {},
   "source": [
    "### Programmatic Reading of Assumption Files\n",
    "\n",
    "This example uses an excel file with the following tabs:\n",
    "<img src=\"capture_worksheetnames.png\"/>"
   ]
  },
  {
   "cell_type": "code",
   "execution_count": 9,
   "id": "ab1c6da7",
   "metadata": {},
   "outputs": [
    {
     "data": {
      "text/plain": [
       "(<ConstantRateProvider with constant 0.2>,\n",
       " <StandardRatesProvider with factors (['calendaryear'])>,\n",
       " <StandardRatesProvider with factors (['age', 'gender'])>)"
      ]
     },
     "execution_count": 9,
     "metadata": {},
     "output_type": "execute_result"
    }
   ],
   "source": [
    "from pyprotolinc.assumptions.iohelpers import WorkbookTableReader\n",
    "\n",
    "assumptions_file = \"simple_base_assumption.xlsx\"\n",
    "\n",
    "sheet_lapse_const = \"LAPSE_CONST\"\n",
    "sheet_lapse_1d = \"LAPSE_1D\"\n",
    "sheet_mort_2d = \"MORTALITY_2D\"\n",
    "#sheet_mort_3d = \"_MORTALITY_2D\"\n",
    "\n",
    "with WorkbookTableReader(assumptions_file) as file:\n",
    "    tab_lapse_const = file.read_sheet(sheet_lapse_const)\n",
    "    tab_lapse_1d = file.read_sheet(sheet_lapse_1d)\n",
    "    tab_mort_2d = file.read_sheet(sheet_mort_2d)\n",
    "    \n",
    "    prvdr_lapse_const = tab_lapse_const.rates_provider()\n",
    "    prvdr_lapse_1d = tab_lapse_1d.rates_provider()\n",
    "    prvdr_mort_2d = tab_mort_2d.rates_provider()\n",
    "\n",
    "prvdr_lapse_const, prvdr_lapse_1d, prvdr_mort_2d"
   ]
  },
  {
   "cell_type": "markdown",
   "id": "bd07e192",
   "metadata": {},
   "source": [
    "As we can see we have created three providers with different configurations based on the data\n",
    "in the worksheets.\n",
    "\n",
    "Let's have a look at all of them:\n",
    "<table>\n",
    "<tr>\n",
    " <th scope=\"col\"><img src=\"capture_0d.png\"/></th>\n",
    " <th scope=\"col\"><img src=\"capture_1d.png\"/></th>\n",
    " <th scope=\"col\"><img src=\"capture_2d.png\"/></th>\n",
    "</tr>\n",
    "</table"
   ]
  },
  {
   "cell_type": "markdown",
   "id": "a20883f1",
   "metadata": {},
   "source": [
    "Each tab starts with a header listing the verticla and horizontal risk factor names (or \"NONE\") and then a *TABLE* section. When using a 0D example we expect only one value and this is translated to a ```ConstantRateProvider``` while 1D and\n",
    "2D will trigger the creation of a ```StandardRateProvider```. Please also note that the offsets are extracted as well."
   ]
  },
  {
   "cell_type": "code",
   "execution_count": 12,
   "id": "fa86cd36",
   "metadata": {},
   "outputs": [
    {
     "data": {
      "text/plain": [
       "array([0.048, 0.049])"
      ]
     },
     "execution_count": 12,
     "metadata": {},
     "output_type": "execute_result"
    }
   ],
   "source": [
    "import numpy as np\n",
    "from pyprotolinc.models.risk_factors import Gender\n",
    "\n",
    "calendaryear = np.array([2024, 2023])\n",
    "prvdr_lapse_1d.get_rates(calendaryear=calendaryear)"
   ]
  },
  {
   "cell_type": "code",
   "execution_count": 15,
   "id": "c3b97208",
   "metadata": {},
   "outputs": [
    {
     "data": {
      "text/plain": [
       "array([0.000452, 0.000244])"
      ]
     },
     "execution_count": 15,
     "metadata": {},
     "output_type": "execute_result"
    }
   ],
   "source": [
    "# lookup 3-year old male and 6 year old female\n",
    "age = np.array([3, 6])\n",
    "gender = np.array([Gender.M, Gender.F])\n",
    "prvdr_mort_2d.get_rates(age=age, gender=gender)"
   ]
  }
 ],
 "metadata": {
  "kernelspec": {
   "display_name": "Python 3 (ipykernel)",
   "language": "python",
   "name": "python3"
  },
  "language_info": {
   "codemirror_mode": {
    "name": "ipython",
    "version": 3
   },
   "file_extension": ".py",
   "mimetype": "text/x-python",
   "name": "python",
   "nbconvert_exporter": "python",
   "pygments_lexer": "ipython3",
   "version": "3.9.12"
  }
 },
 "nbformat": 4,
 "nbformat_minor": 5
}

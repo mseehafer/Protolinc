{
 "cells": [
  {
   "cell_type": "markdown",
   "id": "e54405dd",
   "metadata": {},
   "source": [
    "## Dependent and Independent State Transition Assumptions\n",
    "\n",
    "\n",
    "*Note*: This section is work in progress, the notation is not consistent, the separation of topics not\n",
    "fully worked out and I am presenting only examples (while hoping to get to a clearer view on the general case).\n",
    "\n",
    "Consider the case when there are two sources of decrement for a given state in a time step, e.g.:\n",
    "\n",
    "  * let $q$ denote the probability of death\n",
    "  * let $r$ denote the probability of lapse\n",
    " \n",
    "\n",
    "Let's assume that both assumptions have been derived independently. This is, e.g., the case when \n",
    "during the derivation of these transition assumptions the other cause of decrement was eliminated \n",
    "by considering the expsure time for one decrement only.\n",
    "\n",
    "In this case the assumptions can not directly used as state transition assumptions by ```PyProtolinc```."
   ]
  },
  {
   "cell_type": "code",
   "execution_count": null,
   "id": "38bc94ad",
   "metadata": {},
   "outputs": [],
   "source": [
    "import math\n",
    "import numpy as np\n",
    "\n",
    "# let's set the lapse rate to 50% and the death rate to 1%\n",
    "q = 0.01\n",
    "r = 0.5"
   ]
  },
  {
   "cell_type": "markdown",
   "id": "5f774336",
   "metadata": {},
   "source": [
    "It is intuitively clear that due to the high probabilty for lapses there are effectively less than 1% death cases\n",
    "when considering both forces at work. More specificall we can argue that on average over the year there are only ~75% exposed to death so \n",
    "that the effective death rate should be somewhere near 0.0075. We look at the equations in the continuous model:\n",
    "\n",
    "$$\n",
    "\\begin{array}{ccc}\n",
    "l(t)    &=& \\int_0^t(f_q(s) + f_r(s))l(s)ds\\\\\n",
    "l_0q^d(t) &=& \\int_0^tf_q(s)l(s)ds\\\\\n",
    "l_0r^r(t) &=& \\int_0^tf_r(s)l(s)ds\n",
    "\\end{array} \n",
    "$$\n",
    "\n",
    "Here the *forces of decrement* $f_q$ and $f_r$ from the independent decrements have been incorporated and $q^d$ and $r^d$ respectively denote the\n",
    "*dependent* transition assumptions. Under the *additional assumption* that these\n",
    "forces are constant between times $0$ and $1$ we can then solve the equations to find first:\n",
    "\n",
    "$$\n",
    "l(t) = l_0\\exp(-(f_q+f_r)t) = l_0 p(t)\n",
    "$$\n",
    "\n",
    "and based on this\n",
    "$$\n",
    "\\begin{array}{ccccc}\n",
    "q^d(t) &=& f_q\\int_0^t\\exp(-(f_q+f_r)s)ds &=& -\\frac{f_q}{f_q+f_r}p(s)|^t_0 &=& \\frac{f_q}{f_q+f_r}(1 - p(t))\\\\\n",
    "r^d(t) &=& f_r\\int_0^t\\exp(-(f_q+f_r)s)ds &=& -\\frac{f_r}{f_q+f_r}p(s)|^t_0 &=& \\frac{f_r}{f_q+f_r}(1 - p(t))\n",
    "\\end{array} \n",
    "$$\n"
   ]
  },
  {
   "cell_type": "markdown",
   "id": "cddfce26",
   "metadata": {},
   "source": [
    "Note that on the other hand we have the equation\n",
    "\n",
    "$$\n",
    "q = q^i(1) = f_q\\int_0^1\\exp(-f_qs)ds = -\\exp(-f_qs)|^1_0 = 1 - \\exp(-f_q)\n",
    "$$\n",
    "\n",
    "for the independent assumptions $q^i$ (and similar for $r^i$) when assuming *constant force for this case as well*.\n",
    "\n",
    "Consequently $f_q = - \\ln(1-q)$ and analogously $f_r = - \\ln(1-r)$\n",
    "\n",
    "For the numerical example this implies"
   ]
  },
  {
   "cell_type": "code",
   "execution_count": null,
   "id": "956b5c20",
   "metadata": {},
   "outputs": [],
   "source": [
    "f_q = -math.log(1 - q)\n",
    "f_r = -math.log(1 - r)\n",
    "f_q, f_r"
   ]
  },
  {
   "cell_type": "markdown",
   "id": "866df84b",
   "metadata": {},
   "source": [
    "This translates to the dependent transition assumptions on the yearly grid as follows:"
   ]
  },
  {
   "cell_type": "code",
   "execution_count": null,
   "id": "91f77616",
   "metadata": {},
   "outputs": [],
   "source": [
    "f = f_q + f_r\n",
    "p = math.exp(-f)\n",
    "q_d = f_q * (1 - p) / f\n",
    "r_d = f_r * (1 - p) / f\n",
    "q_d, r_d"
   ]
  },
  {
   "cell_type": "markdown",
   "id": "3eb470db",
   "metadata": {},
   "source": [
    "As expected on can see a small reduction of the lapse rate and a significant adjustment (in relative terms) for\n",
    "the mortality when comparing with the independent rates (and the value of 0.0072 is close to what we have expected)."
   ]
  },
  {
   "cell_type": "markdown",
   "id": "62d66b56",
   "metadata": {},
   "source": [
    "The formulae obtained can also directly by used to convert independent assumptions to dependent assumptions valid for *fractions of the year*."
   ]
  },
  {
   "cell_type": "code",
   "execution_count": null,
   "id": "0796a3d5",
   "metadata": {},
   "outputs": [],
   "source": [
    "def mort_and_lapse_for_fractions(q, r, t):\n",
    "    \"\"\" Return a 'dependent transition matrix' for a model with two independent\n",
    "        decrements :q and :r for the time span t. \"\"\"\n",
    "    assert 0 <= t and t <= 1\n",
    "    \n",
    "    f_q = -math.log(1 - q)\n",
    "    f_r = -math.log(1 - r)\n",
    "    f = f_q + f_r\n",
    "    p_t = math.exp(-f * t)\n",
    "    q_d = f_q * (1 - p_t) / f\n",
    "    r_d = f_r * (1 - p_t) / f\n",
    "    \n",
    "    M_frac = np.array([[1 - q_d - r_d, q_d, r_d],\n",
    "                       [0, 1, 0],\n",
    "                       [0, 0, 1]])\n",
    "    return M_frac\n",
    "\n",
    "M4 = mort_and_lapse_for_fractions(q, r, 0.25)\n",
    "M4"
   ]
  },
  {
   "cell_type": "markdown",
   "id": "064ed482",
   "metadata": {},
   "source": [
    "Applying this state transition matrix four times we get back what we have calculated above."
   ]
  },
  {
   "cell_type": "code",
   "execution_count": null,
   "id": "97d92da1",
   "metadata": {},
   "outputs": [],
   "source": [
    "np.linalg.matrix_power(M4, 4)"
   ]
  },
  {
   "cell_type": "markdown",
   "id": "731362af",
   "metadata": {},
   "source": [
    "### State Transition Example with Two-Way Interactions\n",
    "\n",
    "We study another example which differs in the sense that we allow transitions between\n",
    "two states in both directions. The annual dependent state transition matrix\n",
    "should therefore look as follows\n",
    "\n",
    "$$\n",
    "  \\left[ {\\begin{array}{cc}\n",
    "    p_1 & q^d\\\\\n",
    "    r^d   & p_2\\\\\n",
    "  \\end{array} } \\right]\n",
    "$$\n",
    "\n",
    "\n",
    "One can interpret the states as an *active* and a *disabled* with transitions corresponding with *incidence* and *recovery*.\n",
    "\n",
    "Denoting the *forces of mortality* based on the independent decrements by $f_q$ and $f_r$ we get the following\n",
    "system describing the evolution of the state volume:\n",
    "$$\n",
    "\\begin{array}{ccc}\n",
    "    p_1(t) &=& p_1^0 + \\int_0^t \\left(-f_q(s)p_1(s) + f_r(s)p_2(s) \\right)ds\\\\\n",
    "    p_2(t) &=& p_2^0 + \\int_0^t \\left(f_q(s)p_1(s) - f_r(s)p_2(s) \\right)ds\\\\\n",
    "\\end{array}\n",
    "$$\n",
    "\n",
    "\n"
   ]
  },
  {
   "cell_type": "markdown",
   "id": "0f56b781",
   "metadata": {},
   "source": [
    "Differentiating and using the constant force assumption this becomes the following linear system with constant coefficients:\n",
    " \n",
    "$$\n",
    "\\left(\\begin{array}{c}\n",
    "    p_1\\\\\n",
    "    p_2\\\\\n",
    "\\end{array}\\right)' = \\left(\\begin{array}{cc}\n",
    "    -f_q & f_r\\\\\n",
    "    f_q & -f_r\\\\\n",
    "\\end{array}\\right)\n",
    "\\left(\\begin{array}{c}\n",
    "    p_1\\\\\n",
    "    p_2\\\\\n",
    "\\end{array}\\right)\n",
    "$$\n",
    "\n",
    "Denoting the matrix on the right hand side by $A$ the solution is given by the general theory as\n",
    "\n",
    "$$\n",
    "\\left(\\begin{array}{c}\n",
    "    p_1(t)\\\\\n",
    "    p_2(t)\\\\\n",
    "\\end{array}\\right) = \\exp(tA)\\left(\\begin{array}{c}\n",
    "    p_1^0\\\\\n",
    "    p_2^0\\\\\n",
    "\\end{array}\\right)\n",
    "$$\n"
   ]
  },
  {
   "cell_type": "markdown",
   "id": "d79104f1",
   "metadata": {},
   "source": [
    "In this case we can solve the system *by hand*: Looking at $\\det(A - \\lambda E)=0$ we find the eigen values $\\lambda_1 = -(f_q+f_r)$ and  $\\lambda_2 = 0$ with corresponding eigenvectors\n",
    "$$\\left(\\begin{array}{c}\n",
    "    1\\\\\n",
    "    -1\\\\\n",
    "\\end{array}\\right), \\left(\\begin{array}{c}\n",
    "    f_r\\\\\n",
    "    f_q\\\\\n",
    "\\end{array}\\right)\n",
    "$$\n",
    "\n",
    "When setting\n",
    "$$ M = \\left(\\begin{array}{cc}\n",
    "    1 & f_r\\\\\n",
    "    -1 & f_q\\\\\n",
    "\\end{array}\\right)\n",
    "$$\n",
    "we hence get \n",
    "$$\n",
    "\\exp(tA) = M \\left(\\begin{array}{cc}\n",
    "    \\exp(-(f_q+f_r)t) & 0\\\\\n",
    "    0 & 1\\\\\n",
    "\\end{array}\\right) M^{-1}\n",
    "$$"
   ]
  },
  {
   "cell_type": "markdown",
   "id": "0d8a1ddb",
   "metadata": {},
   "source": [
    "A calculations then yields\n",
    "$$\n",
    "\\exp(tA) = \\frac{1}{f_q+f_r} \\left(\\begin{array}{cc}\n",
    "    f_q  e^{-t(f_q+f_r)} + f_r & f_r (1 - e^{-t(f_q+f_r)}) \\\\\n",
    "    f_q (1 - e^{-t(f_q+f_r)})  & f_r e^{-t(f_q+f_r)}) + f_q\\\\\n",
    "\\end{array}\\right)\n",
    "$$"
   ]
  },
  {
   "cell_type": "markdown",
   "id": "67a1a701",
   "metadata": {},
   "source": [
    "### Example\n",
    "\n",
    "As before we use the relations $f_q = - \\ln(1-q)$ and $f_r = - \\ln(1-r)$ and start with *independent* transition probabilities $q=0.01$ and $r=0.5$ as above. Furthermore assume that at $t=0$ we have $p_1^0 = 0.4$ and $p_2^0 = 0.6$."
   ]
  },
  {
   "cell_type": "code",
   "execution_count": null,
   "id": "0030ac38",
   "metadata": {},
   "outputs": [],
   "source": [
    "def state_evolution_matrix(q, r, t):\n",
    "    \"\"\" Calculate the state evolution matrix after time :t for the \n",
    "        independent transitions probabilities q and r in a 2x2 state transition model.\n",
    "    \"\"\"\n",
    "    f_q = -math.log(1 - q)\n",
    "    f_r = -math.log(1 - r)\n",
    "    f = f_q + f_r\n",
    "    e = math.exp(-f * t)\n",
    "    return (1 / f) * np.array([[f_q * e + f_r, f_r * (1 - e)], [f_q * (1 - e),  f_r * e + f_q]])"
   ]
  },
  {
   "cell_type": "code",
   "execution_count": null,
   "id": "be3553a4",
   "metadata": {},
   "outputs": [],
   "source": [
    "import matplotlib.pyplot as plt\n",
    "\n",
    "# start state\n",
    "p1_0 = 0.4\n",
    "p2_0 = 1 - p1_0\n",
    "p = np.array([[p1_0], [p2_0]])\n",
    "\n",
    "# evolving the state\n",
    "state_no = 40\n",
    "states = np.zeros((state_no, 2))\n",
    "\n",
    "ind = 0\n",
    "for t in np.linspace(0, 2, num=state_no):\n",
    "    states[ind, :] = state_evolution_matrix(q, r, t=t).dot(p).reshape((2,))\n",
    "    ind += 1\n",
    "\n",
    "plt.plot(np.linspace(0, 2, num=state_no), states)\n",
    "plt.xlabel('t')\n",
    "plt.ylabel('p') \n",
    "plt.title('probability evolution')\n",
    "plt.show()"
   ]
  },
  {
   "cell_type": "markdown",
   "id": "8ce3d177",
   "metadata": {},
   "source": [
    "In this example we have calculated the transitions for each timestep again starting at $t=0$ and using a time \n",
    "dependent matrix. Alternatively we can iterate using the matrix obtained for a small timestep."
   ]
  },
  {
   "cell_type": "code",
   "execution_count": null,
   "id": "52102e47",
   "metadata": {},
   "outputs": [],
   "source": [
    "states2 = np.zeros((state_no, 2))\n",
    "M = state_evolution_matrix(q, r, t=2/39)\n",
    "\n",
    "states2[0, :] = np.array([p1_0, p2_0])\n",
    "for ind in range(1, state_no ):\n",
    "    states2[ind, :] = M.dot(states2[ind - 1, :])\n",
    "\n",
    "plt.plot(np.linspace(0, 2, num=state_no), states2)\n",
    "plt.xlabel('t')\n",
    "plt.ylabel('p') \n",
    "plt.title('probability evolution');"
   ]
  },
  {
   "cell_type": "markdown",
   "id": "794821d4",
   "metadata": {},
   "source": [
    "At this stage we know the probability distribution of the states over time but we don't know *how many* transitions have actually taken place (because these net to some extent). To find those (using the constant force assumption again) we still need to integrate over the state probabilities."
   ]
  },
  {
   "cell_type": "markdown",
   "id": "5109d5fb",
   "metadata": {},
   "source": [
    "### General Procedure for the 3x3 Case\n",
    "\n",
    "Consider a system with three states and *independent* state transition assumptions given in a matrix:\n",
    "\n",
    "  * $q_{ij}$ denotes the independent transition probability from state *i* to state *j*"
   ]
  },
  {
   "cell_type": "markdown",
   "id": "09d003d4",
   "metadata": {},
   "source": [
    "In a first step we convert these assumptions to a matrix of constant forces as follows:\n",
    "\n",
    "  * $f_{ij} = -\\ln(1 - q_{ij})$ for $i \\neq j$\n",
    " \n",
    "Based on this we can now generate the state evolution differential as follows:\n",
    "\n",
    "$$ A = \\left(\\begin{array}{ccc}\n",
    "    -(f_{12}+f_{13})  &            f_{21} & f_{31} \\\\\n",
    "    f_{12}            & -(f_{21}+f_{23})  & f_{32} \\\\\n",
    "    f_{13}            &            f_{23} & -(f_{31}+f_{32})\\\\\n",
    "\\end{array}\\right)\n",
    "$$\n",
    "We note the column sums are zero.\n",
    "\n",
    "For a given timestep $\\tau$, e.g. one month, we now solve the system\n",
    "$$ p' = Ap$$ numerically (e.g. Euler, Heun). It needs to be decided if that should be done using\n",
    "one specific set of initial values or whether that should be done generically using basis\n",
    "vectors in the space of the initial values (i.e. three independent solutions in this case).\n",
    "In passing (or afterwards) we calculate also the integrals of the solutions over the timestep (specific or general solution).\n",
    "\n",
    "We obtain:\n",
    "\n",
    "  * $p_j = p_j(t) (j=1, \\ldots, n, t \\in [0, \\tau])$ solution with $p_j(0) = p_j^0$\n",
    "  * $I_j = \\int_0^\\tau p_j(t)dt (j=1, \\ldots, n)$.\n",
    "\n",
    "Finally we calculate the *dependent probabilitiy transitions* for a discrete timestep $\\tau$ as follows:\n",
    "\n",
    "  * $q^d_{ij} = f_{ij} * I_i$ where $i \\neq j$. These values represent the absolute probability that a state transition  $i \\rightarrow j$ will take place in the time interval of length $\\tau$.\n",
    "  \n",
    " "
   ]
  },
  {
   "cell_type": "markdown",
   "id": "204cd4d9",
   "metadata": {},
   "source": [
    "## Assumptions for Fractions of a Year\n",
    "\n",
    "In sections the options for adjusting yearly assumptions for different timesteps are discussed. Let's start the discussion by looking at two options described in section 2.6 of Gerber's book *Life Insurance Mathematics*.\n",
    "\n",
    "We start with a simple example including two states, one representing the active phase (or, e.g., the state of an annuity in payment) and a terminal state. Usually the the decrement assumption is then specified by a mortality rate `q` which described the probability of an individual to transition from *active* to *death*  in the course of one year.\n",
    "\n",
    "A state transition matrix would then look as follows:"
   ]
  },
  {
   "cell_type": "code",
   "execution_count": null,
   "id": "bcabaf53",
   "metadata": {},
   "outputs": [],
   "source": [
    "q = 0.02\n",
    "M = np.array([[1 - q, q], [0, 1]])\n",
    "M"
   ]
  },
  {
   "cell_type": "markdown",
   "id": "6c0e9d15",
   "metadata": {},
   "source": [
    "### Constant Force Transitions with One State Transition\n",
    "\n",
    "In the case described in this section one considers the so-called *force of mortality* (denoted by $f$ below) to be constant.\n",
    "\n",
    "To understand that consider the continous setup where the evolution of the *actives portfolio* would be noted by $l(t)$ and described by the equation\n",
    "\n",
    "$$\n",
    "1 - l(t) = \\int_0^tf(s)l(s)ds\n",
    "$$\n",
    "\n",
    "\n",
    "In general $f$ is time dependent but if one assumes that $f$ is a constant, then we can differentiate to find\n",
    "\n",
    "$$ -l'(t) = l(t)f$$\n",
    "\n",
    "which implies that $l(t) = l_0\\exp(-ft)$.\n",
    "\n",
    "Considering that for $t=1$ we have $l(1) = l_0(1 - q)$ we can conclude that $f = -\\ln(1-q)$.\n",
    "\n",
    "Consequently we can now calculate *fractional transition matrices* by noting that for $t \\in [0, 1]$ we have\n",
    "$$ l(t) = l_0\\exp(-ft) = l_0\\exp(t\\ln(1-q)) = l_0 (1-q)^t. $$\n",
    "\n",
    "This translates into the following transition matrix for $t = 0.5$:"
   ]
  },
  {
   "cell_type": "code",
   "execution_count": null,
   "id": "aa183a54",
   "metadata": {},
   "outputs": [],
   "source": [
    "def m_t_const_force(q, t):\n",
    "    return np.array([[(1 - q)**t, 1 - (1 - q)**t], [0, 1]])\n",
    "\n",
    "M2 = m_t_const_force(q, 0.5)\n",
    "M2"
   ]
  },
  {
   "cell_type": "markdown",
   "id": "591864a7",
   "metadata": {},
   "source": [
    "We can multiply back to confirm the expected:"
   ]
  },
  {
   "cell_type": "code",
   "execution_count": null,
   "id": "b95304ff",
   "metadata": {},
   "outputs": [],
   "source": [
    "np.dot(M2, M2)"
   ]
  },
  {
   "cell_type": "markdown",
   "id": "2eaebd2d",
   "metadata": {},
   "source": [
    "And similarly"
   ]
  },
  {
   "cell_type": "code",
   "execution_count": null,
   "id": "8851569f",
   "metadata": {},
   "outputs": [],
   "source": [
    "M12 = m_t_const_force(q, 1/12)\n",
    "M12"
   ]
  },
  {
   "cell_type": "code",
   "execution_count": null,
   "id": "893ae3f7",
   "metadata": {},
   "outputs": [],
   "source": [
    "np.linalg.matrix_power(M12, 12)"
   ]
  },
  {
   "cell_type": "markdown",
   "id": "eb92535f",
   "metadata": {},
   "source": [
    "### Linearity of q\n",
    "\n",
    "An alternative method is obtained when assuming that $_uq = uq$."
   ]
  },
  {
   "cell_type": "code",
   "execution_count": null,
   "id": "d2313ff5",
   "metadata": {},
   "outputs": [],
   "source": [
    "def m_t_linear(q, t):\n",
    "    return np.array([[1 - q*t, q*t], [0, 1]])\n",
    "\n",
    "L2 = m_t_linear(q, 0.5)\n",
    "L2"
   ]
  },
  {
   "cell_type": "code",
   "execution_count": null,
   "id": "10763f0c",
   "metadata": {},
   "outputs": [],
   "source": [
    "np.dot(L2, L2)"
   ]
  },
  {
   "cell_type": "markdown",
   "id": "324c155e",
   "metadata": {},
   "source": [
    "In this case the calculation is simpler but not exact."
   ]
  },
  {
   "cell_type": "code",
   "execution_count": null,
   "id": "6d429edc",
   "metadata": {},
   "outputs": [],
   "source": [
    "L12 = m_t_linear(q, 1/12)\n",
    "L12"
   ]
  },
  {
   "cell_type": "code",
   "execution_count": null,
   "id": "d37a21e9",
   "metadata": {},
   "outputs": [],
   "source": [
    "np.linalg.matrix_power(L12, 12)"
   ]
  },
  {
   "cell_type": "markdown",
   "id": "999d32f9",
   "metadata": {},
   "source": [
    "This problem becomes more severe for higher values of $q$, for example we take q = 1:"
   ]
  },
  {
   "cell_type": "code",
   "execution_count": null,
   "id": "6a06d123",
   "metadata": {},
   "outputs": [],
   "source": [
    "L2 = m_t_linear(0.9, 0.5)\n",
    "np.dot(L2, L2)"
   ]
  },
  {
   "cell_type": "markdown",
   "id": "7815d02a",
   "metadata": {},
   "source": [
    "We see that more than 30% survive while there should be only 10%. Note that this works as expected for the constant force method."
   ]
  },
  {
   "cell_type": "code",
   "execution_count": null,
   "id": "e54b5f89",
   "metadata": {},
   "outputs": [],
   "source": [
    "L2 = m_t_const_force(0.9, 0.5)\n",
    "np.dot(L2, L2)"
   ]
  },
  {
   "cell_type": "markdown",
   "id": "ff37758e",
   "metadata": {},
   "source": [
    "### Constant Force Transitions with Two Decrements\n",
    "\n",
    "Next we look at the case with one active state and two decrements. A transition matrix on the yearly grid would look like this whereby $q$ and $r$ represent the **dependent** yearly transition probabilities."
   ]
  },
  {
   "cell_type": "markdown",
   "id": "2f2833c9",
   "metadata": {},
   "source": [
    "$$\n",
    "  \\left[ {\\begin{array}{ccc}\n",
    "    1 - q - r & q & r \\\\\n",
    "    0         & 1 & 0 \\\\\n",
    "    0         & 0 & 1 \\\\\n",
    "  \\end{array} } \\right]\n",
    "$$"
   ]
  },
  {
   "cell_type": "markdown",
   "id": "dcca444a",
   "metadata": {},
   "source": [
    "We proceed as before by writing down the continuous transition equations\n",
    "assuming *constant force of decrements* for both transitions:"
   ]
  },
  {
   "cell_type": "markdown",
   "id": "858a4bba",
   "metadata": {},
   "source": [
    "$$\n",
    "\\begin{array}{ccc}\n",
    "l_0q(t) &=& \\int_0^tf_ql(s)ds\\\\\n",
    "l_0r(t) &=& \\int_0^tf_rl(s)ds\n",
    "\\end{array} \n",
    "$$"
   ]
  },
  {
   "cell_type": "markdown",
   "id": "33eadcfe",
   "metadata": {},
   "source": [
    "Adding the equations and noting that $l(t) = l_0(1 - q(t) - r(t))$ we find similar to before that \n",
    "\n",
    "$$\n",
    "1 - l(t) = \\int_0^t(f_q+f_r)l(s)ds\n",
    "$$\n",
    "\n",
    "and consequently $l(t) = l_0\\exp(-(f_q+f_r)t)$ and $f_q + f_r = -\\ln(1-q-r).$"
   ]
  },
  {
   "cell_type": "markdown",
   "id": "3c96474a",
   "metadata": {},
   "source": [
    "Using the representation of $l(t)$ in the expression for $q(t)$ one obtains\n",
    "\n",
    "$$\n",
    "\\begin{array}{ccc}\n",
    "l_0q(t) &=& \\int_0^tf_ql(s)ds\\\\\n",
    "        &=& f_q \\int_0^tl_0\\exp(-(f_q+f_r)t)ds\\\\\n",
    "        &=& f_q \\int_0^tl_0\\exp(-(f_q+f_r)t)ds\\\\\n",
    "        &=& -\\frac{f_q}{f_q+f_r}l(t)|^t_0.\n",
    "\\end{array}\n",
    "$$\n",
    "\n",
    "Consequently\n",
    "$$\n",
    "\\begin{array}{ccc}\n",
    "q(t) &=& \\frac{f_q}{f_q+f_r}(1 - p(t)), \\\\\n",
    "r(t) &=& \\frac{f_r}{f_q+f_r}(1 - p(t)),\n",
    "\\end{array} \n",
    "$$\n",
    "\n",
    "Noting that for $t=1$ we have $q(t)=q$, $r(t)=r$ and $1 - p(1) = q + r$, so that we find\n",
    "$$\n",
    "\\begin{array}{ccc}\n",
    "q &=& \\frac{f_q}{f_q+f_r}(q + r), \\\\\n",
    "r &=& \\frac{f_r}{f_q+f_r}(q + r). \\\\\n",
    "\\end{array} \n",
    "$$\n",
    "We can now easily obtain the forces from this:\n",
    "$$\n",
    "\\begin{array}{cccc}\n",
    "f_q &=& \\frac{q}{q+r}(f_q+f_r) = -\\ln(1-q-r)\\frac{q}{q+r}, \\\\\n",
    "f_r &=& \\frac{r}{q+r}(f_q+f_r) = -\\ln(1-q-r)\\frac{r}{q+r}. \\\\\n",
    "\\end{array} \n",
    "$$"
   ]
  },
  {
   "cell_type": "markdown",
   "id": "9a906530",
   "metadata": {},
   "source": [
    "We continue with a numerical example:"
   ]
  },
  {
   "cell_type": "code",
   "execution_count": null,
   "id": "d2373436",
   "metadata": {},
   "outputs": [],
   "source": [
    "q = 0.1\n",
    "r = 0.01\n",
    "M = np.array([[1 - q - r, q, r],\n",
    "              [0, 1, 0],\n",
    "              [0, 0, 1]])\n",
    "M"
   ]
  },
  {
   "cell_type": "code",
   "execution_count": null,
   "id": "30e7f8bb",
   "metadata": {},
   "outputs": [],
   "source": [
    "\n",
    "def fractional_transition(q, r, t):\n",
    "    \"\"\" The function shall return a fractional transition matrix :M for the duration :t.\"\"\"\n",
    "    \n",
    "    f_qr = -math.log(1-q-r)\n",
    "    \n",
    "    f_q = f_qr * q / (q + r)\n",
    "    f_r = f_qr * r / (q + r)\n",
    "    \n",
    "    p_t = math.exp(-f_qr * t)   # (1 - q -r)**t\n",
    "    \n",
    "    q_t = (1 - p_t) * f_q / f_qr\n",
    "    r_t = (1 - p_t) * f_r / f_qr\n",
    "    \n",
    "    M_frac = np.array([[1 - q_t - r_t, q_t, r_t],\n",
    "                       [0, 1, 0],\n",
    "                       [0, 0, 1]])\n",
    "    return M_frac\n",
    "    \n",
    "M2 = fractional_transition(q, r, 0.5)\n",
    "M2"
   ]
  },
  {
   "cell_type": "markdown",
   "id": "dd73e226",
   "metadata": {},
   "source": [
    "We check that we get the original matrix back:"
   ]
  },
  {
   "cell_type": "code",
   "execution_count": null,
   "id": "3d87a2ba",
   "metadata": {},
   "outputs": [],
   "source": [
    "np.dot(M2, M2)"
   ]
  },
  {
   "cell_type": "markdown",
   "id": "6f4a85d0",
   "metadata": {},
   "source": [
    "We repeat the check for the monthly transitions:"
   ]
  },
  {
   "cell_type": "code",
   "execution_count": null,
   "id": "f997309c",
   "metadata": {},
   "outputs": [],
   "source": [
    "M12 = fractional_transition(q, r, 1 / 12)\n",
    "M12"
   ]
  },
  {
   "cell_type": "code",
   "execution_count": null,
   "id": "ea42deb0",
   "metadata": {},
   "outputs": [],
   "source": [
    "np.linalg.matrix_power(M12, 12)"
   ]
  }
 ],
 "metadata": {
  "kernelspec": {
   "display_name": "Python 3 (ipykernel)",
   "language": "python",
   "name": "python3"
  },
  "language_info": {
   "codemirror_mode": {
    "name": "ipython",
    "version": 3
   },
   "file_extension": ".py",
   "mimetype": "text/x-python",
   "name": "python",
   "nbconvert_exporter": "python",
   "pygments_lexer": "ipython3",
   "version": "3.9.12"
  }
 },
 "nbformat": 4,
 "nbformat_minor": 5
}

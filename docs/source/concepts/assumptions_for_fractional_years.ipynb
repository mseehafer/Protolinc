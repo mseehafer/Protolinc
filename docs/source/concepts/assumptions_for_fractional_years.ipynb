{
 "cells": [
  {
   "cell_type": "markdown",
   "id": "e54405dd",
   "metadata": {},
   "source": [
    "## Dependent and Independent State Transition Assumptions\n",
    "\n",
    "Consider the case when there are two sources of decrement fro a given state in a time step, e.g.:\n",
    "\n",
    "  * let $q$ denote the probability of death\n",
    "  * let $r$ denote the probability of lapse\n",
    " \n",
    "\n",
    "Let's assume that both assumptions have been derived independently. This is, e.g., the case when \n",
    "during the derivation of these transition assumptions the other cause of decrement was eliminated \n",
    "by considering the expsure time for one decrement only.\n",
    "\n",
    "In case the assumptions can not directly used as state transition assumptions by ```PyProtolinc```."
   ]
  },
  {
   "cell_type": "code",
   "execution_count": 24,
   "id": "38bc94ad",
   "metadata": {},
   "outputs": [],
   "source": [
    "import math\n",
    "import numpy as np\n",
    "\n",
    "# let's set the lapse rate to 50% and the death rate to 1%\n",
    "q = 0.01\n",
    "r = 0.5"
   ]
  },
  {
   "cell_type": "markdown",
   "id": "5f774336",
   "metadata": {},
   "source": [
    "It is intuitively clear that due to the high probabilty for lapses there are effectively less than 1% death cases\n",
    "when considering both forces at work. More specificall we can argue that on average there are only ~75% exposed to death so \n",
    "that the effective death rate should be somewhere near 0.0075. We look at the equations in the continuous model:\n",
    "\n",
    "$$\n",
    "\\begin{array}{ccc}\n",
    "l(t)    &=& \\int_0^t(f_q(s) + f_r(s))l(s)ds\\\\\n",
    "l_0q^d(t) &=& \\int_0^tf_q(s)l(s)ds\\\\\n",
    "l_0r^r(t) &=& \\int_0^tf_r(s)l(s)ds\n",
    "\\end{array} \n",
    "$$\n",
    "\n",
    "Here the *forces of decrement* $f_q$ and $f_r$ from the independent decrements have been incorporated and $q^d$ and $r^d$ respectively denote the\n",
    "*dependent* transition assumptions. Under the *additional assumption* that these\n",
    "forces are constant between times $0$ and $1$ we can then solve the equations to find first:\n",
    "\n",
    "$$\n",
    "l(t) = l_0\\exp(-(f_q+f_r)t)\n",
    "$$\n",
    "\n",
    "and based on this\n",
    "$$\n",
    "\\begin{array}{ccccc}\n",
    "q^d(t) &=& f_q\\int_0^t\\exp(-(f_q+f_r)s)ds &=& -\\frac{f_q}{f_q+f_r}p(s)|^t_0 &=& \\frac{f_q}{f_q+f_r}(1 - p(t))\\\\\n",
    "r^d(t) &=& f_r\\int_0^t\\exp(-(f_q+f_r)s)ds &=& -\\frac{f_r}{f_q+f_r}p(s)|^t_0 &=& \\frac{f_r}{f_q+f_r}(1 - p(t))\n",
    "\\end{array} \n",
    "$$\n"
   ]
  },
  {
   "cell_type": "markdown",
   "id": "cddfce26",
   "metadata": {},
   "source": [
    "Note that on the other hand we have the equation\n",
    "\n",
    "$$\n",
    "q = q^i(1) = f_q\\int_0^1\\exp(-f_qs)ds = -\\exp(-f_qs)|^1_0 = 1 - \\exp(-f_q)\n",
    "$$\n",
    "\n",
    "for the independent assumptions $q^i$ (and similar for $r^i$) when assuming *constant force for this case as well*.\n",
    "\n",
    "Consequently $f_q = - \\ln(1-q)$ and analogously $f_r = - \\ln(1-r)$\n",
    "\n",
    "For the numerical example this implies"
   ]
  },
  {
   "cell_type": "code",
   "execution_count": 25,
   "id": "956b5c20",
   "metadata": {},
   "outputs": [
    {
     "data": {
      "text/plain": [
       "(0.01005033585350145, 0.6931471805599453)"
      ]
     },
     "execution_count": 25,
     "metadata": {},
     "output_type": "execute_result"
    }
   ],
   "source": [
    "f_q = -math.log(1 - q)\n",
    "f_r = -math.log(1 - r)\n",
    "f_q, f_r"
   ]
  },
  {
   "cell_type": "markdown",
   "id": "866df84b",
   "metadata": {},
   "source": [
    "This translates to the dependent transition assumptions on the yearly grid as follows:"
   ]
  },
  {
   "cell_type": "code",
   "execution_count": 26,
   "id": "91f77616",
   "metadata": {},
   "outputs": [
    {
     "data": {
      "text/plain": [
       "(0.007217630164430397, 0.4977823698355696)"
      ]
     },
     "execution_count": 26,
     "metadata": {},
     "output_type": "execute_result"
    }
   ],
   "source": [
    "f = f_q + f_r\n",
    "p = math.exp(-f)\n",
    "q_d = f_q * (1 - p) / f\n",
    "r_d = f_r * (1 - p) / f\n",
    "q_d, r_d"
   ]
  },
  {
   "cell_type": "markdown",
   "id": "3eb470db",
   "metadata": {},
   "source": [
    "As expected on can see a small reduction of the lapse rate and a significant adjustment (in relative terms) for\n",
    "the mortality when comparing with the independent rates (and the value of 0.0072 is close to what we have expected)."
   ]
  },
  {
   "cell_type": "markdown",
   "id": "62d66b56",
   "metadata": {},
   "source": [
    "The formulae obtained can also directly by used to convert independent assumptions to dependent assumptions valid for *fractions of the year*."
   ]
  },
  {
   "cell_type": "code",
   "execution_count": 29,
   "id": "0796a3d5",
   "metadata": {},
   "outputs": [
    {
     "data": {
      "text/plain": [
       "array([[0.83878624, 0.00230412, 0.15890963],\n",
       "       [0.        , 1.        , 0.        ],\n",
       "       [0.        , 0.        , 1.        ]])"
      ]
     },
     "execution_count": 29,
     "metadata": {},
     "output_type": "execute_result"
    }
   ],
   "source": [
    "def mort_and_lapse_for_fractions(q, r, t):\n",
    "    \"\"\" Return a 'dependent transition matrix' for a model with two independent\n",
    "        decrements :q and :r for the time span t. \"\"\"\n",
    "    assert 0 <= t and t <= t\n",
    "    \n",
    "    f_q = -math.log(1 - q)\n",
    "    f_r = -math.log(1 - r)\n",
    "    f = f_q + f_r\n",
    "    p_t = math.exp(-f * t)\n",
    "    q_d = f_q * (1 - p_t) / f\n",
    "    r_d = f_r * (1 - p_t) / f\n",
    "    \n",
    "    M_frac = np.array([[1 - q_d - r_d, q_d, r_d],\n",
    "                       [0, 1, 0],\n",
    "                       [0, 0, 1]])\n",
    "    return M_frac\n",
    "\n",
    "M4 = mort_and_lapse_for_fractions(q, r, 0.25)\n",
    "M4"
   ]
  },
  {
   "cell_type": "markdown",
   "id": "064ed482",
   "metadata": {},
   "source": [
    "Applying this state transition matrix four times we get back what we have calculated above."
   ]
  },
  {
   "cell_type": "code",
   "execution_count": 28,
   "id": "97d92da1",
   "metadata": {},
   "outputs": [
    {
     "data": {
      "text/plain": [
       "array([[0.495     , 0.00721763, 0.49778237],\n",
       "       [0.        , 1.        , 0.        ],\n",
       "       [0.        , 0.        , 1.        ]])"
      ]
     },
     "execution_count": 28,
     "metadata": {},
     "output_type": "execute_result"
    }
   ],
   "source": [
    "np.linalg.matrix_power(M4, 4)"
   ]
  },
  {
   "cell_type": "markdown",
   "id": "204cd4d9",
   "metadata": {},
   "source": [
    "## Assumptions for Fractions of a Year\n",
    "\n",
    "In sections the options for adjusting yearly assumptions for different timesteps are discussed. Let's start the discussion by looking at two options described in section 2.6 of Gerber's book *Life Insurance Mathematics*.\n",
    "\n",
    "We start with a simple example including two states, one representing the active phase (or, e.g., the state of an annuity in payment) and a terminal state. Usually the the decrement assumption is then specified by a mortality rate `q` which described the probability of an individual to transition from *active* to *death*  in the course of one year.\n",
    "\n",
    "A state transition matrix would then look as follows:"
   ]
  },
  {
   "cell_type": "code",
   "execution_count": 6,
   "id": "bcabaf53",
   "metadata": {},
   "outputs": [
    {
     "data": {
      "text/plain": [
       "array([[0.98, 0.02],\n",
       "       [0.  , 1.  ]])"
      ]
     },
     "execution_count": 6,
     "metadata": {},
     "output_type": "execute_result"
    }
   ],
   "source": [
    "q = 0.02\n",
    "M = np.array([[1 - q, q], [0, 1]])\n",
    "M"
   ]
  },
  {
   "cell_type": "markdown",
   "id": "6c0e9d15",
   "metadata": {},
   "source": [
    "### Constant Force Transitions with One State Transition\n",
    "\n",
    "In the case described in this section one considers the so-called *force of mortality* (denoted by $f$ below) to be constant.\n",
    "\n",
    "To understand that consider the continous setup where the evolution of the *actives portfolio* would be noted by $l(t)$ and described by the equation\n",
    "\n",
    "$$\n",
    "1 - l(t) = \\int_0^tf(s)l(s)ds\n",
    "$$\n",
    "\n",
    "\n",
    "In general $f$ is time dependent but if one assumes that $f$ is a constant, then we can differentiate to find\n",
    "\n",
    "$$ -l'(t) = l(t)f$$\n",
    "\n",
    "which implies that $l(t) = l_0\\exp(-ft)$.\n",
    "\n",
    "Considering that for $t=1$ we have $l(1) = l_0(1 - q)$ we can conclude that $f = -\\ln(1-q)$.\n",
    "\n",
    "Consequently we can now calculate *fractional transition matrices* by noting that for $t \\in [0, 1]$ we have\n",
    "$$ l(t) = l_0\\exp(-ft) = l_0\\exp(t\\ln(1-q)) = l_0 (1-q)^t. $$\n",
    "\n",
    "This translates into the following transition matrix for $t = 0.5$:"
   ]
  },
  {
   "cell_type": "code",
   "execution_count": 7,
   "id": "aa183a54",
   "metadata": {},
   "outputs": [
    {
     "data": {
      "text/plain": [
       "array([[0.98994949, 0.01005051],\n",
       "       [0.        , 1.        ]])"
      ]
     },
     "execution_count": 7,
     "metadata": {},
     "output_type": "execute_result"
    }
   ],
   "source": [
    "def m_t_const_force(q, t):\n",
    "    return np.array([[(1 - q)**t, 1 - (1 - q)**t], [0, 1]])\n",
    "\n",
    "M2 = m_t_const_force(q, 0.5)\n",
    "M2"
   ]
  },
  {
   "cell_type": "markdown",
   "id": "591864a7",
   "metadata": {},
   "source": [
    "We can multiply back to confirm the expected:"
   ]
  },
  {
   "cell_type": "code",
   "execution_count": 8,
   "id": "b95304ff",
   "metadata": {},
   "outputs": [
    {
     "data": {
      "text/plain": [
       "array([[0.98, 0.02],\n",
       "       [0.  , 1.  ]])"
      ]
     },
     "execution_count": 8,
     "metadata": {},
     "output_type": "execute_result"
    }
   ],
   "source": [
    "np.dot(M2, M2)"
   ]
  },
  {
   "cell_type": "markdown",
   "id": "2eaebd2d",
   "metadata": {},
   "source": [
    "And similarly"
   ]
  },
  {
   "cell_type": "code",
   "execution_count": 9,
   "id": "8851569f",
   "metadata": {},
   "outputs": [
    {
     "data": {
      "text/plain": [
       "array([[0.99831786, 0.00168214],\n",
       "       [0.        , 1.        ]])"
      ]
     },
     "execution_count": 9,
     "metadata": {},
     "output_type": "execute_result"
    }
   ],
   "source": [
    "M12 = m_t_const_force(q, 1/12)\n",
    "M12"
   ]
  },
  {
   "cell_type": "code",
   "execution_count": 10,
   "id": "893ae3f7",
   "metadata": {},
   "outputs": [
    {
     "data": {
      "text/plain": [
       "array([[0.98, 0.02],\n",
       "       [0.  , 1.  ]])"
      ]
     },
     "execution_count": 10,
     "metadata": {},
     "output_type": "execute_result"
    }
   ],
   "source": [
    "np.linalg.matrix_power(M12, 12)"
   ]
  },
  {
   "cell_type": "markdown",
   "id": "eb92535f",
   "metadata": {},
   "source": [
    "### Linearity of q\n",
    "\n",
    "An alternative method is obtained when assuming that $_uq = uq$."
   ]
  },
  {
   "cell_type": "code",
   "execution_count": 11,
   "id": "d2313ff5",
   "metadata": {},
   "outputs": [
    {
     "data": {
      "text/plain": [
       "array([[0.99, 0.01],\n",
       "       [0.  , 1.  ]])"
      ]
     },
     "execution_count": 11,
     "metadata": {},
     "output_type": "execute_result"
    }
   ],
   "source": [
    "def m_t_linear(q, t):\n",
    "    return np.array([[1 - q*t, q*t], [0, 1]])\n",
    "\n",
    "L2 = m_t_linear(q, 0.5)\n",
    "L2"
   ]
  },
  {
   "cell_type": "code",
   "execution_count": 12,
   "id": "10763f0c",
   "metadata": {},
   "outputs": [
    {
     "data": {
      "text/plain": [
       "array([[0.9801, 0.0199],\n",
       "       [0.    , 1.    ]])"
      ]
     },
     "execution_count": 12,
     "metadata": {},
     "output_type": "execute_result"
    }
   ],
   "source": [
    "np.dot(L2, L2)"
   ]
  },
  {
   "cell_type": "markdown",
   "id": "324c155e",
   "metadata": {},
   "source": [
    "In this case the calculation is simpler but not exact."
   ]
  },
  {
   "cell_type": "code",
   "execution_count": 13,
   "id": "6d429edc",
   "metadata": {},
   "outputs": [
    {
     "data": {
      "text/plain": [
       "array([[0.99833333, 0.00166667],\n",
       "       [0.        , 1.        ]])"
      ]
     },
     "execution_count": 13,
     "metadata": {},
     "output_type": "execute_result"
    }
   ],
   "source": [
    "L12 = m_t_linear(q, 1/12)\n",
    "L12"
   ]
  },
  {
   "cell_type": "code",
   "execution_count": 14,
   "id": "d37a21e9",
   "metadata": {},
   "outputs": [
    {
     "data": {
      "text/plain": [
       "array([[0.98018232, 0.01981768],\n",
       "       [0.        , 1.        ]])"
      ]
     },
     "execution_count": 14,
     "metadata": {},
     "output_type": "execute_result"
    }
   ],
   "source": [
    "np.linalg.matrix_power(L12, 12)"
   ]
  },
  {
   "cell_type": "markdown",
   "id": "999d32f9",
   "metadata": {},
   "source": [
    "This problem becomes more severe for higher values of $q$, for example we take q = 1:"
   ]
  },
  {
   "cell_type": "code",
   "execution_count": 15,
   "id": "6a06d123",
   "metadata": {},
   "outputs": [
    {
     "data": {
      "text/plain": [
       "array([[0.3025, 0.6975],\n",
       "       [0.    , 1.    ]])"
      ]
     },
     "execution_count": 15,
     "metadata": {},
     "output_type": "execute_result"
    }
   ],
   "source": [
    "L2 = m_t_linear(0.9, 0.5)\n",
    "np.dot(L2, L2)"
   ]
  },
  {
   "cell_type": "markdown",
   "id": "7815d02a",
   "metadata": {},
   "source": [
    "We see that more than 30% survive while there should be only 10%. Note that this works as expected for the constant force method."
   ]
  },
  {
   "cell_type": "code",
   "execution_count": 16,
   "id": "e54b5f89",
   "metadata": {},
   "outputs": [
    {
     "data": {
      "text/plain": [
       "array([[0.1, 0.9],\n",
       "       [0. , 1. ]])"
      ]
     },
     "execution_count": 16,
     "metadata": {},
     "output_type": "execute_result"
    }
   ],
   "source": [
    "L2 = m_t_const_force(0.9, 0.5)\n",
    "np.dot(L2, L2)"
   ]
  },
  {
   "cell_type": "markdown",
   "id": "ff37758e",
   "metadata": {},
   "source": [
    "### Constant Force Transitions with Two Decrements\n",
    "\n",
    "Next we look at the case with one active state and two decrements. A transition matrix on the yearly grid would look like this whereby $q$ and $r$ represent the **dependent** yearly transition probabilities."
   ]
  },
  {
   "cell_type": "markdown",
   "id": "2f2833c9",
   "metadata": {},
   "source": [
    "$$\n",
    "  \\left[ {\\begin{array}{ccc}\n",
    "    1 - q - r & q & r \\\\\n",
    "    0         & 1 & 0 \\\\\n",
    "    0         & 0 & 1 \\\\\n",
    "  \\end{array} } \\right]\n",
    "$$"
   ]
  },
  {
   "cell_type": "markdown",
   "id": "dcca444a",
   "metadata": {},
   "source": [
    "We proceed as before by writing down the continuous transition equations\n",
    "assuming *constant force of decrements* for both transitions:"
   ]
  },
  {
   "cell_type": "markdown",
   "id": "858a4bba",
   "metadata": {},
   "source": [
    "$$\n",
    "\\begin{array}{ccc}\n",
    "l_0q(t) &=& \\int_0^tf_ql(s)ds\\\\\n",
    "l_0r(t) &=& \\int_0^tf_rl(s)ds\n",
    "\\end{array} \n",
    "$$"
   ]
  },
  {
   "cell_type": "markdown",
   "id": "33eadcfe",
   "metadata": {},
   "source": [
    "Adding the equations and noting that $l(t) = l_0(1 - q(t) - r(t))$ we find similar to before that \n",
    "\n",
    "$$\n",
    "1 - l(t) = \\int_0^t(f_q+f_r)l(s)ds\n",
    "$$\n",
    "\n",
    "and consequently $l(t) = l_0\\exp(-(f_q+f_r)t)$ and $f_q + f_r = -\\ln(1-q-r).$"
   ]
  },
  {
   "cell_type": "markdown",
   "id": "3c96474a",
   "metadata": {},
   "source": [
    "Using the representation of $l(t)$ in the expression for $q(t)$ one obtains\n",
    "\n",
    "$$\n",
    "\\begin{array}{ccc}\n",
    "l_0q(t) &=& \\int_0^tf_ql(s)ds\\\\\n",
    "        &=& f_q \\int_0^tl_0\\exp(-(f_q+f_r)t)ds\\\\\n",
    "        &=& f_q \\int_0^tl_0\\exp(-(f_q+f_r)t)ds\\\\\n",
    "        &=& -\\frac{f_q}{f_q+f_r}l(t)|^t_0.\n",
    "\\end{array}\n",
    "$$\n",
    "\n",
    "Consequently\n",
    "$$\n",
    "\\begin{array}{ccc}\n",
    "q(t) &=& \\frac{f_q}{f_q+f_r}(1 - p(t)), \\\\\n",
    "r(t) &=& \\frac{f_r}{f_q+f_r}(1 - p(t)),\n",
    "\\end{array} \n",
    "$$\n",
    "\n",
    "Noting that for $t=1$ we have $q(t)=q$, $r(t)=r$ and $1 - p(1) = q + r$, so that we find\n",
    "$$\n",
    "\\begin{array}{ccc}\n",
    "q &=& \\frac{f_q}{f_q+f_r}(q + r), \\\\\n",
    "r &=& \\frac{f_r}{f_q+f_r}(q + r). \\\\\n",
    "\\end{array} \n",
    "$$\n",
    "We can now easily obtain the forces from this:\n",
    "$$\n",
    "\\begin{array}{cccc}\n",
    "f_q &=& \\frac{q}{q+r}(f_q+f_r) = -\\ln(1-q-r)\\frac{q}{q+r}, \\\\\n",
    "f_r &=& \\frac{r}{q+r}(f_q+f_r) = -\\ln(1-q-r)\\frac{r}{q+r}. \\\\\n",
    "\\end{array} \n",
    "$$"
   ]
  },
  {
   "cell_type": "markdown",
   "id": "9a906530",
   "metadata": {},
   "source": [
    "We continue with a numerical example:"
   ]
  },
  {
   "cell_type": "code",
   "execution_count": 17,
   "id": "d2373436",
   "metadata": {},
   "outputs": [
    {
     "data": {
      "text/plain": [
       "array([[0.89, 0.1 , 0.01],\n",
       "       [0.  , 1.  , 0.  ],\n",
       "       [0.  , 0.  , 1.  ]])"
      ]
     },
     "execution_count": 17,
     "metadata": {},
     "output_type": "execute_result"
    }
   ],
   "source": [
    "q = 0.1\n",
    "r = 0.01\n",
    "M = np.array([[1 - q - r, q, r],\n",
    "              [0, 1, 0],\n",
    "              [0, 0, 1]])\n",
    "M"
   ]
  },
  {
   "cell_type": "code",
   "execution_count": 18,
   "id": "30e7f8bb",
   "metadata": {},
   "outputs": [
    {
     "data": {
      "text/plain": [
       "array([[0.94339811, 0.05145626, 0.00514563],\n",
       "       [0.        , 1.        , 0.        ],\n",
       "       [0.        , 0.        , 1.        ]])"
      ]
     },
     "execution_count": 18,
     "metadata": {},
     "output_type": "execute_result"
    }
   ],
   "source": [
    "\n",
    "def fractional_transition(q, r, t):\n",
    "    \"\"\" The function shall return a fractional transition matrix :M for the duration :t.\"\"\"\n",
    "    \n",
    "    f_qr = -math.log(1-q-r)\n",
    "    \n",
    "    f_q = f_qr * q / (q + r)\n",
    "    f_r = f_qr * r / (q + r)\n",
    "    \n",
    "    p_t = math.exp(-f_qr * t)   # (1 - q -r)**t\n",
    "    \n",
    "    q_t = (1 - p_t) * f_q / f_qr\n",
    "    r_t = (1 - p_t) * f_r / f_qr\n",
    "    \n",
    "    M_frac = np.array([[1 - q_t - r_t, q_t, r_t],\n",
    "                       [0, 1, 0],\n",
    "                       [0, 0, 1]])\n",
    "    return M_frac\n",
    "    \n",
    "M2 = fractional_transition(q, r, 0.5)\n",
    "M2"
   ]
  },
  {
   "cell_type": "markdown",
   "id": "dd73e226",
   "metadata": {},
   "source": [
    "We check that we get the original matrix back:"
   ]
  },
  {
   "cell_type": "code",
   "execution_count": 19,
   "id": "3d87a2ba",
   "metadata": {},
   "outputs": [
    {
     "data": {
      "text/plain": [
       "array([[0.89, 0.1 , 0.01],\n",
       "       [0.  , 1.  , 0.  ],\n",
       "       [0.  , 0.  , 1.  ]])"
      ]
     },
     "execution_count": 19,
     "metadata": {},
     "output_type": "execute_result"
    }
   ],
   "source": [
    "np.dot(M2, M2)"
   ]
  },
  {
   "cell_type": "markdown",
   "id": "6f4a85d0",
   "metadata": {},
   "source": [
    "We repeat the check for the monthly transitions:"
   ]
  },
  {
   "cell_type": "code",
   "execution_count": 20,
   "id": "f997309c",
   "metadata": {},
   "outputs": [
    {
     "data": {
      "text/plain": [
       "array([[9.90335850e-01, 8.78559127e-03, 8.78559127e-04],\n",
       "       [0.00000000e+00, 1.00000000e+00, 0.00000000e+00],\n",
       "       [0.00000000e+00, 0.00000000e+00, 1.00000000e+00]])"
      ]
     },
     "execution_count": 20,
     "metadata": {},
     "output_type": "execute_result"
    }
   ],
   "source": [
    "M12 = fractional_transition(q, r, 1 / 12)\n",
    "M12"
   ]
  },
  {
   "cell_type": "code",
   "execution_count": 21,
   "id": "ea42deb0",
   "metadata": {},
   "outputs": [
    {
     "data": {
      "text/plain": [
       "array([[0.89, 0.1 , 0.01],\n",
       "       [0.  , 1.  , 0.  ],\n",
       "       [0.  , 0.  , 1.  ]])"
      ]
     },
     "execution_count": 21,
     "metadata": {},
     "output_type": "execute_result"
    }
   ],
   "source": [
    "np.linalg.matrix_power(M12, 12)"
   ]
  },
  {
   "cell_type": "code",
   "execution_count": null,
   "id": "0cd80348",
   "metadata": {},
   "outputs": [],
   "source": []
  }
 ],
 "metadata": {
  "kernelspec": {
   "display_name": "Python 3 (ipykernel)",
   "language": "python",
   "name": "python3"
  },
  "language_info": {
   "codemirror_mode": {
    "name": "ipython",
    "version": 3
   },
   "file_extension": ".py",
   "mimetype": "text/x-python",
   "name": "python",
   "nbconvert_exporter": "python",
   "pygments_lexer": "ipython3",
   "version": "3.8.5"
  }
 },
 "nbformat": 4,
 "nbformat_minor": 5
}
